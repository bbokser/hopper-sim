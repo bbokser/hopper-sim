{
 "cells": [
  {
   "cell_type": "code",
   "execution_count": 32,
   "id": "0db4f718",
   "metadata": {},
   "outputs": [
    {
     "name": "stderr",
     "output_type": "stream",
     "text": [
      "\u001b[32m\u001b[1m  Activating\u001b[22m\u001b[39m environment at `~/Documents/git_workspace/16715/dynamics-simulation-leg/scripts/Project.toml`\n"
     ]
    }
   ],
   "source": [
    "import Pkg; Pkg.activate(@__DIR__); Pkg.instantiate()"
   ]
  },
  {
   "cell_type": "code",
   "execution_count": 33,
   "id": "5bb7d46a",
   "metadata": {},
   "outputs": [],
   "source": [
    "using RigidBodyDynamics\n",
    "using LinearAlgebra\n",
    "using MeshCatMechanisms\n",
    "using MeshCat\n",
    "using StaticArrays\n",
    "using ForwardDiff"
   ]
  },
  {
   "cell_type": "code",
   "execution_count": 34,
   "id": "96811d7c",
   "metadata": {},
   "outputs": [
    {
     "data": {
      "text/plain": [
       "MechanismState{Float64, Float64, Float64, …}(…)"
      ]
     },
     "execution_count": 34,
     "metadata": {},
     "output_type": "execute_result"
    }
   ],
   "source": [
    "# world = RigidBody{Float64}(\"world\")\n",
    "# doublependulum = Mechanism(world; gravity = SVector(0, 0, g))\n",
    "curdir = pwd()\n",
    "urdfpath = joinpath(curdir, \"../res/flyhopper_robot/urdf/flyhopper_robot.urdf\")\n",
    "doublependulum = parse_urdf(urdfpath, floating=false)\n",
    "state = MechanismState(doublependulum)"
   ]
  },
  {
   "cell_type": "code",
   "execution_count": 35,
   "id": "bd26e358",
   "metadata": {},
   "outputs": [
    {
     "data": {
      "text/plain": [
       "0.000164188445564489"
      ]
     },
     "execution_count": 35,
     "metadata": {},
     "output_type": "execute_result"
    }
   ],
   "source": [
    "const N = 4 # of links\n",
    "\n",
    "# link lengths\n",
    "const l0 = 0.1\n",
    "const l1 = 0.3\n",
    "const l2 = 0.3\n",
    "const l3 = 0.1\n",
    "const l4 = 0.2\n",
    "const l5 = 0.0205\n",
    "const lee = sqrt((l3 + l4)^2 + l5^2)\n",
    "\n",
    "# CoM locations\n",
    "const l_c0x = 0.0125108364230515\n",
    "const l_c0y = 0.00117191218927888\n",
    "const l_c0 = sqrt(l_c0x^2 + l_c0y^2)\n",
    "const alpha0 = atan(l_c0y, l_c0x)\n",
    "\n",
    "const l_c1 = 0.149359714867044\n",
    "\n",
    "const l_c2 = 0.0469412900551914\n",
    "\n",
    "const l_ceex = 0.113177000131857\n",
    "const l_ceey = -0.015332867880069\n",
    "const l_cee = sqrt(l_ceex^2 + l_ceey^2)\n",
    "const alpha3 = atan(l_ceey, l_ceex)\n",
    "const alphaee = atan(l5, l3+l4)\n",
    "\n",
    "# link masses\n",
    "const m0 = 0.24644240965487\n",
    "const m1 = 0.0707939028219395\n",
    "const m2 = 0.276735496985514\n",
    "const m3 = 0.130824780046739\n",
    "\n",
    "const g = 9.807\n",
    "\n",
    "# mass moment of inertia in axis of rotation\n",
    "const I0 = 0.000172067745507247  # iyy\n",
    "const I1 = 0.000147960574744097\n",
    "const I2 = 0.000302324068012293\n",
    "const I3 = 0.000164188445564489"
   ]
  },
  {
   "cell_type": "code",
   "execution_count": 36,
   "id": "1af107ca",
   "metadata": {},
   "outputs": [
    {
     "data": {
      "text/plain": [
       "kinematics (generic function with 1 method)"
      ]
     },
     "execution_count": 36,
     "metadata": {},
     "output_type": "execute_result"
    }
   ],
   "source": [
    "function kinematics(q)\n",
    "    #Input: q is an N-dimensional vector of joint angles\n",
    "    #Output: r is 3×N dimensional vector of global x,y,θ coordinates of each link\n",
    "    \n",
    "    r = zeros(eltype(q),3,N)\n",
    "    #q0 = q[1]\n",
    "    #q1 = q[2]\n",
    "    #q2 = q[3]\n",
    "    #q3 = q[4]\n",
    "    \n",
    "    r[1, 1] = l_c0*cos(q[1] + alpha0)\n",
    "    r[2, 1] = -l_c0*sin(q[1] + alpha0)\n",
    "    r[3, 1] = q[1]\n",
    "    \n",
    "    r[1, 2] = l0*cos(q[1]) + l_c1*cos(q[1] + q[2])\n",
    "    r[2, 2] = l0*sin(q[1]) + l_c1*sin(q[1] + q[2])\n",
    "    r[3, 2] = q[2]\n",
    "    \n",
    "    r[1, 3] = l_c2*cos(q[3])\n",
    "    r[2, 3] = l_c2*sin(q[3])\n",
    "    r[3, 3] = q[3]\n",
    "    \n",
    "    r[1, 4] = l2*cos(q[3]) + l_cee*cos(q[3] + q[4] + alpha3)\n",
    "    r[2, 4] = l2*sin(q[3]) + l_cee*sin(q[3] + q[4] + alpha3)\n",
    "    r[3, 4] = q[4]  # TODO: do we need to use other frame of ref?\n",
    "    \n",
    "    #output is r stacked as a single vector\n",
    "    return vec(r)  # should be 12x1\n",
    "end"
   ]
  },
  {
   "cell_type": "code",
   "execution_count": 37,
   "id": "0f4aac6f",
   "metadata": {},
   "outputs": [
    {
     "data": {
      "text/plain": [
       "potential (generic function with 1 method)"
      ]
     },
     "execution_count": 37,
     "metadata": {},
     "output_type": "execute_result"
    }
   ],
   "source": [
    "function potential(q)\n",
    "    #Input: q is an N-dimensional vector of joint angles \n",
    "    #Output: U is potential energy\n",
    "    \n",
    "    # TODO: return the potential energy \n",
    "    # hint, you can use reshape(kinematics(q),3,N) to turn the kinematics back into a 3xN array \n",
    "    r = reshape(kinematics(q),3,N)\n",
    "    U = zero(eltype(q))\n",
    "    U = sum(r[2, :]*9.81)\n",
    "    return U\n",
    "end"
   ]
  },
  {
   "cell_type": "code",
   "execution_count": 169,
   "id": "4deebfc2",
   "metadata": {},
   "outputs": [
    {
     "data": {
      "text/plain": [
       "kinetic (generic function with 1 method)"
      ]
     },
     "execution_count": 169,
     "metadata": {},
     "output_type": "execute_result"
    }
   ],
   "source": [
    "function kinetic(q,q̇)\n",
    "    #Input: q is an N-dimensional vector of joint angles, q̇ is an N-dimensional vector of joint velocities\n",
    "    #Output: T is kinetic energy\n",
    "    \n",
    "    # TODO: output kinetic energy \n",
    "    \n",
    "    T = zero(eltype([q;q̇]))\n",
    "    delxy = ForwardDiff.jacobian(kinematics, q)\n",
    "    delx = delxy[1:3:end, :]\n",
    "    dely = delxy[2:3:end, :]\n",
    "    dxdt = delx*q̇\n",
    "    dydt = dely*q̇\n",
    "    v_squared = dxdt.^2 + dydt.^2\n",
    "    q_dot = zeros(eltype([q;q̇]), length(q̇))\n",
    "    q_dot[1:2] = cumsum(q̇[1:2])  # separate legs\n",
    "    q_dot[2:4] = cumsum(q̇[2:4])\n",
    "    m = diagm([m0, m1, m2, m3])\n",
    "    J = diagm([I0, I1, I2, I3])\n",
    "    T = sum(0.5*m*v_squared + 0.5*J*(q_dot.^2))\n",
    "    \n",
    "    return T\n",
    "end"
   ]
  },
  {
   "cell_type": "code",
   "execution_count": 152,
   "id": "1e9092c4",
   "metadata": {},
   "outputs": [
    {
     "data": {
      "text/plain": [
       "Lagrangian (generic function with 1 method)"
      ]
     },
     "execution_count": 152,
     "metadata": {},
     "output_type": "execute_result"
    }
   ],
   "source": [
    "function Lagrangian(q,q̇)\n",
    "    Lag = zero(eltype([q;q̇]))\n",
    "    Lag = kinetic(q,q̇) - potential(q)\n",
    "    return Lag\n",
    "end"
   ]
  },
  {
   "cell_type": "code",
   "execution_count": 153,
   "id": "76edc212",
   "metadata": {},
   "outputs": [
    {
     "data": {
      "text/plain": [
       "D1D2L (generic function with 1 method)"
      ]
     },
     "execution_count": 153,
     "metadata": {},
     "output_type": "execute_result"
    }
   ],
   "source": [
    "#Lagrangian derivativess\n",
    "function D1L(q,q̇)  # del/delq\n",
    "    return ForwardDiff.gradient(dq->Lagrangian(dq,q̇),q)\n",
    "end\n",
    "\n",
    "function D2L(q,q̇)  # del/delqdot\n",
    "    return ForwardDiff.gradient(dq̇->Lagrangian(q,dq̇),q̇)\n",
    "end\n",
    "\n",
    "function D2D2L(q,q̇)  # del/delqdot (del/delqdot)\n",
    "    return ForwardDiff.jacobian(dq̇->D2L(q,dq̇),q̇)\n",
    "end\n",
    "\n",
    "function D1D2L(q,q̇)  # del/delq (del/delqdot)\n",
    "    return ForwardDiff.jacobian(dq->D2L(dq,q̇),q)\n",
    "end"
   ]
  },
  {
   "cell_type": "code",
   "execution_count": 154,
   "id": "7da4fec0",
   "metadata": {},
   "outputs": [
    {
     "data": {
      "text/plain": [
       "Mq (generic function with 1 method)"
      ]
     },
     "execution_count": 154,
     "metadata": {},
     "output_type": "execute_result"
    }
   ],
   "source": [
    "function Mq(q)\n",
    "    #Input: q is an N-dimensional vector of joint angles\n",
    "    #Output: M is an N×N positive-definite mass matrix\n",
    "        \n",
    "    Jac = ForwardDiff.jacobian(kinematics, q)  # 12x4\n",
    "    M_bar = I(12).*[m0 m0 1 m1 m1 1 m2 m2 1 m3 m3 1]\n",
    "    M_bar[3, 3] = I0\n",
    "    M_bar[6, 6] = I1\n",
    "    M_bar[9, 9] = I2\n",
    "    M_bar[12, 12] = I3\n",
    "    _M = zeros(eltype(q),length(q),length(q))\n",
    "    _M = Jac'*M_bar*Jac\n",
    "    \n",
    "    return _M\n",
    "end"
   ]
  },
  {
   "cell_type": "code",
   "execution_count": 155,
   "id": "4c7e73f9",
   "metadata": {},
   "outputs": [
    {
     "data": {
      "text/plain": [
       "Cq (generic function with 1 method)"
      ]
     },
     "execution_count": 155,
     "metadata": {},
     "output_type": "execute_result"
    }
   ],
   "source": [
    "function Cq(q,q̇)\n",
    "    #Input: q is an N-dimensional vector of joint angles\n",
    "    #Output: C is an N-dimensional coriolis force vector\n",
    "    \n",
    "    # _C = zeros(eltype([q,q̇]),length(q))\n",
    "    \n",
    "    delTdelq = ForwardDiff.gradient(_q->kinetic(_q, q̇),q)\n",
    "    _C = D1D2L(q,q̇)*q̇ - delTdelq# + D1L(q, q̇)# - c*q̇\n",
    "    \n",
    "    return _C\n",
    "end"
   ]
  },
  {
   "cell_type": "code",
   "execution_count": 156,
   "id": "2b485b8c",
   "metadata": {},
   "outputs": [
    {
     "data": {
      "text/plain": [
       "Gq (generic function with 1 method)"
      ]
     },
     "execution_count": 156,
     "metadata": {},
     "output_type": "execute_result"
    }
   ],
   "source": [
    "function Gq(q)\n",
    "    #Input: q is an N-dimensional vector of joint angles\n",
    "    #Output: G is an N-dimensional gravitational force vector\n",
    "\n",
    "    _G = zeros(eltype(q),length(q))\n",
    "    _G = ForwardDiff.gradient(_q->potential(_q),q)\n",
    "    \n",
    "    return _G\n",
    "end"
   ]
  },
  {
   "cell_type": "code",
   "execution_count": 190,
   "id": "4a7e5b47",
   "metadata": {},
   "outputs": [
    {
     "data": {
      "text/plain": [
       "constraint (generic function with 1 method)"
      ]
     },
     "execution_count": 190,
     "metadata": {},
     "output_type": "execute_result"
    }
   ],
   "source": [
    "function constraint(q)    \n",
    "    \n",
    "    x0 = l0*cos(q[1])\n",
    "    y0 = l0*sin(q[1])\n",
    "    x1 = x0 + l1*cos(q[1] + q[2])\n",
    "    y1 = y0 + l1*sin(q[1] + q[2])\n",
    "    \n",
    "    # constraint forward kinematics\n",
    "    xc = l2*cos(q[3]) + l3*cos(q[3] + q[4])\n",
    "    yc = l2*sin(q[3]) + l3*sin(q[3] + q[4])\n",
    "    \n",
    "    c = zeros(eltype(q), 2)\n",
    "    c[1] = x1 - xc\n",
    "    c[2] = y1 - yc\n",
    "    \n",
    "    return c\n",
    "end"
   ]
  },
  {
   "cell_type": "code",
   "execution_count": 174,
   "id": "3bba8ce7",
   "metadata": {},
   "outputs": [
    {
     "data": {
      "text/plain": [
       "jacobian_constraint (generic function with 1 method)"
      ]
     },
     "execution_count": 174,
     "metadata": {},
     "output_type": "execute_result"
    }
   ],
   "source": [
    "function jacobian_constraint(q)\n",
    "    # D = zeros(eltype(q), 2)\n",
    "    D = ForwardDiff.jacobian(_q -> constraint(_q), q)\n",
    "    return D\n",
    "end"
   ]
  },
  {
   "cell_type": "code",
   "execution_count": 175,
   "id": "233683a3",
   "metadata": {},
   "outputs": [
    {
     "data": {
      "text/plain": [
       "dqdot (generic function with 1 method)"
      ]
     },
     "execution_count": 175,
     "metadata": {},
     "output_type": "execute_result"
    }
   ],
   "source": [
    "function dqdot(q, q̇)\n",
    "    D = jacobian_constraint(q)\n",
    "    dqdot = D * q̇\n",
    "    return dqdot\n",
    "end"
   ]
  },
  {
   "cell_type": "code",
   "execution_count": 176,
   "id": "d4521765",
   "metadata": {},
   "outputs": [
    {
     "data": {
      "text/plain": [
       "derivative_constraint_jac (generic function with 1 method)"
      ]
     },
     "execution_count": 176,
     "metadata": {},
     "output_type": "execute_result"
    }
   ],
   "source": [
    "function derivative_constraint_jac(q, q̇)\n",
    "    # Compute del/delq(D(q)q_dot)q_dot\n",
    "    d = ForwardDiff.jacobian(_q -> dqdot(_q, q̇), q) * q̇\n",
    "    return d\n",
    "end"
   ]
  },
  {
   "cell_type": "code",
   "execution_count": 177,
   "id": "0e171783",
   "metadata": {},
   "outputs": [
    {
     "data": {
      "text/plain": [
       "cdot (generic function with 1 method)"
      ]
     },
     "execution_count": 177,
     "metadata": {},
     "output_type": "execute_result"
    }
   ],
   "source": [
    "function cdot(q, q̇)\n",
    "    #Compute cdot (first derivative of constraint function)\n",
    "    D = jacobian_constraint(q)\n",
    "    cdot = q̇' * D'\n",
    "    return cdot\n",
    "end"
   ]
  },
  {
   "cell_type": "code",
   "execution_count": 191,
   "id": "028ef408",
   "metadata": {},
   "outputs": [
    {
     "data": {
      "text/plain": [
       "f (generic function with 1 method)"
      ]
     },
     "execution_count": 191,
     "metadata": {},
     "output_type": "execute_result"
    }
   ],
   "source": [
    "function f(x)\n",
    "    # parallel mechanism dynamics\n",
    "    \n",
    "    q = x[1:N]\n",
    "    q̇ = x[N+1:end]\n",
    "    \n",
    "    # Constraint fn\n",
    "    c = constraint(q)\n",
    "    \n",
    "    # Constraint Jacobian\n",
    "    D = jacobian_constraint(q)\n",
    "    \n",
    "    # del/delq(D*qdot)*qdot\n",
    "    d = derivative_constraint_jac(q, q̇)\n",
    "    \n",
    "    # first derivative of constraint fn\n",
    "    cd = cdot(q, q̇)'\n",
    "    \n",
    "    ẋ = zeros(eltype(x),length(x))\n",
    "    \n",
    "    # Mass matrix\n",
    "    M = Mq(q)\n",
    "    \n",
    "    # Coriolis matrix\n",
    "    C = Cq(q, q̇)\n",
    "    \n",
    "    # Potential matrix\n",
    "    G = Gq(q)\n",
    "    \n",
    "    α = 10.0\n",
    "    β = 0.01\n",
    "    \n",
    "    e = D*(M\\(D'*(α*c + β*cd)))\n",
    "    \n",
    "    KKT = [M -D';\n",
    "           D zeros(2,2)]\n",
    "    RHS = [- G - C;\n",
    "           -(d + e)]\n",
    "    \n",
    "    sol = KKT\\RHS\n",
    "    λ = sol[5:6]\n",
    "    \n",
    "    ẋ[1:N] = q̇\n",
    "    ẋ[N+1:end] = sol[1:4]  # q double dot\n",
    "    \n",
    "    return ẋ\n",
    "end"
   ]
  },
  {
   "cell_type": "code",
   "execution_count": 188,
   "id": "a512a587",
   "metadata": {},
   "outputs": [
    {
     "data": {
      "text/plain": [
       "checkval (generic function with 1 method)"
      ]
     },
     "execution_count": 188,
     "metadata": {},
     "output_type": "execute_result"
    }
   ],
   "source": [
    "function checkval(val, max, name)\n",
    "    if val > max\n",
    "        @show val\n",
    "        error(name)\n",
    "    end\n",
    "end\n",
    "#=\n",
    "#---#\n",
    "if isnan(qdd[1])\n",
    "    @show qdd\n",
    "    error(\"A!\")\n",
    "end\n",
    "#---#\n",
    "=#"
   ]
  },
  {
   "cell_type": "code",
   "execution_count": 164,
   "id": "37da6a7e",
   "metadata": {},
   "outputs": [
    {
     "data": {
      "text/plain": [
       "rk4_step (generic function with 1 method)"
      ]
     },
     "execution_count": 164,
     "metadata": {},
     "output_type": "execute_result"
    }
   ],
   "source": [
    "function rk4_step(f,xk,h)\n",
    "\n",
    "    f1 = f(xk)\n",
    "    f2 = f(xk + 0.5*h*f1)\n",
    "    f3 = f(xk + 0.5*h*f2)\n",
    "    f4 = f(xk + h*f3)\n",
    "    \n",
    "    xn = xk + (h/6.0).*(f1 + 2*f2 + 2*f3 + f4)\n",
    "\n",
    "    return xn\n",
    "end"
   ]
  },
  {
   "cell_type": "code",
   "execution_count": 165,
   "id": "a3ebfa66",
   "metadata": {},
   "outputs": [],
   "source": [
    "Tf = 10.0\n",
    "h = 0.001 #20 Hz\n",
    "n = Int(floor(Tf./h + 1))\n",
    "thist = h.*Array(0:(n-1));"
   ]
  },
  {
   "cell_type": "code",
   "execution_count": 166,
   "id": "9dc5b8ad",
   "metadata": {},
   "outputs": [
    {
     "data": {
      "text/plain": [
       "simulate! (generic function with 1 method)"
      ]
     },
     "execution_count": 166,
     "metadata": {},
     "output_type": "execute_result"
    }
   ],
   "source": [
    "function simulate!(xtraj, n)\n",
    "    for k = 1:(n-1)\n",
    "        xtraj[:,k+1] .= rk4_step(f, copy(xtraj[:,k]), h)\n",
    "    end\n",
    "end"
   ]
  },
  {
   "cell_type": "code",
   "execution_count": 167,
   "id": "4b0fd3ff",
   "metadata": {},
   "outputs": [],
   "source": [
    "x0 = [-30*pi/180; 0.0; -120*(pi/180); 0.0; -150*(pi/180); 0.0; 120*(pi/180); 0.0]\n",
    "xtraj = zeros(8,n)\n",
    "xtraj[:,1] = x0;"
   ]
  },
  {
   "cell_type": "code",
   "execution_count": 192,
   "id": "5dbf79e0",
   "metadata": {},
   "outputs": [],
   "source": [
    "simulate!(xtraj, n)"
   ]
  },
  {
   "cell_type": "code",
   "execution_count": 193,
   "id": "9205577b",
   "metadata": {},
   "outputs": [
    {
     "data": {
      "text/plain": [
       "10001-element Vector{Vector{Float64}}:\n",
       " [0.0, 0.0, 0.0, 0.0]\n",
       " [0.002663893315172916, 0.09176257312191227, -0.002090098725383349, 0.009370947820202424]\n",
       " [0.005419503973161488, 0.18350190966002522, -0.004168357860009131, 0.023812932735744585]\n",
       " [0.008267025686456209, 0.2756684957094082, -0.00622930609752359, 0.04412553655565565]\n",
       " [0.011207157727234018, 0.36882826227056764, -0.008266675273045365, 0.07110305700651232]\n",
       " [0.014241236241725463, 0.4636942935958106, -0.01027340510065411, 0.105535660093929]\n",
       " [0.017371397163476354, 0.561158295091345, -0.012241646582891619, 0.14821088189392695]\n",
       " [0.020600770407171565, 0.6623216504883005, -0.01416276374811165, 0.1999154694501235]\n",
       " [0.023933704806364364, 0.768525797451225, -0.016027333381287256, 0.26143755150656034]\n",
       " [0.027376022926310473, 0.881381523903785, -0.01782514242269473, 0.3335691307114934]\n",
       " [0.030935304411673248, 1.0027966361613667, -0.01954518271681005, 0.41710888986411754]\n",
       " [0.03462119589575441, 1.1350012787409733, -0.021175642800614014, 0.5128653059505888]\n",
       " [0.03844574468646078, 1.280570001790355, -0.02270389642601156, 0.6216600672799966]\n",
       " ⋮\n",
       " [NaN, NaN, NaN, NaN]\n",
       " [NaN, NaN, NaN, NaN]\n",
       " [NaN, NaN, NaN, NaN]\n",
       " [NaN, NaN, NaN, NaN]\n",
       " [NaN, NaN, NaN, NaN]\n",
       " [NaN, NaN, NaN, NaN]\n",
       " [NaN, NaN, NaN, NaN]\n",
       " [NaN, NaN, NaN, NaN]\n",
       " [NaN, NaN, NaN, NaN]\n",
       " [NaN, NaN, NaN, NaN]\n",
       " [NaN, NaN, NaN, NaN]\n",
       " [NaN, NaN, NaN, NaN]"
      ]
     },
     "execution_count": 193,
     "metadata": {},
     "output_type": "execute_result"
    }
   ],
   "source": [
    "q0 = -xtraj[1, :] .- 30*(pi/180)\n",
    "q1 = -xtraj[3, :] .- 120*(pi/180)\n",
    "q2 = -xtraj[5, :] .- 150*(pi/180)\n",
    "q3 = -xtraj[7, :] .+ 120*(pi/180)\n",
    "\n",
    "qs = convert(AbstractArray{Float64}, [q0 q2 q1 q3]) \n",
    "ts = convert(AbstractVector{Float64}, thist) # AbstractVector(thist)\n",
    "q_array = [ qs[i,:] for i in 1:size(qs,1)] "
   ]
  },
  {
   "cell_type": "code",
   "execution_count": 26,
   "id": "07f45300",
   "metadata": {
    "scrolled": false
   },
   "outputs": [
    {
     "name": "stderr",
     "output_type": "stream",
     "text": [
      "┌ Info: MeshCat server started. You can open the visualizer by visiting the following URL in your browser:\n",
      "│ http://127.0.0.1:8700\n",
      "└ @ MeshCat /home/ben/.julia/packages/MeshCat/GlCMx/src/visualizer.jl:73\n"
     ]
    },
    {
     "data": {
      "text/html": [
       "    <div style=\"height: 500px; width: 100%; overflow-x: auto; overflow-y: hidden; resize: both\">\n",
       "    <iframe src=\"http://127.0.0.1:8700\" style=\"width: 100%; height: 100%; border: none\"></iframe>\n",
       "    </div>\n"
      ],
      "text/plain": [
       "MeshCat.DisplayedVisualizer(MeshCat.CoreVisualizer(MeshCat.SceneTrees.SceneNode(nothing, nothing, Dict{String, Vector{UInt8}}(), nothing, Dict{String, MeshCat.SceneTrees.SceneNode}(\"meshcat\" => MeshCat.SceneTrees.SceneNode(nothing, nothing, Dict{String, Vector{UInt8}}(), nothing, Dict{String, MeshCat.SceneTrees.SceneNode}(\"world\" => MeshCat.SceneTrees.SceneNode(nothing, nothing, Dict{String, Vector{UInt8}}(), nothing, Dict{String, MeshCat.SceneTrees.SceneNode}(\"base_link\" => MeshCat.SceneTrees.SceneNode(nothing, UInt8[0x83, 0xa6, 0x6d, 0x61, 0x74, 0x72, 0x69, 0x78, 0xc7, 0x40  …  0x2f, 0x62, 0x61, 0x73, 0x65, 0x5f, 0x6c, 0x69, 0x6e, 0x6b], Dict{String, Vector{UInt8}}(), nothing, Dict{String, MeshCat.SceneTrees.SceneNode}(\"geometry_1\" => MeshCat.SceneTrees.SceneNode(UInt8[0x83, 0xa6, 0x6f, 0x62, 0x6a, 0x65, 0x63, 0x74, 0x84, 0xaa  …  0x67, 0x65, 0x6f, 0x6d, 0x65, 0x74, 0x72, 0x79, 0x5f, 0x31], UInt8[0x83, 0xa6, 0x6d, 0x61, 0x74, 0x72, 0x69, 0x78, 0xc7, 0x40  …  0x67, 0x65, 0x6f, 0x6d, 0x65, 0x74, 0x72, 0x79, 0x5f, 0x31], Dict{String, Vector{UInt8}}(), nothing, Dict{String, MeshCat.SceneTrees.SceneNode}()))), \"Link 2\" => MeshCat.SceneTrees.SceneNode(nothing, UInt8[0x83, 0xa6, 0x6d, 0x61, 0x74, 0x72, 0x69, 0x78, 0xc7, 0x40  …  0x72, 0x6c, 0x64, 0x2f, 0x4c, 0x69, 0x6e, 0x6b, 0x20, 0x32], Dict{String, Vector{UInt8}}(), nothing, Dict{String, MeshCat.SceneTrees.SceneNode}(\"Link 3\" => MeshCat.SceneTrees.SceneNode(nothing, UInt8[0x83, 0xa6, 0x6d, 0x61, 0x74, 0x72, 0x69, 0x78, 0xc7, 0x40  …  0x6b, 0x20, 0x32, 0x2f, 0x4c, 0x69, 0x6e, 0x6b, 0x20, 0x33], Dict{String, Vector{UInt8}}(), nothing, Dict{String, MeshCat.SceneTrees.SceneNode}(\"after_Joint 3\" => MeshCat.SceneTrees.SceneNode(nothing, UInt8[0x83, 0xa6, 0x6d, 0x61, 0x74, 0x72, 0x69, 0x78, 0xc7, 0x40  …  0x65, 0x72, 0x5f, 0x4a, 0x6f, 0x69, 0x6e, 0x74, 0x20, 0x33], Dict{String, Vector{UInt8}}(), nothing, Dict{String, MeshCat.SceneTrees.SceneNode}(\"geometry_5\" => MeshCat.SceneTrees.SceneNode(UInt8[0x83, 0xa6, 0x6f, 0x62, 0x6a, 0x65, 0x63, 0x74, 0x84, 0xaa  …  0x67, 0x65, 0x6f, 0x6d, 0x65, 0x74, 0x72, 0x79, 0x5f, 0x35], UInt8[0x83, 0xa6, 0x6d, 0x61, 0x74, 0x72, 0x69, 0x78, 0xc7, 0x40  …  0x67, 0x65, 0x6f, 0x6d, 0x65, 0x74, 0x72, 0x79, 0x5f, 0x35], Dict{String, Vector{UInt8}}(), nothing, Dict{String, MeshCat.SceneTrees.SceneNode}()))))), \"after_Joint 2\" => MeshCat.SceneTrees.SceneNode(nothing, UInt8[0x83, 0xa6, 0x6d, 0x61, 0x74, 0x72, 0x69, 0x78, 0xc7, 0x40  …  0x65, 0x72, 0x5f, 0x4a, 0x6f, 0x69, 0x6e, 0x74, 0x20, 0x32], Dict{String, Vector{UInt8}}(), nothing, Dict{String, MeshCat.SceneTrees.SceneNode}(\"geometry_4\" => MeshCat.SceneTrees.SceneNode(UInt8[0x83, 0xa6, 0x6f, 0x62, 0x6a, 0x65, 0x63, 0x74, 0x84, 0xaa  …  0x67, 0x65, 0x6f, 0x6d, 0x65, 0x74, 0x72, 0x79, 0x5f, 0x34], UInt8[0x83, 0xa6, 0x6d, 0x61, 0x74, 0x72, 0x69, 0x78, 0xc7, 0x40  …  0x67, 0x65, 0x6f, 0x6d, 0x65, 0x74, 0x72, 0x79, 0x5f, 0x34], Dict{String, Vector{UInt8}}(), nothing, Dict{String, MeshCat.SceneTrees.SceneNode}()))))), \"Link 0\" => MeshCat.SceneTrees.SceneNode(nothing, UInt8[0x83, 0xa6, 0x6d, 0x61, 0x74, 0x72, 0x69, 0x78, 0xc7, 0x40  …  0x72, 0x6c, 0x64, 0x2f, 0x4c, 0x69, 0x6e, 0x6b, 0x20, 0x30], Dict{String, Vector{UInt8}}(), nothing, Dict{String, MeshCat.SceneTrees.SceneNode}(\"Link 1\" => MeshCat.SceneTrees.SceneNode(nothing, UInt8[0x83, 0xa6, 0x6d, 0x61, 0x74, 0x72, 0x69, 0x78, 0xc7, 0x40  …  0x6b, 0x20, 0x30, 0x2f, 0x4c, 0x69, 0x6e, 0x6b, 0x20, 0x31], Dict{String, Vector{UInt8}}(), nothing, Dict{String, MeshCat.SceneTrees.SceneNode}(\"after_Joint 1\" => MeshCat.SceneTrees.SceneNode(nothing, UInt8[0x83, 0xa6, 0x6d, 0x61, 0x74, 0x72, 0x69, 0x78, 0xc7, 0x40  …  0x65, 0x72, 0x5f, 0x4a, 0x6f, 0x69, 0x6e, 0x74, 0x20, 0x31], Dict{String, Vector{UInt8}}(), nothing, Dict{String, MeshCat.SceneTrees.SceneNode}(\"geometry_3\" => MeshCat.SceneTrees.SceneNode(UInt8[0x83, 0xa6, 0x6f, 0x62, 0x6a, 0x65, 0x63, 0x74, 0x84, 0xaa  …  0x67, 0x65, 0x6f, 0x6d, 0x65, 0x74, 0x72, 0x79, 0x5f, 0x33], UInt8[0x83, 0xa6, 0x6d, 0x61, 0x74, 0x72, 0x69, 0x78, 0xc7, 0x40  …  0x67, 0x65, 0x6f, 0x6d, 0x65, 0x74, 0x72, 0x79, 0x5f, 0x33], Dict{String, Vector{UInt8}}(), nothing, Dict{String, MeshCat.SceneTrees.SceneNode}()))))), \"after_Joint 0\" => MeshCat.SceneTrees.SceneNode(nothing, UInt8[0x83, 0xa6, 0x6d, 0x61, 0x74, 0x72, 0x69, 0x78, 0xc7, 0x40  …  0x65, 0x72, 0x5f, 0x4a, 0x6f, 0x69, 0x6e, 0x74, 0x20, 0x30], Dict{String, Vector{UInt8}}(), nothing, Dict{String, MeshCat.SceneTrees.SceneNode}(\"geometry_2\" => MeshCat.SceneTrees.SceneNode(UInt8[0x83, 0xa6, 0x6f, 0x62, 0x6a, 0x65, 0x63, 0x74, 0x84, 0xaa  …  0x67, 0x65, 0x6f, 0x6d, 0x65, 0x74, 0x72, 0x79, 0x5f, 0x32], UInt8[0x83, 0xa6, 0x6d, 0x61, 0x74, 0x72, 0x69, 0x78, 0xc7, 0x40  …  0x67, 0x65, 0x6f, 0x6d, 0x65, 0x74, 0x72, 0x79, 0x5f, 0x32], Dict{String, Vector{UInt8}}(), nothing, Dict{String, MeshCat.SceneTrees.SceneNode}()))))))))))), Set{Any}(), ip\"127.0.0.1\", 8700))"
      ]
     },
     "execution_count": 26,
     "metadata": {},
     "output_type": "execute_result"
    }
   ],
   "source": [
    "# mvis = MechanismVisualizer(doublependulum, Skeleton(randomize_colors=true, inertias=false));\n",
    "mvis = MechanismVisualizer(doublependulum, URDFVisuals(urdfpath));\n",
    "\n",
    "render(mvis)"
   ]
  },
  {
   "cell_type": "code",
   "execution_count": 194,
   "id": "fea4a283",
   "metadata": {},
   "outputs": [],
   "source": [
    "# [q0 q2 q1 q3]\n",
    "set_configuration!(mvis, [-x0[5]-150*(pi/180), -x0[1]-30*(pi/180), -x0[7]+120*(pi/180), -x0[3]-120*(pi/180)])"
   ]
  },
  {
   "cell_type": "code",
   "execution_count": 195,
   "id": "e785dc73",
   "metadata": {},
   "outputs": [
    {
     "ename": "LoadError",
     "evalue": "type QuatRotation has no field x",
     "output_type": "error",
     "traceback": [
      "type QuatRotation has no field x",
      "",
      "Stacktrace:",
      "  [1] getproperty(x::Rotations.QuatRotation{Float64}, f::Symbol)",
      "    @ Base ./Base.jl:33",
      "  [2] js_quaternion(q::Rotations.QuatRotation{Float64})",
      "    @ MeshCat ~/.julia/packages/MeshCat/GlCMx/src/atframe.jl:33",
      "  [3] js_quaternion(r::Rotations.RotMatrix3{Float64})",
      "    @ MeshCat ~/.julia/packages/MeshCat/GlCMx/src/atframe.jl:35",
      "  [4] js_quaternion(tform::CoordinateTransformations.AffineMap{Rotations.RotMatrix3{Float64}, SVector{3, Float64}})",
      "    @ MeshCat ~/.julia/packages/MeshCat/GlCMx/src/atframe.jl:36",
      "  [5] overdub(ctx::Cassette.Context{nametype(AnimationCtx), Tuple{Animation, Int64}, Nothing, Cassette.var\"##PassType#259\", Nothing, Nothing}, #unused#::typeof(settransform!), vis::Visualizer, tform::CoordinateTransformations.AffineMap{Rotations.RotMatrix3{Float64}, SVector{3, Float64}})",
      "    @ MeshCat ~/.julia/packages/MeshCat/GlCMx/src/atframe.jl:54",
      "  [6] overdub",
      "    @ ~/.julia/packages/MeshCatMechanisms/QczZo/src/visualizer.jl:147 [inlined]",
      "  [7] overdub(::Cassette.Context{nametype(AnimationCtx), Tuple{Animation, Int64}, Nothing, Cassette.var\"##PassType#259\", Nothing, Nothing}, ::typeof(MeshCatMechanisms._render_state!), ::MechanismVisualizer{MechanismState{Float64, Float64, Float64, TypeSortedCollections.TypeSortedCollection{Tuple{Vector{Joint{Float64, Revolute{Float64}}}}, 1}}, Visualizer}, ::MechanismState{Float64, Float64, Float64, TypeSortedCollections.TypeSortedCollection{Tuple{Vector{Joint{Float64, Revolute{Float64}}}}, 1}})",
      "    @ Cassette ~/.julia/packages/Cassette/1lyEM/src/overdub.jl:0",
      "  [8] _render_state!(::MechanismVisualizer{MechanismState{Float64, Float64, Float64, TypeSortedCollections.TypeSortedCollection{Tuple{Vector{Joint{Float64, Revolute{Float64}}}}, 1}}, Visualizer})",
      "    @ ~/.julia/packages/MeshCatMechanisms/QczZo/src/visualizer.jl:135 [inlined]",
      "  [9] overdub",
      "    @ ~/.julia/packages/MeshCatMechanisms/QczZo/src/visualizer.jl:135 [inlined]",
      " [10] overdub",
      "    @ ~/.julia/packages/MeshCatMechanisms/QczZo/src/visualizer.jl:168 [inlined]",
      " [11] overdub(::Cassette.Context{nametype(AnimationCtx), Tuple{Animation, Int64}, Nothing, Cassette.var\"##PassType#259\", Nothing, Nothing}, ::typeof(set_configuration!), ::MechanismVisualizer{MechanismState{Float64, Float64, Float64, TypeSortedCollections.TypeSortedCollection{Tuple{Vector{Joint{Float64, Revolute{Float64}}}}, 1}}, Visualizer}, ::Vector{Float64})",
      "    @ Cassette ~/.julia/packages/Cassette/1lyEM/src/overdub.jl:0",
      " [12] (::MeshCatMechanisms.var\"",
      "    @ ~/.julia/packages/MeshCatMechanisms/QczZo/src/animate.jl:45 [inlined]",
      " [13] overdub",
      "    @ ~/.julia/packages/MeshCatMechanisms/QczZo/src/animate.jl:45 [inlined]",
      " [14] overdub(overdub_context#257::Cassette.Context{nametype(AnimationCtx), Tuple{Animation, Int64}, Nothing, Cassette.var\"##PassType#259\", Nothing, Nothing}, overdub_arguments#258::MeshCatMechanisms.var\"#5#6\"{MechanismVisualizer{MechanismState{Float64, Float64, Float64, TypeSortedCollections.TypeSortedCollection{Tuple{Vector{Joint{Float64, Revolute{Float64}}}}, 1}}, Visualizer}, Interpolations.GriddedInterpolation{Vector{Float64}, 1, Vector{Float64}, Interpolations.Gridded{Interpolations.Linear{Interpolations.Throw{Interpolations.OnGrid}}}, Tuple{Vector{Float64}}}, Float64})",
      "    @ Cassette ~/.julia/packages/Cassette/1lyEM/src/overdub.jl:0",
      " [15] atframe",
      "    @ ~/.julia/packages/MeshCat/GlCMx/src/atframe.jl:97 [inlined]",
      " [16] Animation(mvis::MechanismVisualizer{MechanismState{Float64, Float64, Float64, TypeSortedCollections.TypeSortedCollection{Tuple{Vector{Joint{Float64, Revolute{Float64}}}}, 1}}, Visualizer}, times::Vector{Float64}, configurations::Vector{Vector{Float64}}; fps::Int64)",
      "    @ MeshCatMechanisms ~/.julia/packages/MeshCatMechanisms/QczZo/src/animate.jl:44",
      " [17] Animation(mvis::MechanismVisualizer{MechanismState{Float64, Float64, Float64, TypeSortedCollections.TypeSortedCollection{Tuple{Vector{Joint{Float64, Revolute{Float64}}}}, 1}}, Visualizer}, times::Vector{Float64}, configurations::Vector{Vector{Float64}})",
      "    @ MeshCatMechanisms ~/.julia/packages/MeshCatMechanisms/QczZo/src/animate.jl:37",
      " [18] top-level scope",
      "    @ In[195]:6",
      " [19] eval",
      "    @ ./boot.jl:360 [inlined]",
      " [20] include_string(mapexpr::typeof(REPL.softscope), mod::Module, code::String, filename::String)",
      "    @ Base ./loading.jl:1116"
     ]
    }
   ],
   "source": [
    "# Now we can simply call `simulate`, which will return a tuple consisting of:\n",
    "# * simulation times (a `Vector` of numbers)\n",
    "# * joint configuration vectors (a `Vector` of `Vector`s)\n",
    "# * joint velocity vectors (a `Vector` of `Vector`s)\n",
    "\n",
    "animation = Animation(mvis, ts, -q_array)\n",
    "setanimation!(mvis, animation)\n",
    "# MeshCatMechanisms.animate(mvis, ts, qs; realtimerate = 1.);"
   ]
  },
  {
   "cell_type": "code",
   "execution_count": 29,
   "id": "7977b8b0",
   "metadata": {},
   "outputs": [
    {
     "data": {
      "text/plain": [
       "H (generic function with 1 method)"
      ]
     },
     "execution_count": 29,
     "metadata": {},
     "output_type": "execute_result"
    }
   ],
   "source": [
    "#Energy Functions\n",
    "\n",
    "function T(x)\n",
    "    q0 = x[1]\n",
    "    q0d = x[2]\n",
    "    q1 = x[3]\n",
    "    q1d = x[4]\n",
    "    q2 = x[5]\n",
    "    q2d = x[6]\n",
    "    q3 = x[7]\n",
    "    q3d = x[8]\n",
    "    \n",
    "    T = 0.5*I0*q0d^2 + 0.5*I1*q1d^2 + 0.5*I2*q2d^2 + 0.5*I3*q3d^2 + \n",
    "            0.5*l_c0^2*m0*q0d^2 + 0.5*l_c2^2*m2*q2d^2 + 0.5*m1*(l0^2*q0d^2 + \n",
    "            2*l0*l_c1*q0d^2*cos(q1) + 2*l0*l_c1*q0d*q1d*cos(q1) + \n",
    "            l_c1^2*q0d^2 + 2*l_c1^2*q0d*q1d + l_c1^2*q1d^2) + \n",
    "            0.5*m3*(l2^2*q2d^2 + 2*l2*l_cee*q2d^2*cos(alpha3 + q3) + \n",
    "            2*l2*l_cee*q2d*q3d*cos(alpha3 + q3) + l_cee^2*q2d^2 + \n",
    "            2*l_cee^2*q2d*q3d + l_cee^2*q3d^2)\n",
    "\n",
    "end\n",
    "\n",
    "function U(x)\n",
    "    q0 = x[1]\n",
    "    q1 = x[3]\n",
    "    q2 = x[5]\n",
    "    q3 = x[7]\n",
    "    \n",
    "    \n",
    "    y0 = l_c0*sin(q0 + alpha0)\n",
    "\n",
    "    y1 = l0*sin(q0) + l_c1*sin(q0 + q1)\n",
    "\n",
    "    y2 = l_c2*sin(q2)\n",
    "\n",
    "    y3 = l2*sin(q2) + l_cee*sin(q2 + q3 + alpha3)\n",
    "\n",
    "    U0 = m0*g*y0 + m1*g*y1\n",
    "    U2 = m2*g*y2 + m3*g*y3\n",
    "    \n",
    "    return U0 + U2\n",
    "end\n",
    "\n",
    "function H(x)\n",
    "    U(x) + T(x)\n",
    "end"
   ]
  },
  {
   "cell_type": "code",
   "execution_count": 30,
   "id": "97e6305e",
   "metadata": {},
   "outputs": [
    {
     "ename": "LoadError",
     "evalue": "ArgumentError: Package Plots not found in current path:\n- Run `import Pkg; Pkg.add(\"Plots\")` to install the Plots package.\n",
     "output_type": "error",
     "traceback": [
      "ArgumentError: Package Plots not found in current path:\n- Run `import Pkg; Pkg.add(\"Plots\")` to install the Plots package.\n",
      "",
      "Stacktrace:",
      " [1] require(into::Module, mod::Symbol)",
      "   @ Base ./loading.jl:893",
      " [2] eval",
      "   @ ./boot.jl:360 [inlined]",
      " [3] include_string(mapexpr::typeof(REPL.softscope), mod::Module, code::String, filename::String)",
      "   @ Base ./loading.jl:1116"
     ]
    }
   ],
   "source": [
    "#Plot total energy\n",
    "using Plots\n",
    "\n",
    "E = zeros(N)\n",
    "for k = 1:N\n",
    "    E[k] = H(xtraj[:, k])\n",
    "end\n",
    "\n",
    "plot(thist,E)"
   ]
  },
  {
   "cell_type": "code",
   "execution_count": null,
   "id": "d713678c",
   "metadata": {},
   "outputs": [],
   "source": []
  }
 ],
 "metadata": {
  "kernelspec": {
   "display_name": "Julia 1.6.3",
   "language": "julia",
   "name": "julia-1.6"
  },
  "language_info": {
   "file_extension": ".jl",
   "mimetype": "application/julia",
   "name": "julia",
   "version": "1.6.3"
  }
 },
 "nbformat": 4,
 "nbformat_minor": 5
}
