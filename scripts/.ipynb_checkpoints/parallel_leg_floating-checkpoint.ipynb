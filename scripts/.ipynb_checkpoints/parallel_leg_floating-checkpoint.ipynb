{
 "cells": [
  {
   "cell_type": "code",
   "execution_count": 2,
   "id": "0db4f718",
   "metadata": {},
   "outputs": [
    {
     "name": "stderr",
     "output_type": "stream",
     "text": [
      "\u001b[32m\u001b[1m  Activating\u001b[22m\u001b[39m environment at `~/Documents/git_workspace/16715/dynamics-simulation-leg/scripts/Project.toml`\n"
     ]
    }
   ],
   "source": [
    "import Pkg; Pkg.activate(@__DIR__); Pkg.instantiate()"
   ]
  },
  {
   "cell_type": "code",
   "execution_count": 3,
   "id": "5bb7d46a",
   "metadata": {},
   "outputs": [
    {
     "data": {
      "application/vnd.webio.node+json": {
       "children": [],
       "instanceArgs": {
        "namespace": "html",
        "tag": "div"
       },
       "nodeType": "DOM",
       "props": {},
       "type": "node"
      },
      "text/html": [
       "<div style=\"padding: 1em; background-color: #f8d6da; border: 1px solid #f5c6cb; font-weight: bold;\">\n",
       "<p>The WebIO Jupyter extension was not detected. See the\n",
       "<a href=\"https://juliagizmos.github.io/WebIO.jl/latest/providers/ijulia/\" target=\"_blank\">\n",
       "    WebIO Jupyter integration documentation\n",
       "</a>\n",
       "for more information.\n",
       "</div>\n"
      ],
      "text/plain": [
       "WebIO._IJuliaInit()"
      ]
     },
     "metadata": {},
     "output_type": "display_data"
    }
   ],
   "source": [
    "using RigidBodyDynamics\n",
    "using LinearAlgebra\n",
    "using MeshCatMechanisms\n",
    "using MeshCat\n",
    "using StaticArrays\n",
    "using ForwardDiff"
   ]
  },
  {
   "cell_type": "code",
   "execution_count": 4,
   "id": "58cbc6f6",
   "metadata": {},
   "outputs": [
    {
     "data": {
      "text/plain": [
       "MechanismState{Float64, Float64, Float64, …}(…)"
      ]
     },
     "execution_count": 4,
     "metadata": {},
     "output_type": "execute_result"
    }
   ],
   "source": [
    "# world = RigidBody{Float64}(\"world\")\n",
    "# doublependulum = Mechanism(world; gravity = SVector(0, 0, g))\n",
    "curdir = pwd()\n",
    "urdfpath = joinpath(curdir, \"../res/flyhopper_robot/urdf/flyhopper_robot.urdf\")\n",
    "doublependulum = parse_urdf(urdfpath, floating=false)\n",
    "state = MechanismState(doublependulum)"
   ]
  },
  {
   "cell_type": "code",
   "execution_count": 5,
   "id": "bd26e358",
   "metadata": {},
   "outputs": [
    {
     "data": {
      "text/plain": [
       "3×3 Matrix{Float64}:\n",
       "  1.76997e-5  -5.36954e-7    7.6235e-7\n",
       " -5.36954e-7   0.000164188  -2.77844e-7\n",
       "  7.6235e-7   -2.77844e-7    0.000160656"
      ]
     },
     "execution_count": 5,
     "metadata": {},
     "output_type": "execute_result"
    }
   ],
   "source": [
    "const N = 4 # of links\n",
    "\n",
    "# link lengths\n",
    "const l0 = 0.1\n",
    "const l1 = 0.3\n",
    "const l2 = 0.3\n",
    "const l3 = 0.1\n",
    "const l4 = 0.2\n",
    "const l5 = 0.0205\n",
    "const lee = [l3 + l4; l5; 0] # sqrt((l3 + l4)^2 + l5^2)\n",
    "\n",
    "# CoM locations\n",
    "const l_cb = [0; 0.004; 0]\n",
    "const l_c0 = [0.0125108364230515; 0.00117191218927888; 0]\n",
    "const l_c1 = [0.149359714867044; 0; 0]\n",
    "const l_c2 = [0.0469412900551914; 0; 0]\n",
    "const l_c3 = [0.113177000131857; -0.015332867880069; 0]\n",
    "\n",
    "# link masses\n",
    "const mb = 7  # kg\n",
    "const m0 = 0.24644240965487\n",
    "const m1 = 0.0707939028219395\n",
    "const m2 = 0.276735496985514\n",
    "const m3 = 0.130824780046739\n",
    "const m = diagm([m0, m1, m2, m3])\n",
    "    \n",
    "# gravity, obviously\n",
    "const g = 9.807\n",
    "\n",
    "# mass moment of inertia in axis of rotation\n",
    "const Ib = Array([0.0024241 5.252E-06 2.0733E-19; \n",
    "                  5.252E-06 0.0044176 -3.1153E-19; \n",
    "                  2.0733E-19 -3.1153E-19 0.0022481])\n",
    "\n",
    "const I0 = Array([3.83120149546952E-05 1.46925714738609E-05 -8.60106401672571E-06;\n",
    "                  1.46925714738609E-05 0.000172067745507247 1.0427260925207E-06;\n",
    "                  -8.60106401672571E-06 1.0427260925207E-06 0.00014745218068435])\n",
    "\n",
    "const I1 = Array([3.06999775886187E-06 7.91090301514898E-12 -1.43705963146176E-12;\n",
    "                  7.91090301514898E-12 0.000147960574744097 1.30742394049546E-11;\n",
    "                  -1.43705963146176E-12 1.30742394049546E-11 0.000147884231885009])\n",
    "\n",
    "const I2 = Array([3.43038397803592E-05 -2.90339844227483E-07 6.18680397558952E-06;\n",
    "                  -2.90339844227483E-07 0.000302324068012293 2.25016327583562E-08;\n",
    "                  6.18680397558952E-06 2.25016327583562E-08 0.00028292376778719])\n",
    "\n",
    "const I3 = Array([1.76996970020568E-05 -5.3695427116208E-07 7.62350214406387E-07;\n",
    "                  -5.3695427116208E-07 0.000164188445564489 -2.77843753828047E-07;\n",
    "                  7.62350214406387E-07 -2.77843753828047E-07 0.000160656046697151])\n",
    "# const J = Diagonal([I0, I1, I2, I3])"
   ]
  },
  {
   "cell_type": "code",
   "execution_count": 6,
   "id": "3b123e9a",
   "metadata": {},
   "outputs": [
    {
     "data": {
      "text/plain": [
       "30×30 SparseArrays.SparseMatrixCSC{Float64, Int64} with 60 stored entries:\n",
       "⠑⢄⣀⠀⠀⠀⠀⠀⠀⠀⠀⠀⠀⠀⠀\n",
       "⠀⠘⠛⢄⠀⠀⠀⠀⠀⠀⠀⠀⠀⠀⠀\n",
       "⠀⠀⠀⠀⢱⣶⠀⠀⠀⠀⠀⠀⠀⠀⠀\n",
       "⠀⠀⠀⠀⠀⠀⠑⢄⣀⠀⠀⠀⠀⠀⠀\n",
       "⠀⠀⠀⠀⠀⠀⠀⠘⠛⢄⠀⠀⠀⠀⠀\n",
       "⠀⠀⠀⠀⠀⠀⠀⠀⠀⠀⢱⣶⠀⠀⠀\n",
       "⠀⠀⠀⠀⠀⠀⠀⠀⠀⠀⠀⠀⠑⢄⣀\n",
       "⠀⠀⠀⠀⠀⠀⠀⠀⠀⠀⠀⠀⠀⠘⠛"
      ]
     },
     "execution_count": 6,
     "metadata": {},
     "output_type": "execute_result"
    }
   ],
   "source": [
    "M̄ = [mb*I(3) zeros(3, 27)\n",
    "     zeros(3,3) Ib zeros(3, 24)\n",
    "     zeros(3,6) m0*I(3) zeros(3,21);\n",
    "     zeros(3,9) I0 zeros(3,18);\n",
    "     zeros(3,12) m1*I(3) zeros(3,15);\n",
    "     zeros(3,15) I1 zeros(3, 12);\n",
    "     zeros(3,18) m2*I(3) zeros(3, 9);\n",
    "     zeros(3, 21) I2 zeros(3, 6);\n",
    "     zeros(3, 24) m3*I(3) zeros(3, 3);\n",
    "     zeros(3, 27) I3]"
   ]
  },
  {
   "cell_type": "code",
   "execution_count": 7,
   "id": "cf229fe8",
   "metadata": {},
   "outputs": [
    {
     "data": {
      "text/plain": [
       "G̃ (generic function with 1 method)"
      ]
     },
     "execution_count": 7,
     "metadata": {},
     "output_type": "execute_result"
    }
   ],
   "source": [
    "function hat(ω)\n",
    "    return [0 -ω[3] ω[2];\n",
    "            ω[3] 0 -ω[1];\n",
    "            -ω[2] ω[1] 0]\n",
    "end\n",
    "\n",
    "function L(Q)\n",
    "    [Q[1] -Q[2:4]'; Q[2:4] Q[1]*I + hat(Q[2:4])]\n",
    "end\n",
    "\n",
    "function R(Q)\n",
    "    [Q[1] -Q[2:4]'; Q[2:4] Q[1]*I - hat(Q[2:4])]\n",
    "end\n",
    "\n",
    "H = [zeros(1,3); I];\n",
    "\n",
    "T = Diagonal([1.0; -1; -1; -1])\n",
    "\n",
    "function G(Q)\n",
    "    return L(Q)*H\n",
    "end\n",
    "\n",
    "function Ḡ(q)\n",
    "    Q = q[4:7]\n",
    "    return [I(3) zeros(3,4); zeros(4,3) G(Q) zeros(4,1); zeros(1,6) 1]\n",
    "end\n",
    "\n",
    "function G̃(q)\n",
    "    Q = q[4:7]\n",
    "    #return [I(3) zeros(3,4); zeros(4,3) G(Q) zeros(4,1); zeros(1,6) 1]\n",
    "    return [I(3) zeros(3,4); zeros(4,3) 0.5*G(Q) zeros(4,1); zeros(1,6) 1]\n",
    "end"
   ]
  },
  {
   "cell_type": "code",
   "execution_count": 8,
   "id": "7b6d7119",
   "metadata": {},
   "outputs": [
    {
     "data": {
      "text/plain": [
       "rotate (generic function with 1 method)"
      ]
     },
     "execution_count": 8,
     "metadata": {},
     "output_type": "execute_result"
    }
   ],
   "source": [
    "function Expq(ϕ)\n",
    "    # The quaternion exponential map ϕ → Q \n",
    "    # Convert axis angle to quaternion\n",
    "    Q = zeros(eltype(ϕ), 4)\n",
    "    θ = norm(ϕ)\n",
    "    r = ϕ/θ\n",
    "    Q[1] = cos(θ/2)\n",
    "    Q[2:4] = r*sin.(θ/2)\n",
    "    return Q\n",
    "end\n",
    "\n",
    "function rotate(Q, p)\n",
    "    # Rotate a position vector p by a quaternion Q\n",
    "    return H'L(Q)*R(Q)'*H*p\n",
    "end"
   ]
  },
  {
   "cell_type": "code",
   "execution_count": null,
   "id": "40b0e540",
   "metadata": {},
   "outputs": [],
   "source": [
    "#Kinematics\n",
    "function kinematics(q)\n",
    "    rb = q[1:3]  # body com location\n",
    "    Qb = q[4:7]  # body quaternion\n",
    "    q0 = q[8]  # joint angles\n",
    "    q1 = q[9]\n",
    "    q2 = q[10]\n",
    "    q3 = q[11]\n",
    "    \n",
    "    pb = rb + rotate(Qb, l_cb)  # position vector from world frame to *JOINTS* 0 and 2\n",
    "    \n",
    "    Qb0 = Expq([0, 0, q0])  # quaternion from base to link 0\n",
    "    Q0 = L(Qb)*Qb0  # quaternion from world frame to link 0\n",
    "    r0 = pb + rotate(Q0, l_c0)\n",
    "    \n",
    "    Q01 = Expq([0, q1, 0])  # quaternion from link 0 to link 1\n",
    "    Q1 = L(Q0)*Q01  # quaternion from world frame to link 1\n",
    "    r1 = pb + rotate(Q0, [l0; 0; 0]) + rotate(Q1, l_c1)  \n",
    "    \n",
    "    Qb2 = Expq([0, q2, 0])  # quaternion from base to link 2\n",
    "    Q2 = L(Qb)*Qb2  # quaternion from world frame to link 2\n",
    "    r2 = pb + rotate(Q2, l_c2)\n",
    "    \n",
    "    Q23 = Expq([0, q3, 0])  # quaternion from base to link 2\n",
    "    Q3 = L(Q2)*Q23  # quaternion from world frame to link 2\n",
    "    r3 = pb + rotate(Q2, [l2; 0; 0]) + rotate(Q3, l_c3)  \n",
    "    \n",
    "    return [rb; Qb; r0; Q0; r1; Q1; r2; Q2; r3; Q3]\n",
    "end"
   ]
  },
  {
   "cell_type": "code",
   "execution_count": null,
   "id": "b1af450e",
   "metadata": {},
   "outputs": [],
   "source": [
    "#Kinematic Jacobian\n",
    "function K(q)\n",
    "    k = kinematics(q);\n",
    "    rb = k[1:3]\n",
    "    Qb = k[4:7]\n",
    "    r0 = k[8:10]\n",
    "    Q0 = k[11:14]\n",
    "    r1 = k[15:17]\n",
    "    Q1 = k[18:21]\n",
    "    r2 = k[22:24]\n",
    "    Q2 = k[25:28]\n",
    "    r3 = k[29:31]\n",
    "    Q3 = k[32:35]\n",
    "    \n",
    "    dk = ForwardDiff.jacobian(dq->kinematics(dq),q)\n",
    "    @show size(dk)\n",
    "    K = [I(3) zeros(3,11);\n",
    "        zeros(3,3) 2*G(Q0)' zeros(3,7);\n",
    "        zeros(3,7) I(3) zeros(3,4);\n",
    "        zeros(3,10) 2*G(Q1)']\n",
    "        *dk*\n",
    "        [I(3) zeros(3,4);\n",
    "        zeros(4,3) 0.5*G(Q0) zeros(4,1);\n",
    "        zeros(1,6) 1.0]\n",
    "    return K\n",
    "end"
   ]
  },
  {
   "cell_type": "code",
   "execution_count": null,
   "id": "586745d5",
   "metadata": {},
   "outputs": [],
   "source": [
    "#Mass Matrix\n",
    "function M(q)    \n",
    "    return K(q)'*M̄*K(q)\n",
    "end\n",
    "\n",
    "# eigvals(M(q0))"
   ]
  },
  {
   "cell_type": "code",
   "execution_count": null,
   "id": "dd6cba08",
   "metadata": {},
   "outputs": [],
   "source": [
    "#Potential\n",
    "function U(q)\n",
    "    return 0.0  # assume zero gravity for now\n",
    "end\n",
    "\n",
    "function DQ0U(q)\n",
    "    rb = q[1:3]  # body com location\n",
    "    Qb = q[4:7]  # body quaternion\n",
    "    q0 = q[8]  # joint angles\n",
    "    q1 = q[9]\n",
    "    q2 = q[10]\n",
    "    q3 = q[11]\n",
    "    \n",
    "    ForwardDiff.gradient(dQ0->U([r0; dQ0; q1]), Q0) \n",
    "end"
   ]
  },
  {
   "cell_type": "code",
   "execution_count": null,
   "id": "bb9950e3",
   "metadata": {},
   "outputs": [],
   "source": [
    "#Lagrangian\n",
    "function Lagrangian(q,v)\n",
    "    0.5*v'*M(q)*v - U(q)\n",
    "end"
   ]
  },
  {
   "cell_type": "code",
   "execution_count": null,
   "id": "5f784bd1",
   "metadata": {},
   "outputs": [],
   "source": [
    "#Lagrangian Derivatives\n",
    "\n",
    "function Dr0L(q,v)\n",
    "    rb = q[1:3]  # body com location\n",
    "    Qb = q[4:7]  # body quaternion\n",
    "    q0 = q[8]  # joint angles\n",
    "    q1 = q[9]\n",
    "    q2 = q[10]\n",
    "    q3 = q[11]\n",
    "    \n",
    "    ForwardDiff.gradient(dr0->Lagrangian([dr0; Q0; q1],v), r0)\n",
    "end\n",
    "\n",
    "function DQ0L(q,v)\n",
    "    rb = q[1:3]  # body com location\n",
    "    Qb = q[4:7]  # body quaternion\n",
    "    q0 = q[8]  # joint angles\n",
    "    q1 = q[9]\n",
    "    q2 = q[10]\n",
    "    q3 = q[11]\n",
    "    \n",
    "    ForwardDiff.gradient(dQ0->Lagrangian([r0; dQ0; q1],v), Q0)\n",
    "end\n",
    "\n",
    "function Dq1L(q,v)\n",
    "    rb = q[1:3]  # body com location\n",
    "    Qb = q[4:7]  # body quaternion\n",
    "    q0 = q[8]  # joint angles\n",
    "    q1 = q[9]\n",
    "    q2 = q[10]\n",
    "    q3 = q[11]\n",
    "    \n",
    "    ForwardDiff.derivative(dq1->Lagrangian([r0; Q0; dq1],v), q1)\n",
    "end\n",
    "\n",
    "function Dṙ0L(q,v)\n",
    "    ṙb = v[1:3]\n",
    "    ωb = v[4:6]\n",
    "    q̇0 = v[7]\n",
    "    q̇1 = v[8]\n",
    "    q̇2 = v[9]\n",
    "    q̇3 = v[10]\n",
    "    \n",
    "    ForwardDiff.gradient(dṙ0->Lagrangian(q,[dṙ0;ω0;q̇1]), ṙ0)\n",
    "end\n",
    "    \n",
    "function Dω0L(q,v)\n",
    "    ṙb = v[1:3]\n",
    "    ωb = v[4:6]\n",
    "    q̇0 = v[7]\n",
    "    q̇1 = v[8]\n",
    "    q̇2 = v[9]\n",
    "    q̇3 = v[10]\n",
    "    \n",
    "    ForwardDiff.gradient(dω0->Lagrangian(q,[ṙ0;dω0;q̇1]), ω0)\n",
    "end\n",
    "\n",
    "function Dq̇1L(q,v)\n",
    "    ṙb = v[1:3]\n",
    "    ωb = v[4:6]\n",
    "    q̇0 = v[7]\n",
    "    q̇1 = v[8]\n",
    "    q̇2 = v[9]\n",
    "    q̇3 = v[10]\n",
    "    \n",
    "    ForwardDiff.derivative(dq̇1->Lagrangian(q,[ṙ0;ω0;dq̇1]), q̇1)\n",
    "end\n",
    "    "
   ]
  },
  {
   "cell_type": "code",
   "execution_count": null,
   "id": "232f72de",
   "metadata": {},
   "outputs": [],
   "source": [
    "#Input Jacobian\n",
    "function B(q)\n",
    "    #[I(3) zeros(3); zeros(3,4); zeros(1,3) 1.0]\n",
    "    [zeros(6); 1.0]\n",
    "end"
   ]
  },
  {
   "cell_type": "code",
   "execution_count": null,
   "id": "c389fdca",
   "metadata": {},
   "outputs": [],
   "source": [
    "#Initial Conditions\n",
    "rb = zeros(3)\n",
    "Qb = [1.0; 0; 0; 0]\n",
    "q0 = 0.0\n",
    "q1 = 0.0\n",
    "q2 = 0.0\n",
    "q3 = 0.0\n",
    "q_init = [rb; Qb; q0; q1; q2; q3]\n",
    "\n",
    "q̇0 = 0.0\n",
    "q̇1 = 0.0\n",
    "q̇2 = 0.0\n",
    "q̇3 = 0.0\n",
    "\n",
    "ωb = zeros(3)\n",
    "ṙb = zeros(3) #cross(ω0,[-0.5*ℓ1; 0; 0])\n",
    "\n",
    "v_init = [ṙb; ωb; q̇0; q̇1; q̇2; q̇3]\n",
    "x_init = [q_init; v_init]"
   ]
  },
  {
   "cell_type": "code",
   "execution_count": null,
   "id": "38b18b2c",
   "metadata": {},
   "outputs": [],
   "source": [
    "#EL Dynamics\n",
    "function f(x,u)\n",
    "    q = x[1:11]\n",
    "    v = x[12:21]\n",
    "    ω = v[4:6]\n",
    "    \n",
    "    q̇ = G̃(q)*v\n",
    "    \n",
    "    Mq = [ForwardDiff.jacobian(dv->Dṙ0L(q,dv),v);\n",
    "         ForwardDiff.jacobian(dv->Dω0L(q,dv),v);\n",
    "         ForwardDiff.gradient(dv->Dq̇1L(q,dv),v)']\n",
    "    \n",
    "    v̇ = Mq\\([-ForwardDiff.jacobian(dq->Dṙ0L(dq,v),q)*G̃(q)*v + Dr0L(q,v);\n",
    "             -ForwardDiff.jacobian(dq->Dω0L(dq,v),q)*G̃(q)*v - hat(ω)*Dω0L(q,v) + 0.5*G(Q0)'*DQ0U(q);\n",
    "             -ForwardDiff.gradient(dq->Dq̇1L(dq,v),q)'*G̃(q)*v + Dq1L(q,v)] + B(q)*u)\n",
    "    \n",
    "    #ForwardDiff.jacobian(dv->Dṙ0L(q,dv),v)*v̇ + ForwardDiff.jacobian(dq->Dṙ0L(dq,v),q)*G̃(q)*v - Dr0L(q,v)\n",
    "    #ForwardDiff.jacobian(dv->Dω0L(q,dv),v)*v̇ + ForwardDiff.jacobian(dq->Dω0L(dq,v),q)*G̃(q)*v + hat(ω)*Dω0L(q,v) - 0.5*H'*L(Q0)'*DQ0L(q,v)\n",
    "    #ForwardDiff.jacobian(dv->Dq̇1L(q,dv),v)*v̇ + ForwardDiff.jacobian(dq->Dq̇1L(dq,v),q)*G̃(q)*v - Dq1L(q,v)\n",
    "    \n",
    "    \n",
    "    return [q̇; v̇]\n",
    "end"
   ]
  },
  {
   "cell_type": "code",
   "execution_count": null,
   "id": "f868e015",
   "metadata": {},
   "outputs": [],
   "source": [
    "function constraint(q)    \n",
    "    \n",
    "    x0 = l0*cos(q[1])\n",
    "    y0 = l0*sin(q[1])\n",
    "    x1 = x0 + l1*cos(q[1] + q[2])\n",
    "    y1 = y0 + l1*sin(q[1] + q[2])\n",
    "    \n",
    "    # constraint forward kinematics\n",
    "    xc = l2*cos(q[3]) + l3*cos(q[3] + q[4])\n",
    "    yc = l2*sin(q[3]) + l3*sin(q[3] + q[4])\n",
    "    \n",
    "    c = zeros(eltype(q), 2)\n",
    "    c[1] = x1 - xc\n",
    "    c[2] = y1 - yc\n",
    "    \n",
    "    return c\n",
    "end"
   ]
  },
  {
   "cell_type": "code",
   "execution_count": null,
   "id": "76a54ac4",
   "metadata": {},
   "outputs": [],
   "source": [
    "function jacobian_constraint(q)\n",
    "    # D = zeros(eltype(q), 2)\n",
    "    D = ForwardDiff.jacobian(_q -> constraint(_q), q)\n",
    "    return D\n",
    "end"
   ]
  },
  {
   "cell_type": "code",
   "execution_count": null,
   "id": "0fc8216f",
   "metadata": {},
   "outputs": [],
   "source": [
    "function dqdot(q, q̇)\n",
    "    D = jacobian_constraint(q)\n",
    "    dqdot = D * q̇\n",
    "    return dqdot\n",
    "end"
   ]
  },
  {
   "cell_type": "code",
   "execution_count": null,
   "id": "9dcb91a4",
   "metadata": {},
   "outputs": [],
   "source": [
    "function derivative_constraint_jac(q, q̇)\n",
    "    # Compute del/delq(D(q)q_dot)q_dot\n",
    "    d = ForwardDiff.jacobian(_q -> dqdot(_q, q̇), q) * q̇\n",
    "    return d\n",
    "end"
   ]
  },
  {
   "cell_type": "code",
   "execution_count": null,
   "id": "cc31107c",
   "metadata": {},
   "outputs": [],
   "source": [
    "function cdot(q, q̇)\n",
    "    #Compute cdot (first derivative of constraint function)\n",
    "    D = jacobian_constraint(q)\n",
    "    cdot = q̇' * D'\n",
    "    return cdot\n",
    "end"
   ]
  },
  {
   "cell_type": "code",
   "execution_count": null,
   "id": "028ef408",
   "metadata": {},
   "outputs": [],
   "source": [
    "function f(x)\n",
    "    # parallel mechanism dynamics\n",
    "    \n",
    "    q = x[1:N]\n",
    "    q̇ = x[N+1:end]\n",
    "    \n",
    "    # Constraint fn\n",
    "    c = constraint(q)\n",
    "    \n",
    "    # Constraint Jacobian\n",
    "    D = jacobian_constraint(q)\n",
    "    \n",
    "    # del/delq(D*qdot)*qdot\n",
    "    d = derivative_constraint_jac(q, q̇)\n",
    "    \n",
    "    # first derivative of constraint fn\n",
    "    cd = cdot(q, q̇)'\n",
    "    \n",
    "    ẋ = zeros(eltype(x),length(x))\n",
    "    \n",
    "    # Mass matrix\n",
    "    M = Mq(q)\n",
    "    \n",
    "    # Coriolis matrix\n",
    "    C = Cq(q, q̇)\n",
    "    \n",
    "    # Potential matrix\n",
    "    G = Gq(q)\n",
    "    \n",
    "    α = 10.0\n",
    "    β = 1\n",
    "    \n",
    "    e = D*(M\\(D'*(α*c + β*cd)))\n",
    "    \n",
    "    KKT = [M -D';\n",
    "           D zeros(2,2)]\n",
    "    RHS = [- G - C;\n",
    "           -(d + e)]\n",
    "    \n",
    "    sol = KKT\\RHS\n",
    "    λ = sol[5:6]\n",
    "    \n",
    "    ẋ[1:N] = q̇\n",
    "    ẋ[N+1:end] = sol[1:4]  # q double dot\n",
    "    \n",
    "    return ẋ\n",
    "end"
   ]
  },
  {
   "cell_type": "code",
   "execution_count": null,
   "id": "a512a587",
   "metadata": {},
   "outputs": [],
   "source": [
    "function checkval(val, max, name)\n",
    "    if val > max\n",
    "        @show val\n",
    "        error(name)\n",
    "    end\n",
    "end\n",
    "#=\n",
    "#---#\n",
    "if isnan(qdd[1])\n",
    "    @show qdd\n",
    "    error(\"A!\")\n",
    "end\n",
    "#---#\n",
    "=#"
   ]
  },
  {
   "cell_type": "code",
   "execution_count": null,
   "id": "37da6a7e",
   "metadata": {},
   "outputs": [],
   "source": [
    "function rk4_step(f,xk,h)\n",
    "\n",
    "    f1 = f(xk)\n",
    "    f2 = f(xk + 0.5*h*f1)\n",
    "    f3 = f(xk + 0.5*h*f2)\n",
    "    f4 = f(xk + h*f3)\n",
    "    \n",
    "    xn = xk + (h/6.0).*(f1 + 2*f2 + 2*f3 + f4)\n",
    "\n",
    "    return xn\n",
    "end"
   ]
  },
  {
   "cell_type": "code",
   "execution_count": null,
   "id": "a3ebfa66",
   "metadata": {},
   "outputs": [],
   "source": [
    "Tf = 10.0\n",
    "h = 0.001 #20 Hz\n",
    "n = Int(floor(Tf./h + 1))\n",
    "thist = h.*Array(0:(n-1));"
   ]
  },
  {
   "cell_type": "code",
   "execution_count": null,
   "id": "9dc5b8ad",
   "metadata": {},
   "outputs": [],
   "source": [
    "function simulate!(xtraj, n)\n",
    "    for k = 1:(n-1)\n",
    "        xtraj[:,k+1] .= rk4_step(f, copy(xtraj[:,k]), h)\n",
    "    end\n",
    "end"
   ]
  },
  {
   "cell_type": "code",
   "execution_count": null,
   "id": "4b0fd3ff",
   "metadata": {},
   "outputs": [],
   "source": [
    "x0 = [-30*pi/180; -120*(pi/180); -150*(pi/180); 120*(pi/180); 0.0; 0.0; 0.0; 0.0]\n",
    "xtraj = zeros(8,n)\n",
    "xtraj[:,1] = x0;"
   ]
  },
  {
   "cell_type": "code",
   "execution_count": null,
   "id": "5dbf79e0",
   "metadata": {},
   "outputs": [],
   "source": [
    "simulate!(xtraj, n)"
   ]
  },
  {
   "cell_type": "code",
   "execution_count": null,
   "id": "9205577b",
   "metadata": {},
   "outputs": [],
   "source": [
    "q0 = -xtraj[1, :] .- 30*(pi/180)\n",
    "q1 = -xtraj[2, :] .- 120*(pi/180)\n",
    "q2 = -xtraj[3, :] .- 150*(pi/180)\n",
    "q3 = -xtraj[4, :] .+ 120*(pi/180)\n",
    "\n",
    "qs = convert(AbstractArray{Float64}, [q0 q2 q1 q3]) \n",
    "ts = convert(AbstractVector{Float64}, thist) # AbstractVector(thist)\n",
    "q_array = [ qs[i,:] for i in 1:size(qs,1)] "
   ]
  },
  {
   "cell_type": "code",
   "execution_count": null,
   "id": "07f45300",
   "metadata": {
    "scrolled": false
   },
   "outputs": [],
   "source": [
    "# mvis = MechanismVisualizer(doublependulum, Skeleton(randomize_colors=true, inertias=false));\n",
    "mvis = MechanismVisualizer(doublependulum, URDFVisuals(urdfpath));\n",
    "\n",
    "render(mvis)"
   ]
  },
  {
   "cell_type": "code",
   "execution_count": null,
   "id": "fea4a283",
   "metadata": {},
   "outputs": [],
   "source": [
    "# [q0 q2 q1 q3]\n",
    "set_configuration!(mvis, [-x0[3]-150*(pi/180), -x0[1]-30*(pi/180), -x0[4]+120*(pi/180), -x0[2]-120*(pi/180)])"
   ]
  },
  {
   "cell_type": "code",
   "execution_count": null,
   "id": "e785dc73",
   "metadata": {},
   "outputs": [],
   "source": [
    "# Now we can simply call `simulate`, which will return a tuple consisting of:\n",
    "# * simulation times (a `Vector` of numbers)\n",
    "# * joint configuration vectors (a `Vector` of `Vector`s)\n",
    "# * joint velocity vectors (a `Vector` of `Vector`s)\n",
    "\n",
    "#animation = Animation(mvis, ts, -q_array)\n",
    "#setanimation!(mvis, animation)\n",
    "\n",
    "MeshCatMechanisms.animate(mvis, ts, -q_array; realtimerate = 1.);"
   ]
  },
  {
   "cell_type": "code",
   "execution_count": null,
   "id": "7977b8b0",
   "metadata": {},
   "outputs": [],
   "source": [
    "#Energy Functions\n",
    "\n",
    "function H(x)\n",
    "    q = x[1:N]\n",
    "    q̇ = x[N+1:end]\n",
    "    energy = Lagrangian(q,q̇)\n",
    "    return energy\n",
    "end"
   ]
  },
  {
   "cell_type": "code",
   "execution_count": null,
   "id": "97e6305e",
   "metadata": {},
   "outputs": [],
   "source": [
    "#Plot total energy\n",
    "using Plots\n",
    "\n",
    "E = zeros(n)\n",
    "for k = 1:n\n",
    "    E[k] = H(xtraj[:, k])\n",
    "end\n",
    "\n",
    "plot(thist,E)"
   ]
  },
  {
   "cell_type": "code",
   "execution_count": null,
   "id": "d713678c",
   "metadata": {},
   "outputs": [],
   "source": []
  },
  {
   "cell_type": "code",
   "execution_count": null,
   "id": "b4fb00be",
   "metadata": {},
   "outputs": [],
   "source": []
  }
 ],
 "metadata": {
  "kernelspec": {
   "display_name": "Julia 1.6.3",
   "language": "julia",
   "name": "julia-1.6"
  },
  "language_info": {
   "file_extension": ".jl",
   "mimetype": "application/julia",
   "name": "julia",
   "version": "1.6.3"
  }
 },
 "nbformat": 4,
 "nbformat_minor": 5
}
