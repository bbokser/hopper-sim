{
 "cells": [
  {
   "cell_type": "code",
   "execution_count": 1,
   "id": "0db4f718",
   "metadata": {},
   "outputs": [
    {
     "name": "stderr",
     "output_type": "stream",
     "text": [
      "\u001b[32m\u001b[1m  Activating\u001b[22m\u001b[39m environment at `~/Documents/git_workspace/16715/dynamics-simulation-leg/scripts/Project.toml`\n"
     ]
    }
   ],
   "source": [
    "import Pkg; Pkg.activate(@__DIR__); Pkg.instantiate()"
   ]
  },
  {
   "cell_type": "code",
   "execution_count": 36,
   "id": "5bb7d46a",
   "metadata": {},
   "outputs": [
    {
     "data": {
      "text/plain": [
       "ForwardDiff"
      ]
     },
     "execution_count": 36,
     "metadata": {},
     "output_type": "execute_result"
    }
   ],
   "source": [
    "using RigidBodyDynamics\n",
    "using LinearAlgebra\n",
    "using MeshCatMechanisms\n",
    "using MeshCat\n",
    "using StaticArrays\n",
    "using SparseArrays\n",
    "using ForwardDiff\n",
    "const FD = ForwardDiff"
   ]
  },
  {
   "cell_type": "code",
   "execution_count": 3,
   "id": "bd26e358",
   "metadata": {},
   "outputs": [
    {
     "data": {
      "text/plain": [
       "3×3 Matrix{Float64}:\n",
       "  1.76997e-5  -5.36954e-7    7.6235e-7\n",
       " -5.36954e-7   0.000164188  -2.77844e-7\n",
       "  7.6235e-7   -2.77844e-7    0.000160656"
      ]
     },
     "execution_count": 3,
     "metadata": {},
     "output_type": "execute_result"
    }
   ],
   "source": [
    "# link lengths\n",
    "const l0 = [0.1; 0; 0]\n",
    "const l1 = [0.3; 0; 0]\n",
    "const l2 = [0.3; 0; 0]\n",
    "const l3 = 0.1\n",
    "const l4 = 0.2\n",
    "const l5 = 0.0205\n",
    "const lc = [l3; 0; 0]\n",
    "const lee = [l3 + l4; 0; l5] # sqrt((l3 + l4)^2 + l5^2)\n",
    "\n",
    "# CoM locations\n",
    "const l_cb = [0; 0.004; 0]\n",
    "const l_c0 = [0.0125108364230515; 0.00117191218927888; 0]\n",
    "const l_c1 = [0.149359714867044; 0; 0]\n",
    "const l_c2 = [0.0469412900551914; 0; 0]\n",
    "const l_c3 = [0.113177000131857; 0; -0.015332867880069]\n",
    "\n",
    "# link masses\n",
    "const mb = 7  # kg\n",
    "const m0 = 0.24644240965487\n",
    "const m1 = 0.0707939028219395\n",
    "const m2 = 0.276735496985514\n",
    "const m3 = 0.130824780046739\n",
    "# const m = Diagonal([m0, m1, m2, m3])\n",
    "    \n",
    "# gravity, obviously\n",
    "const g = 9.807\n",
    "const grav = [0; 0; g]\n",
    "# mass moment of inertia in axis of rotation\n",
    "const Ib = Array([0.0024241 5.252E-06 2.0733E-19; \n",
    "                  5.252E-06 0.0044176 -3.1153E-19; \n",
    "                  2.0733E-19 -3.1153E-19 0.0022481])\n",
    "\n",
    "const I0 = Array([3.83120149546952E-05 1.46925714738609E-05 -8.60106401672571E-06;\n",
    "                  1.46925714738609E-05 0.000172067745507247 1.0427260925207E-06;\n",
    "                  -8.60106401672571E-06 1.0427260925207E-06 0.00014745218068435])\n",
    "\n",
    "const I1 = Array([3.06999775886187E-06 7.91090301514898E-12 -1.43705963146176E-12;\n",
    "                  7.91090301514898E-12 0.000147960574744097 1.30742394049546E-11;\n",
    "                  -1.43705963146176E-12 1.30742394049546E-11 0.000147884231885009])\n",
    "\n",
    "const I2 = Array([3.43038397803592E-05 -2.90339844227483E-07 6.18680397558952E-06;\n",
    "                  -2.90339844227483E-07 0.000302324068012293 2.25016327583562E-08;\n",
    "                  6.18680397558952E-06 2.25016327583562E-08 0.00028292376778719])\n",
    "\n",
    "const I3 = Array([1.76996970020568E-05 -5.3695427116208E-07 7.62350214406387E-07;\n",
    "                  -5.3695427116208E-07 0.000164188445564489 -2.77843753828047E-07;\n",
    "                  7.62350214406387E-07 -2.77843753828047E-07 0.000160656046697151])"
   ]
  },
  {
   "cell_type": "code",
   "execution_count": 4,
   "id": "3b123e9a",
   "metadata": {},
   "outputs": [
    {
     "data": {
      "text/plain": [
       "30×30 SparseMatrixCSC{Float64, Int64} with 60 stored entries:\n",
       "⠑⢄⣀⠀⠀⠀⠀⠀⠀⠀⠀⠀⠀⠀⠀\n",
       "⠀⠘⠛⢄⠀⠀⠀⠀⠀⠀⠀⠀⠀⠀⠀\n",
       "⠀⠀⠀⠀⢱⣶⠀⠀⠀⠀⠀⠀⠀⠀⠀\n",
       "⠀⠀⠀⠀⠀⠀⠑⢄⣀⠀⠀⠀⠀⠀⠀\n",
       "⠀⠀⠀⠀⠀⠀⠀⠘⠛⢄⠀⠀⠀⠀⠀\n",
       "⠀⠀⠀⠀⠀⠀⠀⠀⠀⠀⢱⣶⠀⠀⠀\n",
       "⠀⠀⠀⠀⠀⠀⠀⠀⠀⠀⠀⠀⠑⢄⣀\n",
       "⠀⠀⠀⠀⠀⠀⠀⠀⠀⠀⠀⠀⠀⠘⠛"
      ]
     },
     "execution_count": 4,
     "metadata": {},
     "output_type": "execute_result"
    }
   ],
   "source": [
    "M̄ = [mb*I(3) zeros(3, 27)\n",
    "     zeros(3,3) Ib zeros(3, 24)\n",
    "     zeros(3,6) m0*I(3) zeros(3,21);\n",
    "     zeros(3,9) I0 zeros(3,18);\n",
    "     zeros(3,12) m1*I(3) zeros(3,15);\n",
    "     zeros(3,15) I1 zeros(3, 12);\n",
    "     zeros(3,18) m2*I(3) zeros(3, 9);\n",
    "     zeros(3, 21) I2 zeros(3, 6);\n",
    "     zeros(3, 24) m3*I(3) zeros(3, 3);\n",
    "     zeros(3, 27) I3]"
   ]
  },
  {
   "cell_type": "code",
   "execution_count": 5,
   "id": "cf229fe8",
   "metadata": {},
   "outputs": [
    {
     "data": {
      "text/plain": [
       "Ḡ (generic function with 1 method)"
      ]
     },
     "execution_count": 5,
     "metadata": {},
     "output_type": "execute_result"
    }
   ],
   "source": [
    "function hat(ω)\n",
    "    return [0 -ω[3] ω[2];\n",
    "            ω[3] 0 -ω[1];\n",
    "            -ω[2] ω[1] 0]\n",
    "end\n",
    "\n",
    "function L(Q)\n",
    "    [Q[1] -Q[2:4]'; Q[2:4] Q[1]*I + hat(Q[2:4])]\n",
    "end\n",
    "\n",
    "function R(Q)\n",
    "    [Q[1] -Q[2:4]'; Q[2:4] Q[1]*I - hat(Q[2:4])]\n",
    "end\n",
    "\n",
    "H = [zeros(1,3); I];\n",
    "\n",
    "T = Diagonal([1.0; -1.0; -1.0; -1.0])\n",
    "\n",
    "function G(Q)\n",
    "    return L(Q)*H  # 4x3\n",
    "end\n",
    "\n",
    "function Ḡ(q)\n",
    "    Qb = q[4:7]\n",
    "    Q0 = q[11:14]\n",
    "    Q1 = q[18:21]\n",
    "    Q2 = q[25:28]\n",
    "    Q3 = q[32:35]\n",
    "    \n",
    "    # 35x30\n",
    "    return blockdiag(sparse(I, 3, 3), sparse(G(Qb)), \n",
    "                     sparse(I, 3, 3), sparse(G(Q0)), \n",
    "                     sparse(I, 3, 3), sparse(G(Q1)),\n",
    "                     sparse(I, 3, 3), sparse(G(Q2)),\n",
    "                     sparse(I, 3, 3), sparse(G(Q3)),)\n",
    "end"
   ]
  },
  {
   "cell_type": "code",
   "execution_count": 6,
   "id": "7b6d7119",
   "metadata": {},
   "outputs": [
    {
     "data": {
      "text/plain": [
       "rotate (generic function with 1 method)"
      ]
     },
     "execution_count": 6,
     "metadata": {},
     "output_type": "execute_result"
    }
   ],
   "source": [
    "function Expq(ϕ)\n",
    "    \n",
    "    # The quaternion exponential map ϕ → q \n",
    "    q = zeros(4)\n",
    "    θ = norm(ϕ)\n",
    "    q = [cos(θ/2); 0.5*ϕ*sinc(θ/(2*pi))]\n",
    "    \n",
    "    return q\n",
    "end\n",
    "\n",
    "function rotate(Q, p)\n",
    "    # Rotate a position vector p by a quaternion Q\n",
    "    return H'L(Q)*R(Q)'*H*p\n",
    "end"
   ]
  },
  {
   "cell_type": "code",
   "execution_count": 157,
   "id": "bbe06efd",
   "metadata": {},
   "outputs": [
    {
     "data": {
      "text/plain": [
       "35-element Vector{Float64}:\n",
       "  0.0\n",
       "  0.0\n",
       "  0.0\n",
       "  1.0\n",
       "  0.0\n",
       "  0.0\n",
       "  0.0\n",
       "  0.010834702164954238\n",
       "  0.00517191218927888\n",
       " -0.006255418211525749\n",
       "  0.9659258262890683\n",
       "  0.0\n",
       "  0.25881904510252074\n",
       "  ⋮\n",
       " -0.023470645027595695\n",
       "  0.25881904510252074\n",
       "  0.0\n",
       "  0.9659258262890683\n",
       "  0.0\n",
       " -0.16945989783706322\n",
       "  0.004\n",
       " -0.2198671531629387\n",
       "  0.9659258262890683\n",
       "  0.0\n",
       "  0.2588190451025209\n",
       "  0.0"
      ]
     },
     "execution_count": 157,
     "metadata": {},
     "output_type": "execute_result"
    }
   ],
   "source": [
    "#Initial Conditions\n",
    "rb = zeros(3)\n",
    "Qb = [1.0; 0; 0; 0]\n",
    "q0 = 30*pi/180;\n",
    "q1 = 120*(pi/180)\n",
    "q2 = 150*(pi/180)\n",
    "q3 = -120*(pi/180)\n",
    "\n",
    "Tf = 5.0\n",
    "h = 0.001 #20 Hz\n",
    "thist = 0:h:Tf\n",
    "N = length(thist)\n",
    "\n",
    "pb = rb + rotate(Qb, l_cb)  # position vector from world frame to *JOINTS* 0 and 2\n",
    "\n",
    "Qb0 = Expq([0, q0, 0])  # quaternion from base to link 0\n",
    "Q0 = L(Qb)*Qb0  # quaternion from world frame to link 0\n",
    "r0 = pb + rotate(Q0, l_c0)\n",
    "\n",
    "Q01 = Expq([0, q1, 0])  # quaternion from link 0 to link 1\n",
    "Q1 = L(Q0)*Q01  # quaternion from world frame to link 1\n",
    "r1 = pb + rotate(Q0, l0) + rotate(Q1, l_c1)  \n",
    "\n",
    "Qb2 = Expq([0, q2, 0])  # quaternion from base to link 2\n",
    "Q2 = L(Qb)*Qb2  # quaternion from world frame to link 2\n",
    "r2 = pb + rotate(Q2, l_c2)\n",
    "\n",
    "Q23 = Expq([0, q3, 0])  # quaternion from base to link 2\n",
    "Q3 = L(Q2)*Q23  # quaternion from world frame to link 2\n",
    "r3 = pb + rotate(Q2, l2) + rotate(Q3, l_c3)  \n",
    "\n",
    "rb_0 = rb\n",
    "r0_0 = r0\n",
    "r1_0 = r1\n",
    "r2_0 = r2\n",
    "r3_0 = r3\n",
    "Qb_0 = Qb\n",
    "Q0_0 = Q0\n",
    "Q1_0 = Q1\n",
    "Q2_0 = Q2\n",
    "Q3_0 = Q3\n",
    "\n",
    "q_0 = [rb_0; Qb_0; r0_0; Q0_0; r1_0; Q1_0; r2_0; Q2_0; r3_0; Q3_0]\n",
    "# @show c(q_0)\n"
   ]
  },
  {
   "cell_type": "code",
   "execution_count": 158,
   "id": "5dcb135e",
   "metadata": {},
   "outputs": [
    {
     "name": "stdout",
     "output_type": "stream",
     "text": [
      "size(uhist) = (5, 5001)\n"
     ]
    }
   ],
   "source": [
    "#Torque input at joints\n",
    "uhist = repeat([0 0 0 0 0]*1e-4, N)'\n",
    "@show size(uhist)\n",
    "# 1 -> joint0\n",
    "# 2 -> joint1\n",
    "# 3 -> joint2\n",
    "# 4 -> joint3\n",
    "# 5 -> joint4 (parallel constraint)\n",
    "#Corresponding F\n",
    "Fhist = zeros(30,N)  # wrench [xyz force, xyz torque]\n",
    "for k = 1:N\n",
    "    Fhist[:,k] = [zeros(4); -uhist[1, k]-uhist[3, k]; 0; # body\n",
    "                  zeros(4); uhist[1, k]-uhist[2, k]; 0; # link0\n",
    "                  zeros(4); uhist[2, k]+uhist[5, k]; 0; # link1\n",
    "                  zeros(4); uhist[3, k]-uhist[4, k]; 0; # link2\n",
    "                  zeros(4); uhist[4, k]-uhist[5, k]; 0] # link3\n",
    "end"
   ]
  },
  {
   "cell_type": "markdown",
   "id": "8d4fd543",
   "metadata": {},
   "source": [
    "Solve the following optimization problem at every timestep. \n",
    "$$ \\begin{align}\n",
    "\\min_{q_{k+1},\\lambda_k,s_k} && \\sum_{i=1}^8s_{k,i} \\\\\n",
    "\\text{st} && DEL(q_{k-1},q_k,q_{k+1}) &= 0 && \\text{discrete Euler-Lagrange}\\\\ \n",
    " && \\|q_{k+1}\\|^2 - 1 &= 0 && \\text{quaternion norm constraint}\\\\ \n",
    " && d(q_{k+1}) &\\geq 0 && \\text{foot must stay above ground}\\\\ \n",
    " && s_k - \\text{diag}(\\lambda_k)d(q_{k+1}) &\\geq 0 && \\text{collision constraint}\\\\\n",
    " && \\lambda_k &\\geq 0 \\\\ \n",
    " && s_k &\\geq 0\n",
    "\\end{align} $$\n",
    "\n",
    "We will be using IPOPT to solve this, where IPOPT takes problems of the following form\n",
    "$$ \\begin{align}\n",
    "\\min_x && f(x) \\\\ \n",
    "\\text{st} && c_L \\leq c(x) &\\leq c_U && \\text{constraint function with constraint bounds} \\\\ \n",
    "&& x_L \\leq x &\\leq x_U && \\text{primal bounds}\n",
    "\\end{align}$$"
   ]
  },
  {
   "cell_type": "code",
   "execution_count": 159,
   "id": "2d891f91",
   "metadata": {},
   "outputs": [
    {
     "data": {
      "text/plain": [
       "MathOptInterface"
      ]
     },
     "execution_count": 159,
     "metadata": {},
     "output_type": "execute_result"
    }
   ],
   "source": [
    "using Ipopt\n",
    "using MathOptInterface\n",
    "const MOI = MathOptInterface"
   ]
  },
  {
   "cell_type": "code",
   "execution_count": 160,
   "id": "9d51ff34",
   "metadata": {},
   "outputs": [
    {
     "data": {
      "text/plain": [
       "ipopt_solve (generic function with 1 method)"
      ]
     },
     "execution_count": 160,
     "metadata": {},
     "output_type": "execute_result"
    }
   ],
   "source": [
    "#Boilerplate setup code to interface with IPOPT.\n",
    "\n",
    "struct ProblemMOI <: MOI.AbstractNLPEvaluator\n",
    "    n_nlp::Int\n",
    "    m_nlp::Int\n",
    "    idx_ineq\n",
    "    obj_grad::Bool\n",
    "    con_jac::Bool\n",
    "    sparsity_jac\n",
    "    sparsity_hess\n",
    "    primal_bounds\n",
    "    constraint_bounds\n",
    "    hessian_lagrangian::Bool\n",
    "end\n",
    "\n",
    "function ProblemMOI(n_nlp,m_nlp;\n",
    "        idx_ineq=(1:0),\n",
    "        obj_grad=true,\n",
    "        con_jac=true,\n",
    "        sparsity_jac=sparsity_jacobian(n_nlp,m_nlp),\n",
    "        sparsity_hess=sparsity_hessian(n_nlp,m_nlp),\n",
    "        primal_bounds=primal_bounds(n_nlp),\n",
    "        constraint_bounds=constraint_bounds(m_nlp,idx_ineq=idx_ineq),\n",
    "        hessian_lagrangian=false)\n",
    "\n",
    "    ProblemMOI(n_nlp,m_nlp,\n",
    "        idx_ineq,\n",
    "        obj_grad,\n",
    "        con_jac,\n",
    "        sparsity_jac,\n",
    "        sparsity_hess,\n",
    "        primal_bounds,\n",
    "        constraint_bounds,\n",
    "        hessian_lagrangian)\n",
    "end\n",
    "\n",
    "function constraint_bounds(m; idx_ineq=(1:0))\n",
    "    c_l = zeros(m)\n",
    "\n",
    "    c_u = zeros(m)\n",
    "    c_u[idx_ineq] .= Inf\n",
    "    \n",
    "    return c_l, c_u\n",
    "end\n",
    "\n",
    "function row_col!(row,col,r,c)\n",
    "    for cc in c\n",
    "        for rr in r\n",
    "            push!(row,convert(Int,rr))\n",
    "            push!(col,convert(Int,cc))\n",
    "        end\n",
    "    end\n",
    "    return row, col\n",
    "end\n",
    "\n",
    "function sparsity_jacobian(n,m)\n",
    "\n",
    "    row = []\n",
    "    col = []\n",
    "\n",
    "    r = 1:m\n",
    "    c = 1:n\n",
    "\n",
    "    row_col!(row,col,r,c)\n",
    "\n",
    "    return collect(zip(row,col))\n",
    "end\n",
    "\n",
    "function sparsity_hessian(n,m)\n",
    "\n",
    "    row = []\n",
    "    col = []\n",
    "\n",
    "    r = 1:m\n",
    "    c = 1:n\n",
    "\n",
    "    row_col!(row,col,r,c)\n",
    "\n",
    "    return collect(zip(row,col))\n",
    "end\n",
    "\n",
    "function MOI.eval_objective(prob::MOI.AbstractNLPEvaluator, x)\n",
    "    objective(x)\n",
    "end\n",
    "\n",
    "function MOI.eval_objective_gradient(prob::MOI.AbstractNLPEvaluator, grad_f, x)\n",
    "    ForwardDiff.gradient!(grad_f,objective,x)\n",
    "    return nothing\n",
    "end\n",
    "\n",
    "function MOI.eval_constraint(prob::MOI.AbstractNLPEvaluator,g,x)\n",
    "    constraint!(g,x)\n",
    "    return nothing\n",
    "end\n",
    "\n",
    "function MOI.eval_constraint_jacobian(prob::MOI.AbstractNLPEvaluator, jac, x)\n",
    "    ForwardDiff.jacobian!(reshape(jac,prob.m_nlp,prob.n_nlp), constraint!, zeros(prob.m_nlp), x)\n",
    "    return nothing\n",
    "end\n",
    "\n",
    "function MOI.features_available(prob::MOI.AbstractNLPEvaluator)\n",
    "    return [:Grad, :Jac]\n",
    "end\n",
    "\n",
    "MOI.initialize(prob::MOI.AbstractNLPEvaluator, features) = nothing\n",
    "MOI.jacobian_structure(prob::MOI.AbstractNLPEvaluator) = prob.sparsity_jac\n",
    "\n",
    "function ipopt_solve(x0,prob::MOI.AbstractNLPEvaluator;\n",
    "        tol=1.0e-6,c_tol=1.0e-6,max_iter=10000)\n",
    "    x_l, x_u = prob.primal_bounds\n",
    "    c_l, c_u = prob.constraint_bounds\n",
    "\n",
    "    nlp_bounds = MOI.NLPBoundsPair.(c_l,c_u)\n",
    "    block_data = MOI.NLPBlockData(nlp_bounds,prob,true)\n",
    "\n",
    "    solver = Ipopt.Optimizer()\n",
    "    solver.options[\"max_iter\"] = max_iter\n",
    "    solver.options[\"tol\"] = tol\n",
    "    solver.options[\"constr_viol_tol\"] = c_tol\n",
    "    \n",
    "    #Uncomment the following line to turn off verbose IPOPT output\n",
    "    solver.options[\"print_level\"] = 0\n",
    "\n",
    "    x = MOI.add_variables(solver,prob.n_nlp)\n",
    "\n",
    "    for i = 1:prob.n_nlp\n",
    "        xi = MOI.SingleVariable(x[i])\n",
    "        MOI.add_constraint(solver, xi, MOI.LessThan(x_u[i]))\n",
    "        MOI.add_constraint(solver, xi, MOI.GreaterThan(x_l[i]))\n",
    "        MOI.set(solver, MOI.VariablePrimalStart(), x[i], x0[i])\n",
    "    end\n",
    "\n",
    "    # Solve the problem\n",
    "    MOI.set(solver, MOI.NLPBlock(), block_data)\n",
    "    MOI.set(solver, MOI.ObjectiveSense(), MOI.MIN_SENSE)\n",
    "    MOI.optimize!(solver)\n",
    "\n",
    "    # Get the solution\n",
    "    res = MOI.get(solver, MOI.VariablePrimal(), x)\n",
    "\n",
    "    return res\n",
    "end"
   ]
  },
  {
   "cell_type": "code",
   "execution_count": 161,
   "id": "407fe1fa",
   "metadata": {},
   "outputs": [
    {
     "data": {
      "text/plain": [
       "Dc (generic function with 1 method)"
      ]
     },
     "execution_count": 161,
     "metadata": {},
     "output_type": "execute_result"
    }
   ],
   "source": [
    "function con(q)\n",
    "    # joint constraint function\n",
    "    # c(q_0) should be all zeros\n",
    "    c_ = zeros(eltype(q), 24)\n",
    "    \n",
    "    rb = q[1:3]\n",
    "    Qb = q[4:7]\n",
    "    r0 = q[8:10]\n",
    "    Q0 = q[11:14]\n",
    "    r1 = q[15:17]\n",
    "    Q1 = q[18:21]\n",
    "    r2 = q[22:24]\n",
    "    Q2 = q[25:28]\n",
    "    r3 = q[29:31]\n",
    "    Q3 = q[32:35]\n",
    "    \n",
    "    rf = r3 + rotate(Q3, lee-l_c3) # position of foot\n",
    "\n",
    "    pb = rb + rotate(Qb, l_cb) # position vector from world frame to *JOINTS* 0 and 2\n",
    "    \n",
    "    c_[1:3] = pb - r0 - rotate(Q0, -l_c0)\n",
    "    c_[4:5] = [0 1 0 0; 0 0 0 1]*L(Qb)'*Q0  # y axis rotation constraint\n",
    "    c_[6:8] = r0 + rotate(Q0,  l0-l_c0) - r1 - rotate(Q1, -l_c1)\n",
    "    c_[9:10] = [0 1 0 0; 0 0 0 1]*L(Q0)'*Q1\n",
    "    c_[11:13] = pb - r2 - rotate(Q2, -l_c2)\n",
    "    c_[14:15] = [0 1 0 0; 0 0 0 1]*L(Qb)'*Q2\n",
    "    c_[16:18] = r2 + rotate(Q2, l2 - l_c2) - r3 - rotate(Q3, -l_c3)\n",
    "    c_[19:20] = [0 1 0 0; 0 0 0 1]*L(Q2)'*Q3\n",
    "    c_[21:23] = r1 + rotate(Q1, l1 - l_c1) - r3 - rotate(Q3, lc-l_c3)\n",
    "    c_[24] = rf[3] - 0.025  # subtract radius of foot\n",
    "    \n",
    "    #=\n",
    "    c_ = [pb - r0 - rotate(Q0, -l_c0);  # ???\n",
    "          [0 1 0 0; 0 0 0 1]*L(Qb)'*Q0;  # y axis rotation constraint\n",
    "          r0 + rotate(Q0,  l0-l_c0) - r1 - rotate(Q1, -l_c1);\n",
    "          [0 1 0 0; 0 0 0 1]*L(Q0)'*Q1;\n",
    "          pb - r2 - rotate(Q2, -l_c2);\n",
    "          [0 1 0 0; 0 0 0 1]*L(Qb)'*Q2;\n",
    "          r2 + rotate(Q2, l2 - l_c2) - r3 - rotate(Q3, -l_c3);\n",
    "          [0 1 0 0; 0 0 0 1]*L(Q2)'*Q3;\n",
    "          r1 + rotate(Q1, l1 - l_c1) - r3 - rotate(Q3, lc-l_c3);\n",
    "          contact_z]\n",
    "    =#\n",
    "         #[0 1 0 0; 0 0 0 1]*L(Q1)'*Q3]\n",
    "    return c_\n",
    "end\n",
    "\n",
    "function Dc(q)\n",
    "    ForwardDiff.jacobian(dq->con(dq),q)*Ḡ(q)\n",
    "end"
   ]
  },
  {
   "cell_type": "code",
   "execution_count": 162,
   "id": "dadf0be6",
   "metadata": {},
   "outputs": [
    {
     "data": {
      "text/plain": [
       "DEL (generic function with 1 method)"
      ]
     },
     "execution_count": 162,
     "metadata": {},
     "output_type": "execute_result"
    }
   ],
   "source": [
    "function del(m, I, r1, r2, r3, Q1, Q2, Q3)\n",
    "    [(1/h)*m*(r2-r1) - (1/h)*m*(r3-r2) - m*grav*h;\n",
    "     (2.0/h)*G(Q2)'*L(Q1)*H*I*H'*L(Q1)'*Q2 + (2.0/h)*G(Q2)'*T*R(Q3)'*H*I*H'*L(Q2)'*Q3]\n",
    "end\n",
    "    \n",
    "    \n",
    "function DEL(q_1,q_2,q_3,λ,F1,F2)\n",
    "    \n",
    "    rb_1 = q_1[1:3]\n",
    "    Qb_1 = q_1[4:7]\n",
    "    r0_1 = q_1[8:10]\n",
    "    Q0_1 = q_1[11:14]\n",
    "    r1_1 = q_1[15:17]\n",
    "    Q1_1 = q_1[18:21]\n",
    "    r2_1 = q_1[22:24]\n",
    "    Q2_1 = q_1[25:28]\n",
    "    r3_1 = q_1[29:31]\n",
    "    Q3_1 = q_1[32:35]\n",
    "    \n",
    "    rb_2 = q_2[1:3]\n",
    "    Qb_2 = q_2[4:7]\n",
    "    r0_2 = q_2[8:10]\n",
    "    Q0_2 = q_2[11:14]\n",
    "    r1_2 = q_2[15:17]\n",
    "    Q1_2 = q_2[18:21]\n",
    "    r2_2 = q_2[22:24]\n",
    "    Q2_2 = q_2[25:28]\n",
    "    r3_2 = q_2[29:31]\n",
    "    Q3_2 = q_2[32:35]\n",
    "    \n",
    "    rb_3 = q_3[1:3]\n",
    "    Qb_3 = q_3[4:7]\n",
    "    r0_3 = q_3[8:10]\n",
    "    Q0_3 = q_3[11:14]\n",
    "    r1_3 = q_3[15:17]\n",
    "    Q1_3 = q_3[18:21]\n",
    "    r2_3 = q_3[22:24]\n",
    "    Q2_3 = q_3[25:28]\n",
    "    r3_3 = q_3[29:31]\n",
    "    Q3_3 = q_3[32:35]\n",
    "\n",
    "    del1 = [del(mb, Ib, rb_1, rb_2, rb_3, Qb_1, Qb_2, Qb_3);\n",
    "            del(m0, I0, r0_1, r0_2, r0_3, Q0_1, Q0_2, Q0_3);\n",
    "            del(m1, I1, r1_1, r1_2, r1_3, Q1_1, Q1_2, Q1_3);\n",
    "            del(m2, I2, r2_1, r2_2, r2_3, Q2_1, Q2_2, Q2_3);\n",
    "            del(m3, I3, r3_1, r3_2, r3_3, Q3_1, Q3_2, Q3_3)] \n",
    "\n",
    "    return del1 + (h/2.0)*F1 + (h/2.0)*F2 + reshape(h*λ'*Dc(q_2), 30)\n",
    "end"
   ]
  },
  {
   "cell_type": "code",
   "execution_count": 163,
   "id": "87cc9dcd",
   "metadata": {},
   "outputs": [
    {
     "data": {
      "text/plain": [
       "Dq3DEL (generic function with 1 method)"
      ]
     },
     "execution_count": 163,
     "metadata": {},
     "output_type": "execute_result"
    }
   ],
   "source": [
    "function Dq3DEL(q_1,q_2,q_3,λ,F1,F2)\n",
    "    # @show Ḡ(q_3)\n",
    "    ForwardDiff.jacobian(dq->DEL(q_1,q_2,dq,λ,F1,F2), q_3)*Ḡ(q_3)\n",
    "end"
   ]
  },
  {
   "cell_type": "code",
   "execution_count": 164,
   "id": "d2cd906d",
   "metadata": {},
   "outputs": [
    {
     "name": "stdout",
     "output_type": "stream",
     "text": [
      "n_c = (size(con(q_0)))[1] = 24\n",
      "n_q = (size(q_0))[1] = 35\n"
     ]
    },
    {
     "data": {
      "text/plain": [
       "35"
      ]
     },
     "execution_count": 164,
     "metadata": {},
     "output_type": "execute_result"
    }
   ],
   "source": [
    "@show n_c = size(con(q_0))[1]  # number of constraint rows, 24\n",
    "@show n_q = size(q_0)[1]  # number of q rows, 35"
   ]
  },
  {
   "cell_type": "code",
   "execution_count": 165,
   "id": "c1cebcc9",
   "metadata": {},
   "outputs": [
    {
     "data": {
      "text/plain": [
       "primal_bounds (generic function with 1 method)"
      ]
     },
     "execution_count": 165,
     "metadata": {},
     "output_type": "execute_result"
    }
   ],
   "source": [
    "#Objective and constraint functions for IPOPT\n",
    "\n",
    "function objective(z)\n",
    "    qn = z[1:n_q]\n",
    "    λ = z[n_q+1:n_q+n_c]\n",
    "    s = z[n_q+1+n_c:n_q+n_c+n_c]\n",
    "    \n",
    "    return sum(s) #Minimize slacks associated with complementarity conditions\n",
    "end\n",
    "\n",
    "function constraint!(c,z)\n",
    "    qn = z[1:n_q]\n",
    "    λ = z[n_q+1:n_q+n_c]\n",
    "    s = z[n_q+1+n_c:n_q+n_c+n_c]\n",
    "    \n",
    "    # TODO: update c to include the following constraints:\n",
    "    # nonlinear DEL equation                (30 equality constraint)\n",
    "    # quaternion norm squared - 1 = 0       (5 equality constraints)\n",
    "    # joint constraints                     (23 equality constraints)\n",
    "    # foot height must stay above ground    (1 inequality constraint)\n",
    "    # collision constraint                  (1 inequality constraint)\n",
    "    \n",
    "    # hint: you can edit in place by doing c .= instead of c = \n",
    "    \n",
    "    # hint: for the DEL equation, we have access to q_hist[:,k-1] and q_hist[:,k] since \n",
    "    # they are global variables, and we are solving for the q_hist[:,k+1] (this is our variable qn)\n",
    "\n",
    "    c1 = DEL(qhist[:,k-1], qhist[:,k], qn, λ, Fhist[:,k-1],Fhist[:,k])  # 30x1\n",
    "    c2 = norm(qn[4:7])^2 - 1  # 1x1\n",
    "    c3 = norm(qn[11:14])^2 - 1\n",
    "    c4 = norm(qn[18:21])^2 - 1\n",
    "    c5 = norm(qn[25:28])^2 - 1\n",
    "    c6 = norm(qn[32:35])^2 - 1\n",
    "    c7 = con(qn)  # 24x1\n",
    "    c8 = s - diagm(λ)*con(qn)  # 24x1\n",
    "    c .= [c1; c2; c3; c4; c5; c6; c7; c8]\n",
    "\n",
    "    return nothing\n",
    "end\n",
    "\n",
    "#Specify the indicies of c (constraint output) that should be non-negative.\n",
    "#The rest will be treated as equality constraints.\n",
    "#This can vary depending on how you stacked up c above.\n",
    "\n",
    "nonnegative_constraint_indices = (58+1:58+2) # update this\n",
    "\n",
    "function primal_bounds(n)\n",
    "    #Enforce simple bound constraints on the decision variables (e.g. positivity) here\n",
    "    # x_l ≤ [q; λ; s] ≤ x_u\n",
    "\n",
    "    # TODO: update these \n",
    "    x_l = zeros(n)\n",
    "    x_u = Inf*ones(n)\n",
    "    x_l[1:35] = -Inf*ones(35)\n",
    "\n",
    "    return x_l, x_u\n",
    "end"
   ]
  },
  {
   "cell_type": "code",
   "execution_count": null,
   "id": "d1c4dd74",
   "metadata": {},
   "outputs": [
    {
     "name": "stdout",
     "output_type": "stream",
     "text": [
      " Simulation 0% complete"
     ]
    }
   ],
   "source": [
    "#Solve with IPOPT\n",
    "n_nlp = n_q + n_c + n_c  # size of decision variables\n",
    "m_nlp = 83  # size of constraint! output \n",
    "nlp_prob = ProblemMOI(n_nlp,m_nlp, idx_ineq=nonnegative_constraint_indices);\n",
    "\n",
    "#Initial conditions \n",
    "#Initial conditions\n",
    "qhist = zeros(n_q,N)\n",
    "# qhist[:,1] .= q_0\n",
    "qhist[:,2] .= q_0\n",
    "\n",
    "qhist[4:7,2] .= qhist[4:7,2]/norm(qhist[4:7,2])\n",
    "qhist[11:14,2] .= qhist[11:14,2]/norm(qhist[11:14,2])\n",
    "qhist[18:21,2] .= qhist[18:21,2]/norm(qhist[18:21,2])\n",
    "qhist[25:28,2] .= qhist[25:28,2]/norm(qhist[25:28,2])\n",
    "qhist[32:35,2] .= qhist[32:35,2]/norm(qhist[32:35,2])\n",
    "\n",
    "λhist = zeros(n_c,N-1)\n",
    "shist = zeros(n_c,N-1)\n",
    "k = 0\n",
    "\n",
    "for kk = 2:(N-1)\n",
    "    print(\"\\r Simulation \", trunc(Int, kk/(N-1)*100), \"% complete\")\n",
    "    flush(stdout)\n",
    "    k = kk\n",
    "    z_guess = [qhist[:,k]; zeros(n_q); ones(n_q)]\n",
    "    z_sol = ipopt_solve(z_guess,nlp_prob);\n",
    "    qhist[:,k+1] .= z_sol[1:n_q]\n",
    "    λhist[:,k] .= z_sol[n_q + 1:n_q + n_c]\n",
    "    shist[:,k] .= z_sol[n_q + 1 + n_c:n_q + n_c + n_c]\n",
    "end"
   ]
  },
  {
   "cell_type": "code",
   "execution_count": 152,
   "id": "c5632f4b",
   "metadata": {},
   "outputs": [
    {
     "name": "stderr",
     "output_type": "stream",
     "text": [
      "┌ Info: MeshCat server started. You can open the visualizer by visiting the following URL in your browser:\n",
      "│ http://127.0.0.1:8705\n",
      "└ @ MeshCat /home/ben/.julia/packages/MeshCat/GlCMx/src/visualizer.jl:73\n"
     ]
    },
    {
     "data": {
      "text/html": [
       "    <div style=\"height: 500px; width: 100%; overflow-x: auto; overflow-y: hidden; resize: both\">\n",
       "    <iframe src=\"http://127.0.0.1:8705\" style=\"width: 100%; height: 100%; border: none\"></iframe>\n",
       "    </div>\n"
      ],
      "text/plain": [
       "MeshCat.DisplayedVisualizer(MeshCat.CoreVisualizer(MeshCat.SceneTrees.SceneNode(nothing, nothing, Dict{String, Vector{UInt8}}(), nothing, Dict{String, MeshCat.SceneTrees.SceneNode}()), Set{Any}(), ip\"127.0.0.1\", 8705))"
      ]
     },
     "execution_count": 152,
     "metadata": {},
     "output_type": "execute_result"
    }
   ],
   "source": [
    "using MeshCat, GeometryBasics, CoordinateTransformations, Rotations#, GeometryTypes\n",
    "#const gt = GeometryTypes\n",
    "vis = Visualizer()\n",
    "render(vis)"
   ]
  },
  {
   "cell_type": "code",
   "execution_count": 18,
   "id": "a7767105",
   "metadata": {},
   "outputs": [
    {
     "ename": "LoadError",
     "evalue": "UndefVarError: RGBA not defined",
     "output_type": "error",
     "traceback": [
      "UndefVarError: RGBA not defined",
      "",
      "Stacktrace:",
      " [1] top-level scope",
      "   @ In[18]:5",
      " [2] eval",
      "   @ ./boot.jl:360 [inlined]",
      " [3] include_string(mapexpr::typeof(REPL.softscope), mod::Module, code::String, filename::String)",
      "   @ Base ./loading.jl:1116"
     ]
    }
   ],
   "source": [
    "# Zoom in--the robot falls through floor since there is no contact\n",
    "\n",
    "delete!(vis)\n",
    "\n",
    "green_material = MeshPhongMaterial(color=RGBA(0, 1, 0, 0.8))\n",
    "red_material = MeshPhongMaterial(color=RGBA(1, 0, 0, 0.8))\n",
    "\n",
    "#l_345 = sqrt((l3 + l4)^2 + l5^2)\n",
    "# sphere = Sphere(Point(0, 0, 0), 3)\n",
    "# rect = Rectangle(0.2, 0.2, 0.2, 0.2)\n",
    "cylinderb = Cylinder(Point(0, -0.02, l_cb[2]), Point(0, 0.02, l_cb[2]), 0.04)  #float(l_cb)\n",
    "cylinder0 = Cylinder(Point(-l_c0[1], -l_c0[2], -l_c0[3]), Point((l0-l_c0)[1], (l0-l_c0)[2], (l0-l_c0)[3]), 0.008)\n",
    "cylinder1 = Cylinder(Point(-l_c1[1], -l_c1[2], -l_c1[3]), Point((l1-l_c1)[1],(l1-l_c1)[2],(l1-l_c1)[2]), 0.008)\n",
    "cylinder2 = Cylinder(Point(-l_c2[1], -l_c2[2], -l_c2[3]), Point((l2-l_c2)[1], (l2-l_c2)[2], (l2-l_c2)[3]), 0.008)\n",
    "cylinder3 = Cylinder(Point(-l_c3[1], -l_c3[2], -l_c3[3]), Point((lee-l_c3)[1], (lee-l_c3)[2],  (lee-l_c3)[3]), 0.008)\n",
    "\n",
    "# setobject!(vis[\"sphere\"],sphere,red_material)\n",
    "setobject!(vis[\"cylinderb\"],cylinderb,red_material)\n",
    "setobject!(vis[\"cylinder0\"],cylinder0,green_material)\n",
    "setobject!(vis[\"cylinder1\"],cylinder1,green_material)\n",
    "setobject!(vis[\"cylinder2\"],cylinder2,green_material)\n",
    "setobject!(vis[\"cylinder3\"],cylinder3,green_material)\n",
    "\n",
    "for k = 1:N\n",
    "    \n",
    "    q = qhist[:, k]\n",
    "    # set position and attitude\n",
    "    \n",
    "    positionb = Translation(q[1:3]...)\n",
    "    attitudeb = LinearMap(UnitQuaternion(q[4:7]))\n",
    "    position0 = Translation(q[8:10]...)\n",
    "    attitude0 = LinearMap(UnitQuaternion(q[11:14]))\n",
    "    position1 = Translation(q[15:17]...)\n",
    "    attitude1 = LinearMap(UnitQuaternion(q[18:21]))\n",
    "    position2 = Translation(q[22:24]...)\n",
    "    attitude2 = LinearMap(UnitQuaternion(q[25:28]))\n",
    "    position3 = Translation(q[29:31]...)\n",
    "    attitude3 = LinearMap(UnitQuaternion(q[32:35]))\n",
    "\n",
    "    settransform!(vis[\"cylinderb\"], compose(positionb,attitudeb))\n",
    "    settransform!(vis[\"cylinder0\"], compose(position0,attitude0))\n",
    "    settransform!(vis[\"cylinder1\"], compose(position1,attitude1))\n",
    "    settransform!(vis[\"cylinder2\"], compose(position2,attitude2))\n",
    "    settransform!(vis[\"cylinder3\"], compose(position3,attitude3))\n",
    "    #sleep(0.001)\n",
    "end"
   ]
  }
 ],
 "metadata": {
  "kernelspec": {
   "display_name": "Julia 1.6.3",
   "language": "julia",
   "name": "julia-1.6"
  },
  "language_info": {
   "file_extension": ".jl",
   "mimetype": "application/julia",
   "name": "julia",
   "version": "1.6.3"
  }
 },
 "nbformat": 4,
 "nbformat_minor": 5
}
