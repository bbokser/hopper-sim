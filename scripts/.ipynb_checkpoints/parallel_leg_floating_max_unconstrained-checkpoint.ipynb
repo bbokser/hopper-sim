{
 "cells": [
  {
   "cell_type": "code",
   "execution_count": 4,
   "id": "0db4f718",
   "metadata": {},
   "outputs": [
    {
     "name": "stderr",
     "output_type": "stream",
     "text": [
      "\u001b[32m\u001b[1m  Activating\u001b[22m\u001b[39m environment at `~/Documents/git_workspace/16715/dynamics-simulation-leg/scripts/Project.toml`\n"
     ]
    }
   ],
   "source": [
    "import Pkg; Pkg.activate(@__DIR__); Pkg.instantiate()"
   ]
  },
  {
   "cell_type": "code",
   "execution_count": 5,
   "id": "5bb7d46a",
   "metadata": {},
   "outputs": [
    {
     "data": {
      "application/vnd.webio.node+json": {
       "children": [],
       "instanceArgs": {
        "namespace": "html",
        "tag": "div"
       },
       "nodeType": "DOM",
       "props": {},
       "type": "node"
      },
      "text/html": [
       "<div style=\"padding: 1em; background-color: #f8d6da; border: 1px solid #f5c6cb; font-weight: bold;\">\n",
       "<p>The WebIO Jupyter extension was not detected. See the\n",
       "<a href=\"https://juliagizmos.github.io/WebIO.jl/latest/providers/ijulia/\" target=\"_blank\">\n",
       "    WebIO Jupyter integration documentation\n",
       "</a>\n",
       "for more information.\n",
       "</div>\n"
      ],
      "text/plain": [
       "WebIO._IJuliaInit()"
      ]
     },
     "metadata": {},
     "output_type": "display_data"
    }
   ],
   "source": [
    "using RigidBodyDynamics\n",
    "using LinearAlgebra\n",
    "using MeshCatMechanisms\n",
    "using MeshCat\n",
    "using StaticArrays\n",
    "using SparseArrays\n",
    "using ForwardDiff"
   ]
  },
  {
   "cell_type": "code",
   "execution_count": 6,
   "id": "bd26e358",
   "metadata": {},
   "outputs": [
    {
     "data": {
      "text/plain": [
       "3×3 Matrix{Float64}:\n",
       "  1.76997e-5  -5.36954e-7    7.6235e-7\n",
       " -5.36954e-7   0.000164188  -2.77844e-7\n",
       "  7.6235e-7   -2.77844e-7    0.000160656"
      ]
     },
     "execution_count": 6,
     "metadata": {},
     "output_type": "execute_result"
    }
   ],
   "source": [
    "# link lengths\n",
    "const l0 = 0.1\n",
    "const l1 = 0.3\n",
    "const l2 = 0.3\n",
    "const l3 = 0.1\n",
    "const l4 = 0.2\n",
    "const l5 = 0.0205\n",
    "const lee = [l3 + l4; l5; 0] # sqrt((l3 + l4)^2 + l5^2)\n",
    "\n",
    "# CoM locations\n",
    "const l_cb = [0; 0.004; 0]\n",
    "const l_c0 = [0.0125108364230515; 0.00117191218927888; 0]\n",
    "const l_c1 = [0.149359714867044; 0; 0]\n",
    "const l_c2 = [0.0469412900551914; 0; 0]\n",
    "const l_c3 = [0.113177000131857; -0.015332867880069; 0]\n",
    "\n",
    "# link masses\n",
    "const mb = 7  # kg\n",
    "const m0 = 0.24644240965487\n",
    "const m1 = 0.0707939028219395\n",
    "const m2 = 0.276735496985514\n",
    "const m3 = 0.130824780046739\n",
    "const m = Diagonal([m0, m1, m2, m3])\n",
    "    \n",
    "# gravity, obviously\n",
    "const g = 9.807\n",
    "\n",
    "# mass moment of inertia in axis of rotation\n",
    "const Ib = Array([0.0024241 5.252E-06 2.0733E-19; \n",
    "                  5.252E-06 0.0044176 -3.1153E-19; \n",
    "                  2.0733E-19 -3.1153E-19 0.0022481])\n",
    "\n",
    "const I0 = Array([3.83120149546952E-05 1.46925714738609E-05 -8.60106401672571E-06;\n",
    "                  1.46925714738609E-05 0.000172067745507247 1.0427260925207E-06;\n",
    "                  -8.60106401672571E-06 1.0427260925207E-06 0.00014745218068435])\n",
    "\n",
    "const I1 = Array([3.06999775886187E-06 7.91090301514898E-12 -1.43705963146176E-12;\n",
    "                  7.91090301514898E-12 0.000147960574744097 1.30742394049546E-11;\n",
    "                  -1.43705963146176E-12 1.30742394049546E-11 0.000147884231885009])\n",
    "\n",
    "const I2 = Array([3.43038397803592E-05 -2.90339844227483E-07 6.18680397558952E-06;\n",
    "                  -2.90339844227483E-07 0.000302324068012293 2.25016327583562E-08;\n",
    "                  6.18680397558952E-06 2.25016327583562E-08 0.00028292376778719])\n",
    "\n",
    "const I3 = Array([1.76996970020568E-05 -5.3695427116208E-07 7.62350214406387E-07;\n",
    "                  -5.3695427116208E-07 0.000164188445564489 -2.77843753828047E-07;\n",
    "                  7.62350214406387E-07 -2.77843753828047E-07 0.000160656046697151])"
   ]
  },
  {
   "cell_type": "code",
   "execution_count": 7,
   "id": "3b123e9a",
   "metadata": {},
   "outputs": [
    {
     "data": {
      "text/plain": [
       "30×30 SparseMatrixCSC{Float64, Int64} with 60 stored entries:\n",
       "⠑⢄⣀⠀⠀⠀⠀⠀⠀⠀⠀⠀⠀⠀⠀\n",
       "⠀⠘⠛⢄⠀⠀⠀⠀⠀⠀⠀⠀⠀⠀⠀\n",
       "⠀⠀⠀⠀⢱⣶⠀⠀⠀⠀⠀⠀⠀⠀⠀\n",
       "⠀⠀⠀⠀⠀⠀⠑⢄⣀⠀⠀⠀⠀⠀⠀\n",
       "⠀⠀⠀⠀⠀⠀⠀⠘⠛⢄⠀⠀⠀⠀⠀\n",
       "⠀⠀⠀⠀⠀⠀⠀⠀⠀⠀⢱⣶⠀⠀⠀\n",
       "⠀⠀⠀⠀⠀⠀⠀⠀⠀⠀⠀⠀⠑⢄⣀\n",
       "⠀⠀⠀⠀⠀⠀⠀⠀⠀⠀⠀⠀⠀⠘⠛"
      ]
     },
     "execution_count": 7,
     "metadata": {},
     "output_type": "execute_result"
    }
   ],
   "source": [
    "M̄ = [mb*I(3) zeros(3, 27)\n",
    "     zeros(3,3) Ib zeros(3, 24)\n",
    "     zeros(3,6) m0*I(3) zeros(3,21);\n",
    "     zeros(3,9) I0 zeros(3,18);\n",
    "     zeros(3,12) m1*I(3) zeros(3,15);\n",
    "     zeros(3,15) I1 zeros(3, 12);\n",
    "     zeros(3,18) m2*I(3) zeros(3, 9);\n",
    "     zeros(3, 21) I2 zeros(3, 6);\n",
    "     zeros(3, 24) m3*I(3) zeros(3, 3);\n",
    "     zeros(3, 27) I3]"
   ]
  },
  {
   "cell_type": "code",
   "execution_count": 8,
   "id": "cf229fe8",
   "metadata": {},
   "outputs": [
    {
     "data": {
      "text/plain": [
       "G̃ (generic function with 1 method)"
      ]
     },
     "execution_count": 8,
     "metadata": {},
     "output_type": "execute_result"
    }
   ],
   "source": [
    "function hat(ω)\n",
    "    return [0 -ω[3] ω[2];\n",
    "            ω[3] 0 -ω[1];\n",
    "            -ω[2] ω[1] 0]\n",
    "end\n",
    "\n",
    "function L(Q)\n",
    "    [Q[1] -Q[2:4]'; Q[2:4] Q[1]*I + hat(Q[2:4])]\n",
    "end\n",
    "\n",
    "function R(Q)\n",
    "    [Q[1] -Q[2:4]'; Q[2:4] Q[1]*I - hat(Q[2:4])]\n",
    "end\n",
    "\n",
    "H = [zeros(1,3); I];\n",
    "\n",
    "T = Diagonal([1.0; -1; -1; -1])\n",
    "\n",
    "function G(Q)\n",
    "    return L(Q)*H  # 4x3\n",
    "end\n",
    "\n",
    "function Ḡ(q)\n",
    "    Q = q[4:7]\n",
    "    return [I(3) zeros(3,4); zeros(4,3) G(Q) zeros(4,1); zeros(1,6) 1]\n",
    "end\n",
    "\n",
    "function G̃(q)\n",
    "    Q = q[4:7]\n",
    "    #return [I(3) zeros(3,7); zeros(4,3) 0.5*G(Q) zeros(4,4); zeros(1,6) 1 zeros(1, 3)]  # 8x10\n",
    "    #11x10\n",
    "   return blockdiag(sparse(I, 3, 3), sparse(0.5*G(Qb)),sparse(I, 4, 4))\n",
    "end"
   ]
  },
  {
   "cell_type": "code",
   "execution_count": 9,
   "id": "7b6d7119",
   "metadata": {},
   "outputs": [
    {
     "data": {
      "text/plain": [
       "rotate (generic function with 1 method)"
      ]
     },
     "execution_count": 9,
     "metadata": {},
     "output_type": "execute_result"
    }
   ],
   "source": [
    "function Expq(ϕ)\n",
    "    # The quaternion exponential map ϕ → Q \n",
    "    # Convert axis angle to quaternion\n",
    "    Q = zeros(eltype(ϕ), 4)\n",
    "    θ = norm(ϕ)\n",
    "    r = ϕ/θ\n",
    "    Q[1] = cos(θ/2)\n",
    "    Q[2:4] = r*sin.(θ/2)\n",
    "    return Q\n",
    "end\n",
    "\n",
    "function rotate(Q, p)\n",
    "    # Rotate a position vector p by a quaternion Q\n",
    "    return H'L(Q)*R(Q)'*H*p\n",
    "end"
   ]
  },
  {
   "cell_type": "code",
   "execution_count": 15,
   "id": "5f71216e",
   "metadata": {},
   "outputs": [
    {
     "data": {
      "text/plain": [
       "10×10001 Matrix{Float64}:\n",
       " 0.0001  0.0001  0.0001  0.0001  0.0001  …  0.0001  0.0001  0.0001  0.0001\n",
       " 0.0001  0.0001  0.0001  0.0001  0.0001     0.0001  0.0001  0.0001  0.0001\n",
       " 0.0001  0.0001  0.0001  0.0001  0.0001     0.0001  0.0001  0.0001  0.0001\n",
       " 0.0001  0.0001  0.0001  0.0001  0.0001     0.0001  0.0001  0.0001  0.0001\n",
       " 0.0001  0.0001  0.0001  0.0001  0.0001     0.0001  0.0001  0.0001  0.0001\n",
       " 0.0001  0.0001  0.0001  0.0001  0.0001  …  0.0001  0.0001  0.0001  0.0001\n",
       " 0.0001  0.0001  0.0001  0.0001  0.0001     0.0001  0.0001  0.0001  0.0001\n",
       " 0.0001  0.0001  0.0001  0.0001  0.0001     0.0001  0.0001  0.0001  0.0001\n",
       " 0.0001  0.0001  0.0001  0.0001  0.0001     0.0001  0.0001  0.0001  0.0001\n",
       " 0.0001  0.0001  0.0001  0.0001  0.0001     0.0001  0.0001  0.0001  0.0001"
      ]
     },
     "execution_count": 15,
     "metadata": {},
     "output_type": "execute_result"
    }
   ],
   "source": [
    "#Initial Conditions\n",
    "rb = zeros(3)\n",
    "Qb = [1.0; 0; 0; 0]\n",
    "q0 = -30*pi/180;\n",
    "q1 = -120*(pi/180)\n",
    "q2 = -150*(pi/180)\n",
    "q3 = 120*(pi/180)\n",
    "q_init = [rb; Qb; q0; q1; q2; q3]\n",
    "\n",
    "q̇0 = 0.0\n",
    "q̇1 = 0.0\n",
    "q̇2 = 0.0\n",
    "q̇3 = 0.0\n",
    "ωb = zeros(3)\n",
    "ṙb = zeros(3) #cross(ω0,[-0.5*ℓ1; 0; 0])\n",
    "v_init = [ṙb; ωb; q̇0; q̇1; q̇2; q̇3]\n",
    "\n",
    "x_init = [q_init; v_init]\n",
    "\n",
    "Tf = 10.0\n",
    "h = 0.001 #20 Hz\n",
    "thist = 0:h:Tf\n",
    "N = length(thist)\n",
    "\n",
    "xhist = zeros(21,N)\n",
    "\n",
    "\n",
    "#Torque input at joint\n",
    "uhist = ones(10, N)*1e-4"
   ]
  },
  {
   "cell_type": "code",
   "execution_count": 17,
   "id": "232f72de",
   "metadata": {},
   "outputs": [
    {
     "data": {
      "text/plain": [
       "B (generic function with 1 method)"
      ]
     },
     "execution_count": 17,
     "metadata": {},
     "output_type": "execute_result"
    }
   ],
   "source": [
    "#Input Jacobian\n",
    "function B(q)\n",
    "    #[zeros(7); 1.0; zeros(2)]\n",
    "    ones(10)\n",
    "end"
   ]
  },
  {
   "cell_type": "code",
   "execution_count": null,
   "id": "6534df5e",
   "metadata": {},
   "outputs": [],
   "source": [
    "function DEL(q_1,q_2,q_3,λ,F1,F2)\n",
    "    \n",
    "    r1_1 = q_1[1:3]\n",
    "    Q1_1 = q_1[4:7]\n",
    "    r2_1 = q_1[8:10]\n",
    "    Q2_1 = q_1[11:14]\n",
    "    \n",
    "    r1_2 = q_2[1:3]\n",
    "    Q1_2 = q_2[4:7]\n",
    "    r2_2 = q_2[8:10]\n",
    "    Q2_2 = q_2[11:14]\n",
    "    \n",
    "    r1_3 = q_3[1:3]\n",
    "    Q1_3 = q_3[4:7]\n",
    "    r2_3 = q_3[8:10]\n",
    "    Q2_3 = q_3[11:14]\n",
    "    \n",
    "    [(1/h)*m1*(r1_2-r1_1) - (1/h)*m1*(r1_3-r1_2);\n",
    "    (2.0/h)*G(Q1_2)'*L(Q1_1)*H*J1*H'*L(Q1_1)'*Q1_2 + (2.0/h)*G(Q1_2)'*T*R(Q1_3)'*H*J1*H'*L(Q1_2)'*Q1_3;\n",
    "    (1/h)*m2*(r2_2-r2_1) - (1/h)*m2*(r2_3-r2_2);\n",
    "    (2.0/h)*G(Q2_2)'*L(Q2_1)*H*J2*H'*L(Q2_1)'*Q2_2 + (2.0/h)*G(Q2_2)'*T*R(Q2_3)'*H*J2*H'*L(Q2_2)'*Q2_3] + (h/2.0)*F1 + (h/2.0)*F2 + h*Dc(q_2)'*λ\n",
    "    \n",
    "end"
   ]
  },
  {
   "cell_type": "code",
   "execution_count": null,
   "id": "94f3f05f",
   "metadata": {},
   "outputs": [],
   "source": [
    "function Dq3DEL(q_1,q_2,q_3,λ,F1,F2)\n",
    "    ForwardDiff.jacobian(dq->DEL(q_1,q_2,dq,λ,F1,F2), q_3)*Ḡ(q_3)\n",
    "end"
   ]
  },
  {
   "cell_type": "code",
   "execution_count": null,
   "id": "6fd38164",
   "metadata": {},
   "outputs": [],
   "source": [
    "function c(q)\n",
    "    rb = q[1:3]\n",
    "    Qb = q[4:7]\n",
    "    r0 = q[8:10]\n",
    "    Q0 = q[11:14]\n",
    "    r1 = q[15:17]\n",
    "    Q1 = q[18:21]\n",
    "    r2 = q[22:24]\n",
    "    Q2 = q[25:28]\n",
    "    r3 = q[29:31]\n",
    "    Q3 = q[32:35]\n",
    "    \n",
    "    c_ = [rb + rotate(Qb, [0.5*ℓ1; 0; 0]) - r0 - rotate(Q0, [-0.5*ℓ2; 0; 0]);\n",
    "         [0 1 0 0; 0 0 1 0]*L(Q1)'*Q2;\n",
    "          rb + rotate(Qb, [0.5*ℓ1; 0; 0]) - r0 - rotate(Q0, [-0.5*ℓ2; 0; 0]);\n",
    "         [0 1 0 0; 0 0 1 0]*L(Q1)'*Q2;\n",
    "    ]\n",
    "end"
   ]
  },
  {
   "cell_type": "code",
   "execution_count": null,
   "id": "2504d5b5",
   "metadata": {},
   "outputs": [],
   "source": [
    "function Dc(q)\n",
    "    ForwardDiff.jacobian(dq->c(dq),q)*Ḡ(q)\n",
    "end"
   ]
  },
  {
   "cell_type": "code",
   "execution_count": null,
   "id": "bbe06efd",
   "metadata": {},
   "outputs": [],
   "source": [
    "#initial conditions\n",
    "r1_0 = zeros(3)\n",
    "r2_0 = [1.0; 0; 0]\n",
    "Q1_0 = [1.0; 0; 0; 0]\n",
    "Q2_0 = [1.0; 0; 0; 0]\n",
    "\n",
    "q_0 = [r1_0; Q1_0; r2_0; Q2_0]"
   ]
  },
  {
   "cell_type": "code",
   "execution_count": null,
   "id": "5dcb135e",
   "metadata": {},
   "outputs": [],
   "source": [
    "#Torque input at joint\n",
    "uhist = .5*[0; 0; ones(19); -ones(40); zeros(10); ones(40); -ones(10)];\n",
    "\n",
    "#Corresponding F\n",
    "Fhist = zeros(12,N)\n",
    "for k = 1:N\n",
    "    Fhist[:,k] = [0; 0; 0; 0; 0; -uhist[k]; 0; 0; 0; 0; 0; uhist[k]]\n",
    "end"
   ]
  },
  {
   "cell_type": "code",
   "execution_count": null,
   "id": "4b415ac4",
   "metadata": {},
   "outputs": [],
   "source": [
    "#Simulate\n",
    "qhist = zeros(14,N)\n",
    "qhist[:,1] .= q_0\n",
    "qhist[:,2] .= q_0\n",
    "\n",
    "\n",
    "for k = 2:(N-1)\n",
    "    \n",
    "    #Initial guess\n",
    "    qhist[:,k+1] .= qhist[:,k]\n",
    "    λ = zeros(5)\n",
    "    \n",
    "    e = [DEL(qhist[:,k-1],qhist[:,k],qhist[:,k+1],λ,Fhist[:,k-1],Fhist[:,k]); c(qhist[:,k+1])]\n",
    "    \n",
    "    while maximum(abs.(e)) > 1e-12\n",
    "        D = Dq3DEL(qhist[:,k-1],qhist[:,k],qhist[:,k+1],λ,Fhist[:,k-1],Fhist[:,k])\n",
    "        C2 = Dc(qhist[:,k])\n",
    "        C3 = Dc(qhist[:,k+1])\n",
    "        \n",
    "        Δ = -[D h*C2'; C3 zeros(5,5)]\\e\n",
    "        \n",
    "        qhist[1:3,k+1] .= qhist[1:3,k+1] + Δ[1:3]\n",
    "        qhist[4:7,k+1] .= L(qhist[4:7,k+1])*[sqrt(1-Δ[4:6]'*Δ[4:6]); Δ[4:6]]\n",
    "        qhist[8:10,k+1] .= qhist[8:10,k+1] + Δ[7:9]\n",
    "        qhist[11:14,k+1] .= L(qhist[11:14,k+1])*[sqrt(1-Δ[10:12]'*Δ[10:12]); Δ[10:12]]\n",
    "        \n",
    "        λ .= λ + Δ[13:17]\n",
    "        \n",
    "        e = [DEL(qhist[:,k-1],qhist[:,k],qhist[:,k+1],λ,Fhist[:,k-1],Fhist[:,k]); c(qhist[:,k+1])]\n",
    "    end\n",
    "    \n",
    "end"
   ]
  },
  {
   "cell_type": "code",
   "execution_count": 20,
   "id": "9dc5b8ad",
   "metadata": {},
   "outputs": [
    {
     "data": {
      "text/plain": [
       "simulate! (generic function with 1 method)"
      ]
     },
     "execution_count": 20,
     "metadata": {},
     "output_type": "execute_result"
    }
   ],
   "source": [
    "function simulate!(xhist, N)\n",
    "    print(\"\\r Initializing...\")\n",
    "    flush(stdout)\n",
    "    for k = 1:(N-1)\n",
    "        xhist[:,k+1] .= rk4_step(f, xhist[:,k], uhist[k], uhist[k+1], h)\n",
    "        print(\"\\r Simulation \", trunc(Int, k/(N-1)*100), \"% complete\")\n",
    "        flush(stdout)\n",
    "    end\n",
    "end"
   ]
  },
  {
   "cell_type": "code",
   "execution_count": 21,
   "id": "5dbf79e0",
   "metadata": {
    "scrolled": true
   },
   "outputs": [
    {
     "name": "stdout",
     "output_type": "stream",
     "text": [
      " Simulation 100% complete"
     ]
    }
   ],
   "source": [
    "simulate!(xhist, N)"
   ]
  },
  {
   "cell_type": "code",
   "execution_count": 22,
   "id": "9205577b",
   "metadata": {},
   "outputs": [
    {
     "data": {
      "text/plain": [
       "10001-element Vector{Vector{Float64}}:\n",
       " [-0.5235987755982988, -2.6179938779914944, -2.0943951023931953, 2.0943951023931953]\n",
       " [NaN, NaN, NaN, NaN]\n",
       " [NaN, NaN, NaN, NaN]\n",
       " [NaN, NaN, NaN, NaN]\n",
       " [NaN, NaN, NaN, NaN]\n",
       " [NaN, NaN, NaN, NaN]\n",
       " [NaN, NaN, NaN, NaN]\n",
       " [NaN, NaN, NaN, NaN]\n",
       " [NaN, NaN, NaN, NaN]\n",
       " [NaN, NaN, NaN, NaN]\n",
       " [NaN, NaN, NaN, NaN]\n",
       " [NaN, NaN, NaN, NaN]\n",
       " [NaN, NaN, NaN, NaN]\n",
       " ⋮\n",
       " [NaN, NaN, NaN, NaN]\n",
       " [NaN, NaN, NaN, NaN]\n",
       " [NaN, NaN, NaN, NaN]\n",
       " [NaN, NaN, NaN, NaN]\n",
       " [NaN, NaN, NaN, NaN]\n",
       " [NaN, NaN, NaN, NaN]\n",
       " [NaN, NaN, NaN, NaN]\n",
       " [NaN, NaN, NaN, NaN]\n",
       " [NaN, NaN, NaN, NaN]\n",
       " [NaN, NaN, NaN, NaN]\n",
       " [NaN, NaN, NaN, NaN]\n",
       " [NaN, NaN, NaN, NaN]"
      ]
     },
     "execution_count": 22,
     "metadata": {},
     "output_type": "execute_result"
    }
   ],
   "source": [
    "q0 = -xhist[8, :] .- 30*(pi/180)\n",
    "q1 = -xhist[9, :] .- 120*(pi/180)\n",
    "q2 = -xhist[10, :] .- 150*(pi/180)\n",
    "q3 = -xhist[11, :] .+ 120*(pi/180)\n",
    "\n",
    "qs = convert(AbstractArray{Float64}, [q0 q2 q1 q3]) \n",
    "ts = convert(AbstractVector{Float64}, thist) # AbstractVector(thist)\n",
    "q_array = [ qs[i,:] for i in 1:size(qs,1)] "
   ]
  },
  {
   "cell_type": "code",
   "execution_count": 23,
   "id": "6ba89431",
   "metadata": {},
   "outputs": [],
   "source": [
    "using MeshCat, GeometryBasics, CoordinateTransformations, Rotations#, GeometryTypes\n",
    "#const gt = GeometryTypes"
   ]
  },
  {
   "cell_type": "code",
   "execution_count": 24,
   "id": "5fcfed84",
   "metadata": {},
   "outputs": [
    {
     "name": "stderr",
     "output_type": "stream",
     "text": [
      "┌ Info: MeshCat server started. You can open the visualizer by visiting the following URL in your browser:\n",
      "│ http://127.0.0.1:8709\n",
      "└ @ MeshCat /home/ben/.julia/packages/MeshCat/GlCMx/src/visualizer.jl:73\n"
     ]
    },
    {
     "data": {
      "text/html": [
       "    <div style=\"height: 500px; width: 100%; overflow-x: auto; overflow-y: hidden; resize: both\">\n",
       "    <iframe src=\"http://127.0.0.1:8709\" style=\"width: 100%; height: 100%; border: none\"></iframe>\n",
       "    </div>\n"
      ],
      "text/plain": [
       "MeshCat.DisplayedVisualizer(MeshCat.CoreVisualizer(MeshCat.SceneTrees.SceneNode(nothing, nothing, Dict{String, Vector{UInt8}}(), nothing, Dict{String, MeshCat.SceneTrees.SceneNode}()), Set{Any}(), ip\"127.0.0.1\", 8709))"
      ]
     },
     "execution_count": 24,
     "metadata": {},
     "output_type": "execute_result"
    }
   ],
   "source": [
    "vis = Visualizer()\n",
    "render(vis)"
   ]
  },
  {
   "cell_type": "code",
   "execution_count": 25,
   "id": "3e474bf6",
   "metadata": {},
   "outputs": [
    {
     "ename": "LoadError",
     "evalue": "UndefVarError: RGBA not defined",
     "output_type": "error",
     "traceback": [
      "UndefVarError: RGBA not defined",
      "",
      "Stacktrace:",
      " [1] top-level scope",
      "   @ In[25]:3",
      " [2] eval",
      "   @ ./boot.jl:360 [inlined]",
      " [3] include_string(mapexpr::typeof(REPL.softscope), mod::Module, code::String, filename::String)",
      "   @ Base ./loading.jl:1116"
     ]
    }
   ],
   "source": [
    "delete!(vis)\n",
    "\n",
    "green_material = MeshPhongMaterial(color=RGBA(0, 1, 0, 0.8))\n",
    "red_material = MeshPhongMaterial(color=RGBA(1, 0, 0, 0.8))\n",
    "\n",
    "l_345 = sqrt((l3 + l4)^2 + l5^2)\n",
    "# sphere = Sphere(Point(0, 0, 0), 3)\n",
    "# rect = Rectangle(0.2, 0.2, 0.2, 0.2)\n",
    "cylinderb = Cylinder(Point(0, -0.02, l_cb[2]), Point(0, 0.02, l_cb[2]), 0.04)  #float(l_cb)\n",
    "cylinder0 = Cylinder(Point(-l_c0[1], 0, 0), Point(l0-l_c0[1], 0, 0), 0.008)\n",
    "cylinder1 = Cylinder(Point(-l_c1[1], 0, 0), Point(l1-l_c1[1], 0, 0), 0.008)\n",
    "cylinder2 = Cylinder(Point(-l_c2[1], 0, 0), Point(l2-l_c2[1], 0, 0), 0.008)\n",
    "cylinder3 = Cylinder(Point(-l_c3[1], 0, 0), Point(l_345-l_c3[1], 0, 0), 0.008)\n",
    "\n",
    "# setobject!(vis[\"sphere\"],sphere,red_material)\n",
    "setobject!(vis[\"cylinderb\"],cylinderb,red_material)\n",
    "setobject!(vis[\"cylinder0\"],cylinder0,green_material)\n",
    "setobject!(vis[\"cylinder1\"],cylinder1,green_material)\n",
    "setobject!(vis[\"cylinder2\"],cylinder2,green_material)\n",
    "setobject!(vis[\"cylinder3\"],cylinder3,green_material)\n",
    "\n",
    "for k = 1:N\n",
    "    \n",
    "    q = qhist[:, k]\n",
    "    # set position and attitude\n",
    "    positionb = Translation(q[1:3]...)\n",
    "    attitudeb = LinearMap(UnitQuaternion(q[4:7]))\n",
    "    position0 = Translation(q[8:10]...)\n",
    "    attitude0 = LinearMap(UnitQuaternion(q[11:14]))\n",
    "    position1 = Translation(q[15:17]...)\n",
    "    attitude1 = LinearMap(UnitQuaternion(q[18:21]))\n",
    "    position2 = Translation(q[22:24]...)\n",
    "    attitude2 = LinearMap(UnitQuaternion(q[25:28]))\n",
    "    position3 = Translation(q[29:31]...)\n",
    "    attitude3 = LinearMap(UnitQuaternion(q[32:35]))\n",
    "    \n",
    "    settransform!(vis[\"cylinderb\"], compose(positionb,attitudeb))\n",
    "    settransform!(vis[\"cylinder0\"], compose(position0,attitude0))\n",
    "    settransform!(vis[\"cylinder1\"], compose(position1,attitude1))\n",
    "    settransform!(vis[\"cylinder2\"], compose(position2,attitude2))\n",
    "    settransform!(vis[\"cylinder3\"], compose(position3,attitude3))\n",
    "    #sleep(0.001)\n",
    "end"
   ]
  },
  {
   "cell_type": "code",
   "execution_count": 26,
   "id": "3ac0c9bd",
   "metadata": {},
   "outputs": [
    {
     "data": {
      "text/plain": [
       "MechanismState{Float64, Float64, Float64, …}(…)"
      ]
     },
     "execution_count": 26,
     "metadata": {},
     "output_type": "execute_result"
    }
   ],
   "source": [
    "# only works with Rotations v1.0.4 and earlier\n",
    "# use Pkg.add(Pkg.PackageSpec(;name=\"Rotations\", version=\"1.0.4\"))\n",
    "curdir = pwd()\n",
    "urdfpath = joinpath(curdir, \"../res/flyhopper_robot/urdf/flyhopper_robot.urdf\")\n",
    "leg = parse_urdf(urdfpath, floating=true)\n",
    "state = MechanismState(leg)"
   ]
  },
  {
   "cell_type": "code",
   "execution_count": 27,
   "id": "574d1b70",
   "metadata": {},
   "outputs": [
    {
     "name": "stderr",
     "output_type": "stream",
     "text": [
      "┌ Info: MeshCat server started. You can open the visualizer by visiting the following URL in your browser:\n",
      "│ http://127.0.0.1:8721\n",
      "└ @ MeshCat /home/ben/.julia/packages/MeshCat/GlCMx/src/visualizer.jl:73\n"
     ]
    },
    {
     "data": {
      "text/html": [
       "    <div style=\"height: 500px; width: 100%; overflow-x: auto; overflow-y: hidden; resize: both\">\n",
       "    <iframe src=\"http://127.0.0.1:8721\" style=\"width: 100%; height: 100%; border: none\"></iframe>\n",
       "    </div>\n"
      ],
      "text/plain": [
       "MeshCat.DisplayedVisualizer(MeshCat.CoreVisualizer(MeshCat.SceneTrees.SceneNode(nothing, nothing, Dict{String, Vector{UInt8}}(), nothing, Dict{String, MeshCat.SceneTrees.SceneNode}(\"meshcat\" => MeshCat.SceneTrees.SceneNode(nothing, nothing, Dict{String, Vector{UInt8}}(), nothing, Dict{String, MeshCat.SceneTrees.SceneNode}(\"world\" => MeshCat.SceneTrees.SceneNode(nothing, nothing, Dict{String, Vector{UInt8}}(), nothing, Dict{String, MeshCat.SceneTrees.SceneNode}(\"base_link\" => MeshCat.SceneTrees.SceneNode(nothing, UInt8[0x83, 0xa6, 0x6d, 0x61, 0x74, 0x72, 0x69, 0x78, 0xc7, 0x40  …  0x2f, 0x62, 0x61, 0x73, 0x65, 0x5f, 0x6c, 0x69, 0x6e, 0x6b], Dict{String, Vector{UInt8}}(), nothing, Dict{String, MeshCat.SceneTrees.SceneNode}(\"base_link\" => MeshCat.SceneTrees.SceneNode(nothing, UInt8[0x83, 0xa6, 0x6d, 0x61, 0x74, 0x72, 0x69, 0x78, 0xc7, 0x40  …  0x2f, 0x62, 0x61, 0x73, 0x65, 0x5f, 0x6c, 0x69, 0x6e, 0x6b], Dict{String, Vector{UInt8}}(), nothing, Dict{String, MeshCat.SceneTrees.SceneNode}(\"geometry_1\" => MeshCat.SceneTrees.SceneNode(UInt8[0x83, 0xa6, 0x6f, 0x62, 0x6a, 0x65, 0x63, 0x74, 0x84, 0xaa  …  0x67, 0x65, 0x6f, 0x6d, 0x65, 0x74, 0x72, 0x79, 0x5f, 0x31], UInt8[0x83, 0xa6, 0x6d, 0x61, 0x74, 0x72, 0x69, 0x78, 0xc7, 0x40  …  0x67, 0x65, 0x6f, 0x6d, 0x65, 0x74, 0x72, 0x79, 0x5f, 0x31], Dict{String, Vector{UInt8}}(), nothing, Dict{String, MeshCat.SceneTrees.SceneNode}()))), \"Link 2\" => MeshCat.SceneTrees.SceneNode(nothing, UInt8[0x83, 0xa6, 0x6d, 0x61, 0x74, 0x72, 0x69, 0x78, 0xc7, 0x40  …  0x69, 0x6e, 0x6b, 0x2f, 0x4c, 0x69, 0x6e, 0x6b, 0x20, 0x32], Dict{String, Vector{UInt8}}(), nothing, Dict{String, MeshCat.SceneTrees.SceneNode}(\"Link 3\" => MeshCat.SceneTrees.SceneNode(nothing, UInt8[0x83, 0xa6, 0x6d, 0x61, 0x74, 0x72, 0x69, 0x78, 0xc7, 0x40  …  0x6b, 0x20, 0x32, 0x2f, 0x4c, 0x69, 0x6e, 0x6b, 0x20, 0x33], Dict{String, Vector{UInt8}}(), nothing, Dict{String, MeshCat.SceneTrees.SceneNode}(\"after_Joint 3\" => MeshCat.SceneTrees.SceneNode(nothing, UInt8[0x83, 0xa6, 0x6d, 0x61, 0x74, 0x72, 0x69, 0x78, 0xc7, 0x40  …  0x65, 0x72, 0x5f, 0x4a, 0x6f, 0x69, 0x6e, 0x74, 0x20, 0x33], Dict{String, Vector{UInt8}}(), nothing, Dict{String, MeshCat.SceneTrees.SceneNode}(\"geometry_5\" => MeshCat.SceneTrees.SceneNode(UInt8[0x83, 0xa6, 0x6f, 0x62, 0x6a, 0x65, 0x63, 0x74, 0x84, 0xaa  …  0x67, 0x65, 0x6f, 0x6d, 0x65, 0x74, 0x72, 0x79, 0x5f, 0x35], UInt8[0x83, 0xa6, 0x6d, 0x61, 0x74, 0x72, 0x69, 0x78, 0xc7, 0x40  …  0x67, 0x65, 0x6f, 0x6d, 0x65, 0x74, 0x72, 0x79, 0x5f, 0x35], Dict{String, Vector{UInt8}}(), nothing, Dict{String, MeshCat.SceneTrees.SceneNode}()))))), \"after_Joint 2\" => MeshCat.SceneTrees.SceneNode(nothing, UInt8[0x83, 0xa6, 0x6d, 0x61, 0x74, 0x72, 0x69, 0x78, 0xc7, 0x40  …  0x65, 0x72, 0x5f, 0x4a, 0x6f, 0x69, 0x6e, 0x74, 0x20, 0x32], Dict{String, Vector{UInt8}}(), nothing, Dict{String, MeshCat.SceneTrees.SceneNode}(\"geometry_4\" => MeshCat.SceneTrees.SceneNode(UInt8[0x83, 0xa6, 0x6f, 0x62, 0x6a, 0x65, 0x63, 0x74, 0x84, 0xaa  …  0x67, 0x65, 0x6f, 0x6d, 0x65, 0x74, 0x72, 0x79, 0x5f, 0x34], UInt8[0x83, 0xa6, 0x6d, 0x61, 0x74, 0x72, 0x69, 0x78, 0xc7, 0x40  …  0x67, 0x65, 0x6f, 0x6d, 0x65, 0x74, 0x72, 0x79, 0x5f, 0x34], Dict{String, Vector{UInt8}}(), nothing, Dict{String, MeshCat.SceneTrees.SceneNode}()))))), \"Link 0\" => MeshCat.SceneTrees.SceneNode(nothing, UInt8[0x83, 0xa6, 0x6d, 0x61, 0x74, 0x72, 0x69, 0x78, 0xc7, 0x40  …  0x69, 0x6e, 0x6b, 0x2f, 0x4c, 0x69, 0x6e, 0x6b, 0x20, 0x30], Dict{String, Vector{UInt8}}(), nothing, Dict{String, MeshCat.SceneTrees.SceneNode}(\"Link 1\" => MeshCat.SceneTrees.SceneNode(nothing, UInt8[0x83, 0xa6, 0x6d, 0x61, 0x74, 0x72, 0x69, 0x78, 0xc7, 0x40  …  0x6b, 0x20, 0x30, 0x2f, 0x4c, 0x69, 0x6e, 0x6b, 0x20, 0x31], Dict{String, Vector{UInt8}}(), nothing, Dict{String, MeshCat.SceneTrees.SceneNode}(\"after_Joint 1\" => MeshCat.SceneTrees.SceneNode(nothing, UInt8[0x83, 0xa6, 0x6d, 0x61, 0x74, 0x72, 0x69, 0x78, 0xc7, 0x40  …  0x65, 0x72, 0x5f, 0x4a, 0x6f, 0x69, 0x6e, 0x74, 0x20, 0x31], Dict{String, Vector{UInt8}}(), nothing, Dict{String, MeshCat.SceneTrees.SceneNode}(\"geometry_3\" => MeshCat.SceneTrees.SceneNode(UInt8[0x83, 0xa6, 0x6f, 0x62, 0x6a, 0x65, 0x63, 0x74, 0x84, 0xaa  …  0x67, 0x65, 0x6f, 0x6d, 0x65, 0x74, 0x72, 0x79, 0x5f, 0x33], UInt8[0x83, 0xa6, 0x6d, 0x61, 0x74, 0x72, 0x69, 0x78, 0xc7, 0x40  …  0x67, 0x65, 0x6f, 0x6d, 0x65, 0x74, 0x72, 0x79, 0x5f, 0x33], Dict{String, Vector{UInt8}}(), nothing, Dict{String, MeshCat.SceneTrees.SceneNode}()))))), \"after_Joint 0\" => MeshCat.SceneTrees.SceneNode(nothing, UInt8[0x83, 0xa6, 0x6d, 0x61, 0x74, 0x72, 0x69, 0x78, 0xc7, 0x40  …  0x65, 0x72, 0x5f, 0x4a, 0x6f, 0x69, 0x6e, 0x74, 0x20, 0x30], Dict{String, Vector{UInt8}}(), nothing, Dict{String, MeshCat.SceneTrees.SceneNode}(\"geometry_2\" => MeshCat.SceneTrees.SceneNode(UInt8[0x83, 0xa6, 0x6f, 0x62, 0x6a, 0x65, 0x63, 0x74, 0x84, 0xaa  …  0x67, 0x65, 0x6f, 0x6d, 0x65, 0x74, 0x72, 0x79, 0x5f, 0x32], UInt8[0x83, 0xa6, 0x6d, 0x61, 0x74, 0x72, 0x69, 0x78, 0xc7, 0x40  …  0x67, 0x65, 0x6f, 0x6d, 0x65, 0x74, 0x72, 0x79, 0x5f, 0x32], Dict{String, Vector{UInt8}}(), nothing, Dict{String, MeshCat.SceneTrees.SceneNode}()))))))))))))), Set{Any}(), ip\"127.0.0.1\", 8721))"
      ]
     },
     "execution_count": 27,
     "metadata": {},
     "output_type": "execute_result"
    }
   ],
   "source": [
    "# mvis = MechanismVisualizer(doublependulum, Skeleton(randomize_colors=true, inertias=false));\n",
    "mvis = MechanismVisualizer(leg, URDFVisuals(urdfpath));\n",
    "\n",
    "render(mvis)"
   ]
  },
  {
   "cell_type": "code",
   "execution_count": 28,
   "id": "094fff26",
   "metadata": {},
   "outputs": [],
   "source": [
    "q_0 = x_init[8]\n",
    "q_1 = x_init[9]\n",
    "q_2 = x_init[10]\n",
    "q_3 = x_init[11]\n",
    "\n",
    "set_configuration!(mvis, [1,0,0,0,0,0,0, -q_0-30*(pi/180), -q_2-150*(pi/180), -q_1-120*(pi/180), -q_3+120*(pi/180)])"
   ]
  },
  {
   "cell_type": "code",
   "execution_count": 29,
   "id": "af6741f9",
   "metadata": {},
   "outputs": [],
   "source": [
    "for k = 1:N\n",
    "    pb = xhist[1:3, k]\n",
    "    Qb = xhist[4:7, k]\n",
    "    input = vcat(Qb, pb, -q_array[k])\n",
    "    set_configuration!(mvis, input)\n",
    "end"
   ]
  },
  {
   "cell_type": "code",
   "execution_count": 30,
   "id": "b282338c",
   "metadata": {},
   "outputs": [
    {
     "data": {
      "text/plain": [
       "Energy (generic function with 1 method)"
      ]
     },
     "execution_count": 30,
     "metadata": {},
     "output_type": "execute_result"
    }
   ],
   "source": [
    "#Energy Functions\n",
    "\n",
    "function Energy(x)\n",
    "    q = x[1:11]\n",
    "    v = x[12:end]\n",
    "    energy = Lagrangian(q,v)\n",
    "    return energy\n",
    "end"
   ]
  },
  {
   "cell_type": "code",
   "execution_count": 31,
   "id": "2c908ee5",
   "metadata": {},
   "outputs": [
    {
     "name": "stderr",
     "output_type": "stream",
     "text": [
      "WARNING: using Plots.rotate in module Main conflicts with an existing identifier.\n"
     ]
    },
    {
     "data": {
      "image/svg+xml": [
       "<?xml version=\"1.0\" encoding=\"utf-8\"?>\n",
       "<svg xmlns=\"http://www.w3.org/2000/svg\" xmlns:xlink=\"http://www.w3.org/1999/xlink\" width=\"600\" height=\"400\" viewBox=\"0 0 2400 1600\">\n",
       "<defs>\n",
       "  <clipPath id=\"clip420\">\n",
       "    <rect x=\"0\" y=\"0\" width=\"2400\" height=\"1600\"/>\n",
       "  </clipPath>\n",
       "</defs>\n",
       "<path clip-path=\"url(#clip420)\" d=\"\n",
       "M0 1600 L2400 1600 L2400 0 L0 0  Z\n",
       "  \" fill=\"#ffffff\" fill-rule=\"evenodd\" fill-opacity=\"1\"/>\n",
       "<defs>\n",
       "  <clipPath id=\"clip421\">\n",
       "    <rect x=\"480\" y=\"0\" width=\"1681\" height=\"1600\"/>\n",
       "  </clipPath>\n",
       "</defs>\n",
       "<path clip-path=\"url(#clip420)\" d=\"\n",
       "M249.542 1423.18 L2352.76 1423.18 L2352.76 123.472 L249.542 123.472  Z\n",
       "  \" fill=\"#ffffff\" fill-rule=\"evenodd\" fill-opacity=\"1\"/>\n",
       "<defs>\n",
       "  <clipPath id=\"clip422\">\n",
       "    <rect x=\"249\" y=\"123\" width=\"2104\" height=\"1301\"/>\n",
       "  </clipPath>\n",
       "</defs>\n",
       "<polyline clip-path=\"url(#clip422)\" style=\"stroke:#000000; stroke-linecap:butt; stroke-linejoin:round; stroke-width:2; stroke-opacity:0.1; fill:none\" points=\"\n",
       "  309.067,1423.18 309.067,123.472 \n",
       "  \"/>\n",
       "<polyline clip-path=\"url(#clip422)\" style=\"stroke:#000000; stroke-linecap:butt; stroke-linejoin:round; stroke-width:2; stroke-opacity:0.1; fill:none\" points=\"\n",
       "  805.108,1423.18 805.108,123.472 \n",
       "  \"/>\n",
       "<polyline clip-path=\"url(#clip422)\" style=\"stroke:#000000; stroke-linecap:butt; stroke-linejoin:round; stroke-width:2; stroke-opacity:0.1; fill:none\" points=\"\n",
       "  1301.15,1423.18 1301.15,123.472 \n",
       "  \"/>\n",
       "<polyline clip-path=\"url(#clip422)\" style=\"stroke:#000000; stroke-linecap:butt; stroke-linejoin:round; stroke-width:2; stroke-opacity:0.1; fill:none\" points=\"\n",
       "  1797.19,1423.18 1797.19,123.472 \n",
       "  \"/>\n",
       "<polyline clip-path=\"url(#clip422)\" style=\"stroke:#000000; stroke-linecap:butt; stroke-linejoin:round; stroke-width:2; stroke-opacity:0.1; fill:none\" points=\"\n",
       "  2293.23,1423.18 2293.23,123.472 \n",
       "  \"/>\n",
       "<polyline clip-path=\"url(#clip420)\" style=\"stroke:#000000; stroke-linecap:butt; stroke-linejoin:round; stroke-width:4; stroke-opacity:1; fill:none\" points=\"\n",
       "  249.542,1423.18 2352.76,1423.18 \n",
       "  \"/>\n",
       "<polyline clip-path=\"url(#clip420)\" style=\"stroke:#000000; stroke-linecap:butt; stroke-linejoin:round; stroke-width:4; stroke-opacity:1; fill:none\" points=\"\n",
       "  309.067,1423.18 309.067,1404.28 \n",
       "  \"/>\n",
       "<polyline clip-path=\"url(#clip420)\" style=\"stroke:#000000; stroke-linecap:butt; stroke-linejoin:round; stroke-width:4; stroke-opacity:1; fill:none\" points=\"\n",
       "  805.108,1423.18 805.108,1404.28 \n",
       "  \"/>\n",
       "<polyline clip-path=\"url(#clip420)\" style=\"stroke:#000000; stroke-linecap:butt; stroke-linejoin:round; stroke-width:4; stroke-opacity:1; fill:none\" points=\"\n",
       "  1301.15,1423.18 1301.15,1404.28 \n",
       "  \"/>\n",
       "<polyline clip-path=\"url(#clip420)\" style=\"stroke:#000000; stroke-linecap:butt; stroke-linejoin:round; stroke-width:4; stroke-opacity:1; fill:none\" points=\"\n",
       "  1797.19,1423.18 1797.19,1404.28 \n",
       "  \"/>\n",
       "<polyline clip-path=\"url(#clip420)\" style=\"stroke:#000000; stroke-linecap:butt; stroke-linejoin:round; stroke-width:4; stroke-opacity:1; fill:none\" points=\"\n",
       "  2293.23,1423.18 2293.23,1404.28 \n",
       "  \"/>\n",
       "<path clip-path=\"url(#clip420)\" d=\"M286.451 1454.1 Q282.84 1454.1 281.012 1457.66 Q279.206 1461.2 279.206 1468.33 Q279.206 1475.44 281.012 1479.01 Q282.84 1482.55 286.451 1482.55 Q290.086 1482.55 291.891 1479.01 Q293.72 1475.44 293.72 1468.33 Q293.72 1461.2 291.891 1457.66 Q290.086 1454.1 286.451 1454.1 M286.451 1450.39 Q292.261 1450.39 295.317 1455 Q298.396 1459.58 298.396 1468.33 Q298.396 1477.06 295.317 1481.67 Q292.261 1486.25 286.451 1486.25 Q280.641 1486.25 277.562 1481.67 Q274.507 1477.06 274.507 1468.33 Q274.507 1459.58 277.562 1455 Q280.641 1450.39 286.451 1450.39 Z\" fill=\"#000000\" fill-rule=\"evenodd\" fill-opacity=\"1\" /><path clip-path=\"url(#clip420)\" d=\"M306.613 1479.7 L311.497 1479.7 L311.497 1485.58 L306.613 1485.58 L306.613 1479.7 Z\" fill=\"#000000\" fill-rule=\"evenodd\" fill-opacity=\"1\" /><path clip-path=\"url(#clip420)\" d=\"M331.683 1454.1 Q328.071 1454.1 326.243 1457.66 Q324.437 1461.2 324.437 1468.33 Q324.437 1475.44 326.243 1479.01 Q328.071 1482.55 331.683 1482.55 Q335.317 1482.55 337.122 1479.01 Q338.951 1475.44 338.951 1468.33 Q338.951 1461.2 337.122 1457.66 Q335.317 1454.1 331.683 1454.1 M331.683 1450.39 Q337.493 1450.39 340.548 1455 Q343.627 1459.58 343.627 1468.33 Q343.627 1477.06 340.548 1481.67 Q337.493 1486.25 331.683 1486.25 Q325.872 1486.25 322.794 1481.67 Q319.738 1477.06 319.738 1468.33 Q319.738 1459.58 322.794 1455 Q325.872 1450.39 331.683 1450.39 Z\" fill=\"#000000\" fill-rule=\"evenodd\" fill-opacity=\"1\" /><path clip-path=\"url(#clip420)\" d=\"M776.844 1481.64 L793.164 1481.64 L793.164 1485.58 L771.219 1485.58 L771.219 1481.64 Q773.881 1478.89 778.465 1474.26 Q783.071 1469.61 784.252 1468.27 Q786.497 1465.74 787.377 1464.01 Q788.279 1462.25 788.279 1460.56 Q788.279 1457.8 786.335 1456.07 Q784.414 1454.33 781.312 1454.33 Q779.113 1454.33 776.659 1455.09 Q774.228 1455.86 771.451 1457.41 L771.451 1452.69 Q774.275 1451.55 776.728 1450.97 Q779.182 1450.39 781.219 1450.39 Q786.59 1450.39 789.784 1453.08 Q792.978 1455.77 792.978 1460.26 Q792.978 1462.39 792.168 1464.31 Q791.381 1466.2 789.275 1468.8 Q788.696 1469.47 785.594 1472.69 Q782.492 1475.88 776.844 1481.64 Z\" fill=\"#000000\" fill-rule=\"evenodd\" fill-opacity=\"1\" /><path clip-path=\"url(#clip420)\" d=\"M802.978 1479.7 L807.863 1479.7 L807.863 1485.58 L802.978 1485.58 L802.978 1479.7 Z\" fill=\"#000000\" fill-rule=\"evenodd\" fill-opacity=\"1\" /><path clip-path=\"url(#clip420)\" d=\"M818.094 1451.02 L836.45 1451.02 L836.45 1454.96 L822.376 1454.96 L822.376 1463.43 Q823.395 1463.08 824.413 1462.92 Q825.432 1462.73 826.45 1462.73 Q832.237 1462.73 835.617 1465.9 Q838.997 1469.08 838.997 1474.49 Q838.997 1480.07 835.524 1483.17 Q832.052 1486.25 825.733 1486.25 Q823.557 1486.25 821.288 1485.88 Q819.043 1485.51 816.636 1484.77 L816.636 1480.07 Q818.719 1481.2 820.941 1481.76 Q823.163 1482.32 825.64 1482.32 Q829.645 1482.32 831.983 1480.21 Q834.321 1478.1 834.321 1474.49 Q834.321 1470.88 831.983 1468.77 Q829.645 1466.67 825.64 1466.67 Q823.765 1466.67 821.89 1467.08 Q820.038 1467.5 818.094 1468.38 L818.094 1451.02 Z\" fill=\"#000000\" fill-rule=\"evenodd\" fill-opacity=\"1\" /><path clip-path=\"url(#clip420)\" d=\"M1268.31 1451.02 L1286.67 1451.02 L1286.67 1454.96 L1272.6 1454.96 L1272.6 1463.43 Q1273.61 1463.08 1274.63 1462.92 Q1275.65 1462.73 1276.67 1462.73 Q1282.46 1462.73 1285.84 1465.9 Q1289.22 1469.08 1289.22 1474.49 Q1289.22 1480.07 1285.74 1483.17 Q1282.27 1486.25 1275.95 1486.25 Q1273.78 1486.25 1271.51 1485.88 Q1269.26 1485.51 1266.86 1484.77 L1266.86 1480.07 Q1268.94 1481.2 1271.16 1481.76 Q1273.38 1482.32 1275.86 1482.32 Q1279.86 1482.32 1282.2 1480.21 Q1284.54 1478.1 1284.54 1474.49 Q1284.54 1470.88 1282.2 1468.77 Q1279.86 1466.67 1275.86 1466.67 Q1273.98 1466.67 1272.11 1467.08 Q1270.26 1467.5 1268.31 1468.38 L1268.31 1451.02 Z\" fill=\"#000000\" fill-rule=\"evenodd\" fill-opacity=\"1\" /><path clip-path=\"url(#clip420)\" d=\"M1298.43 1479.7 L1303.31 1479.7 L1303.31 1485.58 L1298.43 1485.58 L1298.43 1479.7 Z\" fill=\"#000000\" fill-rule=\"evenodd\" fill-opacity=\"1\" /><path clip-path=\"url(#clip420)\" d=\"M1323.5 1454.1 Q1319.89 1454.1 1318.06 1457.66 Q1316.25 1461.2 1316.25 1468.33 Q1316.25 1475.44 1318.06 1479.01 Q1319.89 1482.55 1323.5 1482.55 Q1327.13 1482.55 1328.94 1479.01 Q1330.77 1475.44 1330.77 1468.33 Q1330.77 1461.2 1328.94 1457.66 Q1327.13 1454.1 1323.5 1454.1 M1323.5 1450.39 Q1329.31 1450.39 1332.36 1455 Q1335.44 1459.58 1335.44 1468.33 Q1335.44 1477.06 1332.36 1481.67 Q1329.31 1486.25 1323.5 1486.25 Q1317.69 1486.25 1314.61 1481.67 Q1311.55 1477.06 1311.55 1468.33 Q1311.55 1459.58 1314.61 1455 Q1317.69 1450.39 1323.5 1450.39 Z\" fill=\"#000000\" fill-rule=\"evenodd\" fill-opacity=\"1\" /><path clip-path=\"url(#clip420)\" d=\"M1763.51 1451.02 L1785.73 1451.02 L1785.73 1453.01 L1773.19 1485.58 L1768.3 1485.58 L1780.11 1454.96 L1763.51 1454.96 L1763.51 1451.02 Z\" fill=\"#000000\" fill-rule=\"evenodd\" fill-opacity=\"1\" /><path clip-path=\"url(#clip420)\" d=\"M1794.85 1479.7 L1799.74 1479.7 L1799.74 1485.58 L1794.85 1485.58 L1794.85 1479.7 Z\" fill=\"#000000\" fill-rule=\"evenodd\" fill-opacity=\"1\" /><path clip-path=\"url(#clip420)\" d=\"M1809.97 1451.02 L1828.32 1451.02 L1828.32 1454.96 L1814.25 1454.96 L1814.25 1463.43 Q1815.27 1463.08 1816.29 1462.92 Q1817.31 1462.73 1818.32 1462.73 Q1824.11 1462.73 1827.49 1465.9 Q1830.87 1469.08 1830.87 1474.49 Q1830.87 1480.07 1827.4 1483.17 Q1823.93 1486.25 1817.61 1486.25 Q1815.43 1486.25 1813.16 1485.88 Q1810.92 1485.51 1808.51 1484.77 L1808.51 1480.07 Q1810.59 1481.2 1812.81 1481.76 Q1815.04 1482.32 1817.51 1482.32 Q1821.52 1482.32 1823.86 1480.21 Q1826.19 1478.1 1826.19 1474.49 Q1826.19 1470.88 1823.86 1468.77 Q1821.52 1466.67 1817.51 1466.67 Q1815.64 1466.67 1813.76 1467.08 Q1811.91 1467.5 1809.97 1468.38 L1809.97 1451.02 Z\" fill=\"#000000\" fill-rule=\"evenodd\" fill-opacity=\"1\" /><path clip-path=\"url(#clip420)\" d=\"M2245.3 1481.64 L2252.94 1481.64 L2252.94 1455.28 L2244.63 1456.95 L2244.63 1452.69 L2252.9 1451.02 L2257.57 1451.02 L2257.57 1481.64 L2265.21 1481.64 L2265.21 1485.58 L2245.3 1485.58 L2245.3 1481.64 Z\" fill=\"#000000\" fill-rule=\"evenodd\" fill-opacity=\"1\" /><path clip-path=\"url(#clip420)\" d=\"M2284.65 1454.1 Q2281.04 1454.1 2279.21 1457.66 Q2277.41 1461.2 2277.41 1468.33 Q2277.41 1475.44 2279.21 1479.01 Q2281.04 1482.55 2284.65 1482.55 Q2288.29 1482.55 2290.09 1479.01 Q2291.92 1475.44 2291.92 1468.33 Q2291.92 1461.2 2290.09 1457.66 Q2288.29 1454.1 2284.65 1454.1 M2284.65 1450.39 Q2290.46 1450.39 2293.52 1455 Q2296.6 1459.58 2296.6 1468.33 Q2296.6 1477.06 2293.52 1481.67 Q2290.46 1486.25 2284.65 1486.25 Q2278.84 1486.25 2275.77 1481.67 Q2272.71 1477.06 2272.71 1468.33 Q2272.71 1459.58 2275.77 1455 Q2278.84 1450.39 2284.65 1450.39 Z\" fill=\"#000000\" fill-rule=\"evenodd\" fill-opacity=\"1\" /><path clip-path=\"url(#clip420)\" d=\"M2304.82 1479.7 L2309.7 1479.7 L2309.7 1485.58 L2304.82 1485.58 L2304.82 1479.7 Z\" fill=\"#000000\" fill-rule=\"evenodd\" fill-opacity=\"1\" /><path clip-path=\"url(#clip420)\" d=\"M2329.89 1454.1 Q2326.27 1454.1 2324.45 1457.66 Q2322.64 1461.2 2322.64 1468.33 Q2322.64 1475.44 2324.45 1479.01 Q2326.27 1482.55 2329.89 1482.55 Q2333.52 1482.55 2335.33 1479.01 Q2337.15 1475.44 2337.15 1468.33 Q2337.15 1461.2 2335.33 1457.66 Q2333.52 1454.1 2329.89 1454.1 M2329.89 1450.39 Q2335.7 1450.39 2338.75 1455 Q2341.83 1459.58 2341.83 1468.33 Q2341.83 1477.06 2338.75 1481.67 Q2335.7 1486.25 2329.89 1486.25 Q2324.08 1486.25 2321 1481.67 Q2317.94 1477.06 2317.94 1468.33 Q2317.94 1459.58 2321 1455 Q2324.08 1450.39 2329.89 1450.39 Z\" fill=\"#000000\" fill-rule=\"evenodd\" fill-opacity=\"1\" /><path clip-path=\"url(#clip420)\" d=\"M1171.32 1520.52 L1211.52 1520.52 L1211.52 1525.93 L1194.65 1525.93 L1194.65 1568.04 L1188.19 1568.04 L1188.19 1525.93 L1171.32 1525.93 L1171.32 1520.52 Z\" fill=\"#000000\" fill-rule=\"evenodd\" fill-opacity=\"1\" /><path clip-path=\"url(#clip420)\" d=\"M1215.47 1532.4 L1221.32 1532.4 L1221.32 1568.04 L1215.47 1568.04 L1215.47 1532.4 M1215.47 1518.52 L1221.32 1518.52 L1221.32 1525.93 L1215.47 1525.93 L1215.47 1518.52 Z\" fill=\"#000000\" fill-rule=\"evenodd\" fill-opacity=\"1\" /><path clip-path=\"url(#clip420)\" d=\"M1261.33 1539.24 Q1263.53 1535.29 1266.58 1533.41 Q1269.64 1531.54 1273.78 1531.54 Q1279.35 1531.54 1282.37 1535.45 Q1285.39 1539.33 1285.39 1546.53 L1285.39 1568.04 L1279.51 1568.04 L1279.51 1546.72 Q1279.51 1541.59 1277.69 1539.11 Q1275.88 1536.63 1272.15 1536.63 Q1267.6 1536.63 1264.96 1539.65 Q1262.32 1542.68 1262.32 1547.9 L1262.32 1568.04 L1256.43 1568.04 L1256.43 1546.72 Q1256.43 1541.56 1254.62 1539.11 Q1252.8 1536.63 1249.01 1536.63 Q1244.53 1536.63 1241.88 1539.68 Q1239.24 1542.71 1239.24 1547.9 L1239.24 1568.04 L1233.35 1568.04 L1233.35 1532.4 L1239.24 1532.4 L1239.24 1537.93 Q1241.25 1534.66 1244.05 1533.1 Q1246.85 1531.54 1250.7 1531.54 Q1254.58 1531.54 1257.29 1533.51 Q1260.03 1535.48 1261.33 1539.24 Z\" fill=\"#000000\" fill-rule=\"evenodd\" fill-opacity=\"1\" /><path clip-path=\"url(#clip420)\" d=\"M1327.57 1548.76 L1327.57 1551.62 L1300.64 1551.62 Q1301.02 1557.67 1304.27 1560.85 Q1307.55 1564 1313.37 1564 Q1316.74 1564 1319.9 1563.17 Q1323.08 1562.35 1326.2 1560.69 L1326.2 1566.23 Q1323.05 1567.57 1319.74 1568.27 Q1316.43 1568.97 1313.02 1568.97 Q1304.49 1568.97 1299.49 1564 Q1294.53 1559.04 1294.53 1550.57 Q1294.53 1541.82 1299.24 1536.69 Q1303.98 1531.54 1312 1531.54 Q1319.2 1531.54 1323.37 1536.18 Q1327.57 1540.8 1327.57 1548.76 M1321.71 1547.04 Q1321.65 1542.23 1319 1539.37 Q1316.39 1536.5 1312.07 1536.5 Q1307.16 1536.5 1304.2 1539.27 Q1301.28 1542.04 1300.83 1547.07 L1321.71 1547.04 Z\" fill=\"#000000\" fill-rule=\"evenodd\" fill-opacity=\"1\" /><path clip-path=\"url(#clip420)\" d=\"M1371.97 1518.58 Q1367.7 1525.9 1365.63 1533.06 Q1363.56 1540.23 1363.56 1547.58 Q1363.56 1554.93 1365.63 1562.16 Q1367.73 1569.35 1371.97 1576.64 L1366.87 1576.64 Q1362.1 1569.16 1359.71 1561.93 Q1357.36 1554.71 1357.36 1547.58 Q1357.36 1540.48 1359.71 1533.29 Q1362.07 1526.09 1366.87 1518.58 L1371.97 1518.58 Z\" fill=\"#000000\" fill-rule=\"evenodd\" fill-opacity=\"1\" /><path clip-path=\"url(#clip420)\" d=\"M1406.06 1533.45 L1406.06 1538.98 Q1403.57 1537.71 1400.9 1537.07 Q1398.23 1536.44 1395.36 1536.44 Q1391 1536.44 1388.8 1537.77 Q1386.64 1539.11 1386.64 1541.79 Q1386.64 1543.82 1388.2 1545 Q1389.76 1546.15 1394.47 1547.2 L1396.48 1547.64 Q1402.71 1548.98 1405.32 1551.43 Q1407.97 1553.85 1407.97 1558.21 Q1407.97 1563.17 1404.02 1566.07 Q1400.1 1568.97 1393.23 1568.97 Q1390.36 1568.97 1387.25 1568.39 Q1384.16 1567.85 1380.72 1566.74 L1380.72 1560.69 Q1383.97 1562.38 1387.12 1563.24 Q1390.27 1564.07 1393.36 1564.07 Q1397.49 1564.07 1399.72 1562.66 Q1401.95 1561.23 1401.95 1558.65 Q1401.95 1556.27 1400.33 1554.99 Q1398.74 1553.72 1393.29 1552.54 L1391.26 1552.07 Q1385.81 1550.92 1383.39 1548.56 Q1380.97 1546.18 1380.97 1542.04 Q1380.97 1537.01 1384.54 1534.27 Q1388.1 1531.54 1394.66 1531.54 Q1397.91 1531.54 1400.77 1532.01 Q1403.64 1532.49 1406.06 1533.45 Z\" fill=\"#000000\" fill-rule=\"evenodd\" fill-opacity=\"1\" /><path clip-path=\"url(#clip420)\" d=\"M1416.37 1518.58 L1421.46 1518.58 Q1426.24 1526.09 1428.59 1533.29 Q1430.98 1540.48 1430.98 1547.58 Q1430.98 1554.71 1428.59 1561.93 Q1426.24 1569.16 1421.46 1576.64 L1416.37 1576.64 Q1420.6 1569.35 1422.67 1562.16 Q1424.77 1554.93 1424.77 1547.58 Q1424.77 1540.23 1422.67 1533.06 Q1420.6 1525.9 1416.37 1518.58 Z\" fill=\"#000000\" fill-rule=\"evenodd\" fill-opacity=\"1\" /><polyline clip-path=\"url(#clip422)\" style=\"stroke:#000000; stroke-linecap:butt; stroke-linejoin:round; stroke-width:2; stroke-opacity:0.1; fill:none\" points=\"\n",
       "  249.542,1386.4 2352.76,1386.4 \n",
       "  \"/>\n",
       "<polyline clip-path=\"url(#clip422)\" style=\"stroke:#000000; stroke-linecap:butt; stroke-linejoin:round; stroke-width:2; stroke-opacity:0.1; fill:none\" points=\"\n",
       "  249.542,1079.86 2352.76,1079.86 \n",
       "  \"/>\n",
       "<polyline clip-path=\"url(#clip422)\" style=\"stroke:#000000; stroke-linecap:butt; stroke-linejoin:round; stroke-width:2; stroke-opacity:0.1; fill:none\" points=\"\n",
       "  249.542,773.326 2352.76,773.326 \n",
       "  \"/>\n",
       "<polyline clip-path=\"url(#clip422)\" style=\"stroke:#000000; stroke-linecap:butt; stroke-linejoin:round; stroke-width:2; stroke-opacity:0.1; fill:none\" points=\"\n",
       "  249.542,466.791 2352.76,466.791 \n",
       "  \"/>\n",
       "<polyline clip-path=\"url(#clip422)\" style=\"stroke:#000000; stroke-linecap:butt; stroke-linejoin:round; stroke-width:2; stroke-opacity:0.1; fill:none\" points=\"\n",
       "  249.542,160.256 2352.76,160.256 \n",
       "  \"/>\n",
       "<polyline clip-path=\"url(#clip420)\" style=\"stroke:#000000; stroke-linecap:butt; stroke-linejoin:round; stroke-width:4; stroke-opacity:1; fill:none\" points=\"\n",
       "  249.542,1423.18 249.542,123.472 \n",
       "  \"/>\n",
       "<polyline clip-path=\"url(#clip420)\" style=\"stroke:#000000; stroke-linecap:butt; stroke-linejoin:round; stroke-width:4; stroke-opacity:1; fill:none\" points=\"\n",
       "  249.542,1386.4 268.44,1386.4 \n",
       "  \"/>\n",
       "<polyline clip-path=\"url(#clip420)\" style=\"stroke:#000000; stroke-linecap:butt; stroke-linejoin:round; stroke-width:4; stroke-opacity:1; fill:none\" points=\"\n",
       "  249.542,1079.86 268.44,1079.86 \n",
       "  \"/>\n",
       "<polyline clip-path=\"url(#clip420)\" style=\"stroke:#000000; stroke-linecap:butt; stroke-linejoin:round; stroke-width:4; stroke-opacity:1; fill:none\" points=\"\n",
       "  249.542,773.326 268.44,773.326 \n",
       "  \"/>\n",
       "<polyline clip-path=\"url(#clip420)\" style=\"stroke:#000000; stroke-linecap:butt; stroke-linejoin:round; stroke-width:4; stroke-opacity:1; fill:none\" points=\"\n",
       "  249.542,466.791 268.44,466.791 \n",
       "  \"/>\n",
       "<polyline clip-path=\"url(#clip420)\" style=\"stroke:#000000; stroke-linecap:butt; stroke-linejoin:round; stroke-width:4; stroke-opacity:1; fill:none\" points=\"\n",
       "  249.542,160.256 268.44,160.256 \n",
       "  \"/>\n",
       "<path clip-path=\"url(#clip420)\" d=\"M126.205 1372.19 Q122.593 1372.19 120.765 1375.76 Q118.959 1379.3 118.959 1386.43 Q118.959 1393.54 120.765 1397.1 Q122.593 1400.64 126.205 1400.64 Q129.839 1400.64 131.644 1397.1 Q133.473 1393.54 133.473 1386.43 Q133.473 1379.3 131.644 1375.76 Q129.839 1372.19 126.205 1372.19 M126.205 1368.49 Q132.015 1368.49 135.07 1373.1 Q138.149 1377.68 138.149 1386.43 Q138.149 1395.16 135.07 1399.76 Q132.015 1404.35 126.205 1404.35 Q120.394 1404.35 117.316 1399.76 Q114.26 1395.16 114.26 1386.43 Q114.26 1377.68 117.316 1373.1 Q120.394 1368.49 126.205 1368.49 Z\" fill=\"#000000\" fill-rule=\"evenodd\" fill-opacity=\"1\" /><path clip-path=\"url(#clip420)\" d=\"M146.366 1397.8 L151.251 1397.8 L151.251 1403.68 L146.366 1403.68 L146.366 1397.8 Z\" fill=\"#000000\" fill-rule=\"evenodd\" fill-opacity=\"1\" /><path clip-path=\"url(#clip420)\" d=\"M171.436 1372.19 Q167.825 1372.19 165.996 1375.76 Q164.19 1379.3 164.19 1386.43 Q164.19 1393.54 165.996 1397.1 Q167.825 1400.64 171.436 1400.64 Q175.07 1400.64 176.876 1397.1 Q178.704 1393.54 178.704 1386.43 Q178.704 1379.3 176.876 1375.76 Q175.07 1372.19 171.436 1372.19 M171.436 1368.49 Q177.246 1368.49 180.301 1373.1 Q183.38 1377.68 183.38 1386.43 Q183.38 1395.16 180.301 1399.76 Q177.246 1404.35 171.436 1404.35 Q165.626 1404.35 162.547 1399.76 Q159.491 1395.16 159.491 1386.43 Q159.491 1377.68 162.547 1373.1 Q165.626 1368.49 171.436 1368.49 Z\" fill=\"#000000\" fill-rule=\"evenodd\" fill-opacity=\"1\" /><path clip-path=\"url(#clip420)\" d=\"M201.598 1372.19 Q197.987 1372.19 196.158 1375.76 Q194.352 1379.3 194.352 1386.43 Q194.352 1393.54 196.158 1397.1 Q197.987 1400.64 201.598 1400.64 Q205.232 1400.64 207.037 1397.1 Q208.866 1393.54 208.866 1386.43 Q208.866 1379.3 207.037 1375.76 Q205.232 1372.19 201.598 1372.19 M201.598 1368.49 Q207.408 1368.49 210.463 1373.1 Q213.542 1377.68 213.542 1386.43 Q213.542 1395.16 210.463 1399.76 Q207.408 1404.35 201.598 1404.35 Q195.787 1404.35 192.709 1399.76 Q189.653 1395.16 189.653 1386.43 Q189.653 1377.68 192.709 1373.1 Q195.787 1368.49 201.598 1368.49 Z\" fill=\"#000000\" fill-rule=\"evenodd\" fill-opacity=\"1\" /><path clip-path=\"url(#clip420)\" d=\"M127.2 1065.66 Q123.589 1065.66 121.76 1069.22 Q119.955 1072.77 119.955 1079.9 Q119.955 1087 121.76 1090.57 Q123.589 1094.11 127.2 1094.11 Q130.834 1094.11 132.64 1090.57 Q134.468 1087 134.468 1079.9 Q134.468 1072.77 132.64 1069.22 Q130.834 1065.66 127.2 1065.66 M127.2 1061.96 Q133.01 1061.96 136.066 1066.56 Q139.144 1071.15 139.144 1079.9 Q139.144 1088.62 136.066 1093.23 Q133.01 1097.81 127.2 1097.81 Q121.39 1097.81 118.311 1093.23 Q115.256 1088.62 115.256 1079.9 Q115.256 1071.15 118.311 1066.56 Q121.39 1061.96 127.2 1061.96 Z\" fill=\"#000000\" fill-rule=\"evenodd\" fill-opacity=\"1\" /><path clip-path=\"url(#clip420)\" d=\"M147.362 1091.26 L152.246 1091.26 L152.246 1097.14 L147.362 1097.14 L147.362 1091.26 Z\" fill=\"#000000\" fill-rule=\"evenodd\" fill-opacity=\"1\" /><path clip-path=\"url(#clip420)\" d=\"M166.459 1093.21 L182.778 1093.21 L182.778 1097.14 L160.834 1097.14 L160.834 1093.21 Q163.496 1090.45 168.079 1085.82 Q172.686 1081.17 173.866 1079.83 Q176.112 1077.3 176.991 1075.57 Q177.894 1073.81 177.894 1072.12 Q177.894 1069.36 175.95 1067.63 Q174.028 1065.89 170.927 1065.89 Q168.727 1065.89 166.274 1066.65 Q163.843 1067.42 161.065 1068.97 L161.065 1064.25 Q163.89 1063.11 166.343 1062.53 Q168.797 1061.96 170.834 1061.96 Q176.204 1061.96 179.399 1064.64 Q182.593 1067.33 182.593 1071.82 Q182.593 1073.95 181.783 1075.87 Q180.996 1077.77 178.889 1080.36 Q178.311 1081.03 175.209 1084.25 Q172.107 1087.44 166.459 1093.21 Z\" fill=\"#000000\" fill-rule=\"evenodd\" fill-opacity=\"1\" /><path clip-path=\"url(#clip420)\" d=\"M192.639 1062.58 L210.996 1062.58 L210.996 1066.52 L196.922 1066.52 L196.922 1074.99 Q197.94 1074.64 198.959 1074.48 Q199.977 1074.29 200.996 1074.29 Q206.783 1074.29 210.162 1077.47 Q213.542 1080.64 213.542 1086.05 Q213.542 1091.63 210.07 1094.73 Q206.598 1097.81 200.278 1097.81 Q198.102 1097.81 195.834 1097.44 Q193.588 1097.07 191.181 1096.33 L191.181 1091.63 Q193.264 1092.77 195.487 1093.32 Q197.709 1093.88 200.186 1093.88 Q204.19 1093.88 206.528 1091.77 Q208.866 1089.66 208.866 1086.05 Q208.866 1082.44 206.528 1080.34 Q204.19 1078.23 200.186 1078.23 Q198.311 1078.23 196.436 1078.65 Q194.584 1079.06 192.639 1079.94 L192.639 1062.58 Z\" fill=\"#000000\" fill-rule=\"evenodd\" fill-opacity=\"1\" /><path clip-path=\"url(#clip420)\" d=\"M126.205 759.125 Q122.593 759.125 120.765 762.689 Q118.959 766.231 118.959 773.361 Q118.959 780.467 120.765 784.032 Q122.593 787.574 126.205 787.574 Q129.839 787.574 131.644 784.032 Q133.473 780.467 133.473 773.361 Q133.473 766.231 131.644 762.689 Q129.839 759.125 126.205 759.125 M126.205 755.421 Q132.015 755.421 135.07 760.027 Q138.149 764.611 138.149 773.361 Q138.149 782.088 135.07 786.694 Q132.015 791.277 126.205 791.277 Q120.394 791.277 117.316 786.694 Q114.26 782.088 114.26 773.361 Q114.26 764.611 117.316 760.027 Q120.394 755.421 126.205 755.421 Z\" fill=\"#000000\" fill-rule=\"evenodd\" fill-opacity=\"1\" /><path clip-path=\"url(#clip420)\" d=\"M146.366 784.726 L151.251 784.726 L151.251 790.606 L146.366 790.606 L146.366 784.726 Z\" fill=\"#000000\" fill-rule=\"evenodd\" fill-opacity=\"1\" /><path clip-path=\"url(#clip420)\" d=\"M161.482 756.046 L179.839 756.046 L179.839 759.981 L165.765 759.981 L165.765 768.453 Q166.783 768.106 167.802 767.944 Q168.82 767.759 169.839 767.759 Q175.626 767.759 179.005 770.93 Q182.385 774.101 182.385 779.518 Q182.385 785.097 178.913 788.199 Q175.44 791.277 169.121 791.277 Q166.945 791.277 164.677 790.907 Q162.431 790.537 160.024 789.796 L160.024 785.097 Q162.107 786.231 164.329 786.787 Q166.552 787.342 169.028 787.342 Q173.033 787.342 175.371 785.236 Q177.709 783.129 177.709 779.518 Q177.709 775.907 175.371 773.801 Q173.033 771.694 169.028 771.694 Q167.153 771.694 165.278 772.111 Q163.427 772.527 161.482 773.407 L161.482 756.046 Z\" fill=\"#000000\" fill-rule=\"evenodd\" fill-opacity=\"1\" /><path clip-path=\"url(#clip420)\" d=\"M201.598 759.125 Q197.987 759.125 196.158 762.689 Q194.352 766.231 194.352 773.361 Q194.352 780.467 196.158 784.032 Q197.987 787.574 201.598 787.574 Q205.232 787.574 207.037 784.032 Q208.866 780.467 208.866 773.361 Q208.866 766.231 207.037 762.689 Q205.232 759.125 201.598 759.125 M201.598 755.421 Q207.408 755.421 210.463 760.027 Q213.542 764.611 213.542 773.361 Q213.542 782.088 210.463 786.694 Q207.408 791.277 201.598 791.277 Q195.787 791.277 192.709 786.694 Q189.653 782.088 189.653 773.361 Q189.653 764.611 192.709 760.027 Q195.787 755.421 201.598 755.421 Z\" fill=\"#000000\" fill-rule=\"evenodd\" fill-opacity=\"1\" /><path clip-path=\"url(#clip420)\" d=\"M127.2 452.59 Q123.589 452.59 121.76 456.155 Q119.955 459.696 119.955 466.826 Q119.955 473.932 121.76 477.497 Q123.589 481.039 127.2 481.039 Q130.834 481.039 132.64 477.497 Q134.468 473.932 134.468 466.826 Q134.468 459.696 132.64 456.155 Q130.834 452.59 127.2 452.59 M127.2 448.886 Q133.01 448.886 136.066 453.493 Q139.144 458.076 139.144 466.826 Q139.144 475.553 136.066 480.159 Q133.01 484.742 127.2 484.742 Q121.39 484.742 118.311 480.159 Q115.256 475.553 115.256 466.826 Q115.256 458.076 118.311 453.493 Q121.39 448.886 127.2 448.886 Z\" fill=\"#000000\" fill-rule=\"evenodd\" fill-opacity=\"1\" /><path clip-path=\"url(#clip420)\" d=\"M147.362 478.192 L152.246 478.192 L152.246 484.071 L147.362 484.071 L147.362 478.192 Z\" fill=\"#000000\" fill-rule=\"evenodd\" fill-opacity=\"1\" /><path clip-path=\"url(#clip420)\" d=\"M161.251 449.511 L183.473 449.511 L183.473 451.502 L170.927 484.071 L166.042 484.071 L177.848 453.446 L161.251 453.446 L161.251 449.511 Z\" fill=\"#000000\" fill-rule=\"evenodd\" fill-opacity=\"1\" /><path clip-path=\"url(#clip420)\" d=\"M192.639 449.511 L210.996 449.511 L210.996 453.446 L196.922 453.446 L196.922 461.918 Q197.94 461.571 198.959 461.409 Q199.977 461.224 200.996 461.224 Q206.783 461.224 210.162 464.395 Q213.542 467.567 213.542 472.983 Q213.542 478.562 210.07 481.664 Q206.598 484.742 200.278 484.742 Q198.102 484.742 195.834 484.372 Q193.588 484.002 191.181 483.261 L191.181 478.562 Q193.264 479.696 195.487 480.252 Q197.709 480.807 200.186 480.807 Q204.19 480.807 206.528 478.701 Q208.866 476.594 208.866 472.983 Q208.866 469.372 206.528 467.266 Q204.19 465.159 200.186 465.159 Q198.311 465.159 196.436 465.576 Q194.584 465.993 192.639 466.872 L192.639 449.511 Z\" fill=\"#000000\" fill-rule=\"evenodd\" fill-opacity=\"1\" /><path clip-path=\"url(#clip420)\" d=\"M117.015 173.601 L124.654 173.601 L124.654 147.236 L116.343 148.902 L116.343 144.643 L124.607 142.976 L129.283 142.976 L129.283 173.601 L136.922 173.601 L136.922 177.536 L117.015 177.536 L117.015 173.601 Z\" fill=\"#000000\" fill-rule=\"evenodd\" fill-opacity=\"1\" /><path clip-path=\"url(#clip420)\" d=\"M146.366 171.657 L151.251 171.657 L151.251 177.536 L146.366 177.536 L146.366 171.657 Z\" fill=\"#000000\" fill-rule=\"evenodd\" fill-opacity=\"1\" /><path clip-path=\"url(#clip420)\" d=\"M171.436 146.055 Q167.825 146.055 165.996 149.62 Q164.19 153.161 164.19 160.291 Q164.19 167.397 165.996 170.962 Q167.825 174.504 171.436 174.504 Q175.07 174.504 176.876 170.962 Q178.704 167.397 178.704 160.291 Q178.704 153.161 176.876 149.62 Q175.07 146.055 171.436 146.055 M171.436 142.351 Q177.246 142.351 180.301 146.958 Q183.38 151.541 183.38 160.291 Q183.38 169.018 180.301 173.624 Q177.246 178.208 171.436 178.208 Q165.626 178.208 162.547 173.624 Q159.491 169.018 159.491 160.291 Q159.491 151.541 162.547 146.958 Q165.626 142.351 171.436 142.351 Z\" fill=\"#000000\" fill-rule=\"evenodd\" fill-opacity=\"1\" /><path clip-path=\"url(#clip420)\" d=\"M201.598 146.055 Q197.987 146.055 196.158 149.62 Q194.352 153.161 194.352 160.291 Q194.352 167.397 196.158 170.962 Q197.987 174.504 201.598 174.504 Q205.232 174.504 207.037 170.962 Q208.866 167.397 208.866 160.291 Q208.866 153.161 207.037 149.62 Q205.232 146.055 201.598 146.055 M201.598 142.351 Q207.408 142.351 210.463 146.958 Q213.542 151.541 213.542 160.291 Q213.542 169.018 210.463 173.624 Q207.408 178.208 201.598 178.208 Q195.787 178.208 192.709 173.624 Q189.653 169.018 189.653 160.291 Q189.653 151.541 192.709 146.958 Q195.787 142.351 201.598 142.351 Z\" fill=\"#000000\" fill-rule=\"evenodd\" fill-opacity=\"1\" /><path clip-path=\"url(#clip420)\" d=\"M16.4842 1013.52 L16.4842 983.474 L21.895 983.474 L21.895 1007.09 L35.9632 1007.09 L35.9632 984.461 L41.3741 984.461 L41.3741 1007.09 L58.5933 1007.09 L58.5933 982.901 L64.0042 982.901 L64.0042 1013.52 L16.4842 1013.52 Z\" fill=\"#000000\" fill-rule=\"evenodd\" fill-opacity=\"1\" /><path clip-path=\"url(#clip420)\" d=\"M42.4881 942.956 L64.0042 942.956 L64.0042 948.813 L42.679 948.813 Q37.6183 948.813 35.1038 950.786 Q32.5894 952.759 32.5894 956.706 Q32.5894 961.449 35.6131 964.186 Q38.6368 966.923 43.8567 966.923 L64.0042 966.923 L64.0042 972.811 L28.3562 972.811 L28.3562 966.923 L33.8944 966.923 Q30.6797 964.822 29.0883 961.99 Q27.4968 959.125 27.4968 955.401 Q27.4968 949.258 31.3163 946.107 Q35.1038 942.956 42.4881 942.956 Z\" fill=\"#000000\" fill-rule=\"evenodd\" fill-opacity=\"1\" /><path clip-path=\"url(#clip420)\" d=\"M44.7161 900.783 L47.5806 900.783 L47.5806 927.71 Q53.6281 927.328 56.8109 924.082 Q59.9619 920.803 59.9619 914.979 Q59.9619 911.605 59.1344 908.454 Q58.3069 905.271 56.6518 902.152 L62.1899 902.152 Q63.5267 905.303 64.227 908.613 Q64.9272 911.923 64.9272 915.329 Q64.9272 923.859 59.9619 928.856 Q54.9967 933.821 46.5303 933.821 Q37.7774 933.821 32.6531 929.111 Q27.4968 924.368 27.4968 916.347 Q27.4968 909.154 32.1438 904.985 Q36.7589 900.783 44.7161 900.783 M42.9973 906.64 Q38.1912 906.703 35.3266 909.345 Q32.4621 911.955 32.4621 916.284 Q32.4621 921.185 35.2312 924.145 Q38.0002 927.074 43.0292 927.519 L42.9973 906.64 Z\" fill=\"#000000\" fill-rule=\"evenodd\" fill-opacity=\"1\" /><path clip-path=\"url(#clip420)\" d=\"M33.8307 870.514 Q33.2578 871.501 33.0032 872.679 Q32.7167 873.825 32.7167 875.225 Q32.7167 880.19 35.9632 882.864 Q39.1779 885.506 45.2253 885.506 L64.0042 885.506 L64.0042 891.394 L28.3562 891.394 L28.3562 885.506 L33.8944 885.506 Q30.6479 883.66 29.0883 880.7 Q27.4968 877.739 27.4968 873.506 Q27.4968 872.902 27.5923 872.169 Q27.656 871.437 27.8151 870.546 L33.8307 870.514 Z\" fill=\"#000000\" fill-rule=\"evenodd\" fill-opacity=\"1\" /><path clip-path=\"url(#clip420)\" d=\"M45.7664 842.06 Q39.4007 842.06 35.8996 844.701 Q32.3984 847.311 32.3984 852.054 Q32.3984 856.764 35.8996 859.406 Q39.4007 862.016 45.7664 862.016 Q52.1003 862.016 55.6014 859.406 Q59.1026 856.764 59.1026 852.054 Q59.1026 847.311 55.6014 844.701 Q52.1003 842.06 45.7664 842.06 M59.58 836.203 Q68.683 836.203 73.1071 840.245 Q77.5631 844.288 77.5631 852.627 Q77.5631 855.714 77.0857 858.451 Q76.6401 861.189 75.6852 863.767 L69.9879 863.767 Q71.3884 861.189 72.0568 858.674 Q72.7252 856.16 72.7252 853.55 Q72.7252 847.789 69.7015 844.924 Q66.7096 842.06 60.6303 842.06 L57.7339 842.06 Q60.885 843.874 62.4446 846.707 Q64.0042 849.539 64.0042 853.486 Q64.0042 860.043 59.0071 864.053 Q54.01 868.064 45.7664 868.064 Q37.491 868.064 32.4939 864.053 Q27.4968 860.043 27.4968 853.486 Q27.4968 849.539 29.0564 846.707 Q30.616 843.874 33.7671 842.06 L28.3562 842.06 L28.3562 836.203 L59.58 836.203 Z\" fill=\"#000000\" fill-rule=\"evenodd\" fill-opacity=\"1\" /><path clip-path=\"url(#clip420)\" d=\"M67.3143 809.308 Q73.68 811.791 75.6216 814.146 Q77.5631 816.501 77.5631 820.448 L77.5631 825.127 L72.6615 825.127 L72.6615 821.689 Q72.6615 819.27 71.5157 817.934 Q70.3699 816.597 66.1048 814.974 L63.4312 813.923 L28.3562 828.342 L28.3562 822.135 L56.238 810.995 L28.3562 799.855 L28.3562 793.649 L67.3143 809.308 Z\" fill=\"#000000\" fill-rule=\"evenodd\" fill-opacity=\"1\" /><path clip-path=\"url(#clip420)\" d=\"M14.5426 750.775 Q21.8632 755.04 29.0246 757.109 Q36.186 759.178 43.5384 759.178 Q50.8908 759.178 58.1159 757.109 Q65.3091 755.009 72.5979 750.775 L72.5979 755.868 Q65.1182 760.642 57.8931 763.029 Q50.668 765.385 43.5384 765.385 Q36.4406 765.385 29.2474 763.029 Q22.0542 760.674 14.5426 755.868 L14.5426 750.775 Z\" fill=\"#000000\" fill-rule=\"evenodd\" fill-opacity=\"1\" /><path clip-path=\"url(#clip420)\" d=\"M16.4842 739.158 L16.4842 732.729 L60.694 732.729 Q69.2877 732.729 73.1708 736.007 Q77.0539 739.254 77.0539 746.479 L77.0539 748.929 L71.643 748.929 L71.643 746.924 Q71.643 742.659 69.2559 740.909 Q66.8687 739.158 60.694 739.158 L16.4842 739.158 Z\" fill=\"#000000\" fill-rule=\"evenodd\" fill-opacity=\"1\" /><path clip-path=\"url(#clip420)\" d=\"M32.4621 706.375 Q32.4621 711.085 36.1542 713.823 Q39.8145 716.56 46.212 716.56 Q52.6095 716.56 56.3017 713.854 Q59.9619 711.117 59.9619 706.375 Q59.9619 701.696 56.2698 698.959 Q52.5777 696.221 46.212 696.221 Q39.8781 696.221 36.186 698.959 Q32.4621 701.696 32.4621 706.375 M27.4968 706.375 Q27.4968 698.736 32.4621 694.375 Q37.4273 690.015 46.212 690.015 Q54.9649 690.015 59.9619 694.375 Q64.9272 698.736 64.9272 706.375 Q64.9272 714.045 59.9619 718.406 Q54.9649 722.735 46.212 722.735 Q37.4273 722.735 32.4621 718.406 Q27.4968 714.045 27.4968 706.375 Z\" fill=\"#000000\" fill-rule=\"evenodd\" fill-opacity=\"1\" /><path clip-path=\"url(#clip420)\" d=\"M49.9359 680.912 L28.3562 680.912 L28.3562 675.055 L49.7131 675.055 Q54.7739 675.055 57.3202 673.082 Q59.8346 671.109 59.8346 667.162 Q59.8346 662.419 56.8109 659.682 Q53.7872 656.913 48.5673 656.913 L28.3562 656.913 L28.3562 651.057 L64.0042 651.057 L64.0042 656.913 L58.5296 656.913 Q61.7762 659.046 63.3676 661.878 Q64.9272 664.679 64.9272 668.403 Q64.9272 674.546 61.1078 677.729 Q57.2883 680.912 49.9359 680.912 M27.4968 666.175 L27.4968 666.175 Z\" fill=\"#000000\" fill-rule=\"evenodd\" fill-opacity=\"1\" /><path clip-path=\"url(#clip420)\" d=\"M14.479 638.994 L14.479 633.137 L64.0042 633.137 L64.0042 638.994 L14.479 638.994 Z\" fill=\"#000000\" fill-rule=\"evenodd\" fill-opacity=\"1\" /><path clip-path=\"url(#clip420)\" d=\"M44.7161 590.391 L47.5806 590.391 L47.5806 617.318 Q53.6281 616.936 56.8109 613.69 Q59.9619 610.412 59.9619 604.587 Q59.9619 601.213 59.1344 598.062 Q58.3069 594.879 56.6518 591.76 L62.1899 591.76 Q63.5267 594.911 64.227 598.221 Q64.9272 601.531 64.9272 604.937 Q64.9272 613.467 59.9619 618.464 Q54.9967 623.43 46.5303 623.43 Q37.7774 623.43 32.6531 618.719 Q27.4968 613.976 27.4968 605.956 Q27.4968 598.762 32.1438 594.593 Q36.7589 590.391 44.7161 590.391 M42.9973 596.248 Q38.1912 596.312 35.3266 598.953 Q32.4621 601.563 32.4621 605.892 Q32.4621 610.794 35.2312 613.754 Q38.0002 616.682 43.0292 617.127 L42.9973 596.248 Z\" fill=\"#000000\" fill-rule=\"evenodd\" fill-opacity=\"1\" /><path clip-path=\"url(#clip420)\" d=\"M29.4065 558.054 L34.9447 558.054 Q33.6716 560.536 33.035 563.21 Q32.3984 565.884 32.3984 568.748 Q32.3984 573.109 33.7352 575.305 Q35.072 577.469 37.7456 577.469 Q39.7826 577.469 40.9603 575.91 Q42.1061 574.35 43.1565 569.639 L43.6021 567.634 Q44.9389 561.396 47.3897 558.786 Q49.8086 556.144 54.1691 556.144 Q59.1344 556.144 62.0308 560.091 Q64.9272 564.006 64.9272 570.881 Q64.9272 573.745 64.3543 576.864 Q63.8132 579.952 62.6992 583.389 L56.6518 583.389 Q58.3387 580.143 59.198 576.992 Q60.0256 573.841 60.0256 570.753 Q60.0256 566.616 58.6251 564.388 Q57.1929 562.16 54.6147 562.16 Q52.2276 562.16 50.9545 563.783 Q49.6813 565.374 48.5037 570.817 L48.0262 572.854 Q46.8804 578.297 44.5251 580.716 Q42.138 583.135 38.0002 583.135 Q32.9713 583.135 30.2341 579.57 Q27.4968 576.005 27.4968 569.448 Q27.4968 566.202 27.9743 563.337 Q28.4517 560.473 29.4065 558.054 Z\" fill=\"#000000\" fill-rule=\"evenodd\" fill-opacity=\"1\" /><path clip-path=\"url(#clip420)\" d=\"M14.5426 547.741 L14.5426 542.649 Q22.0542 537.874 29.2474 535.519 Q36.4406 533.132 43.5384 533.132 Q50.668 533.132 57.8931 535.519 Q65.1182 537.874 72.5979 542.649 L72.5979 547.741 Q65.3091 543.508 58.1159 541.439 Q50.8908 539.339 43.5384 539.339 Q36.186 539.339 29.0246 541.439 Q21.8632 543.508 14.5426 547.741 Z\" fill=\"#000000\" fill-rule=\"evenodd\" fill-opacity=\"1\" /><path clip-path=\"url(#clip420)\" d=\"M873.9 12.096 L925.063 12.096 L925.063 18.9825 L903.593 18.9825 L903.593 72.576 L895.37 72.576 L895.37 18.9825 L873.9 18.9825 L873.9 12.096 Z\" fill=\"#000000\" fill-rule=\"evenodd\" fill-opacity=\"1\" /><path clip-path=\"url(#clip420)\" d=\"M936.122 32.4315 Q930.127 32.4315 926.643 37.1306 Q923.159 41.7891 923.159 49.9314 Q923.159 58.0738 926.602 62.7728 Q930.086 67.4314 936.122 67.4314 Q942.077 67.4314 945.561 62.7323 Q949.044 58.0333 949.044 49.9314 Q949.044 41.8701 945.561 37.1711 Q942.077 32.4315 936.122 32.4315 M936.122 26.1121 Q945.844 26.1121 951.394 32.4315 Q956.944 38.7509 956.944 49.9314 Q956.944 61.0714 951.394 67.4314 Q945.844 73.7508 936.122 73.7508 Q926.359 73.7508 920.81 67.4314 Q915.3 61.0714 915.3 49.9314 Q915.3 38.7509 920.81 32.4315 Q926.359 26.1121 936.122 26.1121 Z\" fill=\"#000000\" fill-rule=\"evenodd\" fill-opacity=\"1\" /><path clip-path=\"url(#clip420)\" d=\"M976.672 14.324 L976.672 27.2059 L992.024 27.2059 L992.024 32.9987 L976.672 32.9987 L976.672 57.6282 Q976.672 63.1779 978.17 64.7578 Q979.71 66.3376 984.368 66.3376 L992.024 66.3376 L992.024 72.576 L984.368 72.576 Q975.74 72.576 972.459 69.3758 Q969.177 66.1351 969.177 57.6282 L969.177 32.9987 L963.709 32.9987 L963.709 27.2059 L969.177 27.2059 L969.177 14.324 L976.672 14.324 Z\" fill=\"#000000\" fill-rule=\"evenodd\" fill-opacity=\"1\" /><path clip-path=\"url(#clip420)\" d=\"M1022.45 49.7694 Q1013.41 49.7694 1009.93 51.8354 Q1006.45 53.9013 1006.45 58.8839 Q1006.45 62.8538 1009.04 65.2034 Q1011.67 67.5124 1016.17 67.5124 Q1022.37 67.5124 1026.09 63.1374 Q1029.86 58.7219 1029.86 51.4303 L1029.86 49.7694 L1022.45 49.7694 M1037.31 46.6907 L1037.31 72.576 L1029.86 72.576 L1029.86 65.6895 Q1027.31 69.8214 1023.5 71.8063 Q1019.69 73.7508 1014.18 73.7508 Q1007.22 73.7508 1003.08 69.8619 Q998.992 65.9325 998.992 59.3701 Q998.992 51.7138 1004.1 47.825 Q1009.24 43.9361 1019.41 43.9361 L1029.86 43.9361 L1029.86 43.2069 Q1029.86 38.0623 1026.46 35.2672 Q1023.09 32.4315 1016.98 32.4315 Q1013.09 32.4315 1009.4 33.3632 Q1005.72 34.295 1002.31 36.1584 L1002.31 29.2718 Q1006.41 27.692 1010.25 26.9223 Q1014.1 26.1121 1017.75 26.1121 Q1027.59 26.1121 1032.45 31.2163 Q1037.31 36.3204 1037.31 46.6907 Z\" fill=\"#000000\" fill-rule=\"evenodd\" fill-opacity=\"1\" /><path clip-path=\"url(#clip420)\" d=\"M1052.67 9.54393 L1060.12 9.54393 L1060.12 72.576 L1052.67 72.576 L1052.67 9.54393 Z\" fill=\"#000000\" fill-rule=\"evenodd\" fill-opacity=\"1\" /><path clip-path=\"url(#clip420)\" d=\"M1102.41 12.096 L1140.65 12.096 L1140.65 18.9825 L1110.59 18.9825 L1110.59 36.8875 L1139.4 36.8875 L1139.4 43.7741 L1110.59 43.7741 L1110.59 65.6895 L1141.38 65.6895 L1141.38 72.576 L1102.41 72.576 L1102.41 12.096 Z\" fill=\"#000000\" fill-rule=\"evenodd\" fill-opacity=\"1\" /><path clip-path=\"url(#clip420)\" d=\"M1192.22 45.1919 L1192.22 72.576 L1184.77 72.576 L1184.77 45.4349 Q1184.77 38.994 1182.25 35.7938 Q1179.74 32.5936 1174.72 32.5936 Q1168.68 32.5936 1165.2 36.4419 Q1161.72 40.2903 1161.72 46.9338 L1161.72 72.576 L1154.22 72.576 L1154.22 27.2059 L1161.72 27.2059 L1161.72 34.2544 Q1164.39 30.163 1168 28.1376 Q1171.64 26.1121 1176.38 26.1121 Q1184.2 26.1121 1188.21 30.9732 Q1192.22 35.7938 1192.22 45.1919 Z\" fill=\"#000000\" fill-rule=\"evenodd\" fill-opacity=\"1\" /><path clip-path=\"url(#clip420)\" d=\"M1245.89 48.0275 L1245.89 51.6733 L1211.62 51.6733 Q1212.11 59.3701 1216.24 63.421 Q1220.41 67.4314 1227.83 67.4314 Q1232.12 67.4314 1236.13 66.3781 Q1240.18 65.3249 1244.15 63.2184 L1244.15 70.267 Q1240.14 71.9684 1235.93 72.8596 Q1231.72 73.7508 1227.38 73.7508 Q1216.53 73.7508 1210.17 67.4314 Q1203.85 61.1119 1203.85 50.3365 Q1203.85 39.1965 1209.84 32.6746 Q1215.88 26.1121 1226.09 26.1121 Q1235.24 26.1121 1240.55 32.0264 Q1245.89 37.9003 1245.89 48.0275 M1238.44 45.84 Q1238.36 39.7232 1235 36.0774 Q1231.68 32.4315 1226.17 32.4315 Q1219.93 32.4315 1216.16 35.9558 Q1212.43 39.4801 1211.87 45.8805 L1238.44 45.84 Z\" fill=\"#000000\" fill-rule=\"evenodd\" fill-opacity=\"1\" /><path clip-path=\"url(#clip420)\" d=\"M1284.42 34.1734 Q1283.16 33.4443 1281.66 33.1202 Q1280.21 32.7556 1278.42 32.7556 Q1272.1 32.7556 1268.7 36.8875 Q1265.34 40.9789 1265.34 48.6757 L1265.34 72.576 L1257.84 72.576 L1257.84 27.2059 L1265.34 27.2059 L1265.34 34.2544 Q1267.69 30.1225 1271.46 28.1376 Q1275.22 26.1121 1280.61 26.1121 Q1281.38 26.1121 1282.31 26.2337 Q1283.24 26.3147 1284.38 26.5172 L1284.42 34.1734 Z\" fill=\"#000000\" fill-rule=\"evenodd\" fill-opacity=\"1\" /><path clip-path=\"url(#clip420)\" d=\"M1320.63 49.3643 Q1320.63 41.2625 1317.27 36.8065 Q1313.95 32.3505 1307.91 32.3505 Q1301.92 32.3505 1298.56 36.8065 Q1295.23 41.2625 1295.23 49.3643 Q1295.23 57.4256 1298.56 61.8816 Q1301.92 66.3376 1307.91 66.3376 Q1313.95 66.3376 1317.27 61.8816 Q1320.63 57.4256 1320.63 49.3643 M1328.09 66.9452 Q1328.09 78.5308 1322.94 84.1616 Q1317.8 89.8329 1307.18 89.8329 Q1303.26 89.8329 1299.77 89.2252 Q1296.29 88.6581 1293.01 87.4428 L1293.01 80.1917 Q1296.29 81.9741 1299.49 82.8248 Q1302.69 83.6755 1306.01 83.6755 Q1313.34 83.6755 1316.99 79.8271 Q1320.63 76.0193 1320.63 68.282 L1320.63 64.5957 Q1318.32 68.6061 1314.72 70.5911 Q1311.11 72.576 1306.09 72.576 Q1297.75 72.576 1292.64 66.2161 Q1287.54 59.8562 1287.54 49.3643 Q1287.54 38.832 1292.64 32.472 Q1297.75 26.1121 1306.09 26.1121 Q1311.11 26.1121 1314.72 28.0971 Q1318.32 30.082 1320.63 34.0924 L1320.63 27.2059 L1328.09 27.2059 L1328.09 66.9452 Z\" fill=\"#000000\" fill-rule=\"evenodd\" fill-opacity=\"1\" /><path clip-path=\"url(#clip420)\" d=\"M1362.32 76.7889 Q1359.16 84.8907 1356.16 87.3618 Q1353.16 89.8329 1348.14 89.8329 L1342.18 89.8329 L1342.18 83.5945 L1346.56 83.5945 Q1349.64 83.5945 1351.34 82.1361 Q1353.04 80.6778 1355.11 75.2496 L1356.44 71.8468 L1338.09 27.2059 L1345.99 27.2059 L1360.17 62.6918 L1374.35 27.2059 L1382.25 27.2059 L1362.32 76.7889 Z\" fill=\"#000000\" fill-rule=\"evenodd\" fill-opacity=\"1\" /><path clip-path=\"url(#clip420)\" d=\"M1413.56 27.2059 L1421.46 27.2059 L1435.64 65.2844 L1449.82 27.2059 L1457.72 27.2059 L1440.7 72.576 L1430.58 72.576 L1413.56 27.2059 Z\" fill=\"#000000\" fill-rule=\"evenodd\" fill-opacity=\"1\" /><path clip-path=\"url(#clip420)\" d=\"M1496.93 28.5427 L1496.93 35.5912 Q1493.77 33.9709 1490.37 33.1607 Q1486.96 32.3505 1483.32 32.3505 Q1477.77 32.3505 1474.97 34.0519 Q1472.22 35.7533 1472.22 39.156 Q1472.22 41.7486 1474.2 43.2475 Q1476.19 44.7058 1482.18 46.0426 L1484.74 46.6097 Q1492.68 48.3111 1496 51.4303 Q1499.36 54.509 1499.36 60.0587 Q1499.36 66.3781 1494.34 70.0644 Q1489.35 73.7508 1480.6 73.7508 Q1476.96 73.7508 1472.99 73.0216 Q1469.06 72.3329 1464.68 70.9151 L1464.68 63.2184 Q1468.82 65.3654 1472.83 66.4591 Q1476.84 67.5124 1480.77 67.5124 Q1486.03 67.5124 1488.87 65.73 Q1491.7 63.9071 1491.7 60.6258 Q1491.7 57.5877 1489.64 55.9673 Q1487.61 54.3469 1480.69 52.8481 L1478.09 52.2405 Q1471.17 50.7821 1468.09 47.7845 Q1465.01 44.7463 1465.01 39.4801 Q1465.01 33.0797 1469.55 29.5959 Q1474.08 26.1121 1482.43 26.1121 Q1486.56 26.1121 1490.2 26.7198 Q1493.85 27.3274 1496.93 28.5427 Z\" fill=\"#000000\" fill-rule=\"evenodd\" fill-opacity=\"1\" /><path clip-path=\"url(#clip420)\" d=\"M1529.54 12.096 L1580.7 12.096 L1580.7 18.9825 L1559.23 18.9825 L1559.23 72.576 L1551.01 72.576 L1551.01 18.9825 L1529.54 18.9825 L1529.54 12.096 Z\" fill=\"#000000\" fill-rule=\"evenodd\" fill-opacity=\"1\" /><path clip-path=\"url(#clip420)\" d=\"M1585.72 27.2059 L1593.18 27.2059 L1593.18 72.576 L1585.72 72.576 L1585.72 27.2059 M1585.72 9.54393 L1593.18 9.54393 L1593.18 18.9825 L1585.72 18.9825 L1585.72 9.54393 Z\" fill=\"#000000\" fill-rule=\"evenodd\" fill-opacity=\"1\" /><path clip-path=\"url(#clip420)\" d=\"M1644.1 35.9153 Q1646.89 30.8922 1650.78 28.5022 Q1654.67 26.1121 1659.94 26.1121 Q1667.03 26.1121 1670.87 31.0947 Q1674.72 36.0368 1674.72 45.1919 L1674.72 72.576 L1667.23 72.576 L1667.23 45.4349 Q1667.23 38.913 1664.92 35.7533 Q1662.61 32.5936 1657.87 32.5936 Q1652.08 32.5936 1648.72 36.4419 Q1645.35 40.2903 1645.35 46.9338 L1645.35 72.576 L1637.86 72.576 L1637.86 45.4349 Q1637.86 38.8725 1635.55 35.7533 Q1633.24 32.5936 1628.42 32.5936 Q1622.71 32.5936 1619.35 36.4824 Q1615.99 40.3308 1615.99 46.9338 L1615.99 72.576 L1608.49 72.576 L1608.49 27.2059 L1615.99 27.2059 L1615.99 34.2544 Q1618.54 30.082 1622.1 28.0971 Q1625.67 26.1121 1630.57 26.1121 Q1635.51 26.1121 1638.95 28.6237 Q1642.44 31.1352 1644.1 35.9153 Z\" fill=\"#000000\" fill-rule=\"evenodd\" fill-opacity=\"1\" /><path clip-path=\"url(#clip420)\" d=\"M1728.4 48.0275 L1728.4 51.6733 L1694.13 51.6733 Q1694.61 59.3701 1698.75 63.421 Q1702.92 67.4314 1710.33 67.4314 Q1714.62 67.4314 1718.64 66.3781 Q1722.69 65.3249 1726.66 63.2184 L1726.66 70.267 Q1722.65 71.9684 1718.43 72.8596 Q1714.22 73.7508 1709.89 73.7508 Q1699.03 73.7508 1692.67 67.4314 Q1686.35 61.1119 1686.35 50.3365 Q1686.35 39.1965 1692.34 32.6746 Q1698.38 26.1121 1708.59 26.1121 Q1717.74 26.1121 1723.05 32.0264 Q1728.4 37.9003 1728.4 48.0275 M1720.94 45.84 Q1720.86 39.7232 1717.5 36.0774 Q1714.18 32.4315 1708.67 32.4315 Q1702.43 32.4315 1698.66 35.9558 Q1694.94 39.4801 1694.37 45.8805 L1720.94 45.84 Z\" fill=\"#000000\" fill-rule=\"evenodd\" fill-opacity=\"1\" /><path clip-path=\"url(#clip420)\" d=\"\n",
       "M1996.53 270.476 L2282.65 270.476 L2282.65 166.796 L1996.53 166.796  Z\n",
       "  \" fill=\"#ffffff\" fill-rule=\"evenodd\" fill-opacity=\"1\"/>\n",
       "<polyline clip-path=\"url(#clip420)\" style=\"stroke:#000000; stroke-linecap:butt; stroke-linejoin:round; stroke-width:4; stroke-opacity:1; fill:none\" points=\"\n",
       "  1996.53,270.476 2282.65,270.476 2282.65,166.796 1996.53,166.796 1996.53,270.476 \n",
       "  \"/>\n",
       "<polyline clip-path=\"url(#clip420)\" style=\"stroke:#009af9; stroke-linecap:butt; stroke-linejoin:round; stroke-width:4; stroke-opacity:1; fill:none\" points=\"\n",
       "  2019.9,218.636 2160.11,218.636 \n",
       "  \"/>\n",
       "<path clip-path=\"url(#clip420)\" d=\"M2197.32 238.323 Q2195.52 242.953 2193.8 244.365 Q2192.09 245.777 2189.22 245.777 L2185.82 245.777 L2185.82 242.212 L2188.32 242.212 Q2190.08 242.212 2191.05 241.379 Q2192.02 240.545 2193.2 237.443 L2193.97 235.499 L2183.48 209.99 L2187.99 209.99 L2196.1 230.268 L2204.2 209.99 L2208.71 209.99 L2197.32 238.323 Z\" fill=\"#000000\" fill-rule=\"evenodd\" fill-opacity=\"1\" /><path clip-path=\"url(#clip420)\" d=\"M2216 231.981 L2223.64 231.981 L2223.64 205.615 L2215.33 207.282 L2215.33 203.022 L2223.6 201.356 L2228.27 201.356 L2228.27 231.981 L2235.91 231.981 L2235.91 235.916 L2216 235.916 L2216 231.981 Z\" fill=\"#000000\" fill-rule=\"evenodd\" fill-opacity=\"1\" /></svg>\n"
      ]
     },
     "execution_count": 31,
     "metadata": {},
     "output_type": "execute_result"
    }
   ],
   "source": [
    "#Plot total energy\n",
    "using Plots\n",
    "\n",
    "E = zeros(N)\n",
    "for k = 1:N\n",
    "    E[k] = Energy(xhist[:, k])\n",
    "end\n",
    "\n",
    "plot(thist,E, title=\"Total Energy vs Time\", xlabel=\"Time (s)\", ylabel=\"Energy (Joules)\")"
   ]
  },
  {
   "cell_type": "code",
   "execution_count": null,
   "id": "9d51ff34",
   "metadata": {},
   "outputs": [],
   "source": []
  }
 ],
 "metadata": {
  "kernelspec": {
   "display_name": "Julia 1.6.3",
   "language": "julia",
   "name": "julia-1.6"
  },
  "language_info": {
   "file_extension": ".jl",
   "mimetype": "application/julia",
   "name": "julia",
   "version": "1.6.3"
  }
 },
 "nbformat": 4,
 "nbformat_minor": 5
}
