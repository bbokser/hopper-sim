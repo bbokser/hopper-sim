{
 "cells": [
  {
   "cell_type": "code",
   "execution_count": 1,
   "id": "0db4f718",
   "metadata": {},
   "outputs": [
    {
     "name": "stderr",
     "output_type": "stream",
     "text": [
      "\u001b[32m\u001b[1m  Activating\u001b[22m\u001b[39m environment at `~/Documents/git_workspace/16715/dynamics-simulation-leg/scripts/Project.toml`\n"
     ]
    }
   ],
   "source": [
    "import Pkg; Pkg.activate(@__DIR__); Pkg.instantiate()"
   ]
  },
  {
   "cell_type": "code",
   "execution_count": 2,
   "id": "5bb7d46a",
   "metadata": {},
   "outputs": [
    {
     "data": {
      "application/vnd.webio.node+json": {
       "children": [],
       "instanceArgs": {
        "namespace": "html",
        "tag": "div"
       },
       "nodeType": "DOM",
       "props": {},
       "type": "node"
      },
      "text/html": [
       "<div style=\"padding: 1em; background-color: #f8d6da; border: 1px solid #f5c6cb; font-weight: bold;\">\n",
       "<p>The WebIO Jupyter extension was not detected. See the\n",
       "<a href=\"https://juliagizmos.github.io/WebIO.jl/latest/providers/ijulia/\" target=\"_blank\">\n",
       "    WebIO Jupyter integration documentation\n",
       "</a>\n",
       "for more information.\n",
       "</div>\n"
      ],
      "text/plain": [
       "WebIO._IJuliaInit()"
      ]
     },
     "metadata": {},
     "output_type": "display_data"
    }
   ],
   "source": [
    "using RigidBodyDynamics\n",
    "using LinearAlgebra\n",
    "using MeshCatMechanisms\n",
    "using MeshCat\n",
    "using StaticArrays\n",
    "using SparseArrays\n",
    "using ForwardDiff"
   ]
  },
  {
   "cell_type": "code",
   "execution_count": 3,
   "id": "bd26e358",
   "metadata": {},
   "outputs": [
    {
     "data": {
      "text/plain": [
       "3×3 Matrix{Float64}:\n",
       "  1.76997e-5  -5.36954e-7    7.6235e-7\n",
       " -5.36954e-7   0.000164188  -2.77844e-7\n",
       "  7.6235e-7   -2.77844e-7    0.000160656"
      ]
     },
     "execution_count": 3,
     "metadata": {},
     "output_type": "execute_result"
    }
   ],
   "source": [
    "# link lengths\n",
    "const l0 = 0.1\n",
    "const l1 = 0.3\n",
    "const l2 = 0.3\n",
    "const l3 = 0.1\n",
    "const l4 = 0.2\n",
    "const l5 = 0.0205\n",
    "const lee = [l3 + l4; l5; 0] # sqrt((l3 + l4)^2 + l5^2)\n",
    "\n",
    "# CoM locations\n",
    "const l_cb = [0; 0.004; 0]\n",
    "const l_c0 = [0.0125108364230515; 0.00117191218927888; 0]\n",
    "const l_c1 = [0.149359714867044; 0; 0]\n",
    "const l_c2 = [0.0469412900551914; 0; 0]\n",
    "const l_c3 = [0.113177000131857; -0.015332867880069; 0]\n",
    "\n",
    "# link masses\n",
    "const mb = 7  # kg\n",
    "const m0 = 0.24644240965487\n",
    "const m1 = 0.0707939028219395\n",
    "const m2 = 0.276735496985514\n",
    "const m3 = 0.130824780046739\n",
    "const m = diagm([m0, m1, m2, m3])\n",
    "    \n",
    "# gravity, obviously\n",
    "const g = 9.807\n",
    "\n",
    "# mass moment of inertia in axis of rotation\n",
    "const Ib = Array([0.0024241 5.252E-06 2.0733E-19; \n",
    "                  5.252E-06 0.0044176 -3.1153E-19; \n",
    "                  2.0733E-19 -3.1153E-19 0.0022481])\n",
    "\n",
    "const I0 = Array([3.83120149546952E-05 1.46925714738609E-05 -8.60106401672571E-06;\n",
    "                  1.46925714738609E-05 0.000172067745507247 1.0427260925207E-06;\n",
    "                  -8.60106401672571E-06 1.0427260925207E-06 0.00014745218068435])\n",
    "\n",
    "const I1 = Array([3.06999775886187E-06 7.91090301514898E-12 -1.43705963146176E-12;\n",
    "                  7.91090301514898E-12 0.000147960574744097 1.30742394049546E-11;\n",
    "                  -1.43705963146176E-12 1.30742394049546E-11 0.000147884231885009])\n",
    "\n",
    "const I2 = Array([3.43038397803592E-05 -2.90339844227483E-07 6.18680397558952E-06;\n",
    "                  -2.90339844227483E-07 0.000302324068012293 2.25016327583562E-08;\n",
    "                  6.18680397558952E-06 2.25016327583562E-08 0.00028292376778719])\n",
    "\n",
    "const I3 = Array([1.76996970020568E-05 -5.3695427116208E-07 7.62350214406387E-07;\n",
    "                  -5.3695427116208E-07 0.000164188445564489 -2.77843753828047E-07;\n",
    "                  7.62350214406387E-07 -2.77843753828047E-07 0.000160656046697151])\n",
    "# const J = Diagonal([I0, I1, I2, I3])"
   ]
  },
  {
   "cell_type": "code",
   "execution_count": 4,
   "id": "3b123e9a",
   "metadata": {},
   "outputs": [
    {
     "data": {
      "text/plain": [
       "30×30 SparseMatrixCSC{Float64, Int64} with 60 stored entries:\n",
       "⠑⢄⣀⠀⠀⠀⠀⠀⠀⠀⠀⠀⠀⠀⠀\n",
       "⠀⠘⠛⢄⠀⠀⠀⠀⠀⠀⠀⠀⠀⠀⠀\n",
       "⠀⠀⠀⠀⢱⣶⠀⠀⠀⠀⠀⠀⠀⠀⠀\n",
       "⠀⠀⠀⠀⠀⠀⠑⢄⣀⠀⠀⠀⠀⠀⠀\n",
       "⠀⠀⠀⠀⠀⠀⠀⠘⠛⢄⠀⠀⠀⠀⠀\n",
       "⠀⠀⠀⠀⠀⠀⠀⠀⠀⠀⢱⣶⠀⠀⠀\n",
       "⠀⠀⠀⠀⠀⠀⠀⠀⠀⠀⠀⠀⠑⢄⣀\n",
       "⠀⠀⠀⠀⠀⠀⠀⠀⠀⠀⠀⠀⠀⠘⠛"
      ]
     },
     "execution_count": 4,
     "metadata": {},
     "output_type": "execute_result"
    }
   ],
   "source": [
    "M̄ = [mb*I(3) zeros(3, 27)\n",
    "     zeros(3,3) Ib zeros(3, 24)\n",
    "     zeros(3,6) m0*I(3) zeros(3,21);\n",
    "     zeros(3,9) I0 zeros(3,18);\n",
    "     zeros(3,12) m1*I(3) zeros(3,15);\n",
    "     zeros(3,15) I1 zeros(3, 12);\n",
    "     zeros(3,18) m2*I(3) zeros(3, 9);\n",
    "     zeros(3, 21) I2 zeros(3, 6);\n",
    "     zeros(3, 24) m3*I(3) zeros(3, 3);\n",
    "     zeros(3, 27) I3]"
   ]
  },
  {
   "cell_type": "code",
   "execution_count": 5,
   "id": "cf229fe8",
   "metadata": {},
   "outputs": [
    {
     "data": {
      "text/plain": [
       "G̃ (generic function with 1 method)"
      ]
     },
     "execution_count": 5,
     "metadata": {},
     "output_type": "execute_result"
    }
   ],
   "source": [
    "function hat(ω)\n",
    "    return [0 -ω[3] ω[2];\n",
    "            ω[3] 0 -ω[1];\n",
    "            -ω[2] ω[1] 0]\n",
    "end\n",
    "\n",
    "function L(Q)\n",
    "    [Q[1] -Q[2:4]'; Q[2:4] Q[1]*I + hat(Q[2:4])]\n",
    "end\n",
    "\n",
    "function R(Q)\n",
    "    [Q[1] -Q[2:4]'; Q[2:4] Q[1]*I - hat(Q[2:4])]\n",
    "end\n",
    "\n",
    "H = [zeros(1,3); I];\n",
    "\n",
    "T = Diagonal([1.0; -1; -1; -1])\n",
    "\n",
    "function G(Q)\n",
    "    return L(Q)*H  # 4x3\n",
    "end\n",
    "\n",
    "function Ḡ(q)\n",
    "    Q = q[4:7]\n",
    "    return [I(3) zeros(3,4); zeros(4,3) G(Q) zeros(4,1); zeros(1,6) 1]\n",
    "end\n",
    "\n",
    "function G̃(q)\n",
    "    Q = q[4:7]\n",
    "    #return [I(3) zeros(3,7); zeros(4,3) 0.5*G(Q) zeros(4,4); zeros(1,6) 1 zeros(1, 3)]  # 8x10\n",
    "    #11x10\n",
    "   return blockdiag(sparse(I, 3, 3), sparse(0.5*G(Qb)),sparse(I, 4, 4))\n",
    "end"
   ]
  },
  {
   "cell_type": "code",
   "execution_count": 6,
   "id": "7b6d7119",
   "metadata": {},
   "outputs": [
    {
     "data": {
      "text/plain": [
       "rotate (generic function with 1 method)"
      ]
     },
     "execution_count": 6,
     "metadata": {},
     "output_type": "execute_result"
    }
   ],
   "source": [
    "function Expq(ϕ)\n",
    "    # The quaternion exponential map ϕ → Q \n",
    "    # Convert axis angle to quaternion\n",
    "    Q = zeros(eltype(ϕ), 4)\n",
    "    θ = norm(ϕ)\n",
    "    r = ϕ/θ\n",
    "    Q[1] = cos(θ/2)\n",
    "    Q[2:4] = r*sin.(θ/2)\n",
    "    return Q\n",
    "end\n",
    "\n",
    "function rotate(Q, p)\n",
    "    # Rotate a position vector p by a quaternion Q\n",
    "    return H'L(Q)*R(Q)'*H*p\n",
    "end"
   ]
  },
  {
   "cell_type": "code",
   "execution_count": 7,
   "id": "40b0e540",
   "metadata": {},
   "outputs": [
    {
     "data": {
      "text/plain": [
       "kinematics (generic function with 1 method)"
      ]
     },
     "execution_count": 7,
     "metadata": {},
     "output_type": "execute_result"
    }
   ],
   "source": [
    "#Kinematics\n",
    "function kinematics(q)\n",
    "    rb = q[1:3]  # body com location\n",
    "    Qb = q[4:7]  # body quaternion\n",
    "    q0 = q[8]  # joint angles\n",
    "    q1 = q[9]\n",
    "    q2 = q[10]\n",
    "    q3 = q[11]\n",
    "    \n",
    "    pb = rb + rotate(Qb, l_cb)  # position vector from world frame to *JOINTS* 0 and 2\n",
    "    \n",
    "    Qb0 = Expq([0, 0, q0])  # quaternion from base to link 0\n",
    "    Q0 = L(Qb)*Qb0  # quaternion from world frame to link 0\n",
    "    r0 = pb + rotate(Q0, l_c0)\n",
    "    \n",
    "    Q01 = Expq([0, q1, 0])  # quaternion from link 0 to link 1\n",
    "    Q1 = L(Q0)*Q01  # quaternion from world frame to link 1\n",
    "    r1 = pb + rotate(Q0, [l0; 0; 0]) + rotate(Q1, l_c1)  \n",
    "    \n",
    "    Qb2 = Expq([0, q2, 0])  # quaternion from base to link 2\n",
    "    Q2 = L(Qb)*Qb2  # quaternion from world frame to link 2\n",
    "    r2 = pb + rotate(Q2, l_c2)\n",
    "    \n",
    "    Q23 = Expq([0, q3, 0])  # quaternion from base to link 2\n",
    "    Q3 = L(Q2)*Q23  # quaternion from world frame to link 2\n",
    "    r3 = pb + rotate(Q2, [l2; 0; 0]) + rotate(Q3, l_c3)  \n",
    "    \n",
    "    return [rb; Qb; r0; Q0; r1; Q1; r2; Q2; r3; Q3]\n",
    "end"
   ]
  },
  {
   "cell_type": "code",
   "execution_count": 8,
   "id": "b1af450e",
   "metadata": {},
   "outputs": [
    {
     "data": {
      "text/plain": [
       "K (generic function with 1 method)"
      ]
     },
     "execution_count": 8,
     "metadata": {},
     "output_type": "execute_result"
    }
   ],
   "source": [
    "\n",
    "#Kinematic Jacobian\n",
    "function K(q)\n",
    "    k = kinematics(q);\n",
    "    rb = k[1:3]\n",
    "    Qb = k[4:7]\n",
    "    r0 = k[8:10]\n",
    "    Q0 = k[11:14]\n",
    "    r1 = k[15:17]\n",
    "    Q1 = k[18:21]\n",
    "    r2 = k[22:24]\n",
    "    Q2 = k[25:28]\n",
    "    r3 = k[29:31]\n",
    "    Q3 = k[32:35]\n",
    "    \n",
    "    dk = ForwardDiff.jacobian(dq->kinematics(dq),q)  # 35x11\n",
    "\n",
    "    # 30x35\n",
    "    Ḡ1 = blockdiag(sparse(I, 3, 3), sparse(2*G(Qb)'),\n",
    "                   sparse(I, 3, 3), sparse(2*G(Q0)'),\n",
    "                   sparse(I, 3, 3), sparse(2*G(Q1)'),\n",
    "                   sparse(I, 3, 3), sparse(2*G(Q2)'),\n",
    "                   sparse(I, 3, 3), sparse(2*G(Q3)'),)\n",
    "\n",
    "    # 11x10\n",
    "    Ḡ2 = blockdiag(sparse(I, 3, 3), sparse(0.5*G(Qb)),\n",
    "                   sparse(I, 4, 4))\n",
    "    \n",
    "    K = Ḡ1*dk*Ḡ2\n",
    "        \n",
    "    return K\n",
    "end"
   ]
  },
  {
   "cell_type": "code",
   "execution_count": 9,
   "id": "586745d5",
   "metadata": {},
   "outputs": [
    {
     "data": {
      "text/plain": [
       "M (generic function with 1 method)"
      ]
     },
     "execution_count": 9,
     "metadata": {},
     "output_type": "execute_result"
    }
   ],
   "source": [
    "#Mass Matrix\n",
    "function M(q)    \n",
    "    return K(q)'*M̄*K(q)\n",
    "end\n",
    "\n",
    "# eigvals(M(q0))"
   ]
  },
  {
   "cell_type": "code",
   "execution_count": 10,
   "id": "dd6cba08",
   "metadata": {},
   "outputs": [
    {
     "data": {
      "text/plain": [
       "DQ0U (generic function with 1 method)"
      ]
     },
     "execution_count": 10,
     "metadata": {},
     "output_type": "execute_result"
    }
   ],
   "source": [
    "#Potential\n",
    "function U(q)\n",
    "    return 0.0  # assume zero gravity for now\n",
    "end\n",
    "\n",
    "function DQ0U(q)\n",
    "    rb = q[1:3]  # body com location\n",
    "    Qb = q[4:7]  # body quaternion\n",
    "    q0 = q[8]  # joint angles\n",
    "    q1 = q[9]\n",
    "    q2 = q[10]\n",
    "    q3 = q[11]\n",
    "    \n",
    "    ForwardDiff.gradient(dQb->U([rb; dQb; q0; q1; q2; q3]), Qb)\n",
    "end\n",
    "\n"
   ]
  },
  {
   "cell_type": "code",
   "execution_count": 11,
   "id": "bb9950e3",
   "metadata": {},
   "outputs": [
    {
     "data": {
      "text/plain": [
       "Lagrangian (generic function with 1 method)"
      ]
     },
     "execution_count": 11,
     "metadata": {},
     "output_type": "execute_result"
    }
   ],
   "source": [
    "#Lagrangian\n",
    "function Lagrangian(q,v)\n",
    "    0.5*v'*M(q)*v - U(q)\n",
    "end"
   ]
  },
  {
   "cell_type": "code",
   "execution_count": 12,
   "id": "5f71216e",
   "metadata": {},
   "outputs": [
    {
     "data": {
      "text/plain": [
       "10×201 Matrix{Float64}:\n",
       " 1.0  1.0  1.0  1.0  1.0  1.0  1.0  1.0  …  1.0  1.0  1.0  1.0  1.0  1.0  1.0\n",
       " 1.0  1.0  1.0  1.0  1.0  1.0  1.0  1.0     1.0  1.0  1.0  1.0  1.0  1.0  1.0\n",
       " 1.0  1.0  1.0  1.0  1.0  1.0  1.0  1.0     1.0  1.0  1.0  1.0  1.0  1.0  1.0\n",
       " 1.0  1.0  1.0  1.0  1.0  1.0  1.0  1.0     1.0  1.0  1.0  1.0  1.0  1.0  1.0\n",
       " 1.0  1.0  1.0  1.0  1.0  1.0  1.0  1.0     1.0  1.0  1.0  1.0  1.0  1.0  1.0\n",
       " 1.0  1.0  1.0  1.0  1.0  1.0  1.0  1.0  …  1.0  1.0  1.0  1.0  1.0  1.0  1.0\n",
       " 1.0  1.0  1.0  1.0  1.0  1.0  1.0  1.0     1.0  1.0  1.0  1.0  1.0  1.0  1.0\n",
       " 1.0  1.0  1.0  1.0  1.0  1.0  1.0  1.0     1.0  1.0  1.0  1.0  1.0  1.0  1.0\n",
       " 1.0  1.0  1.0  1.0  1.0  1.0  1.0  1.0     1.0  1.0  1.0  1.0  1.0  1.0  1.0\n",
       " 1.0  1.0  1.0  1.0  1.0  1.0  1.0  1.0     1.0  1.0  1.0  1.0  1.0  1.0  1.0"
      ]
     },
     "execution_count": 12,
     "metadata": {},
     "output_type": "execute_result"
    }
   ],
   "source": [
    "#Initial Conditions\n",
    "rb = zeros(3)\n",
    "Qb = [1.0; 0; 0; 0]\n",
    "q0 = -30*pi/180;\n",
    "q1 = -120*(pi/180)\n",
    "q2 = -150*(pi/180)\n",
    "q3 = 120*(pi/180)\n",
    "q_init = [rb; Qb; q0; q1; q2; q3]\n",
    "\n",
    "q̇0 = 0.0\n",
    "q̇1 = 0.0\n",
    "q̇2 = 0.0\n",
    "q̇3 = 0.0\n",
    "ωb = zeros(3)\n",
    "ṙb = zeros(3) #cross(ω0,[-0.5*ℓ1; 0; 0])\n",
    "v_init = [ṙb; ωb; q̇0; q̇1; q̇2; q̇3]\n",
    "\n",
    "x_init = [q_init; v_init]\n",
    "\n",
    "Tf = 10.0\n",
    "h = 0.05 #20 Hz\n",
    "thist = 0:h:Tf\n",
    "N = length(thist)\n",
    "\n",
    "xhist = zeros(21,N)\n",
    "xhist[:,1] .= x_init\n",
    "\n",
    "#Torque input at joint\n",
    "uhist = ones(10, N)"
   ]
  },
  {
   "cell_type": "code",
   "execution_count": 13,
   "id": "5f784bd1",
   "metadata": {},
   "outputs": [
    {
     "data": {
      "text/plain": [
       "Dq̇3L (generic function with 1 method)"
      ]
     },
     "execution_count": 13,
     "metadata": {},
     "output_type": "execute_result"
    }
   ],
   "source": [
    "#Lagrangian Derivatives\n",
    "\n",
    "function DrbL(q,v)\n",
    "    rb = q[1:3]  # body com location\n",
    "    Qb = q[4:7]  # body quaternion\n",
    "    q0 = q[8]  # joint angles\n",
    "    q1 = q[9]\n",
    "    q2 = q[10]\n",
    "    q3 = q[11]\n",
    "    \n",
    "    ForwardDiff.gradient(drb->Lagrangian([drb; Qb; q0; q1; q2; q3],v), rb)\n",
    "end\n",
    "\n",
    "function DQbL(q,v)\n",
    "    rb = q[1:3]  # body com location\n",
    "    Qb = q[4:7]  # body quaternion\n",
    "    q0 = q[8]  # joint angles\n",
    "    q1 = q[9]\n",
    "    q2 = q[10]\n",
    "    q3 = q[11]\n",
    "    \n",
    "    ForwardDiff.gradient(dQb->Lagrangian([rb; dQb; q0; q1; q2; q3],v), Qb)\n",
    "end\n",
    "\n",
    "function Dq0L(q,v)\n",
    "    rb = q[1:3]  # body com location\n",
    "    Qb = q[4:7]  # body quaternion\n",
    "    q0 = q[8]  # joint angles\n",
    "    q1 = q[9]\n",
    "    q2 = q[10]\n",
    "    q3 = q[11]\n",
    "    \n",
    "    ForwardDiff.derivative(dq0->Lagrangian([rb; Qb; dq0; q1; q2; q3],v), q0)\n",
    "end\n",
    "\n",
    "function Dq1L(q,v)\n",
    "    rb = q[1:3]  # body com location\n",
    "    Qb = q[4:7]  # body quaternion\n",
    "    q0 = q[8]  # joint angles\n",
    "    q1 = q[9]\n",
    "    q2 = q[10]\n",
    "    q3 = q[11]\n",
    "    \n",
    "    ForwardDiff.derivative(dq1->Lagrangian([rb; Qb; q0; dq1; q2; q3],v), q1)\n",
    "end\n",
    "\n",
    "function Dq2L(q,v)\n",
    "    rb = q[1:3]  # body com location\n",
    "    Qb = q[4:7]  # body quaternion\n",
    "    q0 = q[8]  # joint angles\n",
    "    q1 = q[9]\n",
    "    q2 = q[10]\n",
    "    q3 = q[11]\n",
    "    \n",
    "    ForwardDiff.derivative(dq2->Lagrangian([rb; Qb; q0; q1; dq2; q3],v), q2)\n",
    "end\n",
    "\n",
    "function Dq3L(q,v)\n",
    "    rb = q[1:3]  # body com location\n",
    "    Qb = q[4:7]  # body quaternion\n",
    "    q0 = q[8]  # joint angles\n",
    "    q1 = q[9]\n",
    "    q2 = q[10]\n",
    "    q3 = q[11]\n",
    "    \n",
    "    ForwardDiff.derivative(dq3->Lagrangian([rb; Qb; q0; q1; q2; dq3],v), q3)\n",
    "end\n",
    "\n",
    "function DṙbL(q,v)\n",
    "    ṙb = v[1:3]\n",
    "    ωb = v[4:6]\n",
    "    q̇0 = v[7]\n",
    "    q̇1 = v[8]\n",
    "    q̇2 = v[9]\n",
    "    q̇3 = v[10]\n",
    "    \n",
    "    ForwardDiff.gradient(dṙb->Lagrangian(q,[dṙb; ωb; q̇0; q̇1; q̇2; q̇3]), ṙb)\n",
    "end\n",
    "    \n",
    "function DωbL(q,v)\n",
    "    ṙb = v[1:3]\n",
    "    ωb = v[4:6]\n",
    "    q̇0 = v[7]\n",
    "    q̇1 = v[8]\n",
    "    q̇2 = v[9]\n",
    "    q̇3 = v[10]\n",
    "    \n",
    "    ForwardDiff.gradient(dωb->Lagrangian(q,[ṙb; dωb; q̇0; q̇1; q̇2; q̇3]), ωb)\n",
    "end\n",
    "\n",
    "function Dq̇0L(q,v)\n",
    "    ṙb = v[1:3]\n",
    "    ωb = v[4:6]\n",
    "    q̇0 = v[7]\n",
    "    q̇1 = v[8]\n",
    "    q̇2 = v[9]\n",
    "    q̇3 = v[10]\n",
    "    \n",
    "    ForwardDiff.derivative(dq̇0->Lagrangian(q,[ṙb; ωb; dq̇0; q̇1; q̇2; q̇3]), q̇0)\n",
    "end\n",
    "\n",
    "function Dq̇1L(q,v)\n",
    "    ṙb = v[1:3]\n",
    "    ωb = v[4:6]\n",
    "    q̇0 = v[7]\n",
    "    q̇1 = v[8]\n",
    "    q̇2 = v[9]\n",
    "    q̇3 = v[10]\n",
    "    \n",
    "    ForwardDiff.derivative(dq̇1->Lagrangian(q,[ṙb; ωb; q̇0; dq̇1; q̇2; q̇3]), q̇1)\n",
    "end\n",
    "\n",
    "function Dq̇2L(q,v)\n",
    "    ṙb = v[1:3]\n",
    "    ωb = v[4:6]\n",
    "    q̇0 = v[7]\n",
    "    q̇1 = v[8]\n",
    "    q̇2 = v[9]\n",
    "    q̇3 = v[10]\n",
    "    \n",
    "    ForwardDiff.derivative(dq̇2->Lagrangian(q,[ṙb; ωb; q̇0; q̇1; dq̇2; q̇3]), q̇2)\n",
    "end\n",
    "\n",
    "function Dq̇3L(q,v)\n",
    "    ṙb = v[1:3]\n",
    "    ωb = v[4:6]\n",
    "    q̇0 = v[7]\n",
    "    q̇1 = v[8]\n",
    "    q̇2 = v[9]\n",
    "    q̇3 = v[10]\n",
    "    \n",
    "    ForwardDiff.derivative(dq̇3->Lagrangian(q,[ṙb; ωb; q̇0; q̇1; q̇2; dq̇3]), q̇3)\n",
    "end"
   ]
  },
  {
   "cell_type": "code",
   "execution_count": 14,
   "id": "232f72de",
   "metadata": {},
   "outputs": [
    {
     "data": {
      "text/plain": [
       "B (generic function with 1 method)"
      ]
     },
     "execution_count": 14,
     "metadata": {},
     "output_type": "execute_result"
    }
   ],
   "source": [
    "#Input Jacobian\n",
    "function B(q)\n",
    "    #[zeros(7); 1.0; zeros(2)]\n",
    "    ones(10)\n",
    "end"
   ]
  },
  {
   "cell_type": "code",
   "execution_count": 15,
   "id": "38b18b2c",
   "metadata": {},
   "outputs": [
    {
     "data": {
      "text/plain": [
       "f (generic function with 1 method)"
      ]
     },
     "execution_count": 15,
     "metadata": {},
     "output_type": "execute_result"
    }
   ],
   "source": [
    "#EL Dynamics\n",
    "function f(x,u)\n",
    "    q = x[1:11]\n",
    "    v = x[12:21]  # 10\n",
    "    ω = v[4:6]\n",
    "\n",
    "    q̇ = G̃(q)*v\n",
    "    \n",
    "    Mq = [ForwardDiff.jacobian(dv->DṙbL(q,dv),v);  # 10x10\n",
    "          ForwardDiff.jacobian(dv->DωbL(q,dv),v);\n",
    "          ForwardDiff.gradient(dv->Dq̇0L(q,dv),v)';\n",
    "          ForwardDiff.gradient(dv->Dq̇1L(q,dv),v)';\n",
    "          ForwardDiff.gradient(dv->Dq̇2L(q,dv),v)';\n",
    "          ForwardDiff.gradient(dv->Dq̇3L(q,dv),v)']\n",
    "\n",
    "    CG = [-ForwardDiff.jacobian(dq->DṙbL(dq,v),q)*G̃(q)*v + DrbL(q,v);  # 10\n",
    "          -ForwardDiff.jacobian(dq->DωbL(dq,v),q)*G̃(q)*v - hat(ω)*DωbL(q,v) .+ 0.5*G(Qb)'*DQ0U(q);\n",
    "          -ForwardDiff.gradient(dq->Dq̇0L(dq,v),q)'*G̃(q)*v + Dq0L(q,v);\n",
    "          -ForwardDiff.gradient(dq->Dq̇1L(dq,v),q)'*G̃(q)*v + Dq1L(q,v);\n",
    "          -ForwardDiff.gradient(dq->Dq̇2L(dq,v),q)'*G̃(q)*v + Dq2L(q,v);\n",
    "          -ForwardDiff.gradient(dq->Dq̇3L(dq,v),q)'*G̃(q)*v + Dq3L(q,v)]\n",
    "\n",
    "    v̇ = Mq\\(CG + B(q)*u)\n",
    "    \n",
    "    #ForwardDiff.jacobian(dv->Dṙ0L(q,dv),v)*v̇ + ForwardDiff.jacobian(dq->Dṙ0L(dq,v),q)*G̃(q)*v - Dr0L(q,v)\n",
    "    #ForwardDiff.jacobian(dv->Dω0L(q,dv),v)*v̇ + ForwardDiff.jacobian(dq->Dω0L(dq,v),q)*G̃(q)*v + hat(ω)*Dω0L(q,v) - 0.5*H'*L(Q0)'*DQ0L(q,v)\n",
    "    #ForwardDiff.jacobian(dv->Dq̇1L(q,dv),v)*v̇ + ForwardDiff.jacobian(dq->Dq̇1L(dq,v),q)*G̃(q)*v - Dq1L(q,v)\n",
    "    \n",
    "    \n",
    "    return [q̇; v̇]\n",
    "end"
   ]
  },
  {
   "cell_type": "code",
   "execution_count": 16,
   "id": "f47bf130",
   "metadata": {},
   "outputs": [
    {
     "data": {
      "text/plain": [
       "rk4_step (generic function with 1 method)"
      ]
     },
     "execution_count": 16,
     "metadata": {},
     "output_type": "execute_result"
    }
   ],
   "source": [
    "function rk4_step(f, xk, uk, uk1, h)\n",
    "\n",
    "    f1 = f(xk, uk)\n",
    "    f2 = f(xk + 0.5*h*f1, 0.5*(uk + uk1))\n",
    "    f3 = f(xk + 0.5*h*f2, 0.5*(uk + uk1))\n",
    "    f4 = f(xk + h*f3, uk1)\n",
    "    \n",
    "    xn = xk + (h/6.0)*(f1 + 2*f2 + 2*f3 + f4)\n",
    "    xn[4:7] = xn[4:7]/norm(xn[4:7]) #re-normalize quaternion\n",
    "    \n",
    "    return xn\n",
    "end"
   ]
  },
  {
   "cell_type": "code",
   "execution_count": 17,
   "id": "9dc5b8ad",
   "metadata": {},
   "outputs": [
    {
     "data": {
      "text/plain": [
       "simulate! (generic function with 1 method)"
      ]
     },
     "execution_count": 17,
     "metadata": {},
     "output_type": "execute_result"
    }
   ],
   "source": [
    "function simulate!(xhist, N)\n",
    "    for k = 1:(N-1)\n",
    "        xhist[:,k+1] .= rk4_step(f, xhist[:,k], uhist[k], uhist[k+1], h)\n",
    "        print(\"\\r Simulation \", trunc(Int, k/(N-1)*100), \"% complete\")\n",
    "        flush(stdout)\n",
    "    end\n",
    "end"
   ]
  },
  {
   "cell_type": "code",
   "execution_count": 18,
   "id": "5dbf79e0",
   "metadata": {
    "scrolled": true
   },
   "outputs": [
    {
     "name": "stdout",
     "output_type": "stream",
     "text": [
      " Simulation 100% complete"
     ]
    }
   ],
   "source": [
    "simulate!(xhist, N)"
   ]
  },
  {
   "cell_type": "code",
   "execution_count": 19,
   "id": "9205577b",
   "metadata": {},
   "outputs": [
    {
     "data": {
      "text/plain": [
       "201-element Vector{Vector{Float64}}:\n",
       " [0.0, 0.0, 0.0, 0.0]\n",
       " [-1.5515516207382878, -0.18316844452242664, -1.9851081515212234, -0.7203564639472484]\n",
       " [-341.6985045150909, -115.88039190617441, -1913.0568397558534, 20.081188639458034]\n",
       " [-2.4555011095822815e52, 1.8656619343085392e53, -2.586886933195469e52, -6.4638486556442845e53]\n",
       " [NaN, NaN, NaN, NaN]\n",
       " [NaN, NaN, NaN, NaN]\n",
       " [NaN, NaN, NaN, NaN]\n",
       " [NaN, NaN, NaN, NaN]\n",
       " [NaN, NaN, NaN, NaN]\n",
       " [NaN, NaN, NaN, NaN]\n",
       " [NaN, NaN, NaN, NaN]\n",
       " [NaN, NaN, NaN, NaN]\n",
       " [NaN, NaN, NaN, NaN]\n",
       " ⋮\n",
       " [NaN, NaN, NaN, NaN]\n",
       " [NaN, NaN, NaN, NaN]\n",
       " [NaN, NaN, NaN, NaN]\n",
       " [NaN, NaN, NaN, NaN]\n",
       " [NaN, NaN, NaN, NaN]\n",
       " [NaN, NaN, NaN, NaN]\n",
       " [NaN, NaN, NaN, NaN]\n",
       " [NaN, NaN, NaN, NaN]\n",
       " [NaN, NaN, NaN, NaN]\n",
       " [NaN, NaN, NaN, NaN]\n",
       " [NaN, NaN, NaN, NaN]\n",
       " [NaN, NaN, NaN, NaN]"
      ]
     },
     "execution_count": 19,
     "metadata": {},
     "output_type": "execute_result"
    }
   ],
   "source": [
    "q0 = -xhist[8, :] .- 30*(pi/180)\n",
    "q1 = -xhist[9, :] .- 120*(pi/180)\n",
    "q2 = -xhist[10, :] .- 150*(pi/180)\n",
    "q3 = -xhist[11, :] .+ 120*(pi/180)\n",
    "\n",
    "qs = convert(AbstractArray{Float64}, [q0 q2 q1 q3]) \n",
    "ts = convert(AbstractVector{Float64}, thist) # AbstractVector(thist)\n",
    "q_array = [ qs[i,:] for i in 1:size(qs,1)] "
   ]
  },
  {
   "cell_type": "code",
   "execution_count": 20,
   "id": "6ba89431",
   "metadata": {},
   "outputs": [],
   "source": [
    "using MeshCat, GeometryBasics, CoordinateTransformations, Rotations#, GeometryTypes\n",
    "#const gt = GeometryTypes"
   ]
  },
  {
   "cell_type": "code",
   "execution_count": 21,
   "id": "5fcfed84",
   "metadata": {},
   "outputs": [
    {
     "name": "stderr",
     "output_type": "stream",
     "text": [
      "┌ Info: MeshCat server started. You can open the visualizer by visiting the following URL in your browser:\n",
      "│ http://127.0.0.1:8701\n",
      "└ @ MeshCat /home/ben/.julia/packages/MeshCat/GlCMx/src/visualizer.jl:73\n"
     ]
    },
    {
     "data": {
      "text/html": [
       "    <div style=\"height: 500px; width: 100%; overflow-x: auto; overflow-y: hidden; resize: both\">\n",
       "    <iframe src=\"http://127.0.0.1:8701\" style=\"width: 100%; height: 100%; border: none\"></iframe>\n",
       "    </div>\n"
      ],
      "text/plain": [
       "MeshCat.DisplayedVisualizer(MeshCat.CoreVisualizer(MeshCat.SceneTrees.SceneNode(nothing, nothing, Dict{String, Vector{UInt8}}(), nothing, Dict{String, MeshCat.SceneTrees.SceneNode}()), Set{Any}(), ip\"127.0.0.1\", 8701))"
      ]
     },
     "execution_count": 21,
     "metadata": {},
     "output_type": "execute_result"
    }
   ],
   "source": [
    "vis = Visualizer()\n",
    "render(vis)"
   ]
  },
  {
   "cell_type": "code",
   "execution_count": null,
   "id": "3e474bf6",
   "metadata": {},
   "outputs": [],
   "source": [
    "delete!(vis)\n",
    "\n",
    "green_material = MeshPhongMaterial(color=RGBA(0, 1, 0, 0.8))\n",
    "red_material = MeshPhongMaterial(color=RGBA(1, 0, 0, 0.8))\n",
    "\n",
    "# sphere = Sphere(Point(0, 0, 0), 3)\n",
    "# rect = Rectangle(0.2, 0.2, 0.2, 0.2)\n",
    "cylinderb = Cylinder(Point(0, -0.1, 0), Point(0, 0.1, 0), 0.2)\n",
    "cylinder0 = Cylinder(Point(-.5, 0, 0), Point(0.5, 0, 0), 0.1)\n",
    "cylinder1 = Cylinder(Point(-.5, 0, 0), Point(0.5, 0, 0), 0.1)\n",
    "cylinder2 = Cylinder(Point(-.5, 0, 0), Point(0.5, 0, 0), 0.1)\n",
    "cylinder3 = Cylinder(Point(-.5, 0, 0), Point(0.5, 0, 0), 0.1)\n",
    "\n",
    "# setobject!(vis[\"sphere\"],sphere,red_material)\n",
    "setobject!(vis[\"cylinderb\"],cylinderb,red_material)\n",
    "setobject!(vis[\"cylinder0\"],cylinder1,green_material)\n",
    "setobject!(vis[\"cylinder1\"],cylinder2,green_material)\n",
    "setobject!(vis[\"cylinder2\"],cylinder1,green_material)\n",
    "setobject!(vis[\"cylinder3\"],cylinder2,green_material)\n",
    "\n",
    "for k = 1:N\n",
    "    \n",
    "    Xk = kinematics(xhist[:,k])\n",
    "    # set position and attitude\n",
    "    positionb = Translation(Xk[1:3]...)\n",
    "    attitudeb = LinearMap(UnitQuaternion(Xk[4:7]))\n",
    "    position0 = Translation(Xk[8:10]...)\n",
    "    attitude0 = LinearMap(UnitQuaternion(Xk[11:14]))\n",
    "    position1 = Translation(Xk[15:17]...)\n",
    "    attitude1 = LinearMap(UnitQuaternion(Xk[18:21]))\n",
    "    position2 = Translation(Xk[22:24]...)\n",
    "    attitude2 = LinearMap(UnitQuaternion(Xk[25:28]))\n",
    "    position3 = Translation(Xk[29:31]...)\n",
    "    attitude3 = LinearMap(UnitQuaternion(Xk[32:35]))\n",
    "    \n",
    "    settransform!(vis[\"cylinderb\"], compose(positionb,attitudeb))\n",
    "    settransform!(vis[\"cylinder0\"], compose(position0,attitude0))\n",
    "    settransform!(vis[\"cylinder1\"], compose(position1,attitude1))\n",
    "    settransform!(vis[\"cylinder2\"], compose(position2,attitude2))\n",
    "    settransform!(vis[\"cylinder3\"], compose(position3,attitude3))\n",
    "    sleep(0.05)\n",
    "end"
   ]
  },
  {
   "cell_type": "code",
   "execution_count": null,
   "id": "7977b8b0",
   "metadata": {},
   "outputs": [],
   "source": [
    "#Energy Functions\n",
    "\n",
    "function Energy(x)\n",
    "    q = x[1:11]\n",
    "    v = x[12:end]\n",
    "    energy = Lagrangian(q,v)\n",
    "    return energy\n",
    "end"
   ]
  },
  {
   "cell_type": "code",
   "execution_count": null,
   "id": "97e6305e",
   "metadata": {},
   "outputs": [],
   "source": [
    "#Plot total energy\n",
    "using Plots\n",
    "\n",
    "E = zeros(N)\n",
    "for k = 1:N\n",
    "    E[k] = Energy(xhist[:, k])\n",
    "end\n",
    "\n",
    "plot(thist,E)"
   ]
  },
  {
   "cell_type": "code",
   "execution_count": null,
   "id": "094fff26",
   "metadata": {},
   "outputs": [],
   "source": []
  }
 ],
 "metadata": {
  "kernelspec": {
   "display_name": "Julia 1.6.3",
   "language": "julia",
   "name": "julia-1.6"
  },
  "language_info": {
   "file_extension": ".jl",
   "mimetype": "application/julia",
   "name": "julia",
   "version": "1.6.3"
  }
 },
 "nbformat": 4,
 "nbformat_minor": 5
}
