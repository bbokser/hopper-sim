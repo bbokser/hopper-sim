{
 "cells": [
  {
   "cell_type": "code",
   "execution_count": null,
   "id": "b2e34d2f",
   "metadata": {},
   "outputs": [],
   "source": [
    "import Pkg; Pkg.activate(@__DIR__); Pkg.instantiate()"
   ]
  },
  {
   "cell_type": "code",
   "execution_count": null,
   "id": "4efd8bce",
   "metadata": {},
   "outputs": [],
   "source": [
    "using RigidBodyDynamics\n",
    "using LinearAlgebra\n",
    "using MeshCatMechanisms\n",
    "using MeshCat\n",
    "using StaticArrays"
   ]
  },
  {
   "cell_type": "code",
   "execution_count": null,
   "id": "f1f786b8",
   "metadata": {},
   "outputs": [],
   "source": [
    "l0 = 0.15\n",
    "l1 = 0.3\n",
    "\n",
    "l2 = 0.3\n",
    "l3 = 0.15\n",
    "l4 = 0.15\n",
    "l34 = l3+l4\n",
    "\n",
    "m0 = 1.0\n",
    "m1 = 1.0\n",
    "m2 = 1.0\n",
    "m3 = 1.0\n",
    "\n",
    "g = 9.81\n",
    "\n",
    "# I1 = m1*(l1^2)\n",
    "# I2 = m2*(l2^2)"
   ]
  },
  {
   "cell_type": "code",
   "execution_count": null,
   "id": "02843305",
   "metadata": {},
   "outputs": [],
   "source": [
    "world = RigidBody{Float64}(\"world\")\n",
    "doublependulum = Mechanism(world; gravity = SVector(0, 0, g))"
   ]
  },
  {
   "cell_type": "code",
   "execution_count": null,
   "id": "6ff02d05",
   "metadata": {},
   "outputs": [],
   "source": [
    "curdir = pwd()\n",
    "urdfpath = joinpath(curdir, \"../../res/flyhopper_parallel/urdf/flyhopper_parallel.urdf\")\n",
    "doublependulum = parse_urdf(urdfpath, floating=false)\n",
    "state = MechanismState(doublependulum)"
   ]
  },
  {
   "cell_type": "code",
   "execution_count": null,
   "id": "547fbf7e",
   "metadata": {},
   "outputs": [],
   "source": [
    "function f_1(x)\n",
    "    # parallel mechanism dynamics\n",
    "    q0 = x[1]\n",
    "    q0d = x[2]\n",
    "    q1 = x[3]\n",
    "    q1d = x[4]\n",
    "    q2 = x[5]\n",
    "    q2d = x[6]\n",
    "    q3 = x[7]\n",
    "    q3d = x[8]\n",
    "    \n",
    "    # Mass matrix\n",
    "    M = [ 1.0*l0^2*m0 + l0^2*m1 + 2*l0*l1*m1*cos(q1) + l1^2*m1  l0*l1*m1*cos(q1) + l1^2*m1  0  0;\n",
    "          l0*l1*m1*cos(q1) + l1^2*m1  l1^2*m1  0  0;\n",
    "          0  0  1.0*l2^2*m2 + l2^2*m3 + 2*l2*l34*m3*cos(q3) + l34^2*m3  l2*l34*m3*cos(q3) + l34^2*m3;\n",
    "          0  0  l2*l34*m3*cos(q3) + l34^2*m3  l34^2*m3]\n",
    "    \n",
    "    # Coriolis term\n",
    "    C = [ -2*l0*l1*m1*q0d*q1d*sin(q1) - l0*l1*m1*q1d^2*sin(q1);\n",
    "          l0*l1*m1*q0d^2*sin(q1);\n",
    "          -2*l2*l34*m3*q2d*q3d*sin(q3) - l2*l34*m3*q3d^2*sin(q3);\n",
    "          l2*l34*m3*q2d^2*sin(q3)]\n",
    "    \n",
    "    # Gravity term\n",
    "    G = [g*l0*m0*cos(q0) + g*l0*m1*cos(q0) + g*l1*m1*cos(q0 + q1);\n",
    "         g*l1*m1*cos(q0 + q1);\n",
    "         g*l2*m2*cos(q2) + g*l2*m3*cos(q2) + g*l34*m3*cos(q2 + q3);\n",
    "         g*l34*m3*cos(q2 + q3)]\n",
    "    \n",
    "    # Constraint fn\n",
    "    c = [l0*cos(q0) + l1*cos(q0 + q1) - l2*cos(q2) - l3*cos(q2 + q3);\n",
    "         l0*sin(q0) + l1*sin(q0 + q1) - l2*sin(q2) - l3*sin(q2 + q3)]\n",
    "    \n",
    "    # Constraint Jacobian\n",
    "    D = [-l0*sin(q0) - l1*sin(q0 + q1)  -l1*sin(q0 + q1)  l2*sin(q2) + l3*sin(q2 + q3)  l3*sin(q2 + q3);\n",
    "         l0*cos(q0) + l1*cos(q0 + q1)    l1*cos(q0 + q1)   -l2*cos(q2) - l3*cos(q2 + q3) -l3*cos(q2 + q3)]\n",
    "    \n",
    "    # del/delq(D*qdot)*qdot\n",
    "    d = [q0d*(-l1*q1d*cos(q0 + q1) + q0d*(-l0*cos(q0) - l1*cos(q0 + q1))) + q1d*(-l1*q0d*cos(q0 + q1) -\n",
    "            l1*q1d*cos(q0 + q1)) + q2d*(l3*q3d*cos(q2 + q3) + q2d*(l2*cos(q2) + l3*cos(q2 + q3))) +\n",
    "            q3d*(l3*q2d*cos(q2 + q3) + l3*q3d*cos(q2 + q3));\n",
    "         q0d*(-l1*q1d*sin(q0 + q1) + q0d*(-l0*sin(q0) - l1*sin(q0 + q1))) + q1d*(-l1*q0d*sin(q0 + q1) -\n",
    "            l1*q1d*sin(q0 + q1)) + q2d*(l3*q3d*sin(q2 + q3) + q2d*(l2*sin(q2) + l3*sin(q2 + q3))) +\n",
    "            q3d*(l3*q2d*sin(q2 + q3) + l3*q3d*sin(q2 + q3))]\n",
    "    \n",
    "    # first derivative of constraint fn\n",
    "    cd = [-l1*q1d*sin(q0 + q1) + l3*q3d*sin(q2 + q3) + q0d*(-l0*sin(q0) - l1*sin(q0 + q1)) +\n",
    "              q2d*(l2*sin(q2) + l3*sin(q2 + q3));\n",
    "          l1*q1d*cos(q0 + q1) - l3*q3d*cos(q2 + q3) + q0d*(l0*cos(q0) + l1*cos(q0 + q1)) +\n",
    "              q2d*(-l2*cos(q2) - l3*cos(q2 + q3))]\n",
    "    \n",
    "    α = 50000.0\n",
    "    β = 500.0\n",
    "    \n",
    "    e = D*(M\\(D'*(α*c + β*cd)))\n",
    "    \n",
    "    KKT = [M -D';\n",
    "           D zeros(2,2)]\n",
    "    RHS = [- G - C;\n",
    "           -(d + e)]\n",
    "    \n",
    "    sol = KKT\\RHS\n",
    "    qdd = sol[1:4]\n",
    "    \n",
    "    λ = sol[5:6]\n",
    "    # qdd = M\\(- G - C)\n",
    "    q0dd = qdd[1]\n",
    "    q1dd = qdd[2]\n",
    "    q2dd = qdd[3]\n",
    "    q3dd = qdd[4]\n",
    "    \n",
    "    ẋ = zeros(8)\n",
    "    ẋ[1] = q0d # q0 dot\n",
    "    ẋ[2] = q0dd # q0 double dot\n",
    "    ẋ[3] = q1d # q1 dot\n",
    "    ẋ[4] = q1dd # q1 double dot\n",
    "    ẋ[5] = q2d # q2 dot\n",
    "    ẋ[6] = q2dd # q2 double dot\n",
    "    ẋ[7] = q3d # q3 dot\n",
    "    ẋ[8] = q3dd # q3 double dot\n",
    "\n",
    "    return ẋ\n",
    "end"
   ]
  },
  {
   "cell_type": "code",
   "execution_count": null,
   "id": "bd1914ec",
   "metadata": {},
   "outputs": [],
   "source": [
    "function checkval(val, max, name)\n",
    "    if val > max\n",
    "        @show val\n",
    "        error(name)\n",
    "    end\n",
    "end\n",
    "#=\n",
    "#---#\n",
    "if isnan(qdd[1])\n",
    "    @show qdd\n",
    "    error(\"A!\")\n",
    "end\n",
    "#---#\n",
    "=#"
   ]
  },
  {
   "cell_type": "code",
   "execution_count": null,
   "id": "faeda049",
   "metadata": {},
   "outputs": [],
   "source": [
    "function rk4_step(f,xk,h)\n",
    "\n",
    "    f1 = f(xk)\n",
    "    f2 = f(xk + 0.5*h*f1)\n",
    "    f3 = f(xk + 0.5*h*f2)\n",
    "    f4 = f(xk + h*f3)\n",
    "    \n",
    "    xn = xk + (h/6.0).*(f1 + 2*f2 + 2*f3 + f4)\n",
    "\n",
    "    return xn\n",
    "end"
   ]
  },
  {
   "cell_type": "code",
   "execution_count": null,
   "id": "7b9e4b09",
   "metadata": {},
   "outputs": [],
   "source": [
    "Tf = 10.0\n",
    "h = 0.001 #20 Hz\n",
    "N = Int(floor(Tf./h + 1))\n",
    "thist = h.*Array(0:(N-1));"
   ]
  },
  {
   "cell_type": "code",
   "execution_count": null,
   "id": "5b35a88d",
   "metadata": {},
   "outputs": [],
   "source": [
    "function simulate!(xtraj, N)\n",
    "    for k = 1:(N-1)\n",
    "        xtraj[:,k+1] .= rk4_step(f_1, copy(xtraj[:,k]), h)\n",
    "    end\n",
    "end"
   ]
  },
  {
   "cell_type": "code",
   "execution_count": null,
   "id": "b7fa1a54",
   "metadata": {},
   "outputs": [],
   "source": [
    "x0 = [-30*pi/180; 0.0; -120*(pi/180); 0.0; -150*(pi/180); 0.0; 120*(pi/180); 0.0]\n",
    "xtraj = zeros(8,N)\n",
    "xtraj[:,1] = x0;"
   ]
  },
  {
   "cell_type": "code",
   "execution_count": null,
   "id": "b4c880da",
   "metadata": {},
   "outputs": [],
   "source": [
    "simulate!(xtraj, N)"
   ]
  },
  {
   "cell_type": "code",
   "execution_count": null,
   "id": "a25a7ba1",
   "metadata": {},
   "outputs": [],
   "source": [
    "q0 = -xtraj[1, :] .- 30*(pi/180)\n",
    "q1 = -xtraj[3, :] .- 120*(pi/180)\n",
    "q2 = -xtraj[5, :] .- 150*(pi/180)\n",
    "q3 = -xtraj[7, :] .+ 120*(pi/180)\n",
    "\n",
    "qs = convert(AbstractArray{Float64}, [q2 q0 q3 q1]) \n",
    "ts = convert(AbstractVector{Float64}, thist) # AbstractVector(thist)\n",
    "q_array = [ qs[i,:] for i in 1:size(qs,1)] "
   ]
  },
  {
   "cell_type": "code",
   "execution_count": null,
   "id": "e8e89288",
   "metadata": {
    "scrolled": false
   },
   "outputs": [],
   "source": [
    "# mvis = MechanismVisualizer(doublependulum, Skeleton(randomize_colors=true, inertias=false));\n",
    "mvis = MechanismVisualizer(doublependulum, URDFVisuals(urdfpath));\n",
    "\n",
    "render(mvis)"
   ]
  },
  {
   "cell_type": "code",
   "execution_count": null,
   "id": "fd555b5f",
   "metadata": {},
   "outputs": [],
   "source": [
    "# [q2 q0 q3 q1]\n",
    "set_configuration!(mvis, [-x0[5]-150*(pi/180), -x0[1]-30*(pi/180), -x0[7]+120*(pi/180), -x0[3]-120*(pi/180)])"
   ]
  },
  {
   "cell_type": "code",
   "execution_count": null,
   "id": "0c84c16d",
   "metadata": {},
   "outputs": [],
   "source": [
    "# Now we can simply call `simulate`, which will return a tuple consisting of:\n",
    "# * simulation times (a `Vector` of numbers)\n",
    "# * joint configuration vectors (a `Vector` of `Vector`s)\n",
    "# * joint velocity vectors (a `Vector` of `Vector`s)\n",
    "\n",
    "animation = Animation(mvis, ts, -q_array)\n",
    "setanimation!(mvis, animation)\n",
    "# MeshCatMechanisms.animate(mvis, ts, qs; realtimerate = 1.);"
   ]
  },
  {
   "cell_type": "code",
   "execution_count": null,
   "id": "f6e25183",
   "metadata": {},
   "outputs": [],
   "source": [
    "#Energy Functions\n",
    "\n",
    "function T(x)\n",
    "    q0 = x[1]\n",
    "    q0d = x[2]\n",
    "    q1 = x[3]\n",
    "    q1d = x[4]\n",
    "    q2 = x[5]\n",
    "    q2d = x[6]\n",
    "    q3 = x[7]\n",
    "    q3d = x[8]\n",
    "    \n",
    "    T = 0.5*l0^2*m0*q0d^2 + 0.5*l2^2*m2*q2d^2 + 0.5*m1*(l0^2*q0d^2 + \n",
    "        2*l0*l1*q0d^2*cos(q1) + 2*l0*l1*q0d*q1d*cos(q1) + l1^2*q0d^2 + \n",
    "        2*l1^2*q0d*q1d + l1^2*q1d^2) + 0.5*m3*(l2^2*q2d^2 + \n",
    "        2*l2*l34*q2d^2*cos(q3) + 2*l2*l34*q2d*q3d*cos(q3) + \n",
    "        l34^2*q2d^2 + 2*l34^2*q2d*q3d + l34^2*q3d^2)\n",
    "end\n",
    "\n",
    "function U(x)\n",
    "    q0 = x[1]\n",
    "    q1 = x[3]\n",
    "    q2 = x[5]\n",
    "    q3 = x[7]\n",
    "    \n",
    "    y0 = l0*sin(q0)\n",
    "    y1 = l0*sin(q0) + l1*sin(q0 + q1)\n",
    "\n",
    "    y2 = l2*sin(q2)\n",
    "    y3 = l2*sin(q2) + l34*sin(q2 + q3)\n",
    "    \n",
    "    U0 = m0*g*y0 + m1*g*y1\n",
    "    U2 = m2*g*y2 + m3*g*y3\n",
    "    \n",
    "    return U0 + U2\n",
    "end\n",
    "\n",
    "function H(x)\n",
    "    U(x) + T(x)\n",
    "end"
   ]
  },
  {
   "cell_type": "code",
   "execution_count": null,
   "id": "672f35dd",
   "metadata": {},
   "outputs": [],
   "source": [
    "#Plot total energy\n",
    "using Plots\n",
    "\n",
    "E = zeros(N)\n",
    "for k = 1:N\n",
    "    E[k] = H(xtraj[:, k])\n",
    "end\n",
    "\n",
    "plot(thist,E, title=\"Total Energy vs Time\", xlabel=\"Time (s)\", ylabel=\"Energy (Joules)\")"
   ]
  },
  {
   "cell_type": "code",
   "execution_count": null,
   "id": "ef611961",
   "metadata": {},
   "outputs": [],
   "source": []
  }
 ],
 "metadata": {
  "kernelspec": {
   "display_name": "Julia 1.6.2",
   "language": "julia",
   "name": "julia-1.6"
  },
  "language_info": {
   "file_extension": ".jl",
   "mimetype": "application/julia",
   "name": "julia",
   "version": "1.6.2"
  }
 },
 "nbformat": 4,
 "nbformat_minor": 5
}
