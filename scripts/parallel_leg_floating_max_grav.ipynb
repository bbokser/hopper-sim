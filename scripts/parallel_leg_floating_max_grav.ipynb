{
 "cells": [
  {
   "cell_type": "code",
   "execution_count": 24,
   "id": "0a188534",
   "metadata": {},
   "outputs": [
    {
     "name": "stderr",
     "output_type": "stream",
     "text": [
      "\u001b[32m\u001b[1m  Activating\u001b[22m\u001b[39m environment at `~/Documents/git_workspace/16715/dynamics-simulation-leg/scripts/Project.toml`\n"
     ]
    }
   ],
   "source": [
    "import Pkg; Pkg.activate(@__DIR__); Pkg.instantiate()"
   ]
  },
  {
   "cell_type": "code",
   "execution_count": 25,
   "id": "0c977858",
   "metadata": {},
   "outputs": [],
   "source": [
    "using RigidBodyDynamics\n",
    "using LinearAlgebra\n",
    "using MeshCatMechanisms\n",
    "using MeshCat\n",
    "using StaticArrays\n",
    "using SparseArrays\n",
    "using ForwardDiff"
   ]
  },
  {
   "cell_type": "code",
   "execution_count": 26,
   "id": "223fee9b",
   "metadata": {},
   "outputs": [
    {
     "name": "stderr",
     "output_type": "stream",
     "text": [
      "WARNING: redefinition of constant l0. This may fail, cause incorrect answers, or produce other errors.\n",
      "WARNING: redefinition of constant l1. This may fail, cause incorrect answers, or produce other errors.\n",
      "WARNING: redefinition of constant l2. This may fail, cause incorrect answers, or produce other errors.\n",
      "WARNING: redefinition of constant lc. This may fail, cause incorrect answers, or produce other errors.\n",
      "WARNING: redefinition of constant lee. This may fail, cause incorrect answers, or produce other errors.\n",
      "WARNING: redefinition of constant l_cb. This may fail, cause incorrect answers, or produce other errors.\n",
      "WARNING: redefinition of constant l_c0. This may fail, cause incorrect answers, or produce other errors.\n",
      "WARNING: redefinition of constant l_c1. This may fail, cause incorrect answers, or produce other errors.\n",
      "WARNING: redefinition of constant l_c2. This may fail, cause incorrect answers, or produce other errors.\n",
      "WARNING: redefinition of constant l_c3. This may fail, cause incorrect answers, or produce other errors.\n",
      "WARNING: redefinition of constant Ib. This may fail, cause incorrect answers, or produce other errors.\n",
      "WARNING: redefinition of constant I0. This may fail, cause incorrect answers, or produce other errors.\n",
      "WARNING: redefinition of constant I1. This may fail, cause incorrect answers, or produce other errors.\n",
      "WARNING: redefinition of constant I2. This may fail, cause incorrect answers, or produce other errors.\n",
      "WARNING: redefinition of constant I3. This may fail, cause incorrect answers, or produce other errors.\n"
     ]
    },
    {
     "data": {
      "text/plain": [
       "3×3 Matrix{Float64}:\n",
       "  1.76997e-5  -5.36954e-7    7.6235e-7\n",
       " -5.36954e-7   0.000164188  -2.77844e-7\n",
       "  7.6235e-7   -2.77844e-7    0.000160656"
      ]
     },
     "execution_count": 26,
     "metadata": {},
     "output_type": "execute_result"
    }
   ],
   "source": [
    "# link lengths\n",
    "const l0 = [0.1; 0; 0]\n",
    "const l1 = [0.3; 0; 0]\n",
    "const l2 = [0.3; 0; 0]\n",
    "const l3 = 0.1\n",
    "const l4 = 0.2\n",
    "const l5 = 0.0205\n",
    "const lc = [l3; 0; 0]\n",
    "const lee = [l3 + l4; 0; l5] # sqrt((l3 + l4)^2 + l5^2)\n",
    "\n",
    "# CoM locations\n",
    "const l_cb = [0; 0.004; 0]\n",
    "const l_c0 = [0.0125108364230515; 0.00117191218927888; 0]\n",
    "const l_c1 = [0.149359714867044; 0; 0]\n",
    "const l_c2 = [0.0469412900551914; 0; 0]\n",
    "const l_c3 = [0.113177000131857; 0; -0.015332867880069]\n",
    "\n",
    "# link masses\n",
    "const mb = 7  # kg\n",
    "const m0 = 0.24644240965487\n",
    "const m1 = 0.0707939028219395\n",
    "const m2 = 0.276735496985514\n",
    "const m3 = 0.130824780046739\n",
    "# const m = Diagonal([m0, m1, m2, m3])\n",
    "    \n",
    "# gravity, obviously\n",
    "const g = 9.807\n",
    "const grav = [0; 0; g]\n",
    "# mass moment of inertia in axis of rotation\n",
    "const Ib = Array([0.0024241 5.252E-06 2.0733E-19; \n",
    "                  5.252E-06 0.0044176 -3.1153E-19; \n",
    "                  2.0733E-19 -3.1153E-19 0.0022481])\n",
    "\n",
    "const I0 = Array([3.83120149546952E-05 1.46925714738609E-05 -8.60106401672571E-06;\n",
    "                  1.46925714738609E-05 0.000172067745507247 1.0427260925207E-06;\n",
    "                  -8.60106401672571E-06 1.0427260925207E-06 0.00014745218068435])\n",
    "\n",
    "const I1 = Array([3.06999775886187E-06 7.91090301514898E-12 -1.43705963146176E-12;\n",
    "                  7.91090301514898E-12 0.000147960574744097 1.30742394049546E-11;\n",
    "                  -1.43705963146176E-12 1.30742394049546E-11 0.000147884231885009])\n",
    "\n",
    "const I2 = Array([3.43038397803592E-05 -2.90339844227483E-07 6.18680397558952E-06;\n",
    "                  -2.90339844227483E-07 0.000302324068012293 2.25016327583562E-08;\n",
    "                  6.18680397558952E-06 2.25016327583562E-08 0.00028292376778719])\n",
    "\n",
    "const I3 = Array([1.76996970020568E-05 -5.3695427116208E-07 7.62350214406387E-07;\n",
    "                  -5.3695427116208E-07 0.000164188445564489 -2.77843753828047E-07;\n",
    "                  7.62350214406387E-07 -2.77843753828047E-07 0.000160656046697151])"
   ]
  },
  {
   "cell_type": "code",
   "execution_count": 27,
   "id": "53d0bf2c",
   "metadata": {},
   "outputs": [
    {
     "data": {
      "text/plain": [
       "30×30 SparseMatrixCSC{Float64, Int64} with 60 stored entries:\n",
       "⠑⢄⣀⠀⠀⠀⠀⠀⠀⠀⠀⠀⠀⠀⠀\n",
       "⠀⠘⠛⢄⠀⠀⠀⠀⠀⠀⠀⠀⠀⠀⠀\n",
       "⠀⠀⠀⠀⢱⣶⠀⠀⠀⠀⠀⠀⠀⠀⠀\n",
       "⠀⠀⠀⠀⠀⠀⠑⢄⣀⠀⠀⠀⠀⠀⠀\n",
       "⠀⠀⠀⠀⠀⠀⠀⠘⠛⢄⠀⠀⠀⠀⠀\n",
       "⠀⠀⠀⠀⠀⠀⠀⠀⠀⠀⢱⣶⠀⠀⠀\n",
       "⠀⠀⠀⠀⠀⠀⠀⠀⠀⠀⠀⠀⠑⢄⣀\n",
       "⠀⠀⠀⠀⠀⠀⠀⠀⠀⠀⠀⠀⠀⠘⠛"
      ]
     },
     "execution_count": 27,
     "metadata": {},
     "output_type": "execute_result"
    }
   ],
   "source": [
    "M̄ = [mb*I(3) zeros(3, 27)\n",
    "     zeros(3,3) Ib zeros(3, 24)\n",
    "     zeros(3,6) m0*I(3) zeros(3,21);\n",
    "     zeros(3,9) I0 zeros(3,18);\n",
    "     zeros(3,12) m1*I(3) zeros(3,15);\n",
    "     zeros(3,15) I1 zeros(3, 12);\n",
    "     zeros(3,18) m2*I(3) zeros(3, 9);\n",
    "     zeros(3, 21) I2 zeros(3, 6);\n",
    "     zeros(3, 24) m3*I(3) zeros(3, 3);\n",
    "     zeros(3, 27) I3]"
   ]
  },
  {
   "cell_type": "code",
   "execution_count": 28,
   "id": "25a064cd",
   "metadata": {},
   "outputs": [
    {
     "data": {
      "text/plain": [
       "Ḡ (generic function with 1 method)"
      ]
     },
     "execution_count": 28,
     "metadata": {},
     "output_type": "execute_result"
    }
   ],
   "source": [
    "function hat(ω)\n",
    "    return [0 -ω[3] ω[2];\n",
    "            ω[3] 0 -ω[1];\n",
    "            -ω[2] ω[1] 0]\n",
    "end\n",
    "\n",
    "function L(Q)\n",
    "    [Q[1] -Q[2:4]'; Q[2:4] Q[1]*I + hat(Q[2:4])]\n",
    "end\n",
    "\n",
    "function R(Q)\n",
    "    [Q[1] -Q[2:4]'; Q[2:4] Q[1]*I - hat(Q[2:4])]\n",
    "end\n",
    "\n",
    "H = [zeros(1,3); I];\n",
    "\n",
    "T = Diagonal([1.0; -1; -1; -1])\n",
    "\n",
    "function G(Q)\n",
    "    return L(Q)*H  # 4x3\n",
    "end\n",
    "\n",
    "function Ḡ(q)\n",
    "    Qb = q[4:7]\n",
    "    Q0 = q[11:14]\n",
    "    Q1 = q[18:21]\n",
    "    Q2 = q[25:28]\n",
    "    Q3 = q[32:35]\n",
    "    \n",
    "    # [I(3) zeros(3,4); zeros(4,3) G(Q) zeros(4,1); zeros(1,6) 1]  # 8x7\n",
    "    return blockdiag(sparse(I, 3, 3), sparse(G(Qb)), \n",
    "                     sparse(I, 3, 3), sparse(G(Q0)), \n",
    "                     sparse(I, 3, 3), sparse(G(Q1)),\n",
    "                     sparse(I, 3, 3), sparse(G(Q2)),\n",
    "                     sparse(I, 3, 3), sparse(G(Q3)),)\n",
    "end"
   ]
  },
  {
   "cell_type": "code",
   "execution_count": 29,
   "id": "4d8320e6",
   "metadata": {},
   "outputs": [
    {
     "data": {
      "text/plain": [
       "rotate (generic function with 1 method)"
      ]
     },
     "execution_count": 29,
     "metadata": {},
     "output_type": "execute_result"
    }
   ],
   "source": [
    "function Expq(ϕ)\n",
    "    \n",
    "    # The quaternion exponential map ϕ → q \n",
    "    q = zeros(4)\n",
    "    θ = norm(ϕ)\n",
    "    q = [cos(θ/2); 0.5*ϕ*sinc(θ/(2*pi))]\n",
    "    \n",
    "    return q\n",
    "end\n",
    "\n",
    "function rotate(Q, p)\n",
    "    # Rotate a position vector p by a quaternion Q\n",
    "    return H'L(Q)*R(Q)'*H*p\n",
    "end"
   ]
  },
  {
   "cell_type": "code",
   "execution_count": 31,
   "id": "5b5d211c",
   "metadata": {},
   "outputs": [
    {
     "data": {
      "text/plain": [
       "DEL (generic function with 1 method)"
      ]
     },
     "execution_count": 31,
     "metadata": {},
     "output_type": "execute_result"
    }
   ],
   "source": [
    "function del(m, I, r1, r2, r3, Q1, Q2, Q3)\n",
    "    [(1/h)*m*(r2-r1) - (1/h)*m*(r3-r2) - m*grav*h;\n",
    "     (2.0/h)*G(Q2)'*L(Q1)*H*I*H'*L(Q1)'*Q2 + (2.0/h)*G(Q2)'*T*R(Q3)'*H*I*H'*L(Q2)'*Q3]\n",
    "end\n",
    "    \n",
    "    \n",
    "function DEL(q_1,q_2,q_3,λ,F1,F2)\n",
    "    \n",
    "    rb_1 = q_1[1:3]\n",
    "    Qb_1 = q_1[4:7]\n",
    "    r0_1 = q_1[8:10]\n",
    "    Q0_1 = q_1[11:14]\n",
    "    r1_1 = q_1[15:17]\n",
    "    Q1_1 = q_1[18:21]\n",
    "    r2_1 = q_1[22:24]\n",
    "    Q2_1 = q_1[25:28]\n",
    "    r3_1 = q_1[29:31]\n",
    "    Q3_1 = q_1[32:35]\n",
    "    \n",
    "    rb_2 = q_2[1:3]\n",
    "    Qb_2 = q_2[4:7]\n",
    "    r0_2 = q_2[8:10]\n",
    "    Q0_2 = q_2[11:14]\n",
    "    r1_2 = q_2[15:17]\n",
    "    Q1_2 = q_2[18:21]\n",
    "    r2_2 = q_2[22:24]\n",
    "    Q2_2 = q_2[25:28]\n",
    "    r3_2 = q_2[29:31]\n",
    "    Q3_2 = q_2[32:35]\n",
    "    \n",
    "    rb_3 = q_3[1:3]\n",
    "    Qb_3 = q_3[4:7]\n",
    "    r0_3 = q_3[8:10]\n",
    "    Q0_3 = q_3[11:14]\n",
    "    r1_3 = q_3[15:17]\n",
    "    Q1_3 = q_3[18:21]\n",
    "    r2_3 = q_3[22:24]\n",
    "    Q2_3 = q_3[25:28]\n",
    "    r3_3 = q_3[29:31]\n",
    "    Q3_3 = q_3[32:35]\n",
    "\n",
    "    del1 = [del(mb, Ib, rb_1, rb_2, rb_3, Qb_1, Qb_2, Qb_3);\n",
    "            del(m0, I0, r0_1, r0_2, r0_3, Q0_1, Q0_2, Q0_3);\n",
    "            del(m1, I1, r1_1, r1_2, r1_3, Q1_1, Q1_2, Q1_3);\n",
    "            del(m2, I2, r2_1, r2_2, r2_3, Q2_1, Q2_2, Q2_3);\n",
    "            del(m3, I3, r3_1, r3_2, r3_3, Q3_1, Q3_2, Q3_3)] \n",
    "\n",
    "    return del1 + (h/2.0)*F1 + (h/2.0)*F2 + h*Dc(q_2)'*λ\n",
    "end"
   ]
  },
  {
   "cell_type": "code",
   "execution_count": 32,
   "id": "a84e654a",
   "metadata": {},
   "outputs": [
    {
     "data": {
      "text/plain": [
       "Dq3DEL (generic function with 1 method)"
      ]
     },
     "execution_count": 32,
     "metadata": {},
     "output_type": "execute_result"
    }
   ],
   "source": [
    "function Dq3DEL(q_1,q_2,q_3,λ,F1,F2)\n",
    "    # @show Ḡ(q_3)\n",
    "    ForwardDiff.jacobian(dq->DEL(q_1,q_2,dq,λ,F1,F2), q_3)*Ḡ(q_3)\n",
    "end"
   ]
  },
  {
   "cell_type": "code",
   "execution_count": 33,
   "id": "2462909a",
   "metadata": {},
   "outputs": [
    {
     "data": {
      "text/plain": [
       "c (generic function with 1 method)"
      ]
     },
     "execution_count": 33,
     "metadata": {},
     "output_type": "execute_result"
    }
   ],
   "source": [
    "function c(q)\n",
    "    # constraint function\n",
    "    # c(q_0) should be all zeros\n",
    "    rb = q[1:3]\n",
    "    Qb = q[4:7]\n",
    "    r0 = q[8:10]\n",
    "    Q0 = q[11:14]\n",
    "    r1 = q[15:17]\n",
    "    Q1 = q[18:21]\n",
    "    r2 = q[22:24]\n",
    "    Q2 = q[25:28]\n",
    "    r3 = q[29:31]\n",
    "    Q3 = q[32:35]\n",
    "    \n",
    "    pb = rb + rotate(Qb, l_cb) # position vector from world frame to *JOINTS* 0 and 2\n",
    "    \n",
    "    c_ = [pb - r0 - rotate(Q0, -l_c0);  # ???\n",
    "         [0 1 0 0; 0 0 0 1]*L(Qb)'*Q0;  # y axis rotation constraint\n",
    "          r0 + rotate(Q0,  l0-l_c0) - r1 - rotate(Q1, -l_c1);\n",
    "         [0 1 0 0; 0 0 0 1]*L(Q0)'*Q1;\n",
    "          pb - r2 - rotate(Q2, -l_c2);\n",
    "         [0 1 0 0; 0 0 0 1]*L(Qb)'*Q2;\n",
    "          r2 + rotate(Q2, l2 - l_c2) - r3 - rotate(Q3, -l_c3);\n",
    "         [0 1 0 0; 0 0 0 1]*L(Q2)'*Q3;\n",
    "          r1 + rotate(Q1, l1 - l_c1) - r3 - rotate(Q3, lc-l_c3)]\n",
    "         #[0 1 0 0; 0 0 0 1]*L(Q1)'*Q3]\n",
    "end"
   ]
  },
  {
   "cell_type": "code",
   "execution_count": 34,
   "id": "122bbac6",
   "metadata": {},
   "outputs": [
    {
     "data": {
      "text/plain": [
       "Dc (generic function with 1 method)"
      ]
     },
     "execution_count": 34,
     "metadata": {},
     "output_type": "execute_result"
    }
   ],
   "source": [
    "function Dc(q)\n",
    "    ForwardDiff.jacobian(dq->c(dq),q)*Ḡ(q)\n",
    "end"
   ]
  },
  {
   "cell_type": "code",
   "execution_count": 50,
   "id": "a8b55d5f",
   "metadata": {},
   "outputs": [
    {
     "data": {
      "text/plain": [
       "35-element Vector{Float64}:\n",
       "  0.0\n",
       "  0.0\n",
       "  0.0\n",
       "  1.0\n",
       "  0.0\n",
       "  0.0\n",
       "  0.0\n",
       "  0.010834702164954238\n",
       "  0.00517191218927888\n",
       " -0.006255418211525749\n",
       "  0.9659258262890683\n",
       "  0.0\n",
       "  0.25881904510252074\n",
       "  ⋮\n",
       " -0.023470645027595695\n",
       "  0.25881904510252074\n",
       "  0.0\n",
       "  0.9659258262890683\n",
       "  0.0\n",
       " -0.16945989783706322\n",
       "  0.004\n",
       " -0.2198671531629387\n",
       "  0.9659258262890683\n",
       "  0.0\n",
       "  0.2588190451025209\n",
       "  0.0"
      ]
     },
     "execution_count": 50,
     "metadata": {},
     "output_type": "execute_result"
    }
   ],
   "source": [
    "#Initial Conditions\n",
    "rb = zeros(3)\n",
    "Qb = [1.0; 0; 0; 0]\n",
    "q0 = 30*pi/180;\n",
    "q1 = 120*(pi/180)\n",
    "q2 = 150*(pi/180)\n",
    "q3 = -120*(pi/180)\n",
    "\n",
    "Tf = 10.0\n",
    "h = 0.001 #20 Hz\n",
    "thist = 0:h:Tf\n",
    "N = length(thist)\n",
    "\n",
    "pb = rb + rotate(Qb, l_cb)  # position vector from world frame to *JOINTS* 0 and 2\n",
    "\n",
    "Qb0 = Expq([0, q0, 0])  # quaternion from base to link 0\n",
    "Q0 = L(Qb)*Qb0  # quaternion from world frame to link 0\n",
    "r0 = pb + rotate(Q0, l_c0)\n",
    "\n",
    "Q01 = Expq([0, q1, 0])  # quaternion from link 0 to link 1\n",
    "Q1 = L(Q0)*Q01  # quaternion from world frame to link 1\n",
    "r1 = pb + rotate(Q0, l0) + rotate(Q1, l_c1)  \n",
    "\n",
    "Qb2 = Expq([0, q2, 0])  # quaternion from base to link 2\n",
    "Q2 = L(Qb)*Qb2  # quaternion from world frame to link 2\n",
    "r2 = pb + rotate(Q2, l_c2)\n",
    "\n",
    "Q23 = Expq([0, q3, 0])  # quaternion from base to link 2\n",
    "Q3 = L(Q2)*Q23  # quaternion from world frame to link 2\n",
    "r3 = pb + rotate(Q2, l2) + rotate(Q3, l_c3)  \n",
    "\n",
    "rb_0 = rb\n",
    "r0_0 = r0\n",
    "r1_0 = r1\n",
    "r2_0 = r2\n",
    "r3_0 = r3\n",
    "Qb_0 = Qb\n",
    "Q0_0 = Q0\n",
    "Q1_0 = Q1\n",
    "Q2_0 = Q2\n",
    "Q3_0 = Q3\n",
    "\n",
    "q_0 = [rb_0; Qb_0; r0_0; Q0_0; r1_0; Q1_0; r2_0; Q2_0; r3_0; Q3_0]\n",
    "# @show c(q_0)\n"
   ]
  },
  {
   "cell_type": "code",
   "execution_count": 51,
   "id": "693b86af",
   "metadata": {},
   "outputs": [
    {
     "name": "stdout",
     "output_type": "stream",
     "text": [
      "size(uhist) = (5, 10001)\n"
     ]
    }
   ],
   "source": [
    "#Torque input at joints\n",
    "uhist = repeat([0 0 0 0 0]*1e-4, N)'\n",
    "@show size(uhist)\n",
    "# 1 -> joint0\n",
    "# 2 -> joint1\n",
    "# 3 -> joint2\n",
    "# 4 -> joint3\n",
    "# 5 -> joint4 (parallel constraint)\n",
    "#Corresponding F\n",
    "Fhist = zeros(30,N)  # wrench [xyz force, xyz torque]\n",
    "for k = 1:N\n",
    "    Fhist[:,k] = [zeros(4); -uhist[1, k]-uhist[3, k]; 0; # body\n",
    "                  zeros(4); uhist[1, k]-uhist[2, k]; 0; # link0\n",
    "                  zeros(4); uhist[2, k]+uhist[5, k]; 0; # link1\n",
    "                  zeros(4); uhist[3, k]-uhist[4, k]; 0; # link2\n",
    "                  zeros(4); uhist[4, k]-uhist[5, k]; 0] # link3\n",
    "end"
   ]
  },
  {
   "cell_type": "code",
   "execution_count": 53,
   "id": "9887ea81",
   "metadata": {},
   "outputs": [
    {
     "name": "stdout",
     "output_type": "stream",
     "text": [
      "n_c = (size(c(q_0)))[1] = 23\n",
      " Simulation 100% completecomplete% complete% complete% complete% complete% complete% complete% complete% complete% complete% complete"
     ]
    }
   ],
   "source": [
    "#Simulate\n",
    "qhist = zeros(35,N)\n",
    "qhist[:,1] .= q_0\n",
    "qhist[:,2] .= q_0\n",
    "\n",
    "@show n_c = size(c(q_0))[1]  # number of constraint rows\n",
    "flush(stdout)\n",
    "for k = 2:(N-1)\n",
    "    \n",
    "    #Initial guess\n",
    "    qhist[:,k+1] .= qhist[:,k]\n",
    "    λ = zeros(n_c)\n",
    "    \n",
    "    e = [DEL(qhist[:,k-1],qhist[:,k],qhist[:,k+1],λ,Fhist[:,k-1],Fhist[:,k]); c(qhist[:,k+1])]\n",
    "\n",
    "    while maximum(abs.(e)) > 1e-8\n",
    "        D = Dq3DEL(qhist[:,k-1],qhist[:,k],qhist[:,k+1],λ,Fhist[:,k-1],Fhist[:,k])\n",
    "        C2 = Dc(qhist[:,k])\n",
    "        C3 = Dc(qhist[:,k+1])\n",
    "\n",
    "        Δ = -([D h*C2'; C3 zeros(n_c,n_c)]\\e)\n",
    "        \n",
    "        qhist[1:3,k+1] .= qhist[1:3,k+1] + Δ[1:3]\n",
    "        qhist[4:7,k+1] .= L(qhist[4:7,k+1])*[sqrt(1-Δ[4:6]'*Δ[4:6]); Δ[4:6]]\n",
    "        qhist[8:10,k+1] .= qhist[8:10,k+1] + Δ[7:9]\n",
    "        qhist[11:14,k+1] .= L(qhist[11:14,k+1])*[sqrt(1-Δ[10:12]'*Δ[10:12]); Δ[10:12]]\n",
    "        qhist[15:17,k+1] .= qhist[15:17,k+1] + Δ[13:15]\n",
    "        qhist[18:21,k+1] .= L(qhist[18:21,k+1])*[sqrt(1-Δ[16:18]'*Δ[16:18]); Δ[16:18]]\n",
    "        qhist[22:24,k+1] .= qhist[22:24,k+1] + Δ[19:21]\n",
    "        qhist[25:28,k+1] .= L(qhist[25:28,k+1])*[sqrt(1-Δ[22:24]'*Δ[22:24]); Δ[22:24]]\n",
    "        qhist[29:31,k+1] .= qhist[29:31,k+1] + Δ[25:27]\n",
    "        qhist[32:35,k+1] .= L(qhist[32:35,k+1])*[sqrt(1-Δ[28:30]'*Δ[28:30]); Δ[28:30]]\n",
    "\n",
    "        λ .= λ + Δ[31:30+n_c]\n",
    "        \n",
    "        e = [DEL(qhist[:,k-1],qhist[:,k],qhist[:,k+1],λ,Fhist[:,k-1],Fhist[:,k]); c(qhist[:,k+1])]\n",
    "        # print(maximum(abs.(e)), \"\\n\") # \n",
    "        # print(c(qhist[:,k+1]), \"\\n\")\n",
    "        # flush(stdout)\n",
    "    end\n",
    "    print(\"\\r Simulation \", trunc(Int, k/(N-1)*100), \"% complete\")\n",
    "    flush(stdout)\n",
    "end"
   ]
  },
  {
   "cell_type": "code",
   "execution_count": 54,
   "id": "93215af3",
   "metadata": {},
   "outputs": [
    {
     "data": {
      "text/plain": [
       "35×10001 Matrix{Float64}:\n",
       "  0.0          0.0          5.60678e-11  …     0.00283259     0.00283315\n",
       "  0.0          0.0         -9.50487e-13       -5.84109e-5    -5.84239e-5\n",
       "  0.0          0.0         -9.80696e-6      -490.201       -490.299\n",
       "  1.0          1.0          1.0                0.844159       0.844098\n",
       "  0.0          0.0         -6.42461e-11       -0.0076886     -0.00769064\n",
       "  0.0          0.0         -1.13183e-8   …    -0.536017      -0.536112\n",
       "  0.0          0.0         -1.95483e-10       -0.00480389    -0.00480371\n",
       "  0.0108347    0.0108347    0.0108347          0.00254634     0.00254374\n",
       "  0.00517191   0.00517191   0.00517191         0.00502078     0.00502079\n",
       " -0.00625542  -0.00625542  -0.00626523      -490.214       -490.312\n",
       "  0.965926     0.965926     0.965926     …     0.696541       0.69645\n",
       "  0.0          0.0         -1.14623e-11        0.00313928     0.00314073\n",
       "  0.258819     0.258819     0.258819           0.717459       0.717548\n",
       "  ⋮                                      ⋱                    ⋮\n",
       " -0.0234706   -0.0234706   -0.0234805       -490.226       -490.325\n",
       "  0.258819     0.258819     0.258819           0.279899       0.279927\n",
       "  0.0          0.0          1.72194e-10  …     0.00675393     0.00675483\n",
       "  0.965926     0.965926     0.965926           0.959987       0.959978\n",
       "  0.0          0.0         -1.12652e-10       -0.00604784    -0.00604929\n",
       " -0.16946     -0.16946     -0.16946           -0.268747      -0.268766\n",
       "  0.004        0.004        0.004              0.00623851     0.00623899\n",
       " -0.219867    -0.219867    -0.219877     …  -490.475       -490.573\n",
       "  0.965926     0.965926     0.965926           0.696541       0.69645\n",
       "  0.0          0.0         -1.14623e-11        0.00313928     0.00314073\n",
       "  0.258819     0.258819     0.258819           0.717459       0.717548\n",
       "  0.0          0.0         -2.0545e-10        -0.00850511    -0.00850632"
      ]
     },
     "execution_count": 54,
     "metadata": {},
     "output_type": "execute_result"
    }
   ],
   "source": [
    "qhist"
   ]
  },
  {
   "cell_type": "code",
   "execution_count": 55,
   "id": "c6ca727e",
   "metadata": {},
   "outputs": [],
   "source": [
    "using MeshCat, GeometryBasics, CoordinateTransformations, Rotations#, GeometryTypes\n",
    "#const gt = GeometryTypes"
   ]
  },
  {
   "cell_type": "code",
   "execution_count": 56,
   "id": "6227325d",
   "metadata": {},
   "outputs": [
    {
     "name": "stderr",
     "output_type": "stream",
     "text": [
      "┌ Info: MeshCat server started. You can open the visualizer by visiting the following URL in your browser:\n",
      "│ http://127.0.0.1:8703\n",
      "└ @ MeshCat /home/ben/.julia/packages/MeshCat/GlCMx/src/visualizer.jl:73\n"
     ]
    },
    {
     "data": {
      "text/html": [
       "    <div style=\"height: 500px; width: 100%; overflow-x: auto; overflow-y: hidden; resize: both\">\n",
       "    <iframe src=\"http://127.0.0.1:8703\" style=\"width: 100%; height: 100%; border: none\"></iframe>\n",
       "    </div>\n"
      ],
      "text/plain": [
       "MeshCat.DisplayedVisualizer(MeshCat.CoreVisualizer(MeshCat.SceneTrees.SceneNode(nothing, nothing, Dict{String, Vector{UInt8}}(), nothing, Dict{String, MeshCat.SceneTrees.SceneNode}()), Set{Any}(), ip\"127.0.0.1\", 8703))"
      ]
     },
     "execution_count": 56,
     "metadata": {},
     "output_type": "execute_result"
    }
   ],
   "source": [
    "vis = Visualizer()\n",
    "render(vis)"
   ]
  },
  {
   "cell_type": "code",
   "execution_count": 63,
   "id": "2c0232b4",
   "metadata": {},
   "outputs": [],
   "source": [
    "# Zoom in--the robot falls through floor since there is no contact\n",
    "\n",
    "delete!(vis)\n",
    "\n",
    "green_material = MeshPhongMaterial(color=RGBA(0, 1, 0, 0.8))\n",
    "red_material = MeshPhongMaterial(color=RGBA(1, 0, 0, 0.8))\n",
    "\n",
    "#l_345 = sqrt((l3 + l4)^2 + l5^2)\n",
    "# sphere = Sphere(Point(0, 0, 0), 3)\n",
    "# rect = Rectangle(0.2, 0.2, 0.2, 0.2)\n",
    "cylinderb = Cylinder(Point(0, -0.02, l_cb[2]), Point(0, 0.02, l_cb[2]), 0.04)  #float(l_cb)\n",
    "cylinder0 = Cylinder(Point(-l_c0[1], -l_c0[2], -l_c0[3]), Point((l0-l_c0)[1], (l0-l_c0)[2], (l0-l_c0)[3]), 0.008)\n",
    "cylinder1 = Cylinder(Point(-l_c1[1], -l_c1[2], -l_c1[3]), Point((l1-l_c1)[1],(l1-l_c1)[2],(l1-l_c1)[2]), 0.008)\n",
    "cylinder2 = Cylinder(Point(-l_c2[1], -l_c2[2], -l_c2[3]), Point((l2-l_c2)[1], (l2-l_c2)[2], (l2-l_c2)[3]), 0.008)\n",
    "cylinder3 = Cylinder(Point(-l_c3[1], -l_c3[2], -l_c3[3]), Point((lee-l_c3)[1], (lee-l_c3)[2],  (lee-l_c3)[3]), 0.008)\n",
    "\n",
    "# setobject!(vis[\"sphere\"],sphere,red_material)\n",
    "setobject!(vis[\"cylinderb\"],cylinderb,red_material)\n",
    "setobject!(vis[\"cylinder0\"],cylinder0,green_material)\n",
    "setobject!(vis[\"cylinder1\"],cylinder1,green_material)\n",
    "setobject!(vis[\"cylinder2\"],cylinder2,green_material)\n",
    "setobject!(vis[\"cylinder3\"],cylinder3,green_material)\n",
    "\n",
    "for k = 1:N\n",
    "    \n",
    "    q = qhist[:, k]\n",
    "    # set position and attitude\n",
    "    \n",
    "    positionb = Translation(q[1:3]...)\n",
    "    attitudeb = LinearMap(UnitQuaternion(q[4:7]))\n",
    "    position0 = Translation(q[8:10]...)\n",
    "    attitude0 = LinearMap(UnitQuaternion(q[11:14]))\n",
    "    position1 = Translation(q[15:17]...)\n",
    "    attitude1 = LinearMap(UnitQuaternion(q[18:21]))\n",
    "    position2 = Translation(q[22:24]...)\n",
    "    attitude2 = LinearMap(UnitQuaternion(q[25:28]))\n",
    "    position3 = Translation(q[29:31]...)\n",
    "    attitude3 = LinearMap(UnitQuaternion(q[32:35]))\n",
    "\n",
    "    settransform!(vis[\"cylinderb\"], compose(positionb,attitudeb))\n",
    "    settransform!(vis[\"cylinder0\"], compose(position0,attitude0))\n",
    "    settransform!(vis[\"cylinder1\"], compose(position1,attitude1))\n",
    "    settransform!(vis[\"cylinder2\"], compose(position2,attitude2))\n",
    "    settransform!(vis[\"cylinder3\"], compose(position3,attitude3))\n",
    "    #sleep(0.001)\n",
    "end"
   ]
  }
 ],
 "metadata": {
  "kernelspec": {
   "display_name": "Julia 1.6.2",
   "language": "julia",
   "name": "julia-1.6"
  },
  "language_info": {
   "file_extension": ".jl",
   "mimetype": "application/julia",
   "name": "julia",
   "version": "1.6.2"
  }
 },
 "nbformat": 4,
 "nbformat_minor": 5
}
