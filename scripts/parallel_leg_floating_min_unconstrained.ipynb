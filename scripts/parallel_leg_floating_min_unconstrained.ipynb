{
 "cells": [
  {
   "cell_type": "code",
   "execution_count": 1,
   "id": "0db4f718",
   "metadata": {},
   "outputs": [
    {
     "name": "stderr",
     "output_type": "stream",
     "text": [
      "\u001b[32m\u001b[1m  Activating\u001b[22m\u001b[39m environment at `~/Documents/git_workspace/16715/dynamics-simulation-leg/scripts/Project.toml`\n"
     ]
    }
   ],
   "source": [
    "import Pkg; Pkg.activate(@__DIR__); Pkg.instantiate()"
   ]
  },
  {
   "cell_type": "code",
   "execution_count": 2,
   "id": "5bb7d46a",
   "metadata": {},
   "outputs": [
    {
     "data": {
      "application/vnd.webio.node+json": {
       "children": [],
       "instanceArgs": {
        "namespace": "html",
        "tag": "div"
       },
       "nodeType": "DOM",
       "props": {},
       "type": "node"
      },
      "text/html": [
       "<div style=\"padding: 1em; background-color: #f8d6da; border: 1px solid #f5c6cb; font-weight: bold;\">\n",
       "<p>The WebIO Jupyter extension was not detected. See the\n",
       "<a href=\"https://juliagizmos.github.io/WebIO.jl/latest/providers/ijulia/\" target=\"_blank\">\n",
       "    WebIO Jupyter integration documentation\n",
       "</a>\n",
       "for more information.\n",
       "</div>\n"
      ],
      "text/plain": [
       "WebIO._IJuliaInit()"
      ]
     },
     "metadata": {},
     "output_type": "display_data"
    }
   ],
   "source": [
    "using RigidBodyDynamics\n",
    "using LinearAlgebra\n",
    "using MeshCatMechanisms\n",
    "using MeshCat\n",
    "using StaticArrays\n",
    "using SparseArrays\n",
    "using ForwardDiff"
   ]
  },
  {
   "cell_type": "code",
   "execution_count": 3,
   "id": "bd26e358",
   "metadata": {},
   "outputs": [
    {
     "data": {
      "text/plain": [
       "3×3 Matrix{Float64}:\n",
       "  1.76997e-5  -5.36954e-7    7.6235e-7\n",
       " -5.36954e-7   0.000164188  -2.77844e-7\n",
       "  7.6235e-7   -2.77844e-7    0.000160656"
      ]
     },
     "execution_count": 3,
     "metadata": {},
     "output_type": "execute_result"
    }
   ],
   "source": [
    "# link lengths\n",
    "const l0 = 0.1\n",
    "const l1 = 0.3\n",
    "const l2 = 0.3\n",
    "const l3 = 0.1\n",
    "const l4 = 0.2\n",
    "const l5 = 0.0205\n",
    "const lee = [l3 + l4; l5; 0] # sqrt((l3 + l4)^2 + l5^2)\n",
    "\n",
    "# CoM locations\n",
    "const l_cb = [0; 0.004; 0]\n",
    "const l_c0 = [0.0125108364230515; 0.00117191218927888; 0]\n",
    "const l_c1 = [0.149359714867044; 0; 0]\n",
    "const l_c2 = [0.0469412900551914; 0; 0]\n",
    "const l_c3 = [0.113177000131857; -0.015332867880069; 0]\n",
    "\n",
    "# link masses\n",
    "const mb = 7  # kg\n",
    "const m0 = 0.24644240965487\n",
    "const m1 = 0.0707939028219395\n",
    "const m2 = 0.276735496985514\n",
    "const m3 = 0.130824780046739\n",
    "const m = diagm([m0, m1, m2, m3])\n",
    "    \n",
    "# gravity, obviously\n",
    "const g = 9.807\n",
    "\n",
    "# mass moment of inertia in axis of rotation\n",
    "const Ib = Array([0.0024241 5.252E-06 2.0733E-19; \n",
    "                  5.252E-06 0.0044176 -3.1153E-19; \n",
    "                  2.0733E-19 -3.1153E-19 0.0022481])\n",
    "\n",
    "const I0 = Array([3.83120149546952E-05 1.46925714738609E-05 -8.60106401672571E-06;\n",
    "                  1.46925714738609E-05 0.000172067745507247 1.0427260925207E-06;\n",
    "                  -8.60106401672571E-06 1.0427260925207E-06 0.00014745218068435])\n",
    "\n",
    "const I1 = Array([3.06999775886187E-06 7.91090301514898E-12 -1.43705963146176E-12;\n",
    "                  7.91090301514898E-12 0.000147960574744097 1.30742394049546E-11;\n",
    "                  -1.43705963146176E-12 1.30742394049546E-11 0.000147884231885009])\n",
    "\n",
    "const I2 = Array([3.43038397803592E-05 -2.90339844227483E-07 6.18680397558952E-06;\n",
    "                  -2.90339844227483E-07 0.000302324068012293 2.25016327583562E-08;\n",
    "                  6.18680397558952E-06 2.25016327583562E-08 0.00028292376778719])\n",
    "\n",
    "const I3 = Array([1.76996970020568E-05 -5.3695427116208E-07 7.62350214406387E-07;\n",
    "                  -5.3695427116208E-07 0.000164188445564489 -2.77843753828047E-07;\n",
    "                  7.62350214406387E-07 -2.77843753828047E-07 0.000160656046697151])\n",
    "# const J = Diagonal([I0, I1, I2, I3])"
   ]
  },
  {
   "cell_type": "code",
   "execution_count": 4,
   "id": "3b123e9a",
   "metadata": {},
   "outputs": [
    {
     "data": {
      "text/plain": [
       "30×30 SparseMatrixCSC{Float64, Int64} with 60 stored entries:\n",
       "⠑⢄⣀⠀⠀⠀⠀⠀⠀⠀⠀⠀⠀⠀⠀\n",
       "⠀⠘⠛⢄⠀⠀⠀⠀⠀⠀⠀⠀⠀⠀⠀\n",
       "⠀⠀⠀⠀⢱⣶⠀⠀⠀⠀⠀⠀⠀⠀⠀\n",
       "⠀⠀⠀⠀⠀⠀⠑⢄⣀⠀⠀⠀⠀⠀⠀\n",
       "⠀⠀⠀⠀⠀⠀⠀⠘⠛⢄⠀⠀⠀⠀⠀\n",
       "⠀⠀⠀⠀⠀⠀⠀⠀⠀⠀⢱⣶⠀⠀⠀\n",
       "⠀⠀⠀⠀⠀⠀⠀⠀⠀⠀⠀⠀⠑⢄⣀\n",
       "⠀⠀⠀⠀⠀⠀⠀⠀⠀⠀⠀⠀⠀⠘⠛"
      ]
     },
     "execution_count": 4,
     "metadata": {},
     "output_type": "execute_result"
    }
   ],
   "source": [
    "M̄ = [mb*I(3) zeros(3, 27)\n",
    "     zeros(3,3) Ib zeros(3, 24)\n",
    "     zeros(3,6) m0*I(3) zeros(3,21);\n",
    "     zeros(3,9) I0 zeros(3,18);\n",
    "     zeros(3,12) m1*I(3) zeros(3,15);\n",
    "     zeros(3,15) I1 zeros(3, 12);\n",
    "     zeros(3,18) m2*I(3) zeros(3, 9);\n",
    "     zeros(3, 21) I2 zeros(3, 6);\n",
    "     zeros(3, 24) m3*I(3) zeros(3, 3);\n",
    "     zeros(3, 27) I3]"
   ]
  },
  {
   "cell_type": "code",
   "execution_count": 5,
   "id": "cf229fe8",
   "metadata": {},
   "outputs": [
    {
     "data": {
      "text/plain": [
       "G̃ (generic function with 1 method)"
      ]
     },
     "execution_count": 5,
     "metadata": {},
     "output_type": "execute_result"
    }
   ],
   "source": [
    "function hat(ω)\n",
    "    return [0 -ω[3] ω[2];\n",
    "            ω[3] 0 -ω[1];\n",
    "            -ω[2] ω[1] 0]\n",
    "end\n",
    "\n",
    "function L(Q)\n",
    "    [Q[1] -Q[2:4]'; Q[2:4] Q[1]*I + hat(Q[2:4])]\n",
    "end\n",
    "\n",
    "function R(Q)\n",
    "    [Q[1] -Q[2:4]'; Q[2:4] Q[1]*I - hat(Q[2:4])]\n",
    "end\n",
    "\n",
    "H = [zeros(1,3); I];\n",
    "\n",
    "T = Diagonal([1.0; -1; -1; -1])\n",
    "\n",
    "function G(Q)\n",
    "    return L(Q)*H  # 4x3\n",
    "end\n",
    "\n",
    "function Ḡ(q)\n",
    "    Q = q[4:7]\n",
    "    return [I(3) zeros(3,4); zeros(4,3) G(Q) zeros(4,1); zeros(1,6) 1]\n",
    "end\n",
    "\n",
    "function G̃(q)\n",
    "    Q = q[4:7]\n",
    "    #return [I(3) zeros(3,7); zeros(4,3) 0.5*G(Q) zeros(4,4); zeros(1,6) 1 zeros(1, 3)]  # 8x10\n",
    "    #11x10\n",
    "   return blockdiag(sparse(I, 3, 3), sparse(0.5*G(Qb)),sparse(I, 4, 4))\n",
    "end"
   ]
  },
  {
   "cell_type": "code",
   "execution_count": 6,
   "id": "7b6d7119",
   "metadata": {},
   "outputs": [
    {
     "data": {
      "text/plain": [
       "rotate (generic function with 1 method)"
      ]
     },
     "execution_count": 6,
     "metadata": {},
     "output_type": "execute_result"
    }
   ],
   "source": [
    "function Expq(ϕ)\n",
    "    # The quaternion exponential map ϕ → Q \n",
    "    # Convert axis angle to quaternion\n",
    "    Q = zeros(eltype(ϕ), 4)\n",
    "    θ = norm(ϕ)\n",
    "    r = ϕ/θ\n",
    "    Q[1] = cos(θ/2)\n",
    "    Q[2:4] = r*sin.(θ/2)\n",
    "    return Q\n",
    "end\n",
    "\n",
    "function rotate(Q, p)\n",
    "    # Rotate a position vector p by a quaternion Q\n",
    "    return H'L(Q)*R(Q)'*H*p\n",
    "end"
   ]
  },
  {
   "cell_type": "code",
   "execution_count": 7,
   "id": "40b0e540",
   "metadata": {},
   "outputs": [
    {
     "data": {
      "text/plain": [
       "kinematics (generic function with 1 method)"
      ]
     },
     "execution_count": 7,
     "metadata": {},
     "output_type": "execute_result"
    }
   ],
   "source": [
    "#Kinematics\n",
    "function kinematics(q)\n",
    "    rb = q[1:3]  # body com location\n",
    "    Qb = q[4:7]  # body quaternion\n",
    "    q0 = q[8]  # joint angles\n",
    "    q1 = q[9]\n",
    "    q2 = q[10]\n",
    "    q3 = q[11]\n",
    "    \n",
    "    pb = rb + rotate(Qb, l_cb)  # position vector from world frame to *JOINTS* 0 and 2\n",
    "    \n",
    "    Qb0 = Expq([0, q0, 0])  # quaternion from base to link 0\n",
    "    Q0 = L(Qb)*Qb0  # quaternion from world frame to link 0\n",
    "    r0 = pb + rotate(Q0, l_c0)\n",
    "    \n",
    "    Q01 = Expq([0, q1, 0])  # quaternion from link 0 to link 1\n",
    "    Q1 = L(Q0)*Q01  # quaternion from world frame to link 1\n",
    "    r1 = pb + rotate(Q0, [l0; 0; 0]) + rotate(Q1, l_c1)  \n",
    "    \n",
    "    Qb2 = Expq([0, q2, 0])  # quaternion from base to link 2\n",
    "    Q2 = L(Qb)*Qb2  # quaternion from world frame to link 2\n",
    "    r2 = pb + rotate(Q2, l_c2)\n",
    "    \n",
    "    Q23 = Expq([0, q3, 0])  # quaternion from base to link 2\n",
    "    Q3 = L(Q2)*Q23  # quaternion from world frame to link 2\n",
    "    r3 = pb + rotate(Q2, [l2; 0; 0]) + rotate(Q3, l_c3)  \n",
    "    \n",
    "    return [rb; Qb; r0; Q0; r1; Q1; r2; Q2; r3; Q3]\n",
    "end"
   ]
  },
  {
   "cell_type": "code",
   "execution_count": 8,
   "id": "b1af450e",
   "metadata": {},
   "outputs": [
    {
     "data": {
      "text/plain": [
       "K (generic function with 1 method)"
      ]
     },
     "execution_count": 8,
     "metadata": {},
     "output_type": "execute_result"
    }
   ],
   "source": [
    "\n",
    "#Kinematic Jacobian\n",
    "function K(q)\n",
    "    k = kinematics(q);\n",
    "    rb = k[1:3]\n",
    "    Qb = k[4:7]\n",
    "    r0 = k[8:10]\n",
    "    Q0 = k[11:14]\n",
    "    r1 = k[15:17]\n",
    "    Q1 = k[18:21]\n",
    "    r2 = k[22:24]\n",
    "    Q2 = k[25:28]\n",
    "    r3 = k[29:31]\n",
    "    Q3 = k[32:35]\n",
    "    \n",
    "    dk = ForwardDiff.jacobian(dq->kinematics(dq),q)  # 35x11\n",
    "\n",
    "    # 30x35\n",
    "    Ḡ1 = blockdiag(sparse(I, 3, 3), sparse(2*G(Qb)'),\n",
    "                   sparse(I, 3, 3), sparse(2*G(Q0)'),\n",
    "                   sparse(I, 3, 3), sparse(2*G(Q1)'),\n",
    "                   sparse(I, 3, 3), sparse(2*G(Q2)'),\n",
    "                   sparse(I, 3, 3), sparse(2*G(Q3)'),)\n",
    "\n",
    "    # 11x10\n",
    "    Ḡ2 = blockdiag(sparse(I, 3, 3), sparse(0.5*G(Qb)),\n",
    "                   sparse(I, 4, 4))\n",
    "    \n",
    "    K = Ḡ1*dk*Ḡ2\n",
    "        \n",
    "    return K\n",
    "end"
   ]
  },
  {
   "cell_type": "code",
   "execution_count": 9,
   "id": "586745d5",
   "metadata": {},
   "outputs": [
    {
     "data": {
      "text/plain": [
       "M (generic function with 1 method)"
      ]
     },
     "execution_count": 9,
     "metadata": {},
     "output_type": "execute_result"
    }
   ],
   "source": [
    "#Mass Matrix\n",
    "function M(q)    \n",
    "    return K(q)'*M̄*K(q)\n",
    "end\n",
    "\n",
    "# eigvals(M(q0))"
   ]
  },
  {
   "cell_type": "code",
   "execution_count": 10,
   "id": "dd6cba08",
   "metadata": {},
   "outputs": [
    {
     "data": {
      "text/plain": [
       "DQ0U (generic function with 1 method)"
      ]
     },
     "execution_count": 10,
     "metadata": {},
     "output_type": "execute_result"
    }
   ],
   "source": [
    "#Potential\n",
    "function U(q)\n",
    "    return 0.0  # assume zero gravity for now\n",
    "end\n",
    "\n",
    "function DQ0U(q)\n",
    "    rb = q[1:3]  # body com location\n",
    "    Qb = q[4:7]  # body quaternion\n",
    "    q0 = q[8]  # joint angles\n",
    "    q1 = q[9]\n",
    "    q2 = q[10]\n",
    "    q3 = q[11]\n",
    "    \n",
    "    ForwardDiff.gradient(dQb->U([rb; dQb; q0; q1; q2; q3]), Qb)\n",
    "end\n",
    "\n"
   ]
  },
  {
   "cell_type": "code",
   "execution_count": 11,
   "id": "bb9950e3",
   "metadata": {},
   "outputs": [
    {
     "data": {
      "text/plain": [
       "Lagrangian (generic function with 1 method)"
      ]
     },
     "execution_count": 11,
     "metadata": {},
     "output_type": "execute_result"
    }
   ],
   "source": [
    "#Lagrangian\n",
    "function Lagrangian(q,v)\n",
    "    0.5*v'*M(q)*v - U(q)\n",
    "end"
   ]
  },
  {
   "cell_type": "code",
   "execution_count": 12,
   "id": "5f71216e",
   "metadata": {},
   "outputs": [
    {
     "data": {
      "text/plain": [
       "10×10001 Matrix{Float64}:\n",
       " 0.0001  0.0001  0.0001  0.0001  0.0001  …  0.0001  0.0001  0.0001  0.0001\n",
       " 0.0001  0.0001  0.0001  0.0001  0.0001     0.0001  0.0001  0.0001  0.0001\n",
       " 0.0001  0.0001  0.0001  0.0001  0.0001     0.0001  0.0001  0.0001  0.0001\n",
       " 0.0001  0.0001  0.0001  0.0001  0.0001     0.0001  0.0001  0.0001  0.0001\n",
       " 0.0001  0.0001  0.0001  0.0001  0.0001     0.0001  0.0001  0.0001  0.0001\n",
       " 0.0001  0.0001  0.0001  0.0001  0.0001  …  0.0001  0.0001  0.0001  0.0001\n",
       " 0.0001  0.0001  0.0001  0.0001  0.0001     0.0001  0.0001  0.0001  0.0001\n",
       " 0.0001  0.0001  0.0001  0.0001  0.0001     0.0001  0.0001  0.0001  0.0001\n",
       " 0.0001  0.0001  0.0001  0.0001  0.0001     0.0001  0.0001  0.0001  0.0001\n",
       " 0.0001  0.0001  0.0001  0.0001  0.0001     0.0001  0.0001  0.0001  0.0001"
      ]
     },
     "execution_count": 12,
     "metadata": {},
     "output_type": "execute_result"
    }
   ],
   "source": [
    "#Initial Conditions\n",
    "rb = zeros(3)\n",
    "Qb = [1.0; 0; 0; 0]\n",
    "q0 = -30*pi/180;\n",
    "q1 = -120*(pi/180)\n",
    "q2 = -150*(pi/180)\n",
    "q3 = 120*(pi/180)\n",
    "q_init = [rb; Qb; q0; q1; q2; q3]\n",
    "\n",
    "q̇0 = 0.0\n",
    "q̇1 = 0.0\n",
    "q̇2 = 0.0\n",
    "q̇3 = 0.0\n",
    "ωb = zeros(3)\n",
    "ṙb = zeros(3) #cross(ω0,[-0.5*ℓ1; 0; 0])\n",
    "v_init = [ṙb; ωb; q̇0; q̇1; q̇2; q̇3]\n",
    "\n",
    "x_init = [q_init; v_init]\n",
    "\n",
    "Tf = 10.0\n",
    "h = 0.001 #20 Hz\n",
    "thist = 0:h:Tf\n",
    "N = length(thist)\n",
    "\n",
    "xhist = zeros(21,N)\n",
    "\n",
    "\n",
    "#Torque input at joint\n",
    "uhist = ones(10, N)*1e-4"
   ]
  },
  {
   "cell_type": "code",
   "execution_count": 13,
   "id": "5f784bd1",
   "metadata": {},
   "outputs": [
    {
     "data": {
      "text/plain": [
       "Dq̇3L (generic function with 1 method)"
      ]
     },
     "execution_count": 13,
     "metadata": {},
     "output_type": "execute_result"
    }
   ],
   "source": [
    "#Lagrangian Derivatives\n",
    "\n",
    "function DrbL(q,v)\n",
    "    rb = q[1:3]  # body com location\n",
    "    Qb = q[4:7]  # body quaternion\n",
    "    q0 = q[8]  # joint angles\n",
    "    q1 = q[9]\n",
    "    q2 = q[10]\n",
    "    q3 = q[11]\n",
    "    \n",
    "    ForwardDiff.gradient(drb->Lagrangian([drb; Qb; q0; q1; q2; q3],v), rb)\n",
    "end\n",
    "\n",
    "function DQbL(q,v)\n",
    "    rb = q[1:3]  # body com location\n",
    "    Qb = q[4:7]  # body quaternion\n",
    "    q0 = q[8]  # joint angles\n",
    "    q1 = q[9]\n",
    "    q2 = q[10]\n",
    "    q3 = q[11]\n",
    "    \n",
    "    ForwardDiff.gradient(dQb->Lagrangian([rb; dQb; q0; q1; q2; q3],v), Qb)\n",
    "end\n",
    "\n",
    "function Dq0L(q,v)\n",
    "    rb = q[1:3]  # body com location\n",
    "    Qb = q[4:7]  # body quaternion\n",
    "    q0 = q[8]  # joint angles\n",
    "    q1 = q[9]\n",
    "    q2 = q[10]\n",
    "    q3 = q[11]\n",
    "    \n",
    "    ForwardDiff.derivative(dq0->Lagrangian([rb; Qb; dq0; q1; q2; q3],v), q0)\n",
    "end\n",
    "\n",
    "function Dq1L(q,v)\n",
    "    rb = q[1:3]  # body com location\n",
    "    Qb = q[4:7]  # body quaternion\n",
    "    q0 = q[8]  # joint angles\n",
    "    q1 = q[9]\n",
    "    q2 = q[10]\n",
    "    q3 = q[11]\n",
    "    \n",
    "    ForwardDiff.derivative(dq1->Lagrangian([rb; Qb; q0; dq1; q2; q3],v), q1)\n",
    "end\n",
    "\n",
    "function Dq2L(q,v)\n",
    "    rb = q[1:3]  # body com location\n",
    "    Qb = q[4:7]  # body quaternion\n",
    "    q0 = q[8]  # joint angles\n",
    "    q1 = q[9]\n",
    "    q2 = q[10]\n",
    "    q3 = q[11]\n",
    "    \n",
    "    ForwardDiff.derivative(dq2->Lagrangian([rb; Qb; q0; q1; dq2; q3],v), q2)\n",
    "end\n",
    "\n",
    "function Dq3L(q,v)\n",
    "    rb = q[1:3]  # body com location\n",
    "    Qb = q[4:7]  # body quaternion\n",
    "    q0 = q[8]  # joint angles\n",
    "    q1 = q[9]\n",
    "    q2 = q[10]\n",
    "    q3 = q[11]\n",
    "    \n",
    "    ForwardDiff.derivative(dq3->Lagrangian([rb; Qb; q0; q1; q2; dq3],v), q3)\n",
    "end\n",
    "\n",
    "function DṙbL(q,v)\n",
    "    ṙb = v[1:3]\n",
    "    ωb = v[4:6]\n",
    "    q̇0 = v[7]\n",
    "    q̇1 = v[8]\n",
    "    q̇2 = v[9]\n",
    "    q̇3 = v[10]\n",
    "    \n",
    "    ForwardDiff.gradient(dṙb->Lagrangian(q,[dṙb; ωb; q̇0; q̇1; q̇2; q̇3]), ṙb)\n",
    "end\n",
    "    \n",
    "function DωbL(q,v)\n",
    "    ṙb = v[1:3]\n",
    "    ωb = v[4:6]\n",
    "    q̇0 = v[7]\n",
    "    q̇1 = v[8]\n",
    "    q̇2 = v[9]\n",
    "    q̇3 = v[10]\n",
    "    \n",
    "    ForwardDiff.gradient(dωb->Lagrangian(q,[ṙb; dωb; q̇0; q̇1; q̇2; q̇3]), ωb)\n",
    "end\n",
    "\n",
    "function Dq̇0L(q,v)\n",
    "    ṙb = v[1:3]\n",
    "    ωb = v[4:6]\n",
    "    q̇0 = v[7]\n",
    "    q̇1 = v[8]\n",
    "    q̇2 = v[9]\n",
    "    q̇3 = v[10]\n",
    "    \n",
    "    ForwardDiff.derivative(dq̇0->Lagrangian(q,[ṙb; ωb; dq̇0; q̇1; q̇2; q̇3]), q̇0)\n",
    "end\n",
    "\n",
    "function Dq̇1L(q,v)\n",
    "    ṙb = v[1:3]\n",
    "    ωb = v[4:6]\n",
    "    q̇0 = v[7]\n",
    "    q̇1 = v[8]\n",
    "    q̇2 = v[9]\n",
    "    q̇3 = v[10]\n",
    "    \n",
    "    ForwardDiff.derivative(dq̇1->Lagrangian(q,[ṙb; ωb; q̇0; dq̇1; q̇2; q̇3]), q̇1)\n",
    "end\n",
    "\n",
    "function Dq̇2L(q,v)\n",
    "    ṙb = v[1:3]\n",
    "    ωb = v[4:6]\n",
    "    q̇0 = v[7]\n",
    "    q̇1 = v[8]\n",
    "    q̇2 = v[9]\n",
    "    q̇3 = v[10]\n",
    "    \n",
    "    ForwardDiff.derivative(dq̇2->Lagrangian(q,[ṙb; ωb; q̇0; q̇1; dq̇2; q̇3]), q̇2)\n",
    "end\n",
    "\n",
    "function Dq̇3L(q,v)\n",
    "    ṙb = v[1:3]\n",
    "    ωb = v[4:6]\n",
    "    q̇0 = v[7]\n",
    "    q̇1 = v[8]\n",
    "    q̇2 = v[9]\n",
    "    q̇3 = v[10]\n",
    "    \n",
    "    ForwardDiff.derivative(dq̇3->Lagrangian(q,[ṙb; ωb; q̇0; q̇1; q̇2; dq̇3]), q̇3)\n",
    "end"
   ]
  },
  {
   "cell_type": "code",
   "execution_count": 14,
   "id": "232f72de",
   "metadata": {},
   "outputs": [
    {
     "data": {
      "text/plain": [
       "B (generic function with 1 method)"
      ]
     },
     "execution_count": 14,
     "metadata": {},
     "output_type": "execute_result"
    }
   ],
   "source": [
    "#Input Jacobian\n",
    "function B(q)\n",
    "    #[zeros(7); 1.0; zeros(2)]\n",
    "    ones(10)\n",
    "end"
   ]
  },
  {
   "cell_type": "code",
   "execution_count": 15,
   "id": "38b18b2c",
   "metadata": {},
   "outputs": [
    {
     "data": {
      "text/plain": [
       "f (generic function with 1 method)"
      ]
     },
     "execution_count": 15,
     "metadata": {},
     "output_type": "execute_result"
    }
   ],
   "source": [
    "#EL Dynamics\n",
    "function f(x,u)\n",
    "    q = x[1:11]\n",
    "    v = x[12:21]  # 10\n",
    "    ω = v[4:6]\n",
    "\n",
    "    q̇ = G̃(q)*v\n",
    "    \n",
    "    Mq = [ForwardDiff.jacobian(dv->DṙbL(q,dv),v);  # 10x10\n",
    "          ForwardDiff.jacobian(dv->DωbL(q,dv),v);\n",
    "          ForwardDiff.gradient(dv->Dq̇0L(q,dv),v)';\n",
    "          ForwardDiff.gradient(dv->Dq̇1L(q,dv),v)';\n",
    "          ForwardDiff.gradient(dv->Dq̇2L(q,dv),v)';\n",
    "          ForwardDiff.gradient(dv->Dq̇3L(q,dv),v)']\n",
    "\n",
    "    CG = [-ForwardDiff.jacobian(dq->DṙbL(dq,v),q)*G̃(q)*v + DrbL(q,v);  # 10\n",
    "          -ForwardDiff.jacobian(dq->DωbL(dq,v),q)*G̃(q)*v - hat(ω)*DωbL(q,v) .+ 0.5*G(Qb)'*DQ0U(q);\n",
    "          -ForwardDiff.gradient(dq->Dq̇0L(dq,v),q)'*G̃(q)*v + Dq0L(q,v);\n",
    "          -ForwardDiff.gradient(dq->Dq̇1L(dq,v),q)'*G̃(q)*v + Dq1L(q,v);\n",
    "          -ForwardDiff.gradient(dq->Dq̇2L(dq,v),q)'*G̃(q)*v + Dq2L(q,v);\n",
    "          -ForwardDiff.gradient(dq->Dq̇3L(dq,v),q)'*G̃(q)*v + Dq3L(q,v)]\n",
    "\n",
    "    v̇ = Mq\\(CG + B(q)*u)\n",
    "    \n",
    "    #ForwardDiff.jacobian(dv->Dṙ0L(q,dv),v)*v̇ + ForwardDiff.jacobian(dq->Dṙ0L(dq,v),q)*G̃(q)*v - Dr0L(q,v)\n",
    "    #ForwardDiff.jacobian(dv->Dω0L(q,dv),v)*v̇ + ForwardDiff.jacobian(dq->Dω0L(dq,v),q)*G̃(q)*v + hat(ω)*Dω0L(q,v) - 0.5*H'*L(Q0)'*DQ0L(q,v)\n",
    "    #ForwardDiff.jacobian(dv->Dq̇1L(q,dv),v)*v̇ + ForwardDiff.jacobian(dq->Dq̇1L(dq,v),q)*G̃(q)*v - Dq1L(q,v)\n",
    "    \n",
    "    \n",
    "    return [q̇; v̇]\n",
    "end"
   ]
  },
  {
   "cell_type": "code",
   "execution_count": 16,
   "id": "f47bf130",
   "metadata": {},
   "outputs": [
    {
     "data": {
      "text/plain": [
       "rk4_step (generic function with 1 method)"
      ]
     },
     "execution_count": 16,
     "metadata": {},
     "output_type": "execute_result"
    }
   ],
   "source": [
    "function rk4_step(f, xk, uk, uk1, h)\n",
    "\n",
    "    f1 = f(xk, uk)\n",
    "    f2 = f(xk + 0.5*h*f1, 0.5*(uk + uk1))\n",
    "    f3 = f(xk + 0.5*h*f2, 0.5*(uk + uk1))\n",
    "    f4 = f(xk + h*f3, uk1)\n",
    "    \n",
    "    xn = xk + (h/6.0)*(f1 + 2*f2 + 2*f3 + f4)\n",
    "    xn[4:7] = xn[4:7]/norm(xn[4:7]) #re-normalize quaternion\n",
    "    \n",
    "    return xn\n",
    "end"
   ]
  },
  {
   "cell_type": "code",
   "execution_count": 17,
   "id": "9dc5b8ad",
   "metadata": {},
   "outputs": [
    {
     "data": {
      "text/plain": [
       "simulate! (generic function with 1 method)"
      ]
     },
     "execution_count": 17,
     "metadata": {},
     "output_type": "execute_result"
    }
   ],
   "source": [
    "function simulate!(xhist, N)\n",
    "    print(\"\\r Initializing...\")\n",
    "    flush(stdout)\n",
    "    for k = 1:(N-1)\n",
    "        xhist[:,k+1] .= rk4_step(f, xhist[:,k], uhist[k], uhist[k+1], h)\n",
    "        print(\"\\r Simulation \", trunc(Int, k/(N-1)*100), \"% complete\")\n",
    "        flush(stdout)\n",
    "    end\n",
    "end"
   ]
  },
  {
   "cell_type": "code",
   "execution_count": 30,
   "id": "5dbf79e0",
   "metadata": {
    "scrolled": true
   },
   "outputs": [
    {
     "name": "stdout",
     "output_type": "stream",
     "text": [
      " Simulation 100% complete"
     ]
    }
   ],
   "source": [
    "simulate!(xhist, N)"
   ]
  },
  {
   "cell_type": "code",
   "execution_count": 31,
   "id": "9205577b",
   "metadata": {},
   "outputs": [
    {
     "data": {
      "text/plain": [
       "10001-element Vector{Vector{Float64}}:\n",
       " [-0.5235987755982988, -2.6179938779914944, -2.0943951023931953, 2.0943951023931953]\n",
       " [NaN, NaN, NaN, NaN]\n",
       " [NaN, NaN, NaN, NaN]\n",
       " [NaN, NaN, NaN, NaN]\n",
       " [NaN, NaN, NaN, NaN]\n",
       " [NaN, NaN, NaN, NaN]\n",
       " [NaN, NaN, NaN, NaN]\n",
       " [NaN, NaN, NaN, NaN]\n",
       " [NaN, NaN, NaN, NaN]\n",
       " [NaN, NaN, NaN, NaN]\n",
       " [NaN, NaN, NaN, NaN]\n",
       " [NaN, NaN, NaN, NaN]\n",
       " [NaN, NaN, NaN, NaN]\n",
       " ⋮\n",
       " [NaN, NaN, NaN, NaN]\n",
       " [NaN, NaN, NaN, NaN]\n",
       " [NaN, NaN, NaN, NaN]\n",
       " [NaN, NaN, NaN, NaN]\n",
       " [NaN, NaN, NaN, NaN]\n",
       " [NaN, NaN, NaN, NaN]\n",
       " [NaN, NaN, NaN, NaN]\n",
       " [NaN, NaN, NaN, NaN]\n",
       " [NaN, NaN, NaN, NaN]\n",
       " [NaN, NaN, NaN, NaN]\n",
       " [NaN, NaN, NaN, NaN]\n",
       " [NaN, NaN, NaN, NaN]"
      ]
     },
     "execution_count": 31,
     "metadata": {},
     "output_type": "execute_result"
    }
   ],
   "source": [
    "q0 = -xhist[8, :] .- 30*(pi/180)\n",
    "q1 = -xhist[9, :] .- 120*(pi/180)\n",
    "q2 = -xhist[10, :] .- 150*(pi/180)\n",
    "q3 = -xhist[11, :] .+ 120*(pi/180)\n",
    "\n",
    "qs = convert(AbstractArray{Float64}, [q0 q2 q1 q3]) \n",
    "ts = convert(AbstractVector{Float64}, thist) # AbstractVector(thist)\n",
    "q_array = [ qs[i,:] for i in 1:size(qs,1)] "
   ]
  },
  {
   "cell_type": "code",
   "execution_count": 20,
   "id": "6ba89431",
   "metadata": {},
   "outputs": [],
   "source": [
    "using MeshCat, GeometryBasics, CoordinateTransformations, Rotations#, GeometryTypes\n",
    "#const gt = GeometryTypes"
   ]
  },
  {
   "cell_type": "code",
   "execution_count": 21,
   "id": "5fcfed84",
   "metadata": {},
   "outputs": [
    {
     "name": "stderr",
     "output_type": "stream",
     "text": [
      "┌ Info: MeshCat server started. You can open the visualizer by visiting the following URL in your browser:\n",
      "│ http://127.0.0.1:8700\n",
      "└ @ MeshCat /home/ben/.julia/packages/MeshCat/GlCMx/src/visualizer.jl:73\n"
     ]
    },
    {
     "data": {
      "text/html": [
       "    <div style=\"height: 500px; width: 100%; overflow-x: auto; overflow-y: hidden; resize: both\">\n",
       "    <iframe src=\"http://127.0.0.1:8700\" style=\"width: 100%; height: 100%; border: none\"></iframe>\n",
       "    </div>\n"
      ],
      "text/plain": [
       "MeshCat.DisplayedVisualizer(MeshCat.CoreVisualizer(MeshCat.SceneTrees.SceneNode(nothing, nothing, Dict{String, Vector{UInt8}}(), nothing, Dict{String, MeshCat.SceneTrees.SceneNode}()), Set{Any}(), ip\"127.0.0.1\", 8700))"
      ]
     },
     "execution_count": 21,
     "metadata": {},
     "output_type": "execute_result"
    }
   ],
   "source": [
    "vis = Visualizer()\n",
    "render(vis)"
   ]
  },
  {
   "cell_type": "code",
   "execution_count": 22,
   "id": "3e474bf6",
   "metadata": {},
   "outputs": [
    {
     "ename": "LoadError",
     "evalue": "UndefVarError: RGBA not defined",
     "output_type": "error",
     "traceback": [
      "UndefVarError: RGBA not defined",
      "",
      "Stacktrace:",
      " [1] top-level scope",
      "   @ In[22]:3",
      " [2] eval",
      "   @ ./boot.jl:360 [inlined]",
      " [3] include_string(mapexpr::typeof(REPL.softscope), mod::Module, code::String, filename::String)",
      "   @ Base ./loading.jl:1116"
     ]
    }
   ],
   "source": [
    "delete!(vis)\n",
    "\n",
    "green_material = MeshPhongMaterial(color=RGBA(0, 1, 0, 0.8))\n",
    "red_material = MeshPhongMaterial(color=RGBA(1, 0, 0, 0.8))\n",
    "\n",
    "l_345 = sqrt((l3 + l4)^2 + l5^2)\n",
    "# sphere = Sphere(Point(0, 0, 0), 3)\n",
    "# rect = Rectangle(0.2, 0.2, 0.2, 0.2)\n",
    "cylinderb = Cylinder(Point(0, -0.02, l_cb[2]), Point(0, 0.02, l_cb[2]), 0.04)  #float(l_cb)\n",
    "cylinder0 = Cylinder(Point(-l_c0[1], 0, 0), Point(l0-l_c0[1], 0, 0), 0.008)\n",
    "cylinder1 = Cylinder(Point(-l_c1[1], 0, 0), Point(l1-l_c1[1], 0, 0), 0.008)\n",
    "cylinder2 = Cylinder(Point(-l_c2[1], 0, 0), Point(l2-l_c2[1], 0, 0), 0.008)\n",
    "cylinder3 = Cylinder(Point(-l_c3[1], 0, 0), Point(l_345-l_c3[1], 0, 0), 0.008)\n",
    "\n",
    "# setobject!(vis[\"sphere\"],sphere,red_material)\n",
    "setobject!(vis[\"cylinderb\"],cylinderb,red_material)\n",
    "setobject!(vis[\"cylinder0\"],cylinder0,green_material)\n",
    "setobject!(vis[\"cylinder1\"],cylinder1,green_material)\n",
    "setobject!(vis[\"cylinder2\"],cylinder2,green_material)\n",
    "setobject!(vis[\"cylinder3\"],cylinder3,green_material)\n",
    "\n",
    "for k = 1:N\n",
    "    \n",
    "    Xk = kinematics(xhist[:,k])\n",
    "    # set position and attitude\n",
    "    positionb = Translation(Xk[1:3]...)\n",
    "    attitudeb = LinearMap(UnitQuaternion(Xk[4:7]))\n",
    "    position0 = Translation(Xk[8:10]...)\n",
    "    attitude0 = LinearMap(UnitQuaternion(Xk[11:14]))\n",
    "    position1 = Translation(Xk[15:17]...)\n",
    "    attitude1 = LinearMap(UnitQuaternion(Xk[18:21]))\n",
    "    position2 = Translation(Xk[22:24]...)\n",
    "    attitude2 = LinearMap(UnitQuaternion(Xk[25:28]))\n",
    "    position3 = Translation(Xk[29:31]...)\n",
    "    attitude3 = LinearMap(UnitQuaternion(Xk[32:35]))\n",
    "    \n",
    "    settransform!(vis[\"cylinderb\"], compose(positionb,attitudeb))\n",
    "    settransform!(vis[\"cylinder0\"], compose(position0,attitude0))\n",
    "    settransform!(vis[\"cylinder1\"], compose(position1,attitude1))\n",
    "    settransform!(vis[\"cylinder2\"], compose(position2,attitude2))\n",
    "    settransform!(vis[\"cylinder3\"], compose(position3,attitude3))\n",
    "    #sleep(0.001)\n",
    "end"
   ]
  },
  {
   "cell_type": "code",
   "execution_count": 23,
   "id": "3ac0c9bd",
   "metadata": {},
   "outputs": [
    {
     "data": {
      "text/plain": [
       "MechanismState{Float64, Float64, Float64, …}(…)"
      ]
     },
     "execution_count": 23,
     "metadata": {},
     "output_type": "execute_result"
    }
   ],
   "source": [
    "# only works with Rotations v1.0.4 and earlier\n",
    "# use Pkg.add(Pkg.PackageSpec(;name=\"Rotations\", version=\"1.0.4\"))\n",
    "curdir = pwd()\n",
    "urdfpath = joinpath(curdir, \"../res/flyhopper_robot/urdf/flyhopper_robot.urdf\")\n",
    "leg = parse_urdf(urdfpath, floating=true)\n",
    "state = MechanismState(leg)"
   ]
  },
  {
   "cell_type": "code",
   "execution_count": 24,
   "id": "574d1b70",
   "metadata": {},
   "outputs": [
    {
     "name": "stderr",
     "output_type": "stream",
     "text": [
      "┌ Info: MeshCat server started. You can open the visualizer by visiting the following URL in your browser:\n",
      "│ http://127.0.0.1:8701\n",
      "└ @ MeshCat /home/ben/.julia/packages/MeshCat/GlCMx/src/visualizer.jl:73\n"
     ]
    },
    {
     "data": {
      "text/html": [
       "    <div style=\"height: 500px; width: 100%; overflow-x: auto; overflow-y: hidden; resize: both\">\n",
       "    <iframe src=\"http://127.0.0.1:8701\" style=\"width: 100%; height: 100%; border: none\"></iframe>\n",
       "    </div>\n"
      ],
      "text/plain": [
       "MeshCat.DisplayedVisualizer(MeshCat.CoreVisualizer(MeshCat.SceneTrees.SceneNode(nothing, nothing, Dict{String, Vector{UInt8}}(), nothing, Dict{String, MeshCat.SceneTrees.SceneNode}(\"meshcat\" => MeshCat.SceneTrees.SceneNode(nothing, nothing, Dict{String, Vector{UInt8}}(), nothing, Dict{String, MeshCat.SceneTrees.SceneNode}(\"world\" => MeshCat.SceneTrees.SceneNode(nothing, nothing, Dict{String, Vector{UInt8}}(), nothing, Dict{String, MeshCat.SceneTrees.SceneNode}(\"base_link\" => MeshCat.SceneTrees.SceneNode(nothing, UInt8[0x83, 0xa6, 0x6d, 0x61, 0x74, 0x72, 0x69, 0x78, 0xc7, 0x40  …  0x2f, 0x62, 0x61, 0x73, 0x65, 0x5f, 0x6c, 0x69, 0x6e, 0x6b], Dict{String, Vector{UInt8}}(), nothing, Dict{String, MeshCat.SceneTrees.SceneNode}(\"base_link\" => MeshCat.SceneTrees.SceneNode(nothing, UInt8[0x83, 0xa6, 0x6d, 0x61, 0x74, 0x72, 0x69, 0x78, 0xc7, 0x40  …  0x2f, 0x62, 0x61, 0x73, 0x65, 0x5f, 0x6c, 0x69, 0x6e, 0x6b], Dict{String, Vector{UInt8}}(), nothing, Dict{String, MeshCat.SceneTrees.SceneNode}(\"geometry_1\" => MeshCat.SceneTrees.SceneNode(UInt8[0x83, 0xa6, 0x6f, 0x62, 0x6a, 0x65, 0x63, 0x74, 0x84, 0xaa  …  0x67, 0x65, 0x6f, 0x6d, 0x65, 0x74, 0x72, 0x79, 0x5f, 0x31], UInt8[0x83, 0xa6, 0x6d, 0x61, 0x74, 0x72, 0x69, 0x78, 0xc7, 0x40  …  0x67, 0x65, 0x6f, 0x6d, 0x65, 0x74, 0x72, 0x79, 0x5f, 0x31], Dict{String, Vector{UInt8}}(), nothing, Dict{String, MeshCat.SceneTrees.SceneNode}()))), \"Link 2\" => MeshCat.SceneTrees.SceneNode(nothing, UInt8[0x83, 0xa6, 0x6d, 0x61, 0x74, 0x72, 0x69, 0x78, 0xc7, 0x40  …  0x69, 0x6e, 0x6b, 0x2f, 0x4c, 0x69, 0x6e, 0x6b, 0x20, 0x32], Dict{String, Vector{UInt8}}(), nothing, Dict{String, MeshCat.SceneTrees.SceneNode}(\"Link 3\" => MeshCat.SceneTrees.SceneNode(nothing, UInt8[0x83, 0xa6, 0x6d, 0x61, 0x74, 0x72, 0x69, 0x78, 0xc7, 0x40  …  0x6b, 0x20, 0x32, 0x2f, 0x4c, 0x69, 0x6e, 0x6b, 0x20, 0x33], Dict{String, Vector{UInt8}}(), nothing, Dict{String, MeshCat.SceneTrees.SceneNode}(\"after_Joint 3\" => MeshCat.SceneTrees.SceneNode(nothing, UInt8[0x83, 0xa6, 0x6d, 0x61, 0x74, 0x72, 0x69, 0x78, 0xc7, 0x40  …  0x65, 0x72, 0x5f, 0x4a, 0x6f, 0x69, 0x6e, 0x74, 0x20, 0x33], Dict{String, Vector{UInt8}}(), nothing, Dict{String, MeshCat.SceneTrees.SceneNode}(\"geometry_5\" => MeshCat.SceneTrees.SceneNode(UInt8[0x83, 0xa6, 0x6f, 0x62, 0x6a, 0x65, 0x63, 0x74, 0x84, 0xaa  …  0x67, 0x65, 0x6f, 0x6d, 0x65, 0x74, 0x72, 0x79, 0x5f, 0x35], UInt8[0x83, 0xa6, 0x6d, 0x61, 0x74, 0x72, 0x69, 0x78, 0xc7, 0x40  …  0x67, 0x65, 0x6f, 0x6d, 0x65, 0x74, 0x72, 0x79, 0x5f, 0x35], Dict{String, Vector{UInt8}}(), nothing, Dict{String, MeshCat.SceneTrees.SceneNode}()))))), \"after_Joint 2\" => MeshCat.SceneTrees.SceneNode(nothing, UInt8[0x83, 0xa6, 0x6d, 0x61, 0x74, 0x72, 0x69, 0x78, 0xc7, 0x40  …  0x65, 0x72, 0x5f, 0x4a, 0x6f, 0x69, 0x6e, 0x74, 0x20, 0x32], Dict{String, Vector{UInt8}}(), nothing, Dict{String, MeshCat.SceneTrees.SceneNode}(\"geometry_4\" => MeshCat.SceneTrees.SceneNode(UInt8[0x83, 0xa6, 0x6f, 0x62, 0x6a, 0x65, 0x63, 0x74, 0x84, 0xaa  …  0x67, 0x65, 0x6f, 0x6d, 0x65, 0x74, 0x72, 0x79, 0x5f, 0x34], UInt8[0x83, 0xa6, 0x6d, 0x61, 0x74, 0x72, 0x69, 0x78, 0xc7, 0x40  …  0x67, 0x65, 0x6f, 0x6d, 0x65, 0x74, 0x72, 0x79, 0x5f, 0x34], Dict{String, Vector{UInt8}}(), nothing, Dict{String, MeshCat.SceneTrees.SceneNode}()))))), \"Link 0\" => MeshCat.SceneTrees.SceneNode(nothing, UInt8[0x83, 0xa6, 0x6d, 0x61, 0x74, 0x72, 0x69, 0x78, 0xc7, 0x40  …  0x69, 0x6e, 0x6b, 0x2f, 0x4c, 0x69, 0x6e, 0x6b, 0x20, 0x30], Dict{String, Vector{UInt8}}(), nothing, Dict{String, MeshCat.SceneTrees.SceneNode}(\"Link 1\" => MeshCat.SceneTrees.SceneNode(nothing, UInt8[0x83, 0xa6, 0x6d, 0x61, 0x74, 0x72, 0x69, 0x78, 0xc7, 0x40  …  0x6b, 0x20, 0x30, 0x2f, 0x4c, 0x69, 0x6e, 0x6b, 0x20, 0x31], Dict{String, Vector{UInt8}}(), nothing, Dict{String, MeshCat.SceneTrees.SceneNode}(\"after_Joint 1\" => MeshCat.SceneTrees.SceneNode(nothing, UInt8[0x83, 0xa6, 0x6d, 0x61, 0x74, 0x72, 0x69, 0x78, 0xc7, 0x40  …  0x65, 0x72, 0x5f, 0x4a, 0x6f, 0x69, 0x6e, 0x74, 0x20, 0x31], Dict{String, Vector{UInt8}}(), nothing, Dict{String, MeshCat.SceneTrees.SceneNode}(\"geometry_3\" => MeshCat.SceneTrees.SceneNode(UInt8[0x83, 0xa6, 0x6f, 0x62, 0x6a, 0x65, 0x63, 0x74, 0x84, 0xaa  …  0x67, 0x65, 0x6f, 0x6d, 0x65, 0x74, 0x72, 0x79, 0x5f, 0x33], UInt8[0x83, 0xa6, 0x6d, 0x61, 0x74, 0x72, 0x69, 0x78, 0xc7, 0x40  …  0x67, 0x65, 0x6f, 0x6d, 0x65, 0x74, 0x72, 0x79, 0x5f, 0x33], Dict{String, Vector{UInt8}}(), nothing, Dict{String, MeshCat.SceneTrees.SceneNode}()))))), \"after_Joint 0\" => MeshCat.SceneTrees.SceneNode(nothing, UInt8[0x83, 0xa6, 0x6d, 0x61, 0x74, 0x72, 0x69, 0x78, 0xc7, 0x40  …  0x65, 0x72, 0x5f, 0x4a, 0x6f, 0x69, 0x6e, 0x74, 0x20, 0x30], Dict{String, Vector{UInt8}}(), nothing, Dict{String, MeshCat.SceneTrees.SceneNode}(\"geometry_2\" => MeshCat.SceneTrees.SceneNode(UInt8[0x83, 0xa6, 0x6f, 0x62, 0x6a, 0x65, 0x63, 0x74, 0x84, 0xaa  …  0x67, 0x65, 0x6f, 0x6d, 0x65, 0x74, 0x72, 0x79, 0x5f, 0x32], UInt8[0x83, 0xa6, 0x6d, 0x61, 0x74, 0x72, 0x69, 0x78, 0xc7, 0x40  …  0x67, 0x65, 0x6f, 0x6d, 0x65, 0x74, 0x72, 0x79, 0x5f, 0x32], Dict{String, Vector{UInt8}}(), nothing, Dict{String, MeshCat.SceneTrees.SceneNode}()))))))))))))), Set{Any}(), ip\"127.0.0.1\", 8701))"
      ]
     },
     "execution_count": 24,
     "metadata": {},
     "output_type": "execute_result"
    }
   ],
   "source": [
    "# mvis = MechanismVisualizer(doublependulum, Skeleton(randomize_colors=true, inertias=false));\n",
    "mvis = MechanismVisualizer(leg, URDFVisuals(urdfpath));\n",
    "\n",
    "render(mvis)"
   ]
  },
  {
   "cell_type": "code",
   "execution_count": 25,
   "id": "094fff26",
   "metadata": {},
   "outputs": [],
   "source": [
    "q_0 = x_init[8]\n",
    "q_1 = x_init[9]\n",
    "q_2 = x_init[10]\n",
    "q_3 = x_init[11]\n",
    "\n",
    "set_configuration!(mvis, [1,0,0,0,0,0,0, -q_0-30*(pi/180), -q_2-150*(pi/180), -q_1-120*(pi/180), -q_3+120*(pi/180)])"
   ]
  },
  {
   "cell_type": "code",
   "execution_count": 26,
   "id": "b0ddaacc",
   "metadata": {},
   "outputs": [],
   "source": [
    "for k = 1:N\n",
    "    pb = xhist[1:3, k]\n",
    "    Qb = xhist[4:7, k]\n",
    "    input = vcat(Qb, pb, -q_array[k])\n",
    "    set_configuration!(mvis, input)\n",
    "end"
   ]
  },
  {
   "cell_type": "code",
   "execution_count": 27,
   "id": "fdfdf1e5",
   "metadata": {},
   "outputs": [
    {
     "data": {
      "text/plain": [
       "Energy (generic function with 1 method)"
      ]
     },
     "execution_count": 27,
     "metadata": {},
     "output_type": "execute_result"
    }
   ],
   "source": [
    "#Energy Functions\n",
    "\n",
    "function Energy(x)\n",
    "    q = x[1:11]\n",
    "    v = x[12:end]\n",
    "    energy = Lagrangian(q,v)\n",
    "    return energy\n",
    "end"
   ]
  },
  {
   "cell_type": "code",
   "execution_count": 28,
   "id": "4c4d9051",
   "metadata": {},
   "outputs": [
    {
     "name": "stderr",
     "output_type": "stream",
     "text": [
      "WARNING: using Plots.rotate in module Main conflicts with an existing identifier.\n"
     ]
    },
    {
     "data": {
      "image/svg+xml": [
       "<?xml version=\"1.0\" encoding=\"utf-8\"?>\n",
       "<svg xmlns=\"http://www.w3.org/2000/svg\" xmlns:xlink=\"http://www.w3.org/1999/xlink\" width=\"600\" height=\"400\" viewBox=\"0 0 2400 1600\">\n",
       "<defs>\n",
       "  <clipPath id=\"clip730\">\n",
       "    <rect x=\"0\" y=\"0\" width=\"2400\" height=\"1600\"/>\n",
       "  </clipPath>\n",
       "</defs>\n",
       "<path clip-path=\"url(#clip730)\" d=\"\n",
       "M0 1600 L2400 1600 L2400 0 L0 0  Z\n",
       "  \" fill=\"#ffffff\" fill-rule=\"evenodd\" fill-opacity=\"1\"/>\n",
       "<defs>\n",
       "  <clipPath id=\"clip731\">\n",
       "    <rect x=\"480\" y=\"0\" width=\"1681\" height=\"1600\"/>\n",
       "  </clipPath>\n",
       "</defs>\n",
       "<path clip-path=\"url(#clip730)\" d=\"\n",
       "M186.274 1486.45 L2352.76 1486.45 L2352.76 47.2441 L186.274 47.2441  Z\n",
       "  \" fill=\"#ffffff\" fill-rule=\"evenodd\" fill-opacity=\"1\"/>\n",
       "<defs>\n",
       "  <clipPath id=\"clip732\">\n",
       "    <rect x=\"186\" y=\"47\" width=\"2167\" height=\"1440\"/>\n",
       "  </clipPath>\n",
       "</defs>\n",
       "<polyline clip-path=\"url(#clip732)\" style=\"stroke:#000000; stroke-linecap:butt; stroke-linejoin:round; stroke-width:2; stroke-opacity:0.1; fill:none\" points=\"\n",
       "  247.59,1486.45 247.59,47.2441 \n",
       "  \"/>\n",
       "<polyline clip-path=\"url(#clip732)\" style=\"stroke:#000000; stroke-linecap:butt; stroke-linejoin:round; stroke-width:2; stroke-opacity:0.1; fill:none\" points=\"\n",
       "  758.552,1486.45 758.552,47.2441 \n",
       "  \"/>\n",
       "<polyline clip-path=\"url(#clip732)\" style=\"stroke:#000000; stroke-linecap:butt; stroke-linejoin:round; stroke-width:2; stroke-opacity:0.1; fill:none\" points=\"\n",
       "  1269.51,1486.45 1269.51,47.2441 \n",
       "  \"/>\n",
       "<polyline clip-path=\"url(#clip732)\" style=\"stroke:#000000; stroke-linecap:butt; stroke-linejoin:round; stroke-width:2; stroke-opacity:0.1; fill:none\" points=\"\n",
       "  1780.48,1486.45 1780.48,47.2441 \n",
       "  \"/>\n",
       "<polyline clip-path=\"url(#clip732)\" style=\"stroke:#000000; stroke-linecap:butt; stroke-linejoin:round; stroke-width:2; stroke-opacity:0.1; fill:none\" points=\"\n",
       "  2291.44,1486.45 2291.44,47.2441 \n",
       "  \"/>\n",
       "<polyline clip-path=\"url(#clip730)\" style=\"stroke:#000000; stroke-linecap:butt; stroke-linejoin:round; stroke-width:4; stroke-opacity:1; fill:none\" points=\"\n",
       "  186.274,1486.45 2352.76,1486.45 \n",
       "  \"/>\n",
       "<polyline clip-path=\"url(#clip730)\" style=\"stroke:#000000; stroke-linecap:butt; stroke-linejoin:round; stroke-width:4; stroke-opacity:1; fill:none\" points=\"\n",
       "  247.59,1486.45 247.59,1467.55 \n",
       "  \"/>\n",
       "<polyline clip-path=\"url(#clip730)\" style=\"stroke:#000000; stroke-linecap:butt; stroke-linejoin:round; stroke-width:4; stroke-opacity:1; fill:none\" points=\"\n",
       "  758.552,1486.45 758.552,1467.55 \n",
       "  \"/>\n",
       "<polyline clip-path=\"url(#clip730)\" style=\"stroke:#000000; stroke-linecap:butt; stroke-linejoin:round; stroke-width:4; stroke-opacity:1; fill:none\" points=\"\n",
       "  1269.51,1486.45 1269.51,1467.55 \n",
       "  \"/>\n",
       "<polyline clip-path=\"url(#clip730)\" style=\"stroke:#000000; stroke-linecap:butt; stroke-linejoin:round; stroke-width:4; stroke-opacity:1; fill:none\" points=\"\n",
       "  1780.48,1486.45 1780.48,1467.55 \n",
       "  \"/>\n",
       "<polyline clip-path=\"url(#clip730)\" style=\"stroke:#000000; stroke-linecap:butt; stroke-linejoin:round; stroke-width:4; stroke-opacity:1; fill:none\" points=\"\n",
       "  2291.44,1486.45 2291.44,1467.55 \n",
       "  \"/>\n",
       "<path clip-path=\"url(#clip730)\" d=\"M224.974 1517.37 Q221.363 1517.37 219.534 1520.93 Q217.729 1524.47 217.729 1531.6 Q217.729 1538.71 219.534 1542.27 Q221.363 1545.82 224.974 1545.82 Q228.608 1545.82 230.414 1542.27 Q232.242 1538.71 232.242 1531.6 Q232.242 1524.47 230.414 1520.93 Q228.608 1517.37 224.974 1517.37 M224.974 1513.66 Q230.784 1513.66 233.84 1518.27 Q236.918 1522.85 236.918 1531.6 Q236.918 1540.33 233.84 1544.94 Q230.784 1549.52 224.974 1549.52 Q219.164 1549.52 216.085 1544.94 Q213.03 1540.33 213.03 1531.6 Q213.03 1522.85 216.085 1518.27 Q219.164 1513.66 224.974 1513.66 Z\" fill=\"#000000\" fill-rule=\"evenodd\" fill-opacity=\"1\" /><path clip-path=\"url(#clip730)\" d=\"M245.136 1542.97 L250.02 1542.97 L250.02 1548.85 L245.136 1548.85 L245.136 1542.97 Z\" fill=\"#000000\" fill-rule=\"evenodd\" fill-opacity=\"1\" /><path clip-path=\"url(#clip730)\" d=\"M270.205 1517.37 Q266.594 1517.37 264.765 1520.93 Q262.96 1524.47 262.96 1531.6 Q262.96 1538.71 264.765 1542.27 Q266.594 1545.82 270.205 1545.82 Q273.839 1545.82 275.645 1542.27 Q277.474 1538.71 277.474 1531.6 Q277.474 1524.47 275.645 1520.93 Q273.839 1517.37 270.205 1517.37 M270.205 1513.66 Q276.015 1513.66 279.071 1518.27 Q282.15 1522.85 282.15 1531.6 Q282.15 1540.33 279.071 1544.94 Q276.015 1549.52 270.205 1549.52 Q264.395 1549.52 261.316 1544.94 Q258.261 1540.33 258.261 1531.6 Q258.261 1522.85 261.316 1518.27 Q264.395 1513.66 270.205 1513.66 Z\" fill=\"#000000\" fill-rule=\"evenodd\" fill-opacity=\"1\" /><path clip-path=\"url(#clip730)\" d=\"M730.289 1544.91 L746.608 1544.91 L746.608 1548.85 L724.664 1548.85 L724.664 1544.91 Q727.326 1542.16 731.909 1537.53 Q736.515 1532.88 737.696 1531.53 Q739.941 1529.01 740.821 1527.27 Q741.724 1525.51 741.724 1523.82 Q741.724 1521.07 739.779 1519.33 Q737.858 1517.6 734.756 1517.6 Q732.557 1517.6 730.103 1518.36 Q727.673 1519.13 724.895 1520.68 L724.895 1515.95 Q727.719 1514.82 730.173 1514.24 Q732.626 1513.66 734.663 1513.66 Q740.034 1513.66 743.228 1516.35 Q746.423 1519.03 746.423 1523.52 Q746.423 1525.65 745.612 1527.57 Q744.825 1529.47 742.719 1532.07 Q742.14 1532.74 739.038 1535.95 Q735.937 1539.15 730.289 1544.91 Z\" fill=\"#000000\" fill-rule=\"evenodd\" fill-opacity=\"1\" /><path clip-path=\"url(#clip730)\" d=\"M756.423 1542.97 L761.307 1542.97 L761.307 1548.85 L756.423 1548.85 L756.423 1542.97 Z\" fill=\"#000000\" fill-rule=\"evenodd\" fill-opacity=\"1\" /><path clip-path=\"url(#clip730)\" d=\"M771.538 1514.29 L789.895 1514.29 L789.895 1518.22 L775.821 1518.22 L775.821 1526.7 Q776.839 1526.35 777.858 1526.19 Q778.876 1526 779.895 1526 Q785.682 1526 789.061 1529.17 Q792.441 1532.34 792.441 1537.76 Q792.441 1543.34 788.969 1546.44 Q785.497 1549.52 779.177 1549.52 Q777.001 1549.52 774.733 1549.15 Q772.487 1548.78 770.08 1548.04 L770.08 1543.34 Q772.163 1544.47 774.385 1545.03 Q776.608 1545.58 779.085 1545.58 Q783.089 1545.58 785.427 1543.48 Q787.765 1541.37 787.765 1537.76 Q787.765 1534.15 785.427 1532.04 Q783.089 1529.94 779.085 1529.94 Q777.21 1529.94 775.335 1530.35 Q773.483 1530.77 771.538 1531.65 L771.538 1514.29 Z\" fill=\"#000000\" fill-rule=\"evenodd\" fill-opacity=\"1\" /><path clip-path=\"url(#clip730)\" d=\"M1236.68 1514.29 L1255.04 1514.29 L1255.04 1518.22 L1240.96 1518.22 L1240.96 1526.7 Q1241.98 1526.35 1243 1526.19 Q1244.02 1526 1245.04 1526 Q1250.82 1526 1254.2 1529.17 Q1257.58 1532.34 1257.58 1537.76 Q1257.58 1543.34 1254.11 1546.44 Q1250.64 1549.52 1244.32 1549.52 Q1242.14 1549.52 1239.87 1549.15 Q1237.63 1548.78 1235.22 1548.04 L1235.22 1543.34 Q1237.3 1544.47 1239.53 1545.03 Q1241.75 1545.58 1244.23 1545.58 Q1248.23 1545.58 1250.57 1543.48 Q1252.91 1541.37 1252.91 1537.76 Q1252.91 1534.15 1250.57 1532.04 Q1248.23 1529.94 1244.23 1529.94 Q1242.35 1529.94 1240.48 1530.35 Q1238.62 1530.77 1236.68 1531.65 L1236.68 1514.29 Z\" fill=\"#000000\" fill-rule=\"evenodd\" fill-opacity=\"1\" /><path clip-path=\"url(#clip730)\" d=\"M1266.8 1542.97 L1271.68 1542.97 L1271.68 1548.85 L1266.8 1548.85 L1266.8 1542.97 Z\" fill=\"#000000\" fill-rule=\"evenodd\" fill-opacity=\"1\" /><path clip-path=\"url(#clip730)\" d=\"M1291.86 1517.37 Q1288.25 1517.37 1286.42 1520.93 Q1284.62 1524.47 1284.62 1531.6 Q1284.62 1538.71 1286.42 1542.27 Q1288.25 1545.82 1291.86 1545.82 Q1295.5 1545.82 1297.3 1542.27 Q1299.13 1538.71 1299.13 1531.6 Q1299.13 1524.47 1297.3 1520.93 Q1295.5 1517.37 1291.86 1517.37 M1291.86 1513.66 Q1297.67 1513.66 1300.73 1518.27 Q1303.81 1522.85 1303.81 1531.6 Q1303.81 1540.33 1300.73 1544.94 Q1297.67 1549.52 1291.86 1549.52 Q1286.05 1549.52 1282.98 1544.94 Q1279.92 1540.33 1279.92 1531.6 Q1279.92 1522.85 1282.98 1518.27 Q1286.05 1513.66 1291.86 1513.66 Z\" fill=\"#000000\" fill-rule=\"evenodd\" fill-opacity=\"1\" /><path clip-path=\"url(#clip730)\" d=\"M1746.8 1514.29 L1769.02 1514.29 L1769.02 1516.28 L1756.47 1548.85 L1751.59 1548.85 L1763.39 1518.22 L1746.8 1518.22 L1746.8 1514.29 Z\" fill=\"#000000\" fill-rule=\"evenodd\" fill-opacity=\"1\" /><path clip-path=\"url(#clip730)\" d=\"M1778.14 1542.97 L1783.02 1542.97 L1783.02 1548.85 L1778.14 1548.85 L1778.14 1542.97 Z\" fill=\"#000000\" fill-rule=\"evenodd\" fill-opacity=\"1\" /><path clip-path=\"url(#clip730)\" d=\"M1793.26 1514.29 L1811.61 1514.29 L1811.61 1518.22 L1797.54 1518.22 L1797.54 1526.7 Q1798.56 1526.35 1799.57 1526.19 Q1800.59 1526 1801.61 1526 Q1807.4 1526 1810.78 1529.17 Q1814.16 1532.34 1814.16 1537.76 Q1814.16 1543.34 1810.69 1546.44 Q1807.21 1549.52 1800.89 1549.52 Q1798.72 1549.52 1796.45 1549.15 Q1794.2 1548.78 1791.8 1548.04 L1791.8 1543.34 Q1793.88 1544.47 1796.1 1545.03 Q1798.32 1545.58 1800.8 1545.58 Q1804.81 1545.58 1807.14 1543.48 Q1809.48 1541.37 1809.48 1537.76 Q1809.48 1534.15 1807.14 1532.04 Q1804.81 1529.94 1800.8 1529.94 Q1798.93 1529.94 1797.05 1530.35 Q1795.2 1530.77 1793.26 1531.65 L1793.26 1514.29 Z\" fill=\"#000000\" fill-rule=\"evenodd\" fill-opacity=\"1\" /><path clip-path=\"url(#clip730)\" d=\"M2243.51 1544.91 L2251.15 1544.91 L2251.15 1518.55 L2242.84 1520.21 L2242.84 1515.95 L2251.1 1514.29 L2255.78 1514.29 L2255.78 1544.91 L2263.42 1544.91 L2263.42 1548.85 L2243.51 1548.85 L2243.51 1544.91 Z\" fill=\"#000000\" fill-rule=\"evenodd\" fill-opacity=\"1\" /><path clip-path=\"url(#clip730)\" d=\"M2282.86 1517.37 Q2279.25 1517.37 2277.42 1520.93 Q2275.62 1524.47 2275.62 1531.6 Q2275.62 1538.71 2277.42 1542.27 Q2279.25 1545.82 2282.86 1545.82 Q2286.5 1545.82 2288.3 1542.27 Q2290.13 1538.71 2290.13 1531.6 Q2290.13 1524.47 2288.3 1520.93 Q2286.5 1517.37 2282.86 1517.37 M2282.86 1513.66 Q2288.67 1513.66 2291.73 1518.27 Q2294.81 1522.85 2294.81 1531.6 Q2294.81 1540.33 2291.73 1544.94 Q2288.67 1549.52 2282.86 1549.52 Q2277.05 1549.52 2273.98 1544.94 Q2270.92 1540.33 2270.92 1531.6 Q2270.92 1522.85 2273.98 1518.27 Q2277.05 1513.66 2282.86 1513.66 Z\" fill=\"#000000\" fill-rule=\"evenodd\" fill-opacity=\"1\" /><path clip-path=\"url(#clip730)\" d=\"M2303.03 1542.97 L2307.91 1542.97 L2307.91 1548.85 L2303.03 1548.85 L2303.03 1542.97 Z\" fill=\"#000000\" fill-rule=\"evenodd\" fill-opacity=\"1\" /><path clip-path=\"url(#clip730)\" d=\"M2328.1 1517.37 Q2324.48 1517.37 2322.66 1520.93 Q2320.85 1524.47 2320.85 1531.6 Q2320.85 1538.71 2322.66 1542.27 Q2324.48 1545.82 2328.1 1545.82 Q2331.73 1545.82 2333.54 1542.27 Q2335.36 1538.71 2335.36 1531.6 Q2335.36 1524.47 2333.54 1520.93 Q2331.73 1517.37 2328.1 1517.37 M2328.1 1513.66 Q2333.91 1513.66 2336.96 1518.27 Q2340.04 1522.85 2340.04 1531.6 Q2340.04 1540.33 2336.96 1544.94 Q2333.91 1549.52 2328.1 1549.52 Q2322.29 1549.52 2319.21 1544.94 Q2316.15 1540.33 2316.15 1531.6 Q2316.15 1522.85 2319.21 1518.27 Q2322.29 1513.66 2328.1 1513.66 Z\" fill=\"#000000\" fill-rule=\"evenodd\" fill-opacity=\"1\" /><polyline clip-path=\"url(#clip732)\" style=\"stroke:#000000; stroke-linecap:butt; stroke-linejoin:round; stroke-width:2; stroke-opacity:0.1; fill:none\" points=\"\n",
       "  186.274,1445.72 2352.76,1445.72 \n",
       "  \"/>\n",
       "<polyline clip-path=\"url(#clip732)\" style=\"stroke:#000000; stroke-linecap:butt; stroke-linejoin:round; stroke-width:2; stroke-opacity:0.1; fill:none\" points=\"\n",
       "  186.274,1106.28 2352.76,1106.28 \n",
       "  \"/>\n",
       "<polyline clip-path=\"url(#clip732)\" style=\"stroke:#000000; stroke-linecap:butt; stroke-linejoin:round; stroke-width:2; stroke-opacity:0.1; fill:none\" points=\"\n",
       "  186.274,766.846 2352.76,766.846 \n",
       "  \"/>\n",
       "<polyline clip-path=\"url(#clip732)\" style=\"stroke:#000000; stroke-linecap:butt; stroke-linejoin:round; stroke-width:2; stroke-opacity:0.1; fill:none\" points=\"\n",
       "  186.274,427.411 2352.76,427.411 \n",
       "  \"/>\n",
       "<polyline clip-path=\"url(#clip732)\" style=\"stroke:#000000; stroke-linecap:butt; stroke-linejoin:round; stroke-width:2; stroke-opacity:0.1; fill:none\" points=\"\n",
       "  186.274,87.9763 2352.76,87.9763 \n",
       "  \"/>\n",
       "<polyline clip-path=\"url(#clip730)\" style=\"stroke:#000000; stroke-linecap:butt; stroke-linejoin:round; stroke-width:4; stroke-opacity:1; fill:none\" points=\"\n",
       "  186.274,1486.45 186.274,47.2441 \n",
       "  \"/>\n",
       "<polyline clip-path=\"url(#clip730)\" style=\"stroke:#000000; stroke-linecap:butt; stroke-linejoin:round; stroke-width:4; stroke-opacity:1; fill:none\" points=\"\n",
       "  186.274,1445.72 205.172,1445.72 \n",
       "  \"/>\n",
       "<polyline clip-path=\"url(#clip730)\" style=\"stroke:#000000; stroke-linecap:butt; stroke-linejoin:round; stroke-width:4; stroke-opacity:1; fill:none\" points=\"\n",
       "  186.274,1106.28 205.172,1106.28 \n",
       "  \"/>\n",
       "<polyline clip-path=\"url(#clip730)\" style=\"stroke:#000000; stroke-linecap:butt; stroke-linejoin:round; stroke-width:4; stroke-opacity:1; fill:none\" points=\"\n",
       "  186.274,766.846 205.172,766.846 \n",
       "  \"/>\n",
       "<polyline clip-path=\"url(#clip730)\" style=\"stroke:#000000; stroke-linecap:butt; stroke-linejoin:round; stroke-width:4; stroke-opacity:1; fill:none\" points=\"\n",
       "  186.274,427.411 205.172,427.411 \n",
       "  \"/>\n",
       "<polyline clip-path=\"url(#clip730)\" style=\"stroke:#000000; stroke-linecap:butt; stroke-linejoin:round; stroke-width:4; stroke-opacity:1; fill:none\" points=\"\n",
       "  186.274,87.9763 205.172,87.9763 \n",
       "  \"/>\n",
       "<path clip-path=\"url(#clip730)\" d=\"M62.9365 1431.51 Q59.3254 1431.51 57.4967 1435.08 Q55.6912 1438.62 55.6912 1445.75 Q55.6912 1452.86 57.4967 1456.42 Q59.3254 1459.96 62.9365 1459.96 Q66.5707 1459.96 68.3763 1456.42 Q70.205 1452.86 70.205 1445.75 Q70.205 1438.62 68.3763 1435.08 Q66.5707 1431.51 62.9365 1431.51 M62.9365 1427.81 Q68.7467 1427.81 71.8022 1432.42 Q74.8809 1437 74.8809 1445.75 Q74.8809 1454.48 71.8022 1459.08 Q68.7467 1463.67 62.9365 1463.67 Q57.1264 1463.67 54.0477 1459.08 Q50.9921 1454.48 50.9921 1445.75 Q50.9921 1437 54.0477 1432.42 Q57.1264 1427.81 62.9365 1427.81 Z\" fill=\"#000000\" fill-rule=\"evenodd\" fill-opacity=\"1\" /><path clip-path=\"url(#clip730)\" d=\"M83.0984 1457.12 L87.9827 1457.12 L87.9827 1463 L83.0984 1463 L83.0984 1457.12 Z\" fill=\"#000000\" fill-rule=\"evenodd\" fill-opacity=\"1\" /><path clip-path=\"url(#clip730)\" d=\"M108.168 1431.51 Q104.557 1431.51 102.728 1435.08 Q100.922 1438.62 100.922 1445.75 Q100.922 1452.86 102.728 1456.42 Q104.557 1459.96 108.168 1459.96 Q111.802 1459.96 113.608 1456.42 Q115.436 1452.86 115.436 1445.75 Q115.436 1438.62 113.608 1435.08 Q111.802 1431.51 108.168 1431.51 M108.168 1427.81 Q113.978 1427.81 117.033 1432.42 Q120.112 1437 120.112 1445.75 Q120.112 1454.48 117.033 1459.08 Q113.978 1463.67 108.168 1463.67 Q102.358 1463.67 99.2789 1459.08 Q96.2234 1454.48 96.2234 1445.75 Q96.2234 1437 99.2789 1432.42 Q102.358 1427.81 108.168 1427.81 Z\" fill=\"#000000\" fill-rule=\"evenodd\" fill-opacity=\"1\" /><path clip-path=\"url(#clip730)\" d=\"M138.33 1431.51 Q134.719 1431.51 132.89 1435.08 Q131.084 1438.62 131.084 1445.75 Q131.084 1452.86 132.89 1456.42 Q134.719 1459.96 138.33 1459.96 Q141.964 1459.96 143.769 1456.42 Q145.598 1452.86 145.598 1445.75 Q145.598 1438.62 143.769 1435.08 Q141.964 1431.51 138.33 1431.51 M138.33 1427.81 Q144.14 1427.81 147.195 1432.42 Q150.274 1437 150.274 1445.75 Q150.274 1454.48 147.195 1459.08 Q144.14 1463.67 138.33 1463.67 Q132.519 1463.67 129.441 1459.08 Q126.385 1454.48 126.385 1445.75 Q126.385 1437 129.441 1432.42 Q132.519 1427.81 138.33 1427.81 Z\" fill=\"#000000\" fill-rule=\"evenodd\" fill-opacity=\"1\" /><path clip-path=\"url(#clip730)\" d=\"M63.9319 1092.08 Q60.3208 1092.08 58.4921 1095.64 Q56.6865 1099.19 56.6865 1106.32 Q56.6865 1113.42 58.4921 1116.99 Q60.3208 1120.53 63.9319 1120.53 Q67.5661 1120.53 69.3717 1116.99 Q71.2004 1113.42 71.2004 1106.32 Q71.2004 1099.19 69.3717 1095.64 Q67.5661 1092.08 63.9319 1092.08 M63.9319 1088.38 Q69.742 1088.38 72.7976 1092.98 Q75.8763 1097.57 75.8763 1106.32 Q75.8763 1115.04 72.7976 1119.65 Q69.742 1124.23 63.9319 1124.23 Q58.1217 1124.23 55.043 1119.65 Q51.9875 1115.04 51.9875 1106.32 Q51.9875 1097.57 55.043 1092.98 Q58.1217 1088.38 63.9319 1088.38 Z\" fill=\"#000000\" fill-rule=\"evenodd\" fill-opacity=\"1\" /><path clip-path=\"url(#clip730)\" d=\"M84.0938 1117.68 L88.978 1117.68 L88.978 1123.56 L84.0938 1123.56 L84.0938 1117.68 Z\" fill=\"#000000\" fill-rule=\"evenodd\" fill-opacity=\"1\" /><path clip-path=\"url(#clip730)\" d=\"M103.191 1119.63 L119.51 1119.63 L119.51 1123.56 L97.566 1123.56 L97.566 1119.63 Q100.228 1116.87 104.811 1112.24 Q109.418 1107.59 110.598 1106.25 Q112.844 1103.72 113.723 1101.99 Q114.626 1100.23 114.626 1098.54 Q114.626 1095.78 112.682 1094.05 Q110.76 1092.31 107.658 1092.31 Q105.459 1092.31 103.006 1093.07 Q100.575 1093.84 97.7974 1095.39 L97.7974 1090.67 Q100.621 1089.53 103.075 1088.95 Q105.529 1088.38 107.566 1088.38 Q112.936 1088.38 116.131 1091.06 Q119.325 1093.75 119.325 1098.24 Q119.325 1100.37 118.515 1102.29 Q117.728 1104.19 115.621 1106.78 Q115.043 1107.45 111.941 1110.67 Q108.839 1113.86 103.191 1119.63 Z\" fill=\"#000000\" fill-rule=\"evenodd\" fill-opacity=\"1\" /><path clip-path=\"url(#clip730)\" d=\"M129.371 1089 L147.728 1089 L147.728 1092.94 L133.654 1092.94 L133.654 1101.41 Q134.672 1101.06 135.691 1100.9 Q136.709 1100.71 137.728 1100.71 Q143.515 1100.71 146.894 1103.89 Q150.274 1107.06 150.274 1112.47 Q150.274 1118.05 146.802 1121.15 Q143.33 1124.23 137.01 1124.23 Q134.834 1124.23 132.566 1123.86 Q130.32 1123.49 127.913 1122.75 L127.913 1118.05 Q129.996 1119.19 132.219 1119.74 Q134.441 1120.3 136.918 1120.3 Q140.922 1120.3 143.26 1118.19 Q145.598 1116.08 145.598 1112.47 Q145.598 1108.86 143.26 1106.76 Q140.922 1104.65 136.918 1104.65 Q135.043 1104.65 133.168 1105.07 Q131.316 1105.48 129.371 1106.36 L129.371 1089 Z\" fill=\"#000000\" fill-rule=\"evenodd\" fill-opacity=\"1\" /><path clip-path=\"url(#clip730)\" d=\"M62.9365 752.645 Q59.3254 752.645 57.4967 756.209 Q55.6912 759.751 55.6912 766.881 Q55.6912 773.987 57.4967 777.552 Q59.3254 781.094 62.9365 781.094 Q66.5707 781.094 68.3763 777.552 Q70.205 773.987 70.205 766.881 Q70.205 759.751 68.3763 756.209 Q66.5707 752.645 62.9365 752.645 M62.9365 748.941 Q68.7467 748.941 71.8022 753.547 Q74.8809 758.131 74.8809 766.881 Q74.8809 775.608 71.8022 780.214 Q68.7467 784.797 62.9365 784.797 Q57.1264 784.797 54.0477 780.214 Q50.9921 775.608 50.9921 766.881 Q50.9921 758.131 54.0477 753.547 Q57.1264 748.941 62.9365 748.941 Z\" fill=\"#000000\" fill-rule=\"evenodd\" fill-opacity=\"1\" /><path clip-path=\"url(#clip730)\" d=\"M83.0984 778.246 L87.9827 778.246 L87.9827 784.126 L83.0984 784.126 L83.0984 778.246 Z\" fill=\"#000000\" fill-rule=\"evenodd\" fill-opacity=\"1\" /><path clip-path=\"url(#clip730)\" d=\"M98.2141 749.566 L116.57 749.566 L116.57 753.501 L102.496 753.501 L102.496 761.973 Q103.515 761.626 104.534 761.464 Q105.552 761.279 106.571 761.279 Q112.358 761.279 115.737 764.45 Q119.117 767.621 119.117 773.038 Q119.117 778.617 115.645 781.719 Q112.172 784.797 105.853 784.797 Q103.677 784.797 101.409 784.427 Q99.1632 784.057 96.7558 783.316 L96.7558 778.617 Q98.8391 779.751 101.061 780.307 Q103.284 780.862 105.76 780.862 Q109.765 780.862 112.103 778.756 Q114.441 776.649 114.441 773.038 Q114.441 769.427 112.103 767.321 Q109.765 765.214 105.76 765.214 Q103.885 765.214 102.01 765.631 Q100.159 766.047 98.2141 766.927 L98.2141 749.566 Z\" fill=\"#000000\" fill-rule=\"evenodd\" fill-opacity=\"1\" /><path clip-path=\"url(#clip730)\" d=\"M138.33 752.645 Q134.719 752.645 132.89 756.209 Q131.084 759.751 131.084 766.881 Q131.084 773.987 132.89 777.552 Q134.719 781.094 138.33 781.094 Q141.964 781.094 143.769 777.552 Q145.598 773.987 145.598 766.881 Q145.598 759.751 143.769 756.209 Q141.964 752.645 138.33 752.645 M138.33 748.941 Q144.14 748.941 147.195 753.547 Q150.274 758.131 150.274 766.881 Q150.274 775.608 147.195 780.214 Q144.14 784.797 138.33 784.797 Q132.519 784.797 129.441 780.214 Q126.385 775.608 126.385 766.881 Q126.385 758.131 129.441 753.547 Q132.519 748.941 138.33 748.941 Z\" fill=\"#000000\" fill-rule=\"evenodd\" fill-opacity=\"1\" /><path clip-path=\"url(#clip730)\" d=\"M63.9319 413.21 Q60.3208 413.21 58.4921 416.775 Q56.6865 420.316 56.6865 427.446 Q56.6865 434.552 58.4921 438.117 Q60.3208 441.659 63.9319 441.659 Q67.5661 441.659 69.3717 438.117 Q71.2004 434.552 71.2004 427.446 Q71.2004 420.316 69.3717 416.775 Q67.5661 413.21 63.9319 413.21 M63.9319 409.506 Q69.742 409.506 72.7976 414.113 Q75.8763 418.696 75.8763 427.446 Q75.8763 436.173 72.7976 440.779 Q69.742 445.362 63.9319 445.362 Q58.1217 445.362 55.043 440.779 Q51.9875 436.173 51.9875 427.446 Q51.9875 418.696 55.043 414.113 Q58.1217 409.506 63.9319 409.506 Z\" fill=\"#000000\" fill-rule=\"evenodd\" fill-opacity=\"1\" /><path clip-path=\"url(#clip730)\" d=\"M84.0938 438.812 L88.978 438.812 L88.978 444.691 L84.0938 444.691 L84.0938 438.812 Z\" fill=\"#000000\" fill-rule=\"evenodd\" fill-opacity=\"1\" /><path clip-path=\"url(#clip730)\" d=\"M97.9826 410.131 L120.205 410.131 L120.205 412.122 L107.658 444.691 L102.774 444.691 L114.58 414.066 L97.9826 414.066 L97.9826 410.131 Z\" fill=\"#000000\" fill-rule=\"evenodd\" fill-opacity=\"1\" /><path clip-path=\"url(#clip730)\" d=\"M129.371 410.131 L147.728 410.131 L147.728 414.066 L133.654 414.066 L133.654 422.538 Q134.672 422.191 135.691 422.029 Q136.709 421.844 137.728 421.844 Q143.515 421.844 146.894 425.015 Q150.274 428.187 150.274 433.603 Q150.274 439.182 146.802 442.284 Q143.33 445.362 137.01 445.362 Q134.834 445.362 132.566 444.992 Q130.32 444.622 127.913 443.881 L127.913 439.182 Q129.996 440.316 132.219 440.872 Q134.441 441.427 136.918 441.427 Q140.922 441.427 143.26 439.321 Q145.598 437.214 145.598 433.603 Q145.598 429.992 143.26 427.886 Q140.922 425.779 136.918 425.779 Q135.043 425.779 133.168 426.196 Q131.316 426.613 129.371 427.492 L129.371 410.131 Z\" fill=\"#000000\" fill-rule=\"evenodd\" fill-opacity=\"1\" /><path clip-path=\"url(#clip730)\" d=\"M53.7467 101.321 L61.3856 101.321 L61.3856 74.9555 L53.0754 76.6222 L53.0754 72.3629 L61.3393 70.6963 L66.0152 70.6963 L66.0152 101.321 L73.654 101.321 L73.654 105.256 L53.7467 105.256 L53.7467 101.321 Z\" fill=\"#000000\" fill-rule=\"evenodd\" fill-opacity=\"1\" /><path clip-path=\"url(#clip730)\" d=\"M83.0984 99.3767 L87.9827 99.3767 L87.9827 105.256 L83.0984 105.256 L83.0984 99.3767 Z\" fill=\"#000000\" fill-rule=\"evenodd\" fill-opacity=\"1\" /><path clip-path=\"url(#clip730)\" d=\"M108.168 73.775 Q104.557 73.775 102.728 77.3398 Q100.922 80.8814 100.922 88.011 Q100.922 95.1174 102.728 98.6822 Q104.557 102.224 108.168 102.224 Q111.802 102.224 113.608 98.6822 Q115.436 95.1174 115.436 88.011 Q115.436 80.8814 113.608 77.3398 Q111.802 73.775 108.168 73.775 M108.168 70.0713 Q113.978 70.0713 117.033 74.6777 Q120.112 79.261 120.112 88.011 Q120.112 96.7378 117.033 101.344 Q113.978 105.928 108.168 105.928 Q102.358 105.928 99.2789 101.344 Q96.2234 96.7378 96.2234 88.011 Q96.2234 79.261 99.2789 74.6777 Q102.358 70.0713 108.168 70.0713 Z\" fill=\"#000000\" fill-rule=\"evenodd\" fill-opacity=\"1\" /><path clip-path=\"url(#clip730)\" d=\"M138.33 73.775 Q134.719 73.775 132.89 77.3398 Q131.084 80.8814 131.084 88.011 Q131.084 95.1174 132.89 98.6822 Q134.719 102.224 138.33 102.224 Q141.964 102.224 143.769 98.6822 Q145.598 95.1174 145.598 88.011 Q145.598 80.8814 143.769 77.3398 Q141.964 73.775 138.33 73.775 M138.33 70.0713 Q144.14 70.0713 147.195 74.6777 Q150.274 79.261 150.274 88.011 Q150.274 96.7378 147.195 101.344 Q144.14 105.928 138.33 105.928 Q132.519 105.928 129.441 101.344 Q126.385 96.7378 126.385 88.011 Q126.385 79.261 129.441 74.6777 Q132.519 70.0713 138.33 70.0713 Z\" fill=\"#000000\" fill-rule=\"evenodd\" fill-opacity=\"1\" /><path clip-path=\"url(#clip730)\" d=\"\n",
       "M1987.39 198.898 L2280.54 198.898 L2280.54 95.2176 L1987.39 95.2176  Z\n",
       "  \" fill=\"#ffffff\" fill-rule=\"evenodd\" fill-opacity=\"1\"/>\n",
       "<polyline clip-path=\"url(#clip730)\" style=\"stroke:#000000; stroke-linecap:butt; stroke-linejoin:round; stroke-width:4; stroke-opacity:1; fill:none\" points=\"\n",
       "  1987.39,198.898 2280.54,198.898 2280.54,95.2176 1987.39,95.2176 1987.39,198.898 \n",
       "  \"/>\n",
       "<polyline clip-path=\"url(#clip730)\" style=\"stroke:#009af9; stroke-linecap:butt; stroke-linejoin:round; stroke-width:4; stroke-opacity:1; fill:none\" points=\"\n",
       "  2011.46,147.058 2155.89,147.058 \n",
       "  \"/>\n",
       "<path clip-path=\"url(#clip730)\" d=\"M2193.81 166.745 Q2192 171.375 2190.29 172.787 Q2188.58 174.199 2185.71 174.199 L2182.3 174.199 L2182.3 170.634 L2184.8 170.634 Q2186.56 170.634 2187.53 169.8 Q2188.51 168.967 2189.69 165.865 L2190.45 163.921 L2179.97 138.412 L2184.48 138.412 L2192.58 158.689 L2200.68 138.412 L2205.2 138.412 L2193.81 166.745 Z\" fill=\"#000000\" fill-rule=\"evenodd\" fill-opacity=\"1\" /><path clip-path=\"url(#clip730)\" d=\"M2212.49 160.402 L2220.13 160.402 L2220.13 134.037 L2211.82 135.703 L2211.82 131.444 L2220.08 129.778 L2224.76 129.778 L2224.76 160.402 L2232.4 160.402 L2232.4 164.338 L2212.49 164.338 L2212.49 160.402 Z\" fill=\"#000000\" fill-rule=\"evenodd\" fill-opacity=\"1\" /></svg>\n"
      ]
     },
     "execution_count": 28,
     "metadata": {},
     "output_type": "execute_result"
    }
   ],
   "source": [
    "#Plot total energy\n",
    "using Plots\n",
    "\n",
    "E = zeros(N)\n",
    "for k = 1:N\n",
    "    E[k] = Energy(xhist[:, k])\n",
    "end\n",
    "\n",
    "plot(thist,E)"
   ]
  }
 ],
 "metadata": {
  "kernelspec": {
   "display_name": "Julia 1.6.3",
   "language": "julia",
   "name": "julia-1.6"
  },
  "language_info": {
   "file_extension": ".jl",
   "mimetype": "application/julia",
   "name": "julia",
   "version": "1.6.3"
  }
 },
 "nbformat": 4,
 "nbformat_minor": 5
}
