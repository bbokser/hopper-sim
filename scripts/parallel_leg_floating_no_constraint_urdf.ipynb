{
 "cells": [
  {
   "cell_type": "code",
   "execution_count": 1,
   "id": "0db4f718",
   "metadata": {},
   "outputs": [
    {
     "name": "stderr",
     "output_type": "stream",
     "text": [
      "\u001b[32m\u001b[1m  Activating\u001b[22m\u001b[39m environment at `~/Documents/git_workspace/16715/dynamics-simulation-leg/scripts/Project.toml`\n"
     ]
    }
   ],
   "source": [
    "import Pkg; Pkg.activate(@__DIR__); Pkg.instantiate()"
   ]
  },
  {
   "cell_type": "code",
   "execution_count": 2,
   "id": "5bb7d46a",
   "metadata": {},
   "outputs": [
    {
     "data": {
      "application/vnd.webio.node+json": {
       "children": [],
       "instanceArgs": {
        "namespace": "html",
        "tag": "div"
       },
       "nodeType": "DOM",
       "props": {},
       "type": "node"
      },
      "text/html": [
       "<div style=\"padding: 1em; background-color: #f8d6da; border: 1px solid #f5c6cb; font-weight: bold;\">\n",
       "<p>The WebIO Jupyter extension was not detected. See the\n",
       "<a href=\"https://juliagizmos.github.io/WebIO.jl/latest/providers/ijulia/\" target=\"_blank\">\n",
       "    WebIO Jupyter integration documentation\n",
       "</a>\n",
       "for more information.\n",
       "</div>\n"
      ],
      "text/plain": [
       "WebIO._IJuliaInit()"
      ]
     },
     "metadata": {},
     "output_type": "display_data"
    }
   ],
   "source": [
    "using RigidBodyDynamics\n",
    "using LinearAlgebra\n",
    "using MeshCatMechanisms\n",
    "using MeshCat\n",
    "using StaticArrays\n",
    "using SparseArrays\n",
    "using ForwardDiff"
   ]
  },
  {
   "cell_type": "code",
   "execution_count": 3,
   "id": "bd26e358",
   "metadata": {},
   "outputs": [
    {
     "data": {
      "text/plain": [
       "3×3 Matrix{Float64}:\n",
       "  1.76997e-5  -5.36954e-7    7.6235e-7\n",
       " -5.36954e-7   0.000164188  -2.77844e-7\n",
       "  7.6235e-7   -2.77844e-7    0.000160656"
      ]
     },
     "execution_count": 3,
     "metadata": {},
     "output_type": "execute_result"
    }
   ],
   "source": [
    "# link lengths\n",
    "const l0 = 0.1\n",
    "const l1 = 0.3\n",
    "const l2 = 0.3\n",
    "const l3 = 0.1\n",
    "const l4 = 0.2\n",
    "const l5 = 0.0205\n",
    "const lee = [l3 + l4; l5; 0] # sqrt((l3 + l4)^2 + l5^2)\n",
    "\n",
    "# CoM locations\n",
    "const l_cb = [0; 0.004; 0]\n",
    "const l_c0 = [0.0125108364230515; 0.00117191218927888; 0]\n",
    "const l_c1 = [0.149359714867044; 0; 0]\n",
    "const l_c2 = [0.0469412900551914; 0; 0]\n",
    "const l_c3 = [0.113177000131857; -0.015332867880069; 0]\n",
    "\n",
    "# link masses\n",
    "const mb = 7  # kg\n",
    "const m0 = 0.24644240965487\n",
    "const m1 = 0.0707939028219395\n",
    "const m2 = 0.276735496985514\n",
    "const m3 = 0.130824780046739\n",
    "const m = diagm([m0, m1, m2, m3])\n",
    "    \n",
    "# gravity, obviously\n",
    "const g = 9.807\n",
    "\n",
    "# mass moment of inertia in axis of rotation\n",
    "const Ib = Array([0.0024241 5.252E-06 2.0733E-19; \n",
    "                  5.252E-06 0.0044176 -3.1153E-19; \n",
    "                  2.0733E-19 -3.1153E-19 0.0022481])\n",
    "\n",
    "const I0 = Array([3.83120149546952E-05 1.46925714738609E-05 -8.60106401672571E-06;\n",
    "                  1.46925714738609E-05 0.000172067745507247 1.0427260925207E-06;\n",
    "                  -8.60106401672571E-06 1.0427260925207E-06 0.00014745218068435])\n",
    "\n",
    "const I1 = Array([3.06999775886187E-06 7.91090301514898E-12 -1.43705963146176E-12;\n",
    "                  7.91090301514898E-12 0.000147960574744097 1.30742394049546E-11;\n",
    "                  -1.43705963146176E-12 1.30742394049546E-11 0.000147884231885009])\n",
    "\n",
    "const I2 = Array([3.43038397803592E-05 -2.90339844227483E-07 6.18680397558952E-06;\n",
    "                  -2.90339844227483E-07 0.000302324068012293 2.25016327583562E-08;\n",
    "                  6.18680397558952E-06 2.25016327583562E-08 0.00028292376778719])\n",
    "\n",
    "const I3 = Array([1.76996970020568E-05 -5.3695427116208E-07 7.62350214406387E-07;\n",
    "                  -5.3695427116208E-07 0.000164188445564489 -2.77843753828047E-07;\n",
    "                  7.62350214406387E-07 -2.77843753828047E-07 0.000160656046697151])\n",
    "# const J = Diagonal([I0, I1, I2, I3])"
   ]
  },
  {
   "cell_type": "code",
   "execution_count": 4,
   "id": "3b123e9a",
   "metadata": {},
   "outputs": [
    {
     "data": {
      "text/plain": [
       "30×30 SparseMatrixCSC{Float64, Int64} with 60 stored entries:\n",
       "⠑⢄⣀⠀⠀⠀⠀⠀⠀⠀⠀⠀⠀⠀⠀\n",
       "⠀⠘⠛⢄⠀⠀⠀⠀⠀⠀⠀⠀⠀⠀⠀\n",
       "⠀⠀⠀⠀⢱⣶⠀⠀⠀⠀⠀⠀⠀⠀⠀\n",
       "⠀⠀⠀⠀⠀⠀⠑⢄⣀⠀⠀⠀⠀⠀⠀\n",
       "⠀⠀⠀⠀⠀⠀⠀⠘⠛⢄⠀⠀⠀⠀⠀\n",
       "⠀⠀⠀⠀⠀⠀⠀⠀⠀⠀⢱⣶⠀⠀⠀\n",
       "⠀⠀⠀⠀⠀⠀⠀⠀⠀⠀⠀⠀⠑⢄⣀\n",
       "⠀⠀⠀⠀⠀⠀⠀⠀⠀⠀⠀⠀⠀⠘⠛"
      ]
     },
     "execution_count": 4,
     "metadata": {},
     "output_type": "execute_result"
    }
   ],
   "source": [
    "M̄ = [mb*I(3) zeros(3, 27)\n",
    "     zeros(3,3) Ib zeros(3, 24)\n",
    "     zeros(3,6) m0*I(3) zeros(3,21);\n",
    "     zeros(3,9) I0 zeros(3,18);\n",
    "     zeros(3,12) m1*I(3) zeros(3,15);\n",
    "     zeros(3,15) I1 zeros(3, 12);\n",
    "     zeros(3,18) m2*I(3) zeros(3, 9);\n",
    "     zeros(3, 21) I2 zeros(3, 6);\n",
    "     zeros(3, 24) m3*I(3) zeros(3, 3);\n",
    "     zeros(3, 27) I3]"
   ]
  },
  {
   "cell_type": "code",
   "execution_count": 5,
   "id": "cf229fe8",
   "metadata": {},
   "outputs": [
    {
     "data": {
      "text/plain": [
       "G̃ (generic function with 1 method)"
      ]
     },
     "execution_count": 5,
     "metadata": {},
     "output_type": "execute_result"
    }
   ],
   "source": [
    "function hat(ω)\n",
    "    return [0 -ω[3] ω[2];\n",
    "            ω[3] 0 -ω[1];\n",
    "            -ω[2] ω[1] 0]\n",
    "end\n",
    "\n",
    "function L(Q)\n",
    "    [Q[1] -Q[2:4]'; Q[2:4] Q[1]*I + hat(Q[2:4])]\n",
    "end\n",
    "\n",
    "function R(Q)\n",
    "    [Q[1] -Q[2:4]'; Q[2:4] Q[1]*I - hat(Q[2:4])]\n",
    "end\n",
    "\n",
    "H = [zeros(1,3); I];\n",
    "\n",
    "T = Diagonal([1.0; -1; -1; -1])\n",
    "\n",
    "function G(Q)\n",
    "    return L(Q)*H  # 4x3\n",
    "end\n",
    "\n",
    "function Ḡ(q)\n",
    "    Q = q[4:7]\n",
    "    return [I(3) zeros(3,4); zeros(4,3) G(Q) zeros(4,1); zeros(1,6) 1]\n",
    "end\n",
    "\n",
    "function G̃(q)\n",
    "    Q = q[4:7]\n",
    "    #return [I(3) zeros(3,7); zeros(4,3) 0.5*G(Q) zeros(4,4); zeros(1,6) 1 zeros(1, 3)]  # 8x10\n",
    "    #11x10\n",
    "   return blockdiag(sparse(I, 3, 3), sparse(0.5*G(Qb)),sparse(I, 4, 4))\n",
    "end"
   ]
  },
  {
   "cell_type": "code",
   "execution_count": 6,
   "id": "7b6d7119",
   "metadata": {},
   "outputs": [
    {
     "data": {
      "text/plain": [
       "rotate (generic function with 1 method)"
      ]
     },
     "execution_count": 6,
     "metadata": {},
     "output_type": "execute_result"
    }
   ],
   "source": [
    "function Expq(ϕ)\n",
    "    # The quaternion exponential map ϕ → Q \n",
    "    # Convert axis angle to quaternion\n",
    "    Q = zeros(eltype(ϕ), 4)\n",
    "    θ = norm(ϕ)\n",
    "    r = ϕ/θ\n",
    "    Q[1] = cos(θ/2)\n",
    "    Q[2:4] = r*sin.(θ/2)\n",
    "    return Q\n",
    "end\n",
    "\n",
    "function rotate(Q, p)\n",
    "    # Rotate a position vector p by a quaternion Q\n",
    "    return H'L(Q)*R(Q)'*H*p\n",
    "end"
   ]
  },
  {
   "cell_type": "code",
   "execution_count": 7,
   "id": "40b0e540",
   "metadata": {},
   "outputs": [
    {
     "data": {
      "text/plain": [
       "kinematics (generic function with 1 method)"
      ]
     },
     "execution_count": 7,
     "metadata": {},
     "output_type": "execute_result"
    }
   ],
   "source": [
    "#Kinematics\n",
    "function kinematics(q)\n",
    "    rb = q[1:3]  # body com location\n",
    "    Qb = q[4:7]  # body quaternion\n",
    "    q0 = q[8]  # joint angles\n",
    "    q1 = q[9]\n",
    "    q2 = q[10]\n",
    "    q3 = q[11]\n",
    "    \n",
    "    pb = rb + rotate(Qb, l_cb)  # position vector from world frame to *JOINTS* 0 and 2\n",
    "    \n",
    "    Qb0 = Expq([0, 0, q0])  # quaternion from base to link 0\n",
    "    Q0 = L(Qb)*Qb0  # quaternion from world frame to link 0\n",
    "    r0 = pb + rotate(Q0, l_c0)\n",
    "    \n",
    "    Q01 = Expq([0, q1, 0])  # quaternion from link 0 to link 1\n",
    "    Q1 = L(Q0)*Q01  # quaternion from world frame to link 1\n",
    "    r1 = pb + rotate(Q0, [l0; 0; 0]) + rotate(Q1, l_c1)  \n",
    "    \n",
    "    Qb2 = Expq([0, q2, 0])  # quaternion from base to link 2\n",
    "    Q2 = L(Qb)*Qb2  # quaternion from world frame to link 2\n",
    "    r2 = pb + rotate(Q2, l_c2)\n",
    "    \n",
    "    Q23 = Expq([0, q3, 0])  # quaternion from base to link 2\n",
    "    Q3 = L(Q2)*Q23  # quaternion from world frame to link 2\n",
    "    r3 = pb + rotate(Q2, [l2; 0; 0]) + rotate(Q3, l_c3)  \n",
    "    \n",
    "    return [rb; Qb; r0; Q0; r1; Q1; r2; Q2; r3; Q3]\n",
    "end"
   ]
  },
  {
   "cell_type": "code",
   "execution_count": 8,
   "id": "b1af450e",
   "metadata": {},
   "outputs": [
    {
     "data": {
      "text/plain": [
       "K (generic function with 1 method)"
      ]
     },
     "execution_count": 8,
     "metadata": {},
     "output_type": "execute_result"
    }
   ],
   "source": [
    "\n",
    "#Kinematic Jacobian\n",
    "function K(q)\n",
    "    k = kinematics(q);\n",
    "    rb = k[1:3]\n",
    "    Qb = k[4:7]\n",
    "    r0 = k[8:10]\n",
    "    Q0 = k[11:14]\n",
    "    r1 = k[15:17]\n",
    "    Q1 = k[18:21]\n",
    "    r2 = k[22:24]\n",
    "    Q2 = k[25:28]\n",
    "    r3 = k[29:31]\n",
    "    Q3 = k[32:35]\n",
    "    \n",
    "    dk = ForwardDiff.jacobian(dq->kinematics(dq),q)  # 35x11\n",
    "\n",
    "    # 30x35\n",
    "    Ḡ1 = blockdiag(sparse(I, 3, 3), sparse(2*G(Qb)'),\n",
    "                   sparse(I, 3, 3), sparse(2*G(Q0)'),\n",
    "                   sparse(I, 3, 3), sparse(2*G(Q1)'),\n",
    "                   sparse(I, 3, 3), sparse(2*G(Q2)'),\n",
    "                   sparse(I, 3, 3), sparse(2*G(Q3)'),)\n",
    "\n",
    "    # 11x10\n",
    "    Ḡ2 = blockdiag(sparse(I, 3, 3), sparse(0.5*G(Qb)),\n",
    "                   sparse(I, 4, 4))\n",
    "    \n",
    "    K = Ḡ1*dk*Ḡ2\n",
    "        \n",
    "    return K\n",
    "end"
   ]
  },
  {
   "cell_type": "code",
   "execution_count": 9,
   "id": "586745d5",
   "metadata": {},
   "outputs": [
    {
     "data": {
      "text/plain": [
       "M (generic function with 1 method)"
      ]
     },
     "execution_count": 9,
     "metadata": {},
     "output_type": "execute_result"
    }
   ],
   "source": [
    "#Mass Matrix\n",
    "function M(q)    \n",
    "    return K(q)'*M̄*K(q)\n",
    "end\n",
    "\n",
    "# eigvals(M(q0))"
   ]
  },
  {
   "cell_type": "code",
   "execution_count": 10,
   "id": "dd6cba08",
   "metadata": {},
   "outputs": [
    {
     "data": {
      "text/plain": [
       "DQ0U (generic function with 1 method)"
      ]
     },
     "execution_count": 10,
     "metadata": {},
     "output_type": "execute_result"
    }
   ],
   "source": [
    "#Potential\n",
    "function U(q)\n",
    "    return 0.0  # assume zero gravity for now\n",
    "end\n",
    "\n",
    "function DQ0U(q)\n",
    "    rb = q[1:3]  # body com location\n",
    "    Qb = q[4:7]  # body quaternion\n",
    "    q0 = q[8]  # joint angles\n",
    "    q1 = q[9]\n",
    "    q2 = q[10]\n",
    "    q3 = q[11]\n",
    "    \n",
    "    ForwardDiff.gradient(dQb->U([rb; dQb; q0; q1; q2; q3]), Qb)\n",
    "end\n",
    "\n"
   ]
  },
  {
   "cell_type": "code",
   "execution_count": 11,
   "id": "bb9950e3",
   "metadata": {},
   "outputs": [
    {
     "data": {
      "text/plain": [
       "Lagrangian (generic function with 1 method)"
      ]
     },
     "execution_count": 11,
     "metadata": {},
     "output_type": "execute_result"
    }
   ],
   "source": [
    "#Lagrangian\n",
    "function Lagrangian(q,v)\n",
    "    0.5*v'*M(q)*v - U(q)\n",
    "end"
   ]
  },
  {
   "cell_type": "code",
   "execution_count": 28,
   "id": "534648a5",
   "metadata": {},
   "outputs": [
    {
     "data": {
      "text/plain": [
       "10×201 Matrix{Float64}:\n",
       " 1.0  1.0  1.0  1.0  1.0  1.0  1.0  1.0  …  1.0  1.0  1.0  1.0  1.0  1.0  1.0\n",
       " 1.0  1.0  1.0  1.0  1.0  1.0  1.0  1.0     1.0  1.0  1.0  1.0  1.0  1.0  1.0\n",
       " 1.0  1.0  1.0  1.0  1.0  1.0  1.0  1.0     1.0  1.0  1.0  1.0  1.0  1.0  1.0\n",
       " 1.0  1.0  1.0  1.0  1.0  1.0  1.0  1.0     1.0  1.0  1.0  1.0  1.0  1.0  1.0\n",
       " 1.0  1.0  1.0  1.0  1.0  1.0  1.0  1.0     1.0  1.0  1.0  1.0  1.0  1.0  1.0\n",
       " 1.0  1.0  1.0  1.0  1.0  1.0  1.0  1.0  …  1.0  1.0  1.0  1.0  1.0  1.0  1.0\n",
       " 1.0  1.0  1.0  1.0  1.0  1.0  1.0  1.0     1.0  1.0  1.0  1.0  1.0  1.0  1.0\n",
       " 1.0  1.0  1.0  1.0  1.0  1.0  1.0  1.0     1.0  1.0  1.0  1.0  1.0  1.0  1.0\n",
       " 1.0  1.0  1.0  1.0  1.0  1.0  1.0  1.0     1.0  1.0  1.0  1.0  1.0  1.0  1.0\n",
       " 1.0  1.0  1.0  1.0  1.0  1.0  1.0  1.0     1.0  1.0  1.0  1.0  1.0  1.0  1.0"
      ]
     },
     "execution_count": 28,
     "metadata": {},
     "output_type": "execute_result"
    }
   ],
   "source": [
    "#Initial Conditions\n",
    "rb = zeros(3)\n",
    "Qb = [1.0; 0; 0; 0]\n",
    "q0 = -30*pi/180;\n",
    "q1 = -120*(pi/180)\n",
    "q2 = -150*(pi/180)\n",
    "q3 = 120*(pi/180)\n",
    "q_init = [rb; Qb; q0; q1; q2; q3]\n",
    "\n",
    "q̇0 = 0.0\n",
    "q̇1 = 0.0\n",
    "q̇2 = 0.0\n",
    "q̇3 = 0.0\n",
    "ωb = zeros(3)\n",
    "ṙb = zeros(3) #cross(ω0,[-0.5*ℓ1; 0; 0])\n",
    "v_init = [ṙb; ωb; q̇0; q̇1; q̇2; q̇3]\n",
    "\n",
    "x_init = [q_init; v_init]\n",
    "\n",
    "Tf = 10.0\n",
    "h = 0.05 #20 Hz\n",
    "thist = 0:h:Tf\n",
    "N = length(thist)\n",
    "\n",
    "xhist = zeros(21,N)\n",
    "xhist[:,1] .= x_init\n",
    "\n",
    "#Torque input at joint\n",
    "uhist = ones(10, N)"
   ]
  },
  {
   "cell_type": "code",
   "execution_count": 29,
   "id": "5f784bd1",
   "metadata": {},
   "outputs": [
    {
     "data": {
      "text/plain": [
       "Dq̇3L (generic function with 1 method)"
      ]
     },
     "execution_count": 29,
     "metadata": {},
     "output_type": "execute_result"
    }
   ],
   "source": [
    "#Lagrangian Derivatives\n",
    "\n",
    "function DrbL(q,v)\n",
    "    rb = q[1:3]  # body com location\n",
    "    Qb = q[4:7]  # body quaternion\n",
    "    q0 = q[8]  # joint angles\n",
    "    q1 = q[9]\n",
    "    q2 = q[10]\n",
    "    q3 = q[11]\n",
    "    \n",
    "    ForwardDiff.gradient(drb->Lagrangian([drb; Qb; q0; q1; q2; q3],v), rb)\n",
    "end\n",
    "\n",
    "function DQbL(q,v)\n",
    "    rb = q[1:3]  # body com location\n",
    "    Qb = q[4:7]  # body quaternion\n",
    "    q0 = q[8]  # joint angles\n",
    "    q1 = q[9]\n",
    "    q2 = q[10]\n",
    "    q3 = q[11]\n",
    "    \n",
    "    ForwardDiff.gradient(dQb->Lagrangian([rb; dQb; q0; q1; q2; q3],v), Qb)\n",
    "end\n",
    "\n",
    "function Dq0L(q,v)\n",
    "    rb = q[1:3]  # body com location\n",
    "    Qb = q[4:7]  # body quaternion\n",
    "    q0 = q[8]  # joint angles\n",
    "    q1 = q[9]\n",
    "    q2 = q[10]\n",
    "    q3 = q[11]\n",
    "    \n",
    "    ForwardDiff.derivative(dq0->Lagrangian([rb; Qb; dq0; q1; q2; q3],v), q0)\n",
    "end\n",
    "\n",
    "function Dq1L(q,v)\n",
    "    rb = q[1:3]  # body com location\n",
    "    Qb = q[4:7]  # body quaternion\n",
    "    q0 = q[8]  # joint angles\n",
    "    q1 = q[9]\n",
    "    q2 = q[10]\n",
    "    q3 = q[11]\n",
    "    \n",
    "    ForwardDiff.derivative(dq1->Lagrangian([rb; Qb; q0; dq1; q2; q3],v), q1)\n",
    "end\n",
    "\n",
    "function Dq2L(q,v)\n",
    "    rb = q[1:3]  # body com location\n",
    "    Qb = q[4:7]  # body quaternion\n",
    "    q0 = q[8]  # joint angles\n",
    "    q1 = q[9]\n",
    "    q2 = q[10]\n",
    "    q3 = q[11]\n",
    "    \n",
    "    ForwardDiff.derivative(dq2->Lagrangian([rb; Qb; q0; q1; dq2; q3],v), q2)\n",
    "end\n",
    "\n",
    "function Dq3L(q,v)\n",
    "    rb = q[1:3]  # body com location\n",
    "    Qb = q[4:7]  # body quaternion\n",
    "    q0 = q[8]  # joint angles\n",
    "    q1 = q[9]\n",
    "    q2 = q[10]\n",
    "    q3 = q[11]\n",
    "    \n",
    "    ForwardDiff.derivative(dq3->Lagrangian([rb; Qb; q0; q1; q2; dq3],v), q3)\n",
    "end\n",
    "\n",
    "function DṙbL(q,v)\n",
    "    ṙb = v[1:3]\n",
    "    ωb = v[4:6]\n",
    "    q̇0 = v[7]\n",
    "    q̇1 = v[8]\n",
    "    q̇2 = v[9]\n",
    "    q̇3 = v[10]\n",
    "    \n",
    "    ForwardDiff.gradient(dṙb->Lagrangian(q,[dṙb; ωb; q̇0; q̇1; q̇2; q̇3]), ṙb)\n",
    "end\n",
    "    \n",
    "function DωbL(q,v)\n",
    "    ṙb = v[1:3]\n",
    "    ωb = v[4:6]\n",
    "    q̇0 = v[7]\n",
    "    q̇1 = v[8]\n",
    "    q̇2 = v[9]\n",
    "    q̇3 = v[10]\n",
    "    \n",
    "    ForwardDiff.gradient(dωb->Lagrangian(q,[ṙb; dωb; q̇0; q̇1; q̇2; q̇3]), ωb)\n",
    "end\n",
    "\n",
    "function Dq̇0L(q,v)\n",
    "    ṙb = v[1:3]\n",
    "    ωb = v[4:6]\n",
    "    q̇0 = v[7]\n",
    "    q̇1 = v[8]\n",
    "    q̇2 = v[9]\n",
    "    q̇3 = v[10]\n",
    "    \n",
    "    ForwardDiff.derivative(dq̇0->Lagrangian(q,[ṙb; ωb; dq̇0; q̇1; q̇2; q̇3]), q̇0)\n",
    "end\n",
    "\n",
    "function Dq̇1L(q,v)\n",
    "    ṙb = v[1:3]\n",
    "    ωb = v[4:6]\n",
    "    q̇0 = v[7]\n",
    "    q̇1 = v[8]\n",
    "    q̇2 = v[9]\n",
    "    q̇3 = v[10]\n",
    "    \n",
    "    ForwardDiff.derivative(dq̇1->Lagrangian(q,[ṙb; ωb; q̇0; dq̇1; q̇2; q̇3]), q̇1)\n",
    "end\n",
    "\n",
    "function Dq̇2L(q,v)\n",
    "    ṙb = v[1:3]\n",
    "    ωb = v[4:6]\n",
    "    q̇0 = v[7]\n",
    "    q̇1 = v[8]\n",
    "    q̇2 = v[9]\n",
    "    q̇3 = v[10]\n",
    "    \n",
    "    ForwardDiff.derivative(dq̇2->Lagrangian(q,[ṙb; ωb; q̇0; q̇1; dq̇2; q̇3]), q̇2)\n",
    "end\n",
    "\n",
    "function Dq̇3L(q,v)\n",
    "    ṙb = v[1:3]\n",
    "    ωb = v[4:6]\n",
    "    q̇0 = v[7]\n",
    "    q̇1 = v[8]\n",
    "    q̇2 = v[9]\n",
    "    q̇3 = v[10]\n",
    "    \n",
    "    ForwardDiff.derivative(dq̇3->Lagrangian(q,[ṙb; ωb; q̇0; q̇1; q̇2; dq̇3]), q̇3)\n",
    "end"
   ]
  },
  {
   "cell_type": "code",
   "execution_count": 30,
   "id": "232f72de",
   "metadata": {},
   "outputs": [
    {
     "data": {
      "text/plain": [
       "B (generic function with 1 method)"
      ]
     },
     "execution_count": 30,
     "metadata": {},
     "output_type": "execute_result"
    }
   ],
   "source": [
    "#Input Jacobian\n",
    "function B(q)\n",
    "    #[zeros(7); 1.0; zeros(2)]\n",
    "    ones(10)\n",
    "end"
   ]
  },
  {
   "cell_type": "code",
   "execution_count": 31,
   "id": "38b18b2c",
   "metadata": {},
   "outputs": [
    {
     "data": {
      "text/plain": [
       "f (generic function with 1 method)"
      ]
     },
     "execution_count": 31,
     "metadata": {},
     "output_type": "execute_result"
    }
   ],
   "source": [
    "#EL Dynamics\n",
    "function f(x,u)\n",
    "    q = x[1:11]\n",
    "    v = x[12:21]  # 10\n",
    "    ω = v[4:6]\n",
    "\n",
    "    q̇ = G̃(q)*v\n",
    "    \n",
    "    Mq = [ForwardDiff.jacobian(dv->DṙbL(q,dv),v);  # 10x10\n",
    "          ForwardDiff.jacobian(dv->DωbL(q,dv),v);\n",
    "          ForwardDiff.gradient(dv->Dq̇0L(q,dv),v)';\n",
    "          ForwardDiff.gradient(dv->Dq̇1L(q,dv),v)';\n",
    "          ForwardDiff.gradient(dv->Dq̇2L(q,dv),v)';\n",
    "          ForwardDiff.gradient(dv->Dq̇3L(q,dv),v)']\n",
    "\n",
    "    CG = [-ForwardDiff.jacobian(dq->DṙbL(dq,v),q)*G̃(q)*v + DrbL(q,v);  # 10\n",
    "          -ForwardDiff.jacobian(dq->DωbL(dq,v),q)*G̃(q)*v - hat(ω)*DωbL(q,v) .+ 0.5*G(Qb)'*DQ0U(q);\n",
    "          -ForwardDiff.gradient(dq->Dq̇0L(dq,v),q)'*G̃(q)*v + Dq0L(q,v);\n",
    "          -ForwardDiff.gradient(dq->Dq̇1L(dq,v),q)'*G̃(q)*v + Dq1L(q,v);\n",
    "          -ForwardDiff.gradient(dq->Dq̇2L(dq,v),q)'*G̃(q)*v + Dq2L(q,v);\n",
    "          -ForwardDiff.gradient(dq->Dq̇3L(dq,v),q)'*G̃(q)*v + Dq3L(q,v)]\n",
    "\n",
    "    v̇ = Mq\\(CG + B(q)*u)\n",
    "    \n",
    "    #ForwardDiff.jacobian(dv->Dṙ0L(q,dv),v)*v̇ + ForwardDiff.jacobian(dq->Dṙ0L(dq,v),q)*G̃(q)*v - Dr0L(q,v)\n",
    "    #ForwardDiff.jacobian(dv->Dω0L(q,dv),v)*v̇ + ForwardDiff.jacobian(dq->Dω0L(dq,v),q)*G̃(q)*v + hat(ω)*Dω0L(q,v) - 0.5*H'*L(Q0)'*DQ0L(q,v)\n",
    "    #ForwardDiff.jacobian(dv->Dq̇1L(q,dv),v)*v̇ + ForwardDiff.jacobian(dq->Dq̇1L(dq,v),q)*G̃(q)*v - Dq1L(q,v)\n",
    "    \n",
    "    \n",
    "    return [q̇; v̇]\n",
    "end"
   ]
  },
  {
   "cell_type": "code",
   "execution_count": 32,
   "id": "1b634e3c",
   "metadata": {},
   "outputs": [
    {
     "data": {
      "text/plain": [
       "rk4_step (generic function with 1 method)"
      ]
     },
     "execution_count": 32,
     "metadata": {},
     "output_type": "execute_result"
    }
   ],
   "source": [
    "function rk4_step(f, xk, uk, uk1, h)\n",
    "\n",
    "    f1 = f(xk, uk)\n",
    "    f2 = f(xk + 0.5*h*f1, 0.5*(uk + uk1))\n",
    "    f3 = f(xk + 0.5*h*f2, 0.5*(uk + uk1))\n",
    "    f4 = f(xk + h*f3, uk1)\n",
    "    \n",
    "    xn = xk + (h/6.0)*(f1 + 2*f2 + 2*f3 + f4)\n",
    "    xn[4:7] = xn[4:7]/norm(xn[4:7]) #re-normalize quaternion\n",
    "    \n",
    "    return xn\n",
    "end"
   ]
  },
  {
   "cell_type": "code",
   "execution_count": 58,
   "id": "9dc5b8ad",
   "metadata": {},
   "outputs": [
    {
     "data": {
      "text/plain": [
       "simulate! (generic function with 1 method)"
      ]
     },
     "execution_count": 58,
     "metadata": {},
     "output_type": "execute_result"
    }
   ],
   "source": [
    "function simulate!(xhist, N)\n",
    "    for k = 1:(N-1)\n",
    "        xhist[:,k+1] .= rk4_step(f, xhist[:,k], uhist[k], uhist[k+1], h)\n",
    "        print(\"\\r Simulation \", trunc(Int, k/(N-1)*100), \"% complete\")\n",
    "        flush(stdout)\n",
    "    end\n",
    "end"
   ]
  },
  {
   "cell_type": "code",
   "execution_count": 59,
   "id": "5dbf79e0",
   "metadata": {
    "scrolled": true
   },
   "outputs": [
    {
     "name": "stdout",
     "output_type": "stream",
     "text": [
      " Simulation 100% complete"
     ]
    }
   ],
   "source": [
    "simulate!(xhist, N)"
   ]
  },
  {
   "cell_type": "code",
   "execution_count": 35,
   "id": "9205577b",
   "metadata": {},
   "outputs": [
    {
     "data": {
      "text/plain": [
       "201-element Vector{Vector{Float64}}:\n",
       " [0.0, 0.0, 0.0, 0.0]\n",
       " [-1.5515516207382878, -0.18316844452242664, -1.9851081515212234, -0.7203564639472484]\n",
       " [-341.6985045150909, -115.88039190617441, -1913.0568397558534, 20.081188639458034]\n",
       " [-2.4555011095822815e52, 1.8656619343085392e53, -2.586886933195469e52, -6.4638486556442845e53]\n",
       " [NaN, NaN, NaN, NaN]\n",
       " [NaN, NaN, NaN, NaN]\n",
       " [NaN, NaN, NaN, NaN]\n",
       " [NaN, NaN, NaN, NaN]\n",
       " [NaN, NaN, NaN, NaN]\n",
       " [NaN, NaN, NaN, NaN]\n",
       " [NaN, NaN, NaN, NaN]\n",
       " [NaN, NaN, NaN, NaN]\n",
       " [NaN, NaN, NaN, NaN]\n",
       " ⋮\n",
       " [NaN, NaN, NaN, NaN]\n",
       " [NaN, NaN, NaN, NaN]\n",
       " [NaN, NaN, NaN, NaN]\n",
       " [NaN, NaN, NaN, NaN]\n",
       " [NaN, NaN, NaN, NaN]\n",
       " [NaN, NaN, NaN, NaN]\n",
       " [NaN, NaN, NaN, NaN]\n",
       " [NaN, NaN, NaN, NaN]\n",
       " [NaN, NaN, NaN, NaN]\n",
       " [NaN, NaN, NaN, NaN]\n",
       " [NaN, NaN, NaN, NaN]\n",
       " [NaN, NaN, NaN, NaN]"
      ]
     },
     "execution_count": 35,
     "metadata": {},
     "output_type": "execute_result"
    }
   ],
   "source": [
    "q0 = -xhist[8, :] .- 30*(pi/180)\n",
    "q1 = -xhist[9, :] .- 120*(pi/180)\n",
    "q2 = -xhist[10, :] .- 150*(pi/180)\n",
    "q3 = -xhist[11, :] .+ 120*(pi/180)\n",
    "\n",
    "qs = convert(AbstractArray{Float64}, [q0 q2 q1 q3]) \n",
    "ts = convert(AbstractVector{Float64}, thist) # AbstractVector(thist)\n",
    "q_array = [ qs[i,:] for i in 1:size(qs,1)] "
   ]
  },
  {
   "cell_type": "code",
   "execution_count": 20,
   "id": "fc645399",
   "metadata": {},
   "outputs": [
    {
     "data": {
      "text/plain": [
       "MechanismState{Float64, Float64, Float64, …}(…)"
      ]
     },
     "execution_count": 20,
     "metadata": {},
     "output_type": "execute_result"
    }
   ],
   "source": [
    "# world = RigidBody{Float64}(\"world\")\n",
    "# doublependulum = Mechanism(world; gravity = SVector(0, 0, g))\n",
    "\n",
    "# only works with RigidBodyDynamics v2.0.0\n",
    "curdir = pwd()\n",
    "urdfpath = joinpath(curdir, \"../res/flyhopper_robot/urdf/flyhopper_robot_1.urdf\")\n",
    "leg = parse_urdf(urdfpath, floating=true)\n",
    "state = MechanismState(leg)"
   ]
  },
  {
   "cell_type": "code",
   "execution_count": 21,
   "id": "07f45300",
   "metadata": {
    "scrolled": false
   },
   "outputs": [
    {
     "name": "stderr",
     "output_type": "stream",
     "text": [
      "┌ Info: MeshCat server started. You can open the visualizer by visiting the following URL in your browser:\n",
      "│ http://localhost:8700\n",
      "└ @ MeshCat /home/ben/.julia/packages/MeshCat/nXUuG/src/visualizer.jl:69\n"
     ]
    },
    {
     "data": {
      "text/html": [
       "    <div style=\"height: 500px; width: 100%; overflow-x: auto; overflow-y: hidden; resize: both\">\n",
       "    <iframe src=\"http://localhost:8700\" style=\"width: 100%; height: 100%; border: none\"></iframe>\n",
       "    </div>\n"
      ],
      "text/plain": [
       "MeshCat.DisplayedVisualizer(MeshCat.CoreVisualizer(MeshCat.SceneTrees.SceneNode(nothing, nothing, Dict{String, Vector{UInt8}}(), Dict{String, MeshCat.SceneTrees.SceneNode}(\"meshcat\" => MeshCat.SceneTrees.SceneNode(nothing, nothing, Dict{String, Vector{UInt8}}(), Dict{String, MeshCat.SceneTrees.SceneNode}(\"world\" => MeshCat.SceneTrees.SceneNode(nothing, nothing, Dict{String, Vector{UInt8}}(), Dict{String, MeshCat.SceneTrees.SceneNode}(\"base_link\" => MeshCat.SceneTrees.SceneNode(nothing, UInt8[0x83, 0xa6, 0x6d, 0x61, 0x74, 0x72, 0x69, 0x78, 0xc7, 0x40  …  0x2f, 0x62, 0x61, 0x73, 0x65, 0x5f, 0x6c, 0x69, 0x6e, 0x6b], Dict{String, Vector{UInt8}}(), Dict{String, MeshCat.SceneTrees.SceneNode}(\"base_link\" => MeshCat.SceneTrees.SceneNode(nothing, UInt8[0x83, 0xa6, 0x6d, 0x61, 0x74, 0x72, 0x69, 0x78, 0xc7, 0x40  …  0x2f, 0x62, 0x61, 0x73, 0x65, 0x5f, 0x6c, 0x69, 0x6e, 0x6b], Dict{String, Vector{UInt8}}(), Dict{String, MeshCat.SceneTrees.SceneNode}(\"geometry_1\" => MeshCat.SceneTrees.SceneNode(UInt8[0x83, 0xa6, 0x6f, 0x62, 0x6a, 0x65, 0x63, 0x74, 0x84, 0xaa  …  0x67, 0x65, 0x6f, 0x6d, 0x65, 0x74, 0x72, 0x79, 0x5f, 0x31], UInt8[0x83, 0xa6, 0x6d, 0x61, 0x74, 0x72, 0x69, 0x78, 0xc7, 0x40  …  0x67, 0x65, 0x6f, 0x6d, 0x65, 0x74, 0x72, 0x79, 0x5f, 0x31], Dict{String, Vector{UInt8}}(), Dict{String, MeshCat.SceneTrees.SceneNode}()))), \"Link 2\" => MeshCat.SceneTrees.SceneNode(nothing, UInt8[0x83, 0xa6, 0x6d, 0x61, 0x74, 0x72, 0x69, 0x78, 0xc7, 0x40  …  0x69, 0x6e, 0x6b, 0x2f, 0x4c, 0x69, 0x6e, 0x6b, 0x20, 0x32], Dict{String, Vector{UInt8}}(), Dict{String, MeshCat.SceneTrees.SceneNode}(\"Link 3\" => MeshCat.SceneTrees.SceneNode(nothing, UInt8[0x83, 0xa6, 0x6d, 0x61, 0x74, 0x72, 0x69, 0x78, 0xc7, 0x40  …  0x6b, 0x20, 0x32, 0x2f, 0x4c, 0x69, 0x6e, 0x6b, 0x20, 0x33], Dict{String, Vector{UInt8}}(), Dict{String, MeshCat.SceneTrees.SceneNode}(\"after_Joint 3\" => MeshCat.SceneTrees.SceneNode(nothing, UInt8[0x83, 0xa6, 0x6d, 0x61, 0x74, 0x72, 0x69, 0x78, 0xc7, 0x40  …  0x65, 0x72, 0x5f, 0x4a, 0x6f, 0x69, 0x6e, 0x74, 0x20, 0x33], Dict{String, Vector{UInt8}}(), Dict{String, MeshCat.SceneTrees.SceneNode}(\"geometry_5\" => MeshCat.SceneTrees.SceneNode(UInt8[0x83, 0xa6, 0x6f, 0x62, 0x6a, 0x65, 0x63, 0x74, 0x84, 0xaa  …  0x67, 0x65, 0x6f, 0x6d, 0x65, 0x74, 0x72, 0x79, 0x5f, 0x35], UInt8[0x83, 0xa6, 0x6d, 0x61, 0x74, 0x72, 0x69, 0x78, 0xc7, 0x40  …  0x67, 0x65, 0x6f, 0x6d, 0x65, 0x74, 0x72, 0x79, 0x5f, 0x35], Dict{String, Vector{UInt8}}(), Dict{String, MeshCat.SceneTrees.SceneNode}()))))), \"after_Joint 2\" => MeshCat.SceneTrees.SceneNode(nothing, UInt8[0x83, 0xa6, 0x6d, 0x61, 0x74, 0x72, 0x69, 0x78, 0xc7, 0x40  …  0x65, 0x72, 0x5f, 0x4a, 0x6f, 0x69, 0x6e, 0x74, 0x20, 0x32], Dict{String, Vector{UInt8}}(), Dict{String, MeshCat.SceneTrees.SceneNode}(\"geometry_4\" => MeshCat.SceneTrees.SceneNode(UInt8[0x83, 0xa6, 0x6f, 0x62, 0x6a, 0x65, 0x63, 0x74, 0x84, 0xaa  …  0x67, 0x65, 0x6f, 0x6d, 0x65, 0x74, 0x72, 0x79, 0x5f, 0x34], UInt8[0x83, 0xa6, 0x6d, 0x61, 0x74, 0x72, 0x69, 0x78, 0xc7, 0x40  …  0x67, 0x65, 0x6f, 0x6d, 0x65, 0x74, 0x72, 0x79, 0x5f, 0x34], Dict{String, Vector{UInt8}}(), Dict{String, MeshCat.SceneTrees.SceneNode}()))))), \"Link 0\" => MeshCat.SceneTrees.SceneNode(nothing, UInt8[0x83, 0xa6, 0x6d, 0x61, 0x74, 0x72, 0x69, 0x78, 0xc7, 0x40  …  0x69, 0x6e, 0x6b, 0x2f, 0x4c, 0x69, 0x6e, 0x6b, 0x20, 0x30], Dict{String, Vector{UInt8}}(), Dict{String, MeshCat.SceneTrees.SceneNode}(\"Link 1\" => MeshCat.SceneTrees.SceneNode(nothing, UInt8[0x83, 0xa6, 0x6d, 0x61, 0x74, 0x72, 0x69, 0x78, 0xc7, 0x40  …  0x6b, 0x20, 0x30, 0x2f, 0x4c, 0x69, 0x6e, 0x6b, 0x20, 0x31], Dict{String, Vector{UInt8}}(), Dict{String, MeshCat.SceneTrees.SceneNode}(\"after_Joint 1\" => MeshCat.SceneTrees.SceneNode(nothing, UInt8[0x83, 0xa6, 0x6d, 0x61, 0x74, 0x72, 0x69, 0x78, 0xc7, 0x40  …  0x65, 0x72, 0x5f, 0x4a, 0x6f, 0x69, 0x6e, 0x74, 0x20, 0x31], Dict{String, Vector{UInt8}}(), Dict{String, MeshCat.SceneTrees.SceneNode}(\"geometry_3\" => MeshCat.SceneTrees.SceneNode(UInt8[0x83, 0xa6, 0x6f, 0x62, 0x6a, 0x65, 0x63, 0x74, 0x84, 0xaa  …  0x67, 0x65, 0x6f, 0x6d, 0x65, 0x74, 0x72, 0x79, 0x5f, 0x33], UInt8[0x83, 0xa6, 0x6d, 0x61, 0x74, 0x72, 0x69, 0x78, 0xc7, 0x40  …  0x67, 0x65, 0x6f, 0x6d, 0x65, 0x74, 0x72, 0x79, 0x5f, 0x33], Dict{String, Vector{UInt8}}(), Dict{String, MeshCat.SceneTrees.SceneNode}()))))), \"after_Joint 0\" => MeshCat.SceneTrees.SceneNode(nothing, UInt8[0x83, 0xa6, 0x6d, 0x61, 0x74, 0x72, 0x69, 0x78, 0xc7, 0x40  …  0x65, 0x72, 0x5f, 0x4a, 0x6f, 0x69, 0x6e, 0x74, 0x20, 0x30], Dict{String, Vector{UInt8}}(), Dict{String, MeshCat.SceneTrees.SceneNode}(\"geometry_2\" => MeshCat.SceneTrees.SceneNode(UInt8[0x83, 0xa6, 0x6f, 0x62, 0x6a, 0x65, 0x63, 0x74, 0x84, 0xaa  …  0x67, 0x65, 0x6f, 0x6d, 0x65, 0x74, 0x72, 0x79, 0x5f, 0x32], UInt8[0x83, 0xa6, 0x6d, 0x61, 0x74, 0x72, 0x69, 0x78, 0xc7, 0x40  …  0x67, 0x65, 0x6f, 0x6d, 0x65, 0x74, 0x72, 0x79, 0x5f, 0x32], Dict{String, Vector{UInt8}}(), Dict{String, MeshCat.SceneTrees.SceneNode}()))))), \"world\" => MeshCat.SceneTrees.SceneNode(nothing, UInt8[0x83, 0xa6, 0x6d, 0x61, 0x74, 0x72, 0x69, 0x78, 0xc7, 0x40  …  0x6c, 0x69, 0x6e, 0x6b, 0x2f, 0x77, 0x6f, 0x72, 0x6c, 0x64], Dict{String, Vector{UInt8}}(), Dict{String, MeshCat.SceneTrees.SceneNode}()))))))))), Set{Any}(), ip\"127.0.0.1\", 8700))"
      ]
     },
     "execution_count": 21,
     "metadata": {},
     "output_type": "execute_result"
    }
   ],
   "source": [
    "# mvis = MechanismVisualizer(doublependulum, Skeleton(randomize_colors=true, inertias=false));\n",
    "mvis = MechanismVisualizer(leg, URDFVisuals(urdfpath));\n",
    "\n",
    "render(mvis)"
   ]
  },
  {
   "cell_type": "code",
   "execution_count": 22,
   "id": "fea4a283",
   "metadata": {},
   "outputs": [],
   "source": [
    "#=\n",
    "using Rotations: RotY, Quat, rotation_between\n",
    "#using GeometryTypes: HyperRectangle, Vec\n",
    "#using CoordinateTransformations: LinearMap\n",
    "\n",
    "\n",
    "# body = findbody(leg, \"base_link\")\n",
    "floatingjoint = findjoint(leg, \"control\")\n",
    "ground_normal = normalize(SVector(1., 0, 5))\n",
    "rot = Quat(rotation_between(SVector(0., 0, 1), ground_normal))\n",
    "tf = Transform3D(frame_after(floatingjoint), frame_before(floatingjoint), rot, SVector(0, 0, 10))\n",
    "# setelement!(mvis, point, 0)\n",
    "set_configuration!(state, floatingjoint, tf) #body, 0)\n",
    "=#"
   ]
  },
  {
   "cell_type": "code",
   "execution_count": 27,
   "id": "302c3b08",
   "metadata": {},
   "outputs": [],
   "source": [
    "# [q0 q2 q1 q3]\n",
    "q_0 = x_init[8]\n",
    "q_1 = x_init[9]\n",
    "q_2 = x_init[10]\n",
    "q_3 = x_init[11]\n",
    "floatingjoint = findjoint(leg, \"control\")\n",
    "set_configuration!(state, floatingjoint, [100; 100; 100; 1; 1; 1; 1.025])\n",
    "# set_configuration!(mvis, zeros(11))\n",
    "# set_configuration!(mvis, [1,1,1,1,1,1,1, -q_0-30*(pi/180), -q_2-150*(pi/180), -q_1-120*(pi/180), -q_3+120*(pi/180)])"
   ]
  },
  {
   "cell_type": "code",
   "execution_count": 24,
   "id": "e785dc73",
   "metadata": {},
   "outputs": [],
   "source": [
    "# Now we can simply call `simulate`, which will return a tuple consisting of:\n",
    "# * simulation times (a `Vector` of numbers)\n",
    "# * joint configuration vectors (a `Vector` of `Vector`s)\n",
    "# * joint velocity vectors (a `Vector` of `Vector`s)\n",
    "\n",
    "# animation = Animation(mvis, ts, -q_array)\n",
    "# setanimation!(mvis, animation)\n",
    "\n",
    "MeshCatMechanisms.animate(mvis, Array(ts), -q_array; realtimerate = 1.);"
   ]
  },
  {
   "cell_type": "code",
   "execution_count": 25,
   "id": "7977b8b0",
   "metadata": {},
   "outputs": [
    {
     "data": {
      "text/plain": [
       "Energy (generic function with 1 method)"
      ]
     },
     "execution_count": 25,
     "metadata": {},
     "output_type": "execute_result"
    }
   ],
   "source": [
    "#Energy Functions\n",
    "\n",
    "function Energy(x)\n",
    "    q = x[1:11]\n",
    "    v = x[12:end]\n",
    "    energy = Lagrangian(q,v)\n",
    "    return energy\n",
    "end"
   ]
  },
  {
   "cell_type": "code",
   "execution_count": 26,
   "id": "97e6305e",
   "metadata": {},
   "outputs": [
    {
     "name": "stderr",
     "output_type": "stream",
     "text": [
      "WARNING: using Plots.rotate in module Main conflicts with an existing identifier.\n"
     ]
    },
    {
     "data": {
      "image/svg+xml": [
       "<?xml version=\"1.0\" encoding=\"utf-8\"?>\n",
       "<svg xmlns=\"http://www.w3.org/2000/svg\" xmlns:xlink=\"http://www.w3.org/1999/xlink\" width=\"600\" height=\"400\" viewBox=\"0 0 2400 1600\">\n",
       "<defs>\n",
       "  <clipPath id=\"clip8700\">\n",
       "    <rect x=\"0\" y=\"0\" width=\"2400\" height=\"1600\"/>\n",
       "  </clipPath>\n",
       "</defs>\n",
       "<path clip-path=\"url(#clip8700)\" d=\"\n",
       "M0 1600 L2400 1600 L2400 0 L0 0  Z\n",
       "  \" fill=\"#ffffff\" fill-rule=\"evenodd\" fill-opacity=\"1\"/>\n",
       "<defs>\n",
       "  <clipPath id=\"clip8701\">\n",
       "    <rect x=\"480\" y=\"0\" width=\"1681\" height=\"1600\"/>\n",
       "  </clipPath>\n",
       "</defs>\n",
       "<path clip-path=\"url(#clip8700)\" d=\"\n",
       "M174.862 1486.45 L2352.76 1486.45 L2352.76 47.2441 L174.862 47.2441  Z\n",
       "  \" fill=\"#ffffff\" fill-rule=\"evenodd\" fill-opacity=\"1\"/>\n",
       "<defs>\n",
       "  <clipPath id=\"clip8702\">\n",
       "    <rect x=\"174\" y=\"47\" width=\"2179\" height=\"1440\"/>\n",
       "  </clipPath>\n",
       "</defs>\n",
       "<polyline clip-path=\"url(#clip8702)\" style=\"stroke:#000000; stroke-width:2; stroke-opacity:0.1; fill:none\" points=\"\n",
       "  236.501,1486.45 236.501,47.2441 \n",
       "  \"/>\n",
       "<polyline clip-path=\"url(#clip8702)\" style=\"stroke:#000000; stroke-width:2; stroke-opacity:0.1; fill:none\" points=\"\n",
       "  750.155,1486.45 750.155,47.2441 \n",
       "  \"/>\n",
       "<polyline clip-path=\"url(#clip8702)\" style=\"stroke:#000000; stroke-width:2; stroke-opacity:0.1; fill:none\" points=\"\n",
       "  1263.81,1486.45 1263.81,47.2441 \n",
       "  \"/>\n",
       "<polyline clip-path=\"url(#clip8702)\" style=\"stroke:#000000; stroke-width:2; stroke-opacity:0.1; fill:none\" points=\"\n",
       "  1777.46,1486.45 1777.46,47.2441 \n",
       "  \"/>\n",
       "<polyline clip-path=\"url(#clip8702)\" style=\"stroke:#000000; stroke-width:2; stroke-opacity:0.1; fill:none\" points=\"\n",
       "  2291.12,1486.45 2291.12,47.2441 \n",
       "  \"/>\n",
       "<polyline clip-path=\"url(#clip8702)\" style=\"stroke:#000000; stroke-width:2; stroke-opacity:0.1; fill:none\" points=\"\n",
       "  174.862,1445.72 2352.76,1445.72 \n",
       "  \"/>\n",
       "<polyline clip-path=\"url(#clip8702)\" style=\"stroke:#000000; stroke-width:2; stroke-opacity:0.1; fill:none\" points=\"\n",
       "  174.862,1106.28 2352.76,1106.28 \n",
       "  \"/>\n",
       "<polyline clip-path=\"url(#clip8702)\" style=\"stroke:#000000; stroke-width:2; stroke-opacity:0.1; fill:none\" points=\"\n",
       "  174.862,766.846 2352.76,766.846 \n",
       "  \"/>\n",
       "<polyline clip-path=\"url(#clip8702)\" style=\"stroke:#000000; stroke-width:2; stroke-opacity:0.1; fill:none\" points=\"\n",
       "  174.862,427.411 2352.76,427.411 \n",
       "  \"/>\n",
       "<polyline clip-path=\"url(#clip8702)\" style=\"stroke:#000000; stroke-width:2; stroke-opacity:0.1; fill:none\" points=\"\n",
       "  174.862,87.9763 2352.76,87.9763 \n",
       "  \"/>\n",
       "<polyline clip-path=\"url(#clip8700)\" style=\"stroke:#000000; stroke-width:4; stroke-opacity:1; fill:none\" points=\"\n",
       "  174.862,1486.45 2352.76,1486.45 \n",
       "  \"/>\n",
       "<polyline clip-path=\"url(#clip8700)\" style=\"stroke:#000000; stroke-width:4; stroke-opacity:1; fill:none\" points=\"\n",
       "  174.862,1486.45 174.862,47.2441 \n",
       "  \"/>\n",
       "<polyline clip-path=\"url(#clip8700)\" style=\"stroke:#000000; stroke-width:4; stroke-opacity:1; fill:none\" points=\"\n",
       "  236.501,1486.45 236.501,1469.18 \n",
       "  \"/>\n",
       "<polyline clip-path=\"url(#clip8700)\" style=\"stroke:#000000; stroke-width:4; stroke-opacity:1; fill:none\" points=\"\n",
       "  750.155,1486.45 750.155,1469.18 \n",
       "  \"/>\n",
       "<polyline clip-path=\"url(#clip8700)\" style=\"stroke:#000000; stroke-width:4; stroke-opacity:1; fill:none\" points=\"\n",
       "  1263.81,1486.45 1263.81,1469.18 \n",
       "  \"/>\n",
       "<polyline clip-path=\"url(#clip8700)\" style=\"stroke:#000000; stroke-width:4; stroke-opacity:1; fill:none\" points=\"\n",
       "  1777.46,1486.45 1777.46,1469.18 \n",
       "  \"/>\n",
       "<polyline clip-path=\"url(#clip8700)\" style=\"stroke:#000000; stroke-width:4; stroke-opacity:1; fill:none\" points=\"\n",
       "  2291.12,1486.45 2291.12,1469.18 \n",
       "  \"/>\n",
       "<polyline clip-path=\"url(#clip8700)\" style=\"stroke:#000000; stroke-width:4; stroke-opacity:1; fill:none\" points=\"\n",
       "  174.862,1445.72 200.997,1445.72 \n",
       "  \"/>\n",
       "<polyline clip-path=\"url(#clip8700)\" style=\"stroke:#000000; stroke-width:4; stroke-opacity:1; fill:none\" points=\"\n",
       "  174.862,1106.28 200.997,1106.28 \n",
       "  \"/>\n",
       "<polyline clip-path=\"url(#clip8700)\" style=\"stroke:#000000; stroke-width:4; stroke-opacity:1; fill:none\" points=\"\n",
       "  174.862,766.846 200.997,766.846 \n",
       "  \"/>\n",
       "<polyline clip-path=\"url(#clip8700)\" style=\"stroke:#000000; stroke-width:4; stroke-opacity:1; fill:none\" points=\"\n",
       "  174.862,427.411 200.997,427.411 \n",
       "  \"/>\n",
       "<polyline clip-path=\"url(#clip8700)\" style=\"stroke:#000000; stroke-width:4; stroke-opacity:1; fill:none\" points=\"\n",
       "  174.862,87.9763 200.997,87.9763 \n",
       "  \"/>\n",
       "<path clip-path=\"url(#clip8700)\" d=\"M 0 0 M218.017 1508.44 Q214.406 1508.44 212.577 1512 Q210.772 1515.55 210.772 1522.67 Q210.772 1529.78 212.577 1533.35 Q214.406 1536.89 218.017 1536.89 Q221.651 1536.89 223.457 1533.35 Q225.285 1529.78 225.285 1522.67 Q225.285 1515.55 223.457 1512 Q221.651 1508.44 218.017 1508.44 M218.017 1504.73 Q223.827 1504.73 226.883 1509.34 Q229.961 1513.92 229.961 1522.67 Q229.961 1531.4 226.883 1536.01 Q223.827 1540.59 218.017 1540.59 Q212.207 1540.59 209.128 1536.01 Q206.072 1531.4 206.072 1522.67 Q206.072 1513.92 209.128 1509.34 Q212.207 1504.73 218.017 1504.73 Z\" fill=\"#000000\" fill-rule=\"evenodd\" fill-opacity=\"1\" /><path clip-path=\"url(#clip8700)\" d=\"M 0 0 M235.031 1534.04 L239.915 1534.04 L239.915 1539.92 L235.031 1539.92 L235.031 1534.04 Z\" fill=\"#000000\" fill-rule=\"evenodd\" fill-opacity=\"1\" /><path clip-path=\"url(#clip8700)\" d=\"M 0 0 M254.984 1508.44 Q251.373 1508.44 249.544 1512 Q247.739 1515.55 247.739 1522.67 Q247.739 1529.78 249.544 1533.35 Q251.373 1536.89 254.984 1536.89 Q258.618 1536.89 260.424 1533.35 Q262.253 1529.78 262.253 1522.67 Q262.253 1515.55 260.424 1512 Q258.618 1508.44 254.984 1508.44 M254.984 1504.73 Q260.794 1504.73 263.85 1509.34 Q266.929 1513.92 266.929 1522.67 Q266.929 1531.4 263.85 1536.01 Q260.794 1540.59 254.984 1540.59 Q249.174 1540.59 246.095 1536.01 Q243.04 1531.4 243.04 1522.67 Q243.04 1513.92 246.095 1509.34 Q249.174 1504.73 254.984 1504.73 Z\" fill=\"#000000\" fill-rule=\"evenodd\" fill-opacity=\"1\" /><path clip-path=\"url(#clip8700)\" d=\"M 0 0 M726.822 1535.98 L743.141 1535.98 L743.141 1539.92 L721.197 1539.92 L721.197 1535.98 Q723.859 1533.23 728.442 1528.6 Q733.048 1523.95 734.229 1522.61 Q736.474 1520.08 737.354 1518.35 Q738.257 1516.59 738.257 1514.9 Q738.257 1512.14 736.312 1510.41 Q734.391 1508.67 731.289 1508.67 Q729.09 1508.67 726.636 1509.43 Q724.206 1510.2 721.428 1511.75 L721.428 1507.03 Q724.252 1505.89 726.706 1505.31 Q729.159 1504.73 731.197 1504.73 Q736.567 1504.73 739.761 1507.42 Q742.956 1510.11 742.956 1514.6 Q742.956 1516.73 742.146 1518.65 Q741.358 1520.54 739.252 1523.14 Q738.673 1523.81 735.571 1527.03 Q732.47 1530.22 726.822 1535.98 Z\" fill=\"#000000\" fill-rule=\"evenodd\" fill-opacity=\"1\" /><path clip-path=\"url(#clip8700)\" d=\"M 0 0 M748.21 1534.04 L753.095 1534.04 L753.095 1539.92 L748.21 1539.92 L748.21 1534.04 Z\" fill=\"#000000\" fill-rule=\"evenodd\" fill-opacity=\"1\" /><path clip-path=\"url(#clip8700)\" d=\"M 0 0 M758.21 1505.36 L776.567 1505.36 L776.567 1509.3 L762.493 1509.3 L762.493 1517.77 Q763.511 1517.42 764.53 1517.26 Q765.548 1517.07 766.567 1517.07 Q772.354 1517.07 775.733 1520.24 Q779.113 1523.42 779.113 1528.83 Q779.113 1534.41 775.641 1537.51 Q772.169 1540.59 765.849 1540.59 Q763.673 1540.59 761.405 1540.22 Q759.159 1539.85 756.752 1539.11 L756.752 1534.41 Q758.835 1535.54 761.057 1536.1 Q763.28 1536.66 765.757 1536.66 Q769.761 1536.66 772.099 1534.55 Q774.437 1532.44 774.437 1528.83 Q774.437 1525.22 772.099 1523.11 Q769.761 1521.01 765.757 1521.01 Q763.882 1521.01 762.007 1521.42 Q760.155 1521.84 758.21 1522.72 L758.21 1505.36 Z\" fill=\"#000000\" fill-rule=\"evenodd\" fill-opacity=\"1\" /><path clip-path=\"url(#clip8700)\" d=\"M 0 0 M1235.6 1505.36 L1253.96 1505.36 L1253.96 1509.3 L1239.89 1509.3 L1239.89 1517.77 Q1240.9 1517.42 1241.92 1517.26 Q1242.94 1517.07 1243.96 1517.07 Q1249.75 1517.07 1253.13 1520.24 Q1256.51 1523.42 1256.51 1528.83 Q1256.51 1534.41 1253.03 1537.51 Q1249.56 1540.59 1243.24 1540.59 Q1241.07 1540.59 1238.8 1540.22 Q1236.55 1539.85 1234.14 1539.11 L1234.14 1534.41 Q1236.23 1535.54 1238.45 1536.1 Q1240.67 1536.66 1243.15 1536.66 Q1247.15 1536.66 1249.49 1534.55 Q1251.83 1532.44 1251.83 1528.83 Q1251.83 1525.22 1249.49 1523.11 Q1247.15 1521.01 1243.15 1521.01 Q1241.27 1521.01 1239.4 1521.42 Q1237.55 1521.84 1235.6 1522.72 L1235.6 1505.36 Z\" fill=\"#000000\" fill-rule=\"evenodd\" fill-opacity=\"1\" /><path clip-path=\"url(#clip8700)\" d=\"M 0 0 M1261.58 1534.04 L1266.46 1534.04 L1266.46 1539.92 L1261.58 1539.92 L1261.58 1534.04 Z\" fill=\"#000000\" fill-rule=\"evenodd\" fill-opacity=\"1\" /><path clip-path=\"url(#clip8700)\" d=\"M 0 0 M1281.53 1508.44 Q1277.92 1508.44 1276.09 1512 Q1274.28 1515.55 1274.28 1522.67 Q1274.28 1529.78 1276.09 1533.35 Q1277.92 1536.89 1281.53 1536.89 Q1285.16 1536.89 1286.97 1533.35 Q1288.8 1529.78 1288.8 1522.67 Q1288.8 1515.55 1286.97 1512 Q1285.16 1508.44 1281.53 1508.44 M1281.53 1504.73 Q1287.34 1504.73 1290.39 1509.34 Q1293.47 1513.92 1293.47 1522.67 Q1293.47 1531.4 1290.39 1536.01 Q1287.34 1540.59 1281.53 1540.59 Q1275.72 1540.59 1272.64 1536.01 Q1269.58 1531.4 1269.58 1522.67 Q1269.58 1513.92 1272.64 1509.34 Q1275.72 1504.73 1281.53 1504.73 Z\" fill=\"#000000\" fill-rule=\"evenodd\" fill-opacity=\"1\" /><path clip-path=\"url(#clip8700)\" d=\"M 0 0 M1748.37 1505.36 L1770.59 1505.36 L1770.59 1507.35 L1758.04 1539.92 L1753.16 1539.92 L1764.96 1509.3 L1748.37 1509.3 L1748.37 1505.36 Z\" fill=\"#000000\" fill-rule=\"evenodd\" fill-opacity=\"1\" /><path clip-path=\"url(#clip8700)\" d=\"M 0 0 M1775.66 1534.04 L1780.54 1534.04 L1780.54 1539.92 L1775.66 1539.92 L1775.66 1534.04 Z\" fill=\"#000000\" fill-rule=\"evenodd\" fill-opacity=\"1\" /><path clip-path=\"url(#clip8700)\" d=\"M 0 0 M1785.66 1505.36 L1804.01 1505.36 L1804.01 1509.3 L1789.94 1509.3 L1789.94 1517.77 Q1790.96 1517.42 1791.98 1517.26 Q1793 1517.07 1794.01 1517.07 Q1799.8 1517.07 1803.18 1520.24 Q1806.56 1523.42 1806.56 1528.83 Q1806.56 1534.41 1803.09 1537.51 Q1799.62 1540.59 1793.3 1540.59 Q1791.12 1540.59 1788.85 1540.22 Q1786.61 1539.85 1784.2 1539.11 L1784.2 1534.41 Q1786.28 1535.54 1788.5 1536.1 Q1790.73 1536.66 1793.2 1536.66 Q1797.21 1536.66 1799.55 1534.55 Q1801.88 1532.44 1801.88 1528.83 Q1801.88 1525.22 1799.55 1523.11 Q1797.21 1521.01 1793.2 1521.01 Q1791.33 1521.01 1789.45 1521.42 Q1787.6 1521.84 1785.66 1522.72 L1785.66 1505.36 Z\" fill=\"#000000\" fill-rule=\"evenodd\" fill-opacity=\"1\" /><path clip-path=\"url(#clip8700)\" d=\"M 0 0 M2249.51 1535.98 L2257.15 1535.98 L2257.15 1509.62 L2248.84 1511.29 L2248.84 1507.03 L2257.1 1505.36 L2261.78 1505.36 L2261.78 1535.98 L2269.42 1535.98 L2269.42 1539.92 L2249.51 1539.92 L2249.51 1535.98 Z\" fill=\"#000000\" fill-rule=\"evenodd\" fill-opacity=\"1\" /><path clip-path=\"url(#clip8700)\" d=\"M 0 0 M2284.49 1508.44 Q2280.87 1508.44 2279.05 1512 Q2277.24 1515.55 2277.24 1522.67 Q2277.24 1529.78 2279.05 1533.35 Q2280.87 1536.89 2284.49 1536.89 Q2288.12 1536.89 2289.93 1533.35 Q2291.75 1529.78 2291.75 1522.67 Q2291.75 1515.55 2289.93 1512 Q2288.12 1508.44 2284.49 1508.44 M2284.49 1504.73 Q2290.3 1504.73 2293.35 1509.34 Q2296.43 1513.92 2296.43 1522.67 Q2296.43 1531.4 2293.35 1536.01 Q2290.3 1540.59 2284.49 1540.59 Q2278.68 1540.59 2275.6 1536.01 Q2272.54 1531.4 2272.54 1522.67 Q2272.54 1513.92 2275.6 1509.34 Q2278.68 1504.73 2284.49 1504.73 Z\" fill=\"#000000\" fill-rule=\"evenodd\" fill-opacity=\"1\" /><path clip-path=\"url(#clip8700)\" d=\"M 0 0 M2301.5 1534.04 L2306.38 1534.04 L2306.38 1539.92 L2301.5 1539.92 L2301.5 1534.04 Z\" fill=\"#000000\" fill-rule=\"evenodd\" fill-opacity=\"1\" /><path clip-path=\"url(#clip8700)\" d=\"M 0 0 M2321.45 1508.44 Q2317.84 1508.44 2316.01 1512 Q2314.21 1515.55 2314.21 1522.67 Q2314.21 1529.78 2316.01 1533.35 Q2317.84 1536.89 2321.45 1536.89 Q2325.09 1536.89 2326.89 1533.35 Q2328.72 1529.78 2328.72 1522.67 Q2328.72 1515.55 2326.89 1512 Q2325.09 1508.44 2321.45 1508.44 M2321.45 1504.73 Q2327.26 1504.73 2330.32 1509.34 Q2333.4 1513.92 2333.4 1522.67 Q2333.4 1531.4 2330.32 1536.01 Q2327.26 1540.59 2321.45 1540.59 Q2315.64 1540.59 2312.56 1536.01 Q2309.51 1531.4 2309.51 1522.67 Q2309.51 1513.92 2312.56 1509.34 Q2315.64 1504.73 2321.45 1504.73 Z\" fill=\"#000000\" fill-rule=\"evenodd\" fill-opacity=\"1\" /><path clip-path=\"url(#clip8700)\" d=\"M 0 0 M74.9365 1431.51 Q71.3254 1431.51 69.4967 1435.08 Q67.6912 1438.62 67.6912 1445.75 Q67.6912 1452.86 69.4967 1456.42 Q71.3254 1459.96 74.9365 1459.96 Q78.5707 1459.96 80.3763 1456.42 Q82.205 1452.86 82.205 1445.75 Q82.205 1438.62 80.3763 1435.08 Q78.5707 1431.51 74.9365 1431.51 M74.9365 1427.81 Q80.7467 1427.81 83.8022 1432.42 Q86.8809 1437 86.8809 1445.75 Q86.8809 1454.48 83.8022 1459.08 Q80.7467 1463.67 74.9365 1463.67 Q69.1264 1463.67 66.0477 1459.08 Q62.9921 1454.48 62.9921 1445.75 Q62.9921 1437 66.0477 1432.42 Q69.1264 1427.81 74.9365 1427.81 Z\" fill=\"#000000\" fill-rule=\"evenodd\" fill-opacity=\"1\" /><path clip-path=\"url(#clip8700)\" d=\"M 0 0 M91.9503 1457.12 L96.8345 1457.12 L96.8345 1463 L91.9503 1463 L91.9503 1457.12 Z\" fill=\"#000000\" fill-rule=\"evenodd\" fill-opacity=\"1\" /><path clip-path=\"url(#clip8700)\" d=\"M 0 0 M111.904 1431.51 Q108.293 1431.51 106.464 1435.08 Q104.659 1438.62 104.659 1445.75 Q104.659 1452.86 106.464 1456.42 Q108.293 1459.96 111.904 1459.96 Q115.538 1459.96 117.344 1456.42 Q119.172 1452.86 119.172 1445.75 Q119.172 1438.62 117.344 1435.08 Q115.538 1431.51 111.904 1431.51 M111.904 1427.81 Q117.714 1427.81 120.77 1432.42 Q123.848 1437 123.848 1445.75 Q123.848 1454.48 120.77 1459.08 Q117.714 1463.67 111.904 1463.67 Q106.094 1463.67 103.015 1459.08 Q99.9595 1454.48 99.9595 1445.75 Q99.9595 1437 103.015 1432.42 Q106.094 1427.81 111.904 1427.81 Z\" fill=\"#000000\" fill-rule=\"evenodd\" fill-opacity=\"1\" /><path clip-path=\"url(#clip8700)\" d=\"M 0 0 M138.918 1431.51 Q135.307 1431.51 133.478 1435.08 Q131.672 1438.62 131.672 1445.75 Q131.672 1452.86 133.478 1456.42 Q135.307 1459.96 138.918 1459.96 Q142.552 1459.96 144.357 1456.42 Q146.186 1452.86 146.186 1445.75 Q146.186 1438.62 144.357 1435.08 Q142.552 1431.51 138.918 1431.51 M138.918 1427.81 Q144.728 1427.81 147.783 1432.42 Q150.862 1437 150.862 1445.75 Q150.862 1454.48 147.783 1459.08 Q144.728 1463.67 138.918 1463.67 Q133.107 1463.67 130.029 1459.08 Q126.973 1454.48 126.973 1445.75 Q126.973 1437 130.029 1432.42 Q133.107 1427.81 138.918 1427.81 Z\" fill=\"#000000\" fill-rule=\"evenodd\" fill-opacity=\"1\" /><path clip-path=\"url(#clip8700)\" d=\"M 0 0 M77.5291 1092.08 Q73.918 1092.08 72.0893 1095.64 Q70.2838 1099.19 70.2838 1106.32 Q70.2838 1113.42 72.0893 1116.99 Q73.918 1120.53 77.5291 1120.53 Q81.1633 1120.53 82.9689 1116.99 Q84.7976 1113.42 84.7976 1106.32 Q84.7976 1099.19 82.9689 1095.64 Q81.1633 1092.08 77.5291 1092.08 M77.5291 1088.38 Q83.3392 1088.38 86.3948 1092.98 Q89.4735 1097.57 89.4735 1106.32 Q89.4735 1115.04 86.3948 1119.65 Q83.3392 1124.23 77.5291 1124.23 Q71.7189 1124.23 68.6402 1119.65 Q65.5847 1115.04 65.5847 1106.32 Q65.5847 1097.57 68.6402 1092.98 Q71.7189 1088.38 77.5291 1088.38 Z\" fill=\"#000000\" fill-rule=\"evenodd\" fill-opacity=\"1\" /><path clip-path=\"url(#clip8700)\" d=\"M 0 0 M94.5429 1117.68 L99.4271 1117.68 L99.4271 1123.56 L94.5429 1123.56 L94.5429 1117.68 Z\" fill=\"#000000\" fill-rule=\"evenodd\" fill-opacity=\"1\" /><path clip-path=\"url(#clip8700)\" d=\"M 0 0 M108.524 1119.63 L124.844 1119.63 L124.844 1123.56 L102.899 1123.56 L102.899 1119.63 Q105.561 1116.87 110.145 1112.24 Q114.751 1107.59 115.932 1106.25 Q118.177 1103.72 119.057 1101.99 Q119.959 1100.23 119.959 1098.54 Q119.959 1095.78 118.015 1094.05 Q116.094 1092.31 112.992 1092.31 Q110.793 1092.31 108.339 1093.07 Q105.909 1093.84 103.131 1095.39 L103.131 1090.67 Q105.955 1089.53 108.409 1088.95 Q110.862 1088.38 112.899 1088.38 Q118.27 1088.38 121.464 1091.06 Q124.658 1093.75 124.658 1098.24 Q124.658 1100.37 123.848 1102.29 Q123.061 1104.19 120.955 1106.78 Q120.376 1107.45 117.274 1110.67 Q114.172 1113.86 108.524 1119.63 Z\" fill=\"#000000\" fill-rule=\"evenodd\" fill-opacity=\"1\" /><path clip-path=\"url(#clip8700)\" d=\"M 0 0 M129.959 1089 L148.316 1089 L148.316 1092.94 L134.242 1092.94 L134.242 1101.41 Q135.26 1101.06 136.279 1100.9 Q137.297 1100.71 138.316 1100.71 Q144.103 1100.71 147.482 1103.89 Q150.862 1107.06 150.862 1112.47 Q150.862 1118.05 147.39 1121.15 Q143.918 1124.23 137.598 1124.23 Q135.422 1124.23 133.154 1123.86 Q130.908 1123.49 128.501 1122.75 L128.501 1118.05 Q130.584 1119.19 132.807 1119.74 Q135.029 1120.3 137.506 1120.3 Q141.51 1120.3 143.848 1118.19 Q146.186 1116.08 146.186 1112.47 Q146.186 1108.86 143.848 1106.76 Q141.51 1104.65 137.506 1104.65 Q135.631 1104.65 133.756 1105.07 Q131.904 1105.48 129.959 1106.36 L129.959 1089 Z\" fill=\"#000000\" fill-rule=\"evenodd\" fill-opacity=\"1\" /><path clip-path=\"url(#clip8700)\" d=\"M 0 0 M75.9319 752.645 Q72.3208 752.645 70.4921 756.209 Q68.6865 759.751 68.6865 766.881 Q68.6865 773.987 70.4921 777.552 Q72.3208 781.094 75.9319 781.094 Q79.5661 781.094 81.3717 777.552 Q83.2004 773.987 83.2004 766.881 Q83.2004 759.751 81.3717 756.209 Q79.5661 752.645 75.9319 752.645 M75.9319 748.941 Q81.742 748.941 84.7976 753.547 Q87.8763 758.131 87.8763 766.881 Q87.8763 775.608 84.7976 780.214 Q81.742 784.797 75.9319 784.797 Q70.1217 784.797 67.043 780.214 Q63.9875 775.608 63.9875 766.881 Q63.9875 758.131 67.043 753.547 Q70.1217 748.941 75.9319 748.941 Z\" fill=\"#000000\" fill-rule=\"evenodd\" fill-opacity=\"1\" /><path clip-path=\"url(#clip8700)\" d=\"M 0 0 M92.9457 778.246 L97.8299 778.246 L97.8299 784.126 L92.9457 784.126 L92.9457 778.246 Z\" fill=\"#000000\" fill-rule=\"evenodd\" fill-opacity=\"1\" /><path clip-path=\"url(#clip8700)\" d=\"M 0 0 M102.946 749.566 L121.302 749.566 L121.302 753.501 L107.228 753.501 L107.228 761.973 Q108.247 761.626 109.265 761.464 Q110.284 761.279 111.302 761.279 Q117.089 761.279 120.469 764.45 Q123.848 767.621 123.848 773.038 Q123.848 778.617 120.376 781.719 Q116.904 784.797 110.584 784.797 Q108.409 784.797 106.14 784.427 Q103.895 784.057 101.487 783.316 L101.487 778.617 Q103.571 779.751 105.793 780.307 Q108.015 780.862 110.492 780.862 Q114.496 780.862 116.834 778.756 Q119.172 776.649 119.172 773.038 Q119.172 769.427 116.834 767.321 Q114.496 765.214 110.492 765.214 Q108.617 765.214 106.742 765.631 Q104.89 766.047 102.946 766.927 L102.946 749.566 Z\" fill=\"#000000\" fill-rule=\"evenodd\" fill-opacity=\"1\" /><path clip-path=\"url(#clip8700)\" d=\"M 0 0 M138.918 752.645 Q135.307 752.645 133.478 756.209 Q131.672 759.751 131.672 766.881 Q131.672 773.987 133.478 777.552 Q135.307 781.094 138.918 781.094 Q142.552 781.094 144.357 777.552 Q146.186 773.987 146.186 766.881 Q146.186 759.751 144.357 756.209 Q142.552 752.645 138.918 752.645 M138.918 748.941 Q144.728 748.941 147.783 753.547 Q150.862 758.131 150.862 766.881 Q150.862 775.608 147.783 780.214 Q144.728 784.797 138.918 784.797 Q133.107 784.797 130.029 780.214 Q126.973 775.608 126.973 766.881 Q126.973 758.131 130.029 753.547 Q133.107 748.941 138.918 748.941 Z\" fill=\"#000000\" fill-rule=\"evenodd\" fill-opacity=\"1\" /><path clip-path=\"url(#clip8700)\" d=\"M 0 0 M76.8346 413.21 Q73.2236 413.21 71.3949 416.775 Q69.5893 420.316 69.5893 427.446 Q69.5893 434.552 71.3949 438.117 Q73.2236 441.659 76.8346 441.659 Q80.4689 441.659 82.2744 438.117 Q84.1031 434.552 84.1031 427.446 Q84.1031 420.316 82.2744 416.775 Q80.4689 413.21 76.8346 413.21 M76.8346 409.506 Q82.6448 409.506 85.7003 414.113 Q88.779 418.696 88.779 427.446 Q88.779 436.173 85.7003 440.779 Q82.6448 445.362 76.8346 445.362 Q71.0245 445.362 67.9458 440.779 Q64.8903 436.173 64.8903 427.446 Q64.8903 418.696 67.9458 414.113 Q71.0245 409.506 76.8346 409.506 Z\" fill=\"#000000\" fill-rule=\"evenodd\" fill-opacity=\"1\" /><path clip-path=\"url(#clip8700)\" d=\"M 0 0 M93.8484 438.812 L98.7327 438.812 L98.7327 444.691 L93.8484 444.691 L93.8484 438.812 Z\" fill=\"#000000\" fill-rule=\"evenodd\" fill-opacity=\"1\" /><path clip-path=\"url(#clip8700)\" d=\"M 0 0 M102.622 410.131 L124.844 410.131 L124.844 412.122 L112.297 444.691 L107.413 444.691 L119.219 414.066 L102.622 414.066 L102.622 410.131 Z\" fill=\"#000000\" fill-rule=\"evenodd\" fill-opacity=\"1\" /><path clip-path=\"url(#clip8700)\" d=\"M 0 0 M129.959 410.131 L148.316 410.131 L148.316 414.066 L134.242 414.066 L134.242 422.538 Q135.26 422.191 136.279 422.029 Q137.297 421.844 138.316 421.844 Q144.103 421.844 147.482 425.015 Q150.862 428.187 150.862 433.603 Q150.862 439.182 147.39 442.284 Q143.918 445.362 137.598 445.362 Q135.422 445.362 133.154 444.992 Q130.908 444.622 128.501 443.881 L128.501 439.182 Q130.584 440.316 132.807 440.872 Q135.029 441.427 137.506 441.427 Q141.51 441.427 143.848 439.321 Q146.186 437.214 146.186 433.603 Q146.186 429.992 143.848 427.886 Q141.51 425.779 137.506 425.779 Q135.631 425.779 133.756 426.196 Q131.904 426.613 129.959 427.492 L129.959 410.131 Z\" fill=\"#000000\" fill-rule=\"evenodd\" fill-opacity=\"1\" /><path clip-path=\"url(#clip8700)\" d=\"M 0 0 M66.9736 101.321 L74.6124 101.321 L74.6124 74.9555 L66.3023 76.6222 L66.3023 72.3629 L74.5661 70.6963 L79.242 70.6963 L79.242 101.321 L86.8809 101.321 L86.8809 105.256 L66.9736 105.256 L66.9736 101.321 Z\" fill=\"#000000\" fill-rule=\"evenodd\" fill-opacity=\"1\" /><path clip-path=\"url(#clip8700)\" d=\"M 0 0 M91.9503 99.3767 L96.8345 99.3767 L96.8345 105.256 L91.9503 105.256 L91.9503 99.3767 Z\" fill=\"#000000\" fill-rule=\"evenodd\" fill-opacity=\"1\" /><path clip-path=\"url(#clip8700)\" d=\"M 0 0 M111.904 73.775 Q108.293 73.775 106.464 77.3398 Q104.659 80.8814 104.659 88.011 Q104.659 95.1174 106.464 98.6822 Q108.293 102.224 111.904 102.224 Q115.538 102.224 117.344 98.6822 Q119.172 95.1174 119.172 88.011 Q119.172 80.8814 117.344 77.3398 Q115.538 73.775 111.904 73.775 M111.904 70.0713 Q117.714 70.0713 120.77 74.6777 Q123.848 79.261 123.848 88.011 Q123.848 96.7378 120.77 101.344 Q117.714 105.928 111.904 105.928 Q106.094 105.928 103.015 101.344 Q99.9595 96.7378 99.9595 88.011 Q99.9595 79.261 103.015 74.6777 Q106.094 70.0713 111.904 70.0713 Z\" fill=\"#000000\" fill-rule=\"evenodd\" fill-opacity=\"1\" /><path clip-path=\"url(#clip8700)\" d=\"M 0 0 M138.918 73.775 Q135.307 73.775 133.478 77.3398 Q131.672 80.8814 131.672 88.011 Q131.672 95.1174 133.478 98.6822 Q135.307 102.224 138.918 102.224 Q142.552 102.224 144.357 98.6822 Q146.186 95.1174 146.186 88.011 Q146.186 80.8814 144.357 77.3398 Q142.552 73.775 138.918 73.775 M138.918 70.0713 Q144.728 70.0713 147.783 74.6777 Q150.862 79.261 150.862 88.011 Q150.862 96.7378 147.783 101.344 Q144.728 105.928 138.918 105.928 Q133.107 105.928 130.029 101.344 Q126.973 96.7378 126.973 88.011 Q126.973 79.261 130.029 74.6777 Q133.107 70.0713 138.918 70.0713 Z\" fill=\"#000000\" fill-rule=\"evenodd\" fill-opacity=\"1\" /><polyline clip-path=\"url(#clip8702)\" style=\"stroke:#009af9; stroke-width:4; stroke-opacity:1; fill:none\" points=\"\n",
       "  236.501,1445.72 246.774,1445.72 257.047,1445.72 267.32,1445.72 277.593,1445.72 287.866,1445.72 298.139,1445.72 308.412,1445.72 318.685,1445.72 328.958,1445.72 \n",
       "  339.231,1445.72 349.504,1445.72 359.778,1445.72 370.051,1445.72 380.324,1445.72 390.597,1445.72 400.87,1445.72 411.143,1445.72 421.416,1445.72 431.689,1445.72 \n",
       "  441.962,1445.72 452.235,1445.72 462.508,1445.72 472.781,1445.72 483.055,1445.72 493.328,1445.72 503.601,1445.72 513.874,1445.72 524.147,1445.72 534.42,1445.72 \n",
       "  544.693,1445.72 554.966,1445.72 565.239,1445.72 575.512,1445.72 585.785,1445.72 596.058,1445.72 606.332,1445.72 616.605,1445.72 626.878,1445.72 637.151,1445.72 \n",
       "  647.424,1445.72 657.697,1445.72 667.97,1445.72 678.243,1445.72 688.516,1445.72 698.789,1445.72 709.062,1445.72 719.335,1445.72 729.609,1445.72 739.882,1445.72 \n",
       "  750.155,1445.72 760.428,1445.72 770.701,1445.72 780.974,1445.72 791.247,1445.72 801.52,1445.72 811.793,1445.72 822.066,1445.72 832.339,1445.72 842.613,1445.72 \n",
       "  852.886,1445.72 863.159,1445.72 873.432,1445.72 883.705,1445.72 893.978,1445.72 904.251,1445.72 914.524,1445.72 924.797,1445.72 935.07,1445.72 945.343,1445.72 \n",
       "  955.616,1445.72 965.89,1445.72 976.163,1445.72 986.436,1445.72 996.709,1445.72 1006.98,1445.72 1017.25,1445.72 1027.53,1445.72 1037.8,1445.72 1048.07,1445.72 \n",
       "  1058.35,1445.72 1068.62,1445.72 1078.89,1445.72 1089.17,1445.72 1099.44,1445.72 1109.71,1445.72 1119.99,1445.72 1130.26,1445.72 1140.53,1445.72 1150.81,1445.72 \n",
       "  1161.08,1445.72 1171.35,1445.72 1181.62,1445.72 1191.9,1445.72 1202.17,1445.72 1212.44,1445.72 1222.72,1445.72 1232.99,1445.72 1243.26,1445.72 1253.54,1445.72 \n",
       "  1263.81,1445.72 1274.08,1445.72 1284.36,1445.72 1294.63,1445.72 1304.9,1445.72 1315.17,1445.72 1325.45,1445.72 1335.72,1445.72 1345.99,1445.72 1356.27,1445.72 \n",
       "  1366.54,1445.72 1376.81,1445.72 1387.09,1445.72 1397.36,1445.72 1407.63,1445.72 1417.91,1445.72 1428.18,1445.72 1438.45,1445.72 1448.72,1445.72 1459,1445.72 \n",
       "  1469.27,1445.72 1479.54,1445.72 1489.82,1445.72 1500.09,1445.72 1510.36,1445.72 1520.64,1445.72 1530.91,1445.72 1541.18,1445.72 1551.46,1445.72 1561.73,1445.72 \n",
       "  1572,1445.72 1582.27,1445.72 1592.55,1445.72 1602.82,1445.72 1613.09,1445.72 1623.37,1445.72 1633.64,1445.72 1643.91,1445.72 1654.19,1445.72 1664.46,1445.72 \n",
       "  1674.73,1445.72 1685.01,1445.72 1695.28,1445.72 1705.55,1445.72 1715.82,1445.72 1726.1,1445.72 1736.37,1445.72 1746.64,1445.72 1756.92,1445.72 1767.19,1445.72 \n",
       "  1777.46,1445.72 1787.74,1445.72 1798.01,1445.72 1808.28,1445.72 1818.56,1445.72 1828.83,1445.72 1839.1,1445.72 1849.37,1445.72 1859.65,1445.72 1869.92,1445.72 \n",
       "  1880.19,1445.72 1890.47,1445.72 1900.74,1445.72 1911.01,1445.72 1921.29,1445.72 1931.56,1445.72 1941.83,1445.72 1952.11,1445.72 1962.38,1445.72 1972.65,1445.72 \n",
       "  1982.92,1445.72 1993.2,1445.72 2003.47,1445.72 2013.74,1445.72 2024.02,1445.72 2034.29,1445.72 2044.56,1445.72 2054.84,1445.72 2065.11,1445.72 2075.38,1445.72 \n",
       "  2085.66,1445.72 2095.93,1445.72 2106.2,1445.72 2116.47,1445.72 2126.75,1445.72 2137.02,1445.72 2147.29,1445.72 2157.57,1445.72 2167.84,1445.72 2178.11,1445.72 \n",
       "  2188.39,1445.72 2198.66,1445.72 2208.93,1445.72 2219.21,1445.72 2229.48,1445.72 2239.75,1445.72 2250.03,1445.72 2260.3,1445.72 2270.57,1445.72 2280.84,1445.72 \n",
       "  2291.12,1445.72 \n",
       "  \"/>\n",
       "<path clip-path=\"url(#clip8700)\" d=\"\n",
       "M1989.74 251.724 L2280.76 251.724 L2280.76 130.764 L1989.74 130.764  Z\n",
       "  \" fill=\"#ffffff\" fill-rule=\"evenodd\" fill-opacity=\"1\"/>\n",
       "<polyline clip-path=\"url(#clip8700)\" style=\"stroke:#000000; stroke-width:4; stroke-opacity:1; fill:none\" points=\"\n",
       "  1989.74,251.724 2280.76,251.724 2280.76,130.764 1989.74,130.764 1989.74,251.724 \n",
       "  \"/>\n",
       "<polyline clip-path=\"url(#clip8700)\" style=\"stroke:#009af9; stroke-width:4; stroke-opacity:1; fill:none\" points=\"\n",
       "  2013.74,191.244 2157.74,191.244 \n",
       "  \"/>\n",
       "<path clip-path=\"url(#clip8700)\" d=\"M 0 0 M2195.58 210.931 Q2193.77 215.561 2192.06 216.973 Q2190.35 218.385 2187.48 218.385 L2184.08 218.385 L2184.08 214.82 L2186.58 214.82 Q2188.33 214.82 2189.31 213.987 Q2190.28 213.154 2191.46 210.052 L2192.22 208.107 L2181.74 182.598 L2186.25 182.598 L2194.35 202.876 L2202.46 182.598 L2206.97 182.598 L2195.58 210.931 Z\" fill=\"#000000\" fill-rule=\"evenodd\" fill-opacity=\"1\" /><path clip-path=\"url(#clip8700)\" d=\"M 0 0 M2212.85 204.589 L2220.49 204.589 L2220.49 178.223 L2212.18 179.89 L2212.18 175.631 L2220.44 173.964 L2225.12 173.964 L2225.12 204.589 L2232.76 204.589 L2232.76 208.524 L2212.85 208.524 L2212.85 204.589 Z\" fill=\"#000000\" fill-rule=\"evenodd\" fill-opacity=\"1\" /></svg>\n"
      ]
     },
     "execution_count": 26,
     "metadata": {},
     "output_type": "execute_result"
    }
   ],
   "source": [
    "#Plot total energy\n",
    "using Plots\n",
    "\n",
    "E = zeros(N)\n",
    "for k = 1:N\n",
    "    E[k] = Energy(xhist[:, k])\n",
    "end\n",
    "\n",
    "plot(thist,E)"
   ]
  },
  {
   "cell_type": "code",
   "execution_count": null,
   "id": "64b16b24",
   "metadata": {},
   "outputs": [],
   "source": []
  }
 ],
 "metadata": {
  "kernelspec": {
   "display_name": "Julia 1.6.3",
   "language": "julia",
   "name": "julia-1.6"
  },
  "language_info": {
   "file_extension": ".jl",
   "mimetype": "application/julia",
   "name": "julia",
   "version": "1.6.3"
  }
 },
 "nbformat": 4,
 "nbformat_minor": 5
}
