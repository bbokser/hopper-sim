{
 "cells": [
  {
   "cell_type": "code",
   "execution_count": 1,
   "id": "eeb179ac",
   "metadata": {},
   "outputs": [
    {
     "name": "stderr",
     "output_type": "stream",
     "text": [
      "\u001b[32m\u001b[1m  Activating\u001b[22m\u001b[39m environment at `/mnt/064AC6424AC62E6D/git_workspace/16715/hopper-sim/scripts/Project.toml`\n"
     ]
    }
   ],
   "source": [
    "import Pkg; Pkg.activate(@__DIR__); Pkg.instantiate()"
   ]
  },
  {
   "cell_type": "code",
   "execution_count": 2,
   "id": "c52b5810",
   "metadata": {},
   "outputs": [
    {
     "data": {
      "application/vnd.webio.node+json": {
       "children": [],
       "instanceArgs": {
        "namespace": "html",
        "tag": "div"
       },
       "nodeType": "DOM",
       "props": {},
       "type": "node"
      },
      "text/html": [
       "<div style=\"padding: 1em; background-color: #f8d6da; border: 1px solid #f5c6cb; font-weight: bold;\">\n",
       "<p>The WebIO Jupyter extension was not detected. See the\n",
       "<a href=\"https://juliagizmos.github.io/WebIO.jl/latest/providers/ijulia/\" target=\"_blank\">\n",
       "    WebIO Jupyter integration documentation\n",
       "</a>\n",
       "for more information.\n",
       "</div>\n"
      ],
      "text/plain": [
       "WebIO._IJuliaInit()"
      ]
     },
     "metadata": {},
     "output_type": "display_data"
    }
   ],
   "source": [
    "using RigidBodyDynamics\n",
    "using LinearAlgebra\n",
    "using MeshCatMechanisms\n",
    "using MeshCat\n",
    "using StaticArrays"
   ]
  },
  {
   "cell_type": "code",
   "execution_count": 3,
   "id": "6b4d4bb0",
   "metadata": {},
   "outputs": [
    {
     "data": {
      "text/plain": [
       "9.81"
      ]
     },
     "execution_count": 3,
     "metadata": {},
     "output_type": "execute_result"
    }
   ],
   "source": [
    "l0 = 0.15\n",
    "l1 = 0.3\n",
    "\n",
    "l2 = 0.3\n",
    "l3 = 0.15\n",
    "l4 = 0.15\n",
    "l34 = l3+l4\n",
    "\n",
    "m0 = 1.0\n",
    "m1 = 1.0\n",
    "m2 = 1.0\n",
    "m3 = 1.0\n",
    "\n",
    "g = 9.81\n",
    "\n",
    "# I1 = m1*(l1^2)\n",
    "# I2 = m2*(l2^2)"
   ]
  },
  {
   "cell_type": "code",
   "execution_count": 4,
   "id": "dc22afdb",
   "metadata": {},
   "outputs": [
    {
     "data": {
      "text/plain": [
       "Spanning tree:\n",
       "Vertex: world (root)\n",
       "No non-tree joints."
      ]
     },
     "execution_count": 4,
     "metadata": {},
     "output_type": "execute_result"
    }
   ],
   "source": [
    "world = RigidBody{Float64}(\"world\")\n",
    "doublependulum = Mechanism(world; gravity = SVector(0, 0, g))"
   ]
  },
  {
   "cell_type": "code",
   "execution_count": 5,
   "id": "cbbdde42",
   "metadata": {},
   "outputs": [
    {
     "name": "stderr",
     "output_type": "stream",
     "text": [
      "I/O warning : failed to load external entity \"/mnt/064AC6424AC62E6D/git_workspace/16715/hopper-sim/scripts/../../res/flyhopper_parallel/urdf/flyhopper_parallel.urdf\"\n"
     ]
    },
    {
     "ename": "LoadError",
     "evalue": "LightXML.XMLParseError{String}(\"Failure in parsing an XML file.\")",
     "output_type": "error",
     "traceback": [
      "LightXML.XMLParseError{String}(\"Failure in parsing an XML file.\")",
      "",
      "Stacktrace:",
      " [1] _check_result",
      "   @ ~/.julia/packages/LightXML/g6rbQ/src/document.jl:88 [inlined]",
      " [2] parse_file(filename::String)",
      "   @ LightXML ~/.julia/packages/LightXML/g6rbQ/src/document.jl:92",
      " [3] parse_urdf(filename::String; scalar_type::Type{Float64}, floating::Bool, joint_types::Dict{String, UnionAll}, root_joint_type::Fixed{Float64}, remove_fixed_tree_joints::Bool, gravity::SVector{3, Float64}, revolute_joint_type::Nothing, floating_joint_type::Nothing)",
      "   @ RigidBodyDynamics.URDF ~/.julia/packages/RigidBodyDynamics/8B04X/src/urdf/parse.jl:183",
      " [4] top-level scope",
      "   @ In[5]:3",
      " [5] eval",
      "   @ ./boot.jl:360 [inlined]",
      " [6] include_string(mapexpr::typeof(REPL.softscope), mod::Module, code::String, filename::String)",
      "   @ Base ./loading.jl:1116"
     ]
    }
   ],
   "source": [
    "curdir = pwd()\n",
    "urdfpath = joinpath(curdir, \"../../res/flyhopper_parallel/urdf/flyhopper_parallel.urdf\")\n",
    "doublependulum = parse_urdf(urdfpath, floating=false)\n",
    "state = MechanismState(doublependulum)"
   ]
  },
  {
   "cell_type": "code",
   "execution_count": 6,
   "id": "9c2ecfba",
   "metadata": {},
   "outputs": [
    {
     "data": {
      "text/plain": [
       "f_1 (generic function with 1 method)"
      ]
     },
     "execution_count": 6,
     "metadata": {},
     "output_type": "execute_result"
    }
   ],
   "source": [
    "function f_1(x)\n",
    "    # parallel mechanism dynamics\n",
    "    q0 = x[1]\n",
    "    q0d = x[2]\n",
    "    q1 = x[3]\n",
    "    q1d = x[4]\n",
    "    q2 = x[5]\n",
    "    q2d = x[6]\n",
    "    q3 = x[7]\n",
    "    q3d = x[8]\n",
    "    \n",
    "    # Mass matrix\n",
    "    M = [ 1.0*l0^2*m0 + l0^2*m1 + 2*l0*l1*m1*cos(q1) + l1^2*m1  l0*l1*m1*cos(q1) + l1^2*m1  0  0;\n",
    "          l0*l1*m1*cos(q1) + l1^2*m1  l1^2*m1  0  0;\n",
    "          0  0  1.0*l2^2*m2 + l2^2*m3 + 2*l2*l34*m3*cos(q3) + l34^2*m3  l2*l34*m3*cos(q3) + l34^2*m3;\n",
    "          0  0  l2*l34*m3*cos(q3) + l34^2*m3  l34^2*m3]\n",
    "    \n",
    "    # Coriolis term\n",
    "    C = [ -2*l0*l1*m1*q0d*q1d*sin(q1) - l0*l1*m1*q1d^2*sin(q1);\n",
    "          l0*l1*m1*q0d^2*sin(q1);\n",
    "          -2*l2*l34*m3*q2d*q3d*sin(q3) - l2*l34*m3*q3d^2*sin(q3);\n",
    "          l2*l34*m3*q2d^2*sin(q3)]\n",
    "    \n",
    "    # Gravity term\n",
    "    G = [g*l0*m0*cos(q0) + g*l0*m1*cos(q0) + g*l1*m1*cos(q0 + q1);\n",
    "         g*l1*m1*cos(q0 + q1);\n",
    "         g*l2*m2*cos(q2) + g*l2*m3*cos(q2) + g*l34*m3*cos(q2 + q3);\n",
    "         g*l34*m3*cos(q2 + q3)]\n",
    "    \n",
    "    # Constraint fn\n",
    "    c = [l0*cos(q0) + l1*cos(q0 + q1) - l2*cos(q2) - l3*cos(q2 + q3);\n",
    "         l0*sin(q0) + l1*sin(q0 + q1) - l2*sin(q2) - l3*sin(q2 + q3)]\n",
    "    \n",
    "    # Constraint Jacobian\n",
    "    D = [-l0*sin(q0) - l1*sin(q0 + q1)  -l1*sin(q0 + q1)  l2*sin(q2) + l3*sin(q2 + q3)  l3*sin(q2 + q3);\n",
    "         l0*cos(q0) + l1*cos(q0 + q1)    l1*cos(q0 + q1)   -l2*cos(q2) - l3*cos(q2 + q3) -l3*cos(q2 + q3)]\n",
    "    \n",
    "    # del/delq(D*qdot)*qdot\n",
    "    d = [q0d*(-l1*q1d*cos(q0 + q1) + q0d*(-l0*cos(q0) - l1*cos(q0 + q1))) + q1d*(-l1*q0d*cos(q0 + q1) -\n",
    "            l1*q1d*cos(q0 + q1)) + q2d*(l3*q3d*cos(q2 + q3) + q2d*(l2*cos(q2) + l3*cos(q2 + q3))) +\n",
    "            q3d*(l3*q2d*cos(q2 + q3) + l3*q3d*cos(q2 + q3));\n",
    "         q0d*(-l1*q1d*sin(q0 + q1) + q0d*(-l0*sin(q0) - l1*sin(q0 + q1))) + q1d*(-l1*q0d*sin(q0 + q1) -\n",
    "            l1*q1d*sin(q0 + q1)) + q2d*(l3*q3d*sin(q2 + q3) + q2d*(l2*sin(q2) + l3*sin(q2 + q3))) +\n",
    "            q3d*(l3*q2d*sin(q2 + q3) + l3*q3d*sin(q2 + q3))]\n",
    "    \n",
    "    # first derivative of constraint fn\n",
    "    cd = [-l1*q1d*sin(q0 + q1) + l3*q3d*sin(q2 + q3) + q0d*(-l0*sin(q0) - l1*sin(q0 + q1)) +\n",
    "              q2d*(l2*sin(q2) + l3*sin(q2 + q3));\n",
    "          l1*q1d*cos(q0 + q1) - l3*q3d*cos(q2 + q3) + q0d*(l0*cos(q0) + l1*cos(q0 + q1)) +\n",
    "              q2d*(-l2*cos(q2) - l3*cos(q2 + q3))]\n",
    "    \n",
    "    α = 50000.0\n",
    "    β = 500.0\n",
    "    \n",
    "    e = D*(M\\(D'*(α*c + β*cd)))\n",
    "    \n",
    "    KKT = [M -D';\n",
    "           D zeros(2,2)]\n",
    "    RHS = [- G - C;\n",
    "           -(d + e)]\n",
    "    \n",
    "    sol = KKT\\RHS\n",
    "    qdd = sol[1:4]\n",
    "    \n",
    "    λ = sol[5:6]\n",
    "    # qdd = M\\(- G - C)\n",
    "    q0dd = qdd[1]\n",
    "    q1dd = qdd[2]\n",
    "    q2dd = qdd[3]\n",
    "    q3dd = qdd[4]\n",
    "    \n",
    "    ẋ = zeros(8)\n",
    "    ẋ[1] = q0d # q0 dot\n",
    "    ẋ[2] = q0dd # q0 double dot\n",
    "    ẋ[3] = q1d # q1 dot\n",
    "    ẋ[4] = q1dd # q1 double dot\n",
    "    ẋ[5] = q2d # q2 dot\n",
    "    ẋ[6] = q2dd # q2 double dot\n",
    "    ẋ[7] = q3d # q3 dot\n",
    "    ẋ[8] = q3dd # q3 double dot\n",
    "\n",
    "    return ẋ\n",
    "end"
   ]
  },
  {
   "cell_type": "code",
   "execution_count": 7,
   "id": "fb88dab2",
   "metadata": {},
   "outputs": [
    {
     "data": {
      "text/plain": [
       "checkval (generic function with 1 method)"
      ]
     },
     "execution_count": 7,
     "metadata": {},
     "output_type": "execute_result"
    }
   ],
   "source": [
    "function checkval(val, max, name)\n",
    "    if val > max\n",
    "        @show val\n",
    "        error(name)\n",
    "    end\n",
    "end\n",
    "#=\n",
    "#---#\n",
    "if isnan(qdd[1])\n",
    "    @show qdd\n",
    "    error(\"A!\")\n",
    "end\n",
    "#---#\n",
    "=#"
   ]
  },
  {
   "cell_type": "code",
   "execution_count": 8,
   "id": "254f15d2",
   "metadata": {},
   "outputs": [
    {
     "data": {
      "text/plain": [
       "rk4_step (generic function with 1 method)"
      ]
     },
     "execution_count": 8,
     "metadata": {},
     "output_type": "execute_result"
    }
   ],
   "source": [
    "function rk4_step(f,xk,h)\n",
    "\n",
    "    f1 = f(xk)\n",
    "    f2 = f(xk + 0.5*h*f1)\n",
    "    f3 = f(xk + 0.5*h*f2)\n",
    "    f4 = f(xk + h*f3)\n",
    "    \n",
    "    xn = xk + (h/6.0).*(f1 + 2*f2 + 2*f3 + f4)\n",
    "\n",
    "    return xn\n",
    "end"
   ]
  },
  {
   "cell_type": "code",
   "execution_count": 9,
   "id": "9b2289d8",
   "metadata": {},
   "outputs": [],
   "source": [
    "Tf = 10.0\n",
    "h = 0.001 #20 Hz\n",
    "N = Int(floor(Tf./h + 1))\n",
    "thist = h.*Array(0:(N-1));"
   ]
  },
  {
   "cell_type": "code",
   "execution_count": 10,
   "id": "79d046c6",
   "metadata": {},
   "outputs": [
    {
     "data": {
      "text/plain": [
       "simulate! (generic function with 1 method)"
      ]
     },
     "execution_count": 10,
     "metadata": {},
     "output_type": "execute_result"
    }
   ],
   "source": [
    "function simulate!(xtraj, N)\n",
    "    for k = 1:(N-1)\n",
    "        xtraj[:,k+1] .= rk4_step(f_1, copy(xtraj[:,k]), h)\n",
    "    end\n",
    "end"
   ]
  },
  {
   "cell_type": "code",
   "execution_count": 11,
   "id": "751226c3",
   "metadata": {},
   "outputs": [],
   "source": [
    "x0 = [-30*pi/180; 0.0; -120*(pi/180); 0.0; -150*(pi/180); 0.0; 120*(pi/180); 0.0]\n",
    "xtraj = zeros(8,N)\n",
    "xtraj[:,1] = x0;"
   ]
  },
  {
   "cell_type": "code",
   "execution_count": 12,
   "id": "6c5e1c8e",
   "metadata": {},
   "outputs": [],
   "source": [
    "simulate!(xtraj, N)"
   ]
  },
  {
   "cell_type": "code",
   "execution_count": 13,
   "id": "ceb24fd6",
   "metadata": {},
   "outputs": [
    {
     "data": {
      "text/plain": [
       "10001-element Vector{Vector{Float64}}:\n",
       " [0.0, 0.0, 0.0, 0.0]\n",
       " [-1.0788228971048142e-5, 1.34852862139212e-5, 2.427351518496934e-5, -2.427351518496934e-5]\n",
       " [-4.3153237479831574e-5, 5.394154684990049e-5, 9.709478432951002e-5, -9.709478432951002e-5]\n",
       " [-9.709599042473371e-5, 0.00012136998803313759, 0.0002184659784578713, -0.0002184659784578713]\n",
       " [-0.0001726180963474988, 0.00021577262044647494, 0.00038839071679408477, -0.00038839071679408477]\n",
       " [-0.00026972180799633705, 0.0003371522600421617, 0.0006068740680387208, -0.0006068740680387208]\n",
       " [-0.0003884100231186238, 0.00048551252903838993, 0.0008739225521572358, -0.0008739225521572358]\n",
       " [-0.0005286862854769758, 0.0006608578572019352, 0.001189544142679022, -0.001189544142679022]\n",
       " [-0.0006905547860953654, 0.0008631934834165689, 0.0015537482695120453, -0.0015537482695120453]\n",
       " [-0.0008740203647303879, 0.0010925254575390175, 0.0019665458222695165, -0.0019665458222695165]\n",
       " [-0.0010790885115712356, 0.001348860642542915, 0.0024279491541143727, -0.0024279491541143727]\n",
       " [-0.001305765369169265, 0.0016322067169517451, 0.002937972086121121, -0.002937972086121121]\n",
       " [-0.001554057734594938, 0.0019425721775622184, 0.0034966299121572675, -0.0034966299121572675]\n",
       " ⋮\n",
       " [-1.5896230927997899, 2.2091556560693313, 3.798778748869121, -3.798778748869121]\n",
       " [-1.5937987024180291, 2.2103069001201736, 3.8041056025382023, -3.8041056025382023]\n",
       " [-1.597960519997814, 2.211402816563985, 3.8093633365617983, -3.8093633365617983]\n",
       " [-1.602108621730098, 2.212443573508137, 3.8145521952382344, -3.8145521952382344]\n",
       " [-1.6062430784213946, 2.2134293382291177, 3.819672416650512, -3.819672416650512]\n",
       " [-1.6103639555456997, 2.2143602772847664, 3.824724232830466, -3.824724232830466]\n",
       " [-1.6144713132955821, 2.215236556623342, 3.829707869918924, -3.829707869918924]\n",
       " [-1.618565206632506, 2.2160583416894717, 3.8346235483219777, -3.8346235483219777]\n",
       " [-1.622645685336439, 2.2168257975270245, 3.8394714828634635, -3.8394714828634635]\n",
       " [-1.6267127940548054, 2.217539088878948, 3.8442518829337535, -3.8442518829337535]\n",
       " [-1.6307665723508329, 2.2181983802841128, 3.8489649526349456, -3.8489649526349456]\n",
       " [-1.6348070547513496, 2.218803836171198, 3.8536108909225475, -3.8536108909225475]"
      ]
     },
     "execution_count": 13,
     "metadata": {},
     "output_type": "execute_result"
    }
   ],
   "source": [
    "q0 = -xtraj[1, :] .- 30*(pi/180)\n",
    "q1 = -xtraj[3, :] .- 120*(pi/180)\n",
    "q2 = -xtraj[5, :] .- 150*(pi/180)\n",
    "q3 = -xtraj[7, :] .+ 120*(pi/180)\n",
    "\n",
    "qs = convert(AbstractArray{Float64}, [q2 q0 q3 q1]) \n",
    "ts = convert(AbstractVector{Float64}, thist) # AbstractVector(thist)\n",
    "q_array = [ qs[i,:] for i in 1:size(qs,1)] "
   ]
  },
  {
   "cell_type": "code",
   "execution_count": 14,
   "id": "c50a40a1",
   "metadata": {
    "scrolled": false
   },
   "outputs": [
    {
     "name": "stderr",
     "output_type": "stream",
     "text": [
      "I/O warning : failed to load external entity \"/mnt/064AC6424AC62E6D/git_workspace/16715/hopper-sim/scripts/../../res/flyhopper_parallel/urdf/flyhopper_parallel.urdf\"\n"
     ]
    },
    {
     "ename": "LoadError",
     "evalue": "LightXML.XMLParseError{String}(\"Failure in parsing an XML file.\")",
     "output_type": "error",
     "traceback": [
      "LightXML.XMLParseError{String}(\"Failure in parsing an XML file.\")",
      "",
      "Stacktrace:",
      " [1] _check_result",
      "   @ ~/.julia/packages/LightXML/g6rbQ/src/document.jl:88 [inlined]",
      " [2] parse_file(filename::String)",
      "   @ LightXML ~/.julia/packages/LightXML/g6rbQ/src/document.jl:92",
      " [3] #URDFVisuals#4",
      "   @ ~/.julia/packages/MechanismGeometries/YGPAI/src/urdf.jl:137 [inlined]",
      " [4] URDFVisuals(filename::String)",
      "   @ MechanismGeometries.URDF ~/.julia/packages/MechanismGeometries/YGPAI/src/urdf.jl:137",
      " [5] top-level scope",
      "   @ In[14]:2",
      " [6] eval",
      "   @ ./boot.jl:360 [inlined]",
      " [7] include_string(mapexpr::typeof(REPL.softscope), mod::Module, code::String, filename::String)",
      "   @ Base ./loading.jl:1116"
     ]
    }
   ],
   "source": [
    "# mvis = MechanismVisualizer(doublependulum, Skeleton(randomize_colors=true, inertias=false));\n",
    "mvis = MechanismVisualizer(doublependulum, URDFVisuals(urdfpath));\n",
    "\n",
    "render(mvis)"
   ]
  },
  {
   "cell_type": "code",
   "execution_count": 15,
   "id": "df2adad7",
   "metadata": {},
   "outputs": [
    {
     "ename": "LoadError",
     "evalue": "UndefVarError: mvis not defined",
     "output_type": "error",
     "traceback": [
      "UndefVarError: mvis not defined",
      "",
      "Stacktrace:",
      " [1] top-level scope",
      "   @ In[15]:2",
      " [2] eval",
      "   @ ./boot.jl:360 [inlined]",
      " [3] include_string(mapexpr::typeof(REPL.softscope), mod::Module, code::String, filename::String)",
      "   @ Base ./loading.jl:1116"
     ]
    }
   ],
   "source": [
    "# [q2 q0 q3 q1]\n",
    "set_configuration!(mvis, [-x0[5]-150*(pi/180), -x0[1]-30*(pi/180), -x0[7]+120*(pi/180), -x0[3]-120*(pi/180)])"
   ]
  },
  {
   "cell_type": "code",
   "execution_count": 16,
   "id": "374636f2",
   "metadata": {},
   "outputs": [
    {
     "ename": "LoadError",
     "evalue": "UndefVarError: mvis not defined",
     "output_type": "error",
     "traceback": [
      "UndefVarError: mvis not defined",
      "",
      "Stacktrace:",
      " [1] top-level scope",
      "   @ In[16]:6",
      " [2] eval",
      "   @ ./boot.jl:360 [inlined]",
      " [3] include_string(mapexpr::typeof(REPL.softscope), mod::Module, code::String, filename::String)",
      "   @ Base ./loading.jl:1116"
     ]
    }
   ],
   "source": [
    "# Now we can simply call `simulate`, which will return a tuple consisting of:\n",
    "# * simulation times (a `Vector` of numbers)\n",
    "# * joint configuration vectors (a `Vector` of `Vector`s)\n",
    "# * joint velocity vectors (a `Vector` of `Vector`s)\n",
    "\n",
    "animation = Animation(mvis, ts, -q_array)\n",
    "setanimation!(mvis, animation)\n",
    "# MeshCatMechanisms.animate(mvis, ts, qs; realtimerate = 1.);"
   ]
  },
  {
   "cell_type": "code",
   "execution_count": 17,
   "id": "07c17e56",
   "metadata": {},
   "outputs": [
    {
     "data": {
      "text/plain": [
       "H (generic function with 1 method)"
      ]
     },
     "execution_count": 17,
     "metadata": {},
     "output_type": "execute_result"
    }
   ],
   "source": [
    "#Energy Functions\n",
    "\n",
    "function T(x)\n",
    "    q0 = x[1]\n",
    "    q0d = x[2]\n",
    "    q1 = x[3]\n",
    "    q1d = x[4]\n",
    "    q2 = x[5]\n",
    "    q2d = x[6]\n",
    "    q3 = x[7]\n",
    "    q3d = x[8]\n",
    "    \n",
    "    T = 0.5*l0^2*m0*q0d^2 + 0.5*l2^2*m2*q2d^2 + 0.5*m1*(l0^2*q0d^2 + \n",
    "        2*l0*l1*q0d^2*cos(q1) + 2*l0*l1*q0d*q1d*cos(q1) + l1^2*q0d^2 + \n",
    "        2*l1^2*q0d*q1d + l1^2*q1d^2) + 0.5*m3*(l2^2*q2d^2 + \n",
    "        2*l2*l34*q2d^2*cos(q3) + 2*l2*l34*q2d*q3d*cos(q3) + \n",
    "        l34^2*q2d^2 + 2*l34^2*q2d*q3d + l34^2*q3d^2)\n",
    "end\n",
    "\n",
    "function U(x)\n",
    "    q0 = x[1]\n",
    "    q1 = x[3]\n",
    "    q2 = x[5]\n",
    "    q3 = x[7]\n",
    "    \n",
    "    y0 = l0*sin(q0)\n",
    "    y1 = l0*sin(q0) + l1*sin(q0 + q1)\n",
    "\n",
    "    y2 = l2*sin(q2)\n",
    "    y3 = l2*sin(q2) + l34*sin(q2 + q3)\n",
    "    \n",
    "    U0 = m0*g*y0 + m1*g*y1\n",
    "    U2 = m2*g*y2 + m3*g*y3\n",
    "    \n",
    "    return U0 + U2\n",
    "end\n",
    "\n",
    "function H(x)\n",
    "    U(x) + T(x)\n",
    "end"
   ]
  },
  {
   "cell_type": "code",
   "execution_count": 22,
   "id": "cf2a2cc3",
   "metadata": {},
   "outputs": [
    {
     "data": {
      "image/png": "[encoded data removed]"
     },
     "execution_count": 22,
     "metadata": {},
     "output_type": "execute_result"
    }
   ],
   "source": [
    "#Plot total energy\n",
    "using Plots\n",
    "fnt = Plots.font(\"Times Roman\")\n",
    "\n",
    "E = zeros(N)\n",
    "for k = 1:N\n",
    "    E[k] = H(xtraj[:, k])\n",
    "end\n",
    "\n",
    "p1 = plot(thist,E, xlabel=\"Time (s)\", ylabel=\"Energy (Joules)\", \n",
    "    titlefont=fnt, guidefont=fnt, tickfont=fnt, legendfont=fnt, fmt = :png)"
   ]
  },
  {
   "cell_type": "code",
   "execution_count": null,
   "id": "f40b71ee",
   "metadata": {},
   "outputs": [],
   "source": []
  }
 ],
 "metadata": {
  "kernelspec": {
   "display_name": "Julia 1.6.2",
   "language": "julia",
   "name": "julia-1.6"
  },
  "language_info": {
   "file_extension": ".jl",
   "mimetype": "application/julia",
   "name": "julia",
   "version": "1.6.2"
  }
 },
 "nbformat": 4,
 "nbformat_minor": 5
}
