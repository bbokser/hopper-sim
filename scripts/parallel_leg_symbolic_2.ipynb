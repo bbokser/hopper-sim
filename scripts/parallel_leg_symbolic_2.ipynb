{
 "cells": [
  {
   "cell_type": "code",
   "execution_count": 1,
   "id": "945a6906",
   "metadata": {},
   "outputs": [
    {
     "name": "stderr",
     "output_type": "stream",
     "text": [
      "\u001b[32m\u001b[1m  Activating\u001b[22m\u001b[39m environment at `/mnt/064AC6424AC62E6D/git_workspace/16715/hopper-sim/scripts/Project.toml`\n"
     ]
    }
   ],
   "source": [
    "import Pkg; Pkg.activate(@__DIR__); Pkg.instantiate()"
   ]
  },
  {
   "cell_type": "code",
   "execution_count": 2,
   "id": "51ce5df4",
   "metadata": {},
   "outputs": [
    {
     "data": {
      "application/vnd.webio.node+json": {
       "children": [],
       "instanceArgs": {
        "namespace": "html",
        "tag": "div"
       },
       "nodeType": "DOM",
       "props": {},
       "type": "node"
      },
      "text/html": [
       "<div style=\"padding: 1em; background-color: #f8d6da; border: 1px solid #f5c6cb; font-weight: bold;\">\n",
       "<p>The WebIO Jupyter extension was not detected. See the\n",
       "<a href=\"https://juliagizmos.github.io/WebIO.jl/latest/providers/ijulia/\" target=\"_blank\">\n",
       "    WebIO Jupyter integration documentation\n",
       "</a>\n",
       "for more information.\n",
       "</div>\n"
      ],
      "text/plain": [
       "WebIO._IJuliaInit()"
      ]
     },
     "metadata": {},
     "output_type": "display_data"
    }
   ],
   "source": [
    "using RigidBodyDynamics\n",
    "using LinearAlgebra\n",
    "using MeshCatMechanisms\n",
    "using MeshCat\n",
    "using StaticArrays"
   ]
  },
  {
   "cell_type": "code",
   "execution_count": 3,
   "id": "8477fc4a",
   "metadata": {},
   "outputs": [
    {
     "data": {
      "text/plain": [
       "0.000164188445564489"
      ]
     },
     "execution_count": 3,
     "metadata": {},
     "output_type": "execute_result"
    }
   ],
   "source": [
    "# Assume links do have mass\n",
    "# Inertia terms are taken w.r.t. CoM of links\n",
    "\n",
    "# link lengths\n",
    "const l0 = 0.1\n",
    "const l1 = 0.3\n",
    "const l2 = 0.3\n",
    "const l3 = 0.1\n",
    "const l4 = 0.2\n",
    "const l5 = 0.0205\n",
    "const lee = sqrt((l3 + l4)^2 + l5^2)\n",
    "\n",
    "# CoM locations\n",
    "const l_c0x = 0.0125108364230515\n",
    "const l_c0y = 0.00117191218927888\n",
    "const l_c0 = sqrt(l_c0x^2 + l_c0y^2)\n",
    "const alpha0 = atan(l_c0y, l_c0x)\n",
    "\n",
    "const l_c1 = 0.149359714867044\n",
    "\n",
    "const l_c2 = 0.0469412900551914\n",
    "\n",
    "const l_ceex = 0.113177000131857\n",
    "const l_ceey = -0.015332867880069\n",
    "const l_cee = sqrt(l_ceex^2 + l_ceey^2)\n",
    "const alpha3 = atan(l_ceey, l_ceex)\n",
    "const alphaee = atan(l5, l3+l4)\n",
    "\n",
    "# link masses\n",
    "const m0 = 0.24644240965487\n",
    "const m1 = 0.0707939028219395\n",
    "const m2 = 0.276735496985514\n",
    "const m3 = 0.130824780046739\n",
    "\n",
    "const g = 9.807\n",
    "\n",
    "# mass moment of inertia in axis of rotation\n",
    "const I0 = 0.000172067745507247  # iyy\n",
    "const I1 = 0.000147960574744097\n",
    "const I2 = 0.000302324068012293\n",
    "const I3 = 0.000164188445564489"
   ]
  },
  {
   "cell_type": "code",
   "execution_count": 4,
   "id": "c050f7fb",
   "metadata": {},
   "outputs": [
    {
     "data": {
      "text/plain": [
       "Spanning tree:\n",
       "Vertex: world (root)\n",
       "No non-tree joints."
      ]
     },
     "execution_count": 4,
     "metadata": {},
     "output_type": "execute_result"
    }
   ],
   "source": [
    "world = RigidBody{Float64}(\"world\")\n",
    "doublependulum = Mechanism(world; gravity = SVector(0, 0, g))"
   ]
  },
  {
   "cell_type": "code",
   "execution_count": 5,
   "id": "75f11652",
   "metadata": {},
   "outputs": [
    {
     "data": {
      "text/plain": [
       "MechanismState{Float64, Float64, Float64, …}(…)"
      ]
     },
     "execution_count": 5,
     "metadata": {},
     "output_type": "execute_result"
    }
   ],
   "source": [
    "curdir = pwd()\n",
    "urdfpath = joinpath(curdir, \"../res/flyhopper_robot/urdf/flyhopper_robot.urdf\")\n",
    "doublependulum = parse_urdf(urdfpath, floating=false)\n",
    "state = MechanismState(doublependulum)"
   ]
  },
  {
   "cell_type": "code",
   "execution_count": 6,
   "id": "69d2ac02",
   "metadata": {},
   "outputs": [
    {
     "data": {
      "text/plain": [
       "f_1 (generic function with 1 method)"
      ]
     },
     "execution_count": 6,
     "metadata": {},
     "output_type": "execute_result"
    }
   ],
   "source": [
    "function f_1(x)\n",
    "    # parallel mechanism dynamics\n",
    "    q0 = x[1]\n",
    "    q0d = x[2]\n",
    "    q1 = x[3]\n",
    "    q1d = x[4]\n",
    "    q2 = x[5]\n",
    "    q2d = x[6]\n",
    "    q3 = x[7]\n",
    "    q3d = x[8]\n",
    "    \n",
    "    # Mass matrix\n",
    "    M = [1.0*I0 + l0^2*m1 + 2*l0*l_c1*m1*cos(q1) + 1.0*l_c0^2*m0 +\n",
    "            l_c1^2*m1 l0*l_c1*m1*cos(q1) + l_c1^2*m1 0 0;\n",
    "         1.0*l0*l_c1*m1*cos(q1) + 1.0*l_c1^2*m1 1.0*I1 + 1.0*l_c1^2*m1 0 0;\n",
    "         0 0 1.0*I2 + l2^2*m3 + 2*l2*l_cee*m3*cos(alpha3 + q3) + 1.0*l_c2^2*m2 +\n",
    "            l_cee^2*m3 l2*l_cee*m3*cos(alpha3 + q3) + l_cee^2*m3; \n",
    "         0 0 1.0*l2*l_cee*m3*cos(alpha3 + q3) + 1.0*l_cee^2*m3 1.0*I3 + 1.0*l_cee^2*m3]\n",
    "    \n",
    "    # Coriolis term   \n",
    "    C = [-2*l0*l_c1*m1*q0d*q1d*sin(q1) - l0*l_c1*m1*q1d^2*sin(q1);\n",
    "         1.0*l0*l_c1*m1*q0d^2*sin(q1);\n",
    "         -2*l2*l_cee*m3*q2d*q3d*sin(alpha3 + q3) - l2*l_cee*m3*q3d^2*sin(alpha3 + q3);\n",
    "         1.0*l2*l_cee*m3*q2d^2*sin(alpha3 + q3)]\n",
    "    \n",
    "    # Gravity term\n",
    "    G = [g*l0*m1*cos(q0) + g*l_c0*m0*cos(alpha0 + q0) + g*l_c1*m1*cos(q0 + q1);\n",
    "         1.0*g*l_c1*m1*cos(q0 + q1);\n",
    "         g*l2*m3*cos(q2) + g*l_c2*m2*cos(q2) + g*l_cee*m3*cos(alpha3 + q2 + q3);\n",
    "         1.0*g*l_cee*m3*cos(alpha3 + q2 + q3)]\n",
    "    \n",
    "    # Constraint fn\n",
    "    c = [l0*cos(q0) + l1*cos(q0 + q1) - l2*cos(q2) - l3*cos(q2 + q3);\n",
    "         l0*sin(q0) + l1*sin(q0 + q1) - l2*sin(q2) - l3*sin(q2 + q3)]\n",
    "    \n",
    "    # Constraint Jacobian\n",
    "    D = [-l0*sin(q0) - l1*sin(q0 + q1)  -l1*sin(q0 + q1)  l2*sin(q2) + l3*sin(q2 + q3)  l3*sin(q2 + q3);\n",
    "         l0*cos(q0) + l1*cos(q0 + q1)    l1*cos(q0 + q1)   -l2*cos(q2) - l3*cos(q2 + q3) -l3*cos(q2 + q3)]\n",
    "    \n",
    "    # del/delq(D*qdot)*qdot\n",
    "    d = [q0d*(-l1*q1d*cos(q0 + q1) + q0d*(-l0*cos(q0) - l1*cos(q0 + q1))) + q1d*(-l1*q0d*cos(q0 + q1) -\n",
    "            l1*q1d*cos(q0 + q1)) + q2d*(l3*q3d*cos(q2 + q3) + q2d*(l2*cos(q2) + l3*cos(q2 + q3))) +\n",
    "            q3d*(l3*q2d*cos(q2 + q3) + l3*q3d*cos(q2 + q3));\n",
    "         q0d*(-l1*q1d*sin(q0 + q1) + q0d*(-l0*sin(q0) - l1*sin(q0 + q1))) + q1d*(-l1*q0d*sin(q0 + q1) -\n",
    "            l1*q1d*sin(q0 + q1)) + q2d*(l3*q3d*sin(q2 + q3) + q2d*(l2*sin(q2) + l3*sin(q2 + q3))) +\n",
    "            q3d*(l3*q2d*sin(q2 + q3) + l3*q3d*sin(q2 + q3))]\n",
    "    \n",
    "    # first derivative of constraint fn\n",
    "    cd = [-l1*q1d*sin(q0 + q1) + l3*q3d*sin(q2 + q3) + q0d*(-l0*sin(q0) - l1*sin(q0 + q1)) +\n",
    "              q2d*(l2*sin(q2) + l3*sin(q2 + q3));\n",
    "          l1*q1d*cos(q0 + q1) - l3*q3d*cos(q2 + q3) + q0d*(l0*cos(q0) + l1*cos(q0 + q1)) +\n",
    "              q2d*(-l2*cos(q2) - l3*cos(q2 + q3))]\n",
    "    \n",
    "    α = 10.0\n",
    "    β = 0.01\n",
    "    \n",
    "    e = D*(M\\(D'*(α*c + β*cd)))\n",
    "    \n",
    "    KKT = [M -D';\n",
    "           D zeros(2,2)]\n",
    "    RHS = [- G - C;\n",
    "           -(d + e)]\n",
    "    \n",
    "    sol = KKT\\RHS\n",
    "    qdd = sol[1:4]\n",
    "    \n",
    "    λ = sol[5:6]\n",
    "    # qdd = M\\(- G - C)\n",
    "    q0dd = qdd[1]\n",
    "    q1dd = qdd[2]\n",
    "    q2dd = qdd[3]\n",
    "    q3dd = qdd[4]\n",
    "    \n",
    "    ẋ = zeros(8)\n",
    "    ẋ[1] = q0d # q0 dot\n",
    "    ẋ[2] = q0dd # q0 double dot\n",
    "    ẋ[3] = q1d # q1 dot\n",
    "    ẋ[4] = q1dd # q1 double dot\n",
    "    ẋ[5] = q2d # q2 dot\n",
    "    ẋ[6] = q2dd # q2 double dot\n",
    "    ẋ[7] = q3d # q3 dot\n",
    "    ẋ[8] = q3dd # q3 double dot\n",
    "\n",
    "    return ẋ\n",
    "end"
   ]
  },
  {
   "cell_type": "code",
   "execution_count": 7,
   "id": "2b6bab62",
   "metadata": {},
   "outputs": [
    {
     "data": {
      "text/plain": [
       "checkval (generic function with 1 method)"
      ]
     },
     "execution_count": 7,
     "metadata": {},
     "output_type": "execute_result"
    }
   ],
   "source": [
    "function checkval(val, max, name)\n",
    "    if val > max\n",
    "        @show val\n",
    "        error(name)\n",
    "    end\n",
    "end\n",
    "#=\n",
    "#---#\n",
    "if isnan(qdd[1])\n",
    "    @show qdd\n",
    "    error(\"A!\")\n",
    "end\n",
    "#---#\n",
    "=#"
   ]
  },
  {
   "cell_type": "code",
   "execution_count": 8,
   "id": "11fc6fe1",
   "metadata": {},
   "outputs": [
    {
     "data": {
      "text/plain": [
       "rk4_step (generic function with 1 method)"
      ]
     },
     "execution_count": 8,
     "metadata": {},
     "output_type": "execute_result"
    }
   ],
   "source": [
    "function rk4_step(f,xk,h)\n",
    "\n",
    "    f1 = f(xk)\n",
    "    f2 = f(xk + 0.5*h*f1)\n",
    "    f3 = f(xk + 0.5*h*f2)\n",
    "    f4 = f(xk + h*f3)\n",
    "    \n",
    "    xn = xk + (h/6.0).*(f1 + 2*f2 + 2*f3 + f4)\n",
    "\n",
    "    return xn\n",
    "end"
   ]
  },
  {
   "cell_type": "code",
   "execution_count": 9,
   "id": "92ebd96c",
   "metadata": {},
   "outputs": [],
   "source": [
    "Tf = 10.0\n",
    "h = 0.001 #20 Hz\n",
    "N = Int(floor(Tf./h + 1))\n",
    "thist = h.*Array(0:(N-1));"
   ]
  },
  {
   "cell_type": "code",
   "execution_count": 10,
   "id": "e9e3877f",
   "metadata": {},
   "outputs": [
    {
     "data": {
      "text/plain": [
       "simulate! (generic function with 1 method)"
      ]
     },
     "execution_count": 10,
     "metadata": {},
     "output_type": "execute_result"
    }
   ],
   "source": [
    "function simulate!(xtraj, N)\n",
    "    for k = 1:(N-1)\n",
    "        xtraj[:,k+1] .= rk4_step(f_1, copy(xtraj[:,k]), h)\n",
    "    end\n",
    "end"
   ]
  },
  {
   "cell_type": "code",
   "execution_count": 11,
   "id": "fe5b1bd5",
   "metadata": {},
   "outputs": [],
   "source": [
    "x0 = [-30*pi/180; 0.0; -120*(pi/180); 0.0; -150*(pi/180); 0.0; 120*(pi/180); 0.0]\n",
    "xtraj = zeros(8,N)\n",
    "xtraj[:,1] = x0;"
   ]
  },
  {
   "cell_type": "code",
   "execution_count": 12,
   "id": "0e9a957e",
   "metadata": {},
   "outputs": [],
   "source": [
    "simulate!(xtraj, N)"
   ]
  },
  {
   "cell_type": "code",
   "execution_count": 13,
   "id": "2fbd3004",
   "metadata": {},
   "outputs": [
    {
     "data": {
      "text/plain": [
       "10001-element Vector{Vector{Float64}}:\n",
       " [0.0, 0.0, 0.0, 0.0]\n",
       " [2.2180694008722135e-5, -1.4431596512043399e-5, -3.661229052065451e-5, 3.661229052065451e-5]\n",
       " [8.872443342156089e-5, -5.7727040049915246e-5, -0.00014645147347147613, 0.00014645147347147613]\n",
       " [0.0001996361909963884, -0.00012988829313487216, -0.0003295244841314826, 0.0003295244841314826]\n",
       " [0.000354924256651179, -0.00023091862835711296, -0.000585842885008514, 0.000585842885008514]\n",
       " [0.0005546002404499539, -0.0003608226309563811, -0.0009154228714067791, 0.0009154228714067791]\n",
       " [0.0007986790767904317, -0.0005196062024399595, -0.0013182852792308353, 0.0013182852792308353]\n",
       " [0.001087179029800378, -0.0007072765652331725, -0.0017944555950339947, 0.0017944555950339947]\n",
       " [0.0014201216999523147, -0.0009238422683712777, -0.0023439639683240365, 0.0023439639683240365]\n",
       " [0.0017975320319078003, -0.0011693131942291934, -0.002966845226137327, 0.002966845226137327]\n",
       " [0.0022194383236047166, -0.0014437005662948366, -0.0036631388898999973, 0.0036631388898999973]\n",
       " [0.002685872236603548, -0.0017470169579922867, -0.004432889194596168, 0.004432889194596168]\n",
       " [0.0031968688077096408, -0.002079276302551669, -0.005276145110261865, 0.005276145110261865]\n",
       " ⋮\n",
       " [13.699679893558557, -0.5374627262981133, -14.263586374122976, 7.853621745748942]\n",
       " [13.695008449653606, -0.5303748545860731, -14.251241291728038, 7.842766696402817]\n",
       " [13.69051485105362, -0.5233354491158786, -14.23915844987362, 7.832036685397938]\n",
       " [13.686196769324306, -0.5163464458026681, -14.227334784657465, 7.821439699600363]\n",
       " [13.682051888335696, -0.5094094922179466, -14.215767233117218, 7.810982613855547]\n",
       " [13.678077902096906, -0.5025259826794546, -14.204452733237048, 7.800671322883163]\n",
       " [13.674272513707773, -0.49569708908815446, -14.19338822513958, 7.790510856974771]\n",
       " [13.670633435206648, -0.48892378807454673, -14.182570653198812, 7.780505483672741]\n",
       " [13.667158388110716, -0.4822068849320047, -14.171996968827884, 7.770658797280639]\n",
       " [13.663845104468999, -0.47554703474461135, -14.161664133723928, 7.760973797781475]\n",
       " [13.660691328274371, -0.46894476105854155, -14.151569123384618, 7.751452960511401]\n",
       " [13.657694817106737, -0.4624004723972681, -14.141708930743624, 7.742098297745088]"
      ]
     },
     "execution_count": 13,
     "metadata": {},
     "output_type": "execute_result"
    }
   ],
   "source": [
    "q0 = -xtraj[1, :] .- 30*(pi/180)\n",
    "q1 = -xtraj[3, :] .- 120*(pi/180)\n",
    "q2 = -xtraj[5, :] .- 150*(pi/180)\n",
    "q3 = -xtraj[7, :] .+ 120*(pi/180)\n",
    "\n",
    "qs = convert(AbstractArray{Float64}, [q0 q2 q1 q3]) \n",
    "ts = convert(AbstractVector{Float64}, thist) # AbstractVector(thist)\n",
    "q_array = [ qs[i,:] for i in 1:size(qs,1)] "
   ]
  },
  {
   "cell_type": "code",
   "execution_count": 14,
   "id": "59185854",
   "metadata": {
    "scrolled": false
   },
   "outputs": [
    {
     "name": "stderr",
     "output_type": "stream",
     "text": [
      "┌ Info: MeshCat server started. You can open the visualizer by visiting the following URL in your browser:\n",
      "│ http://127.0.0.1:8702\n",
      "└ @ MeshCat /home/ben/.julia/packages/MeshCat/GlCMx/src/visualizer.jl:73\n"
     ]
    },
    {
     "data": {
      "text/html": [
       "    <div style=\"height: 500px; width: 100%; overflow-x: auto; overflow-y: hidden; resize: both\">\n",
       "    <iframe src=\"http://127.0.0.1:8702\" style=\"width: 100%; height: 100%; border: none\"></iframe>\n",
       "    </div>\n"
      ],
      "text/plain": [
       "MeshCat.DisplayedVisualizer(MeshCat.CoreVisualizer(MeshCat.SceneTrees.SceneNode(nothing, nothing, Dict{String, Vector{UInt8}}(), nothing, Dict{String, MeshCat.SceneTrees.SceneNode}(\"meshcat\" => MeshCat.SceneTrees.SceneNode(nothing, nothing, Dict{String, Vector{UInt8}}(), nothing, Dict{String, MeshCat.SceneTrees.SceneNode}(\"world\" => MeshCat.SceneTrees.SceneNode(nothing, nothing, Dict{String, Vector{UInt8}}(), nothing, Dict{String, MeshCat.SceneTrees.SceneNode}(\"base_link\" => MeshCat.SceneTrees.SceneNode(nothing, UInt8[0x83, 0xa6, 0x6d, 0x61, 0x74, 0x72, 0x69, 0x78, 0xc7, 0x40  …  0x2f, 0x62, 0x61, 0x73, 0x65, 0x5f, 0x6c, 0x69, 0x6e, 0x6b], Dict{String, Vector{UInt8}}(), nothing, Dict{String, MeshCat.SceneTrees.SceneNode}(\"geometry_1\" => MeshCat.SceneTrees.SceneNode(UInt8[0x83, 0xa6, 0x6f, 0x62, 0x6a, 0x65, 0x63, 0x74, 0x84, 0xaa  …  0x67, 0x65, 0x6f, 0x6d, 0x65, 0x74, 0x72, 0x79, 0x5f, 0x31], UInt8[0x83, 0xa6, 0x6d, 0x61, 0x74, 0x72, 0x69, 0x78, 0xc7, 0x40  …  0x67, 0x65, 0x6f, 0x6d, 0x65, 0x74, 0x72, 0x79, 0x5f, 0x31], Dict{String, Vector{UInt8}}(), nothing, Dict{String, MeshCat.SceneTrees.SceneNode}()))), \"Link 2\" => MeshCat.SceneTrees.SceneNode(nothing, UInt8[0x83, 0xa6, 0x6d, 0x61, 0x74, 0x72, 0x69, 0x78, 0xc7, 0x40  …  0x72, 0x6c, 0x64, 0x2f, 0x4c, 0x69, 0x6e, 0x6b, 0x20, 0x32], Dict{String, Vector{UInt8}}(), nothing, Dict{String, MeshCat.SceneTrees.SceneNode}(\"Link 3\" => MeshCat.SceneTrees.SceneNode(nothing, UInt8[0x83, 0xa6, 0x6d, 0x61, 0x74, 0x72, 0x69, 0x78, 0xc7, 0x40  …  0x6b, 0x20, 0x32, 0x2f, 0x4c, 0x69, 0x6e, 0x6b, 0x20, 0x33], Dict{String, Vector{UInt8}}(), nothing, Dict{String, MeshCat.SceneTrees.SceneNode}(\"after_Joint 3\" => MeshCat.SceneTrees.SceneNode(nothing, UInt8[0x83, 0xa6, 0x6d, 0x61, 0x74, 0x72, 0x69, 0x78, 0xc7, 0x40  …  0x65, 0x72, 0x5f, 0x4a, 0x6f, 0x69, 0x6e, 0x74, 0x20, 0x33], Dict{String, Vector{UInt8}}(), nothing, Dict{String, MeshCat.SceneTrees.SceneNode}(\"geometry_5\" => MeshCat.SceneTrees.SceneNode(UInt8[0x83, 0xa6, 0x6f, 0x62, 0x6a, 0x65, 0x63, 0x74, 0x84, 0xaa  …  0x67, 0x65, 0x6f, 0x6d, 0x65, 0x74, 0x72, 0x79, 0x5f, 0x35], UInt8[0x83, 0xa6, 0x6d, 0x61, 0x74, 0x72, 0x69, 0x78, 0xc7, 0x40  …  0x67, 0x65, 0x6f, 0x6d, 0x65, 0x74, 0x72, 0x79, 0x5f, 0x35], Dict{String, Vector{UInt8}}(), nothing, Dict{String, MeshCat.SceneTrees.SceneNode}()))))), \"after_Joint 2\" => MeshCat.SceneTrees.SceneNode(nothing, UInt8[0x83, 0xa6, 0x6d, 0x61, 0x74, 0x72, 0x69, 0x78, 0xc7, 0x40  …  0x65, 0x72, 0x5f, 0x4a, 0x6f, 0x69, 0x6e, 0x74, 0x20, 0x32], Dict{String, Vector{UInt8}}(), nothing, Dict{String, MeshCat.SceneTrees.SceneNode}(\"geometry_4\" => MeshCat.SceneTrees.SceneNode(UInt8[0x83, 0xa6, 0x6f, 0x62, 0x6a, 0x65, 0x63, 0x74, 0x84, 0xaa  …  0x67, 0x65, 0x6f, 0x6d, 0x65, 0x74, 0x72, 0x79, 0x5f, 0x34], UInt8[0x83, 0xa6, 0x6d, 0x61, 0x74, 0x72, 0x69, 0x78, 0xc7, 0x40  …  0x67, 0x65, 0x6f, 0x6d, 0x65, 0x74, 0x72, 0x79, 0x5f, 0x34], Dict{String, Vector{UInt8}}(), nothing, Dict{String, MeshCat.SceneTrees.SceneNode}()))))), \"Link 0\" => MeshCat.SceneTrees.SceneNode(nothing, UInt8[0x83, 0xa6, 0x6d, 0x61, 0x74, 0x72, 0x69, 0x78, 0xc7, 0x40  …  0x72, 0x6c, 0x64, 0x2f, 0x4c, 0x69, 0x6e, 0x6b, 0x20, 0x30], Dict{String, Vector{UInt8}}(), nothing, Dict{String, MeshCat.SceneTrees.SceneNode}(\"Link 1\" => MeshCat.SceneTrees.SceneNode(nothing, UInt8[0x83, 0xa6, 0x6d, 0x61, 0x74, 0x72, 0x69, 0x78, 0xc7, 0x40  …  0x6b, 0x20, 0x30, 0x2f, 0x4c, 0x69, 0x6e, 0x6b, 0x20, 0x31], Dict{String, Vector{UInt8}}(), nothing, Dict{String, MeshCat.SceneTrees.SceneNode}(\"after_Joint 1\" => MeshCat.SceneTrees.SceneNode(nothing, UInt8[0x83, 0xa6, 0x6d, 0x61, 0x74, 0x72, 0x69, 0x78, 0xc7, 0x40  …  0x65, 0x72, 0x5f, 0x4a, 0x6f, 0x69, 0x6e, 0x74, 0x20, 0x31], Dict{String, Vector{UInt8}}(), nothing, Dict{String, MeshCat.SceneTrees.SceneNode}(\"geometry_3\" => MeshCat.SceneTrees.SceneNode(UInt8[0x83, 0xa6, 0x6f, 0x62, 0x6a, 0x65, 0x63, 0x74, 0x84, 0xaa  …  0x67, 0x65, 0x6f, 0x6d, 0x65, 0x74, 0x72, 0x79, 0x5f, 0x33], UInt8[0x83, 0xa6, 0x6d, 0x61, 0x74, 0x72, 0x69, 0x78, 0xc7, 0x40  …  0x67, 0x65, 0x6f, 0x6d, 0x65, 0x74, 0x72, 0x79, 0x5f, 0x33], Dict{String, Vector{UInt8}}(), nothing, Dict{String, MeshCat.SceneTrees.SceneNode}()))))), \"after_Joint 0\" => MeshCat.SceneTrees.SceneNode(nothing, UInt8[0x83, 0xa6, 0x6d, 0x61, 0x74, 0x72, 0x69, 0x78, 0xc7, 0x40  …  0x65, 0x72, 0x5f, 0x4a, 0x6f, 0x69, 0x6e, 0x74, 0x20, 0x30], Dict{String, Vector{UInt8}}(), nothing, Dict{String, MeshCat.SceneTrees.SceneNode}(\"geometry_2\" => MeshCat.SceneTrees.SceneNode(UInt8[0x83, 0xa6, 0x6f, 0x62, 0x6a, 0x65, 0x63, 0x74, 0x84, 0xaa  …  0x67, 0x65, 0x6f, 0x6d, 0x65, 0x74, 0x72, 0x79, 0x5f, 0x32], UInt8[0x83, 0xa6, 0x6d, 0x61, 0x74, 0x72, 0x69, 0x78, 0xc7, 0x40  …  0x67, 0x65, 0x6f, 0x6d, 0x65, 0x74, 0x72, 0x79, 0x5f, 0x32], Dict{String, Vector{UInt8}}(), nothing, Dict{String, MeshCat.SceneTrees.SceneNode}()))))))))))), Set{Any}(), ip\"127.0.0.1\", 8702))"
      ]
     },
     "execution_count": 14,
     "metadata": {},
     "output_type": "execute_result"
    }
   ],
   "source": [
    "# mvis = MechanismVisualizer(doublependulum, Skeleton(randomize_colors=true, inertias=false));\n",
    "mvis = MechanismVisualizer(doublependulum, URDFVisuals(urdfpath));\n",
    "\n",
    "render(mvis)"
   ]
  },
  {
   "cell_type": "code",
   "execution_count": 15,
   "id": "006b8533",
   "metadata": {},
   "outputs": [],
   "source": [
    "# [q0 q2 q1 q3]\n",
    "set_configuration!(mvis, [-x0[5]-150*(pi/180), -x0[1]-30*(pi/180), -x0[7]+120*(pi/180), -x0[3]-120*(pi/180)])"
   ]
  },
  {
   "cell_type": "code",
   "execution_count": 16,
   "id": "016c0550",
   "metadata": {},
   "outputs": [],
   "source": [
    "# Now we can simply call `simulate`, which will return a tuple consisting of:\n",
    "# * simulation times (a `Vector` of numbers)\n",
    "# * joint configuration vectors (a `Vector` of `Vector`s)\n",
    "# * joint velocity vectors (a `Vector` of `Vector`s)\n",
    "\n",
    "animation = Animation(mvis, ts, -q_array)\n",
    "setanimation!(mvis, animation)\n",
    "# MeshCatMechanisms.animate(mvis, ts, qs; realtimerate = 1.);"
   ]
  },
  {
   "cell_type": "code",
   "execution_count": 17,
   "id": "495dcc78",
   "metadata": {},
   "outputs": [
    {
     "data": {
      "text/plain": [
       "H (generic function with 1 method)"
      ]
     },
     "execution_count": 17,
     "metadata": {},
     "output_type": "execute_result"
    }
   ],
   "source": [
    "#Energy Functions\n",
    "\n",
    "function T(x)\n",
    "    q0 = x[1]\n",
    "    q0d = x[2]\n",
    "    q1 = x[3]\n",
    "    q1d = x[4]\n",
    "    q2 = x[5]\n",
    "    q2d = x[6]\n",
    "    q3 = x[7]\n",
    "    q3d = x[8]\n",
    "    \n",
    "    T = 0.5*I0*q0d^2 + 0.5*I1*q1d^2 + 0.5*I2*q2d^2 + 0.5*I3*q3d^2 + \n",
    "            0.5*l_c0^2*m0*q0d^2 + 0.5*l_c2^2*m2*q2d^2 + 0.5*m1*(l0^2*q0d^2 + \n",
    "            2*l0*l_c1*q0d^2*cos(q1) + 2*l0*l_c1*q0d*q1d*cos(q1) + \n",
    "            l_c1^2*q0d^2 + 2*l_c1^2*q0d*q1d + l_c1^2*q1d^2) + \n",
    "            0.5*m3*(l2^2*q2d^2 + 2*l2*l_cee*q2d^2*cos(alpha3 + q3) + \n",
    "            2*l2*l_cee*q2d*q3d*cos(alpha3 + q3) + l_cee^2*q2d^2 + \n",
    "            2*l_cee^2*q2d*q3d + l_cee^2*q3d^2)\n",
    "\n",
    "end\n",
    "\n",
    "function U(x)\n",
    "    q0 = x[1]\n",
    "    q1 = x[3]\n",
    "    q2 = x[5]\n",
    "    q3 = x[7]\n",
    "    \n",
    "    \n",
    "    y0 = l_c0*sin(q0 + alpha0)\n",
    "\n",
    "    y1 = l0*sin(q0) + l_c1*sin(q0 + q1)\n",
    "\n",
    "    y2 = l_c2*sin(q2)\n",
    "\n",
    "    y3 = l2*sin(q2) + l_cee*sin(q2 + q3 + alpha3)\n",
    "\n",
    "    U0 = m0*g*y0 + m1*g*y1\n",
    "    U2 = m2*g*y2 + m3*g*y3\n",
    "    \n",
    "    return U0 + U2\n",
    "end\n",
    "\n",
    "function H(x)\n",
    "    U(x) + T(x)\n",
    "end"
   ]
  },
  {
   "cell_type": "code",
   "execution_count": 22,
   "id": "e97b5c5e",
   "metadata": {},
   "outputs": [
    {
     "data": {
      "image/png": "[encoded data removed]"
     },
     "execution_count": 22,
     "metadata": {},
     "output_type": "execute_result"
    }
   ],
   "source": [
    "#Plot total energy\n",
    "using Plots\n",
    "fnt = Plots.font(\"Times Roman\")\n",
    "\n",
    "E = zeros(N)\n",
    "for k = 1:N\n",
    "    E[k] = H(xtraj[:, k])\n",
    "end\n",
    "\n",
    "p1 = plot(thist,E, xlabel=\"Time (s)\", ylabel=\"Energy (Joules)\", \n",
    "    titlefont=fnt, guidefont=fnt, tickfont=fnt, legendfont=fnt, fmt = :png)"
   ]
  },
  {
   "cell_type": "code",
   "execution_count": null,
   "id": "08eb1a67",
   "metadata": {},
   "outputs": [],
   "source": []
  }
 ],
 "metadata": {
  "kernelspec": {
   "display_name": "Julia 1.6.2",
   "language": "julia",
   "name": "julia-1.6"
  },
  "language_info": {
   "file_extension": ".jl",
   "mimetype": "application/julia",
   "name": "julia",
   "version": "1.6.2"
  }
 },
 "nbformat": 4,
 "nbformat_minor": 5
}
